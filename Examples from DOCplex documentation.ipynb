{
 "cells": [
  {
   "cell_type": "markdown",
   "metadata": {},
   "source": [
    "# Diet problem\n",
    "\n",
    "###### The problem that is solved in this example is to minimize the cost of a diet that satisfies certain nutritional constraints."
   ]
  },
  {
   "cell_type": "code",
   "execution_count": 1,
   "metadata": {},
   "outputs": [],
   "source": [
    "from collections import namedtuple\n",
    "\n",
    "from docplex.mp.model import Model\n",
    "from docplex.util.environment import get_environment"
   ]
  },
  {
   "cell_type": "code",
   "execution_count": 2,
   "metadata": {},
   "outputs": [],
   "source": [
    "FOODS = [\n",
    "    (\"Roasted Chicken\", 0.84, 0, 10),\n",
    "    (\"Spaghetti W/ Sauce\", 0.78, 0, 10),\n",
    "    (\"Tomato,Red,Ripe,Raw\", 0.27, 0, 10),\n",
    "    (\"Apple,Raw,W/Skin\", .24, 0, 10),\n",
    "    (\"Grapes\", 0.32, 0, 10),\n",
    "    (\"Chocolate Chip Cookies\", 0.03, 0, 10),\n",
    "    (\"Lowfat Milk\", 0.23, 0, 10),\n",
    "    (\"Raisin Brn\", 0.34, 0, 10),\n",
    "    (\"Hotdog\", 0.31, 0, 10)\n",
    "]\n",
    "\n",
    "NUTRIENTS = [\n",
    "    (\"Calories\", 2000, 2500),\n",
    "    (\"Calcium\", 800, 1600),\n",
    "    (\"Iron\", 10, 30),\n",
    "    (\"Vit_A\", 5000, 50000),\n",
    "    (\"Dietary_Fiber\", 25, 100),\n",
    "    (\"Carbohydrates\", 0, 300),\n",
    "    (\"Protein\", 50, 100)\n",
    "]\n",
    "\n",
    "FOOD_NUTRIENTS = [\n",
    "    (\"Roasted Chicken\", 277.4, 21.9, 1.8, 77.4, 0, 0, 42.2),\n",
    "    (\"Spaghetti W/ Sauce\", 358.2, 80.2, 2.3, 3055.2, 11.6, 58.3, 8.2),\n",
    "    (\"Tomato,Red,Ripe,Raw\", 25.8, 6.2, 0.6, 766.3, 1.4, 5.7, 1),\n",
    "    (\"Apple,Raw,W/Skin\", 81.4, 9.7, 0.2, 73.1, 3.7, 21, 0.3),\n",
    "    (\"Grapes\", 15.1, 3.4, 0.1, 24, 0.2, 4.1, 0.2),\n",
    "    (\"Chocolate Chip Cookies\", 78.1, 6.2, 0.4, 101.8, 0, 9.3, 0.9),\n",
    "    (\"Lowfat Milk\", 121.2, 296.7, 0.1, 500.2, 0, 11.7, 8.1),\n",
    "    (\"Raisin Brn\", 115.1, 12.9, 16.8, 1250.2, 4, 27.9, 4),\n",
    "    (\"Hotdog\", 242.1, 23.5, 2.3, 0, 0, 18, 10.4)\n",
    "]\n",
    "\n",
    "Food = namedtuple(\"Food\", [\"name\", \"unit_cost\", \"qmin\", \"qmax\"])\n",
    "Nutrient = namedtuple(\"Nutrient\", [\"name\", \"qmin\", \"qmax\"])"
   ]
  },
  {
   "cell_type": "markdown",
   "metadata": {},
   "source": [
    "###### Build the model"
   ]
  },
  {
   "cell_type": "code",
   "execution_count": null,
   "metadata": {},
   "outputs": [],
   "source": [
    "def build_diet_model(name='diet', **kwargs):\n",
    "    ints = kwargs.pop('ints', False)\n",
    "\n",
    "    # Create tuples with named fields for foods and nutrients\n",
    "    foods = [Food(*f) for f in FOODS]\n",
    "    nutrients = [Nutrient(*row) for row in NUTRIENTS]\n",
    "\n",
    "    food_nutrients = {(fn[0], nutrients[n].name):\n",
    "                          fn[1 + n] for fn in FOOD_NUTRIENTS for n in range(len(NUTRIENTS))}\n",
    "\n",
    "    # Model\n",
    "    mdl = Model(name=name, **kwargs)\n",
    "\n",
    "    # Decision variables, limited to be >= Food.qmin and <= Food.qmax\n",
    "    ftype = mdl.integer_vartype if ints else mdl.continuous_vartype\n",
    "    qty = mdl.var_dict(foods, ftype, lb=lambda f: f.qmin, ub=lambda f: f.qmax, name=lambda f: \"q_%s\" % f.name)\n",
    "\n",
    "    # Limit range of nutrients, and mark them as KPIs\n",
    "    for n in nutrients:\n",
    "        amount = mdl.sum(qty[f] * food_nutrients[f.name, n.name] for f in foods)\n",
    "        mdl.add_range(n.qmin, amount, n.qmax)\n",
    "        mdl.add_kpi(amount, publish_name=\"Total %s\" % n.name)\n",
    "\n",
    "    # Minimize cost\n",
    "    total_cost = mdl.sum(qty[f] * f.unit_cost for f in foods)\n",
    "    mdl.add_kpi(total_cost, 'Total cost')\n",
    "\n",
    "    # add a functional KPI , taking a model and a solution as argument\n",
    "    # this KPI counts the number of foods used.\n",
    "    def nb_products(mdl_, s_):\n",
    "        qvs = mdl_.find_matching_vars(pattern=\"q_\")\n",
    "        return sum(1 for qv in qvs if s_[qv] >= 1e-5)\n",
    "\n",
    "    mdl.add_kpi(nb_products, 'Nb foods')\n",
    "    mdl.minimize(total_cost)\n",
    "\n",
    "    return mdl"
   ]
  },
  {
   "cell_type": "code",
   "execution_count": 5,
   "metadata": {},
   "outputs": [],
   "source": [
    "lt = [277.4, 21.9, 1.8, 77.4, 0, 0, 42.2]"
   ]
  },
  {
   "cell_type": "code",
   "execution_count": 7,
   "metadata": {},
   "outputs": [
    {
     "data": {
      "text/plain": [
       "0"
      ]
     },
     "execution_count": 7,
     "metadata": {},
     "output_type": "execute_result"
    }
   ],
   "source": [
    "lt.pop(5)"
   ]
  },
  {
   "cell_type": "code",
   "execution_count": 8,
   "metadata": {},
   "outputs": [
    {
     "data": {
      "text/plain": [
       "[277.4, 21.9, 1.8, 77.4, 0, 42.2]"
      ]
     },
     "execution_count": 8,
     "metadata": {},
     "output_type": "execute_result"
    }
   ],
   "source": [
    "lt"
   ]
  },
  {
   "cell_type": "code",
   "execution_count": null,
   "metadata": {},
   "outputs": [],
   "source": []
  }
 ],
 "metadata": {
  "kernelspec": {
   "display_name": "Python 3",
   "language": "python",
   "name": "python3"
  },
  "language_info": {
   "codemirror_mode": {
    "name": "ipython",
    "version": 3
   },
   "file_extension": ".py",
   "mimetype": "text/x-python",
   "name": "python",
   "nbconvert_exporter": "python",
   "pygments_lexer": "ipython3",
   "version": "3.7.6"
  }
 },
 "nbformat": 4,
 "nbformat_minor": 4
}
