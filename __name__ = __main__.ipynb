{
 "cells": [
  {
   "cell_type": "code",
   "execution_count": 2,
   "metadata": {},
   "outputs": [
    {
     "name": "stdout",
     "output_type": "stream",
     "text": [
      "__main__\n"
     ]
    }
   ],
   "source": [
    "print(__name__)"
   ]
  },
  {
   "cell_type": "code",
   "execution_count": 3,
   "metadata": {},
   "outputs": [
    {
     "name": "stdout",
     "output_type": "stream",
     "text": [
      "Workbook title name is __main__\n"
     ]
    }
   ],
   "source": [
    "print('Workbook title name is {}'.format(__name__))"
   ]
  },
  {
   "cell_type": "code",
   "execution_count": 4,
   "metadata": {},
   "outputs": [],
   "source": [
    "def main():\n",
    "    print('Python runs code by setting a special variable __name__ which returns {}'.format(__name__))"
   ]
  },
  {
   "cell_type": "code",
   "execution_count": 5,
   "metadata": {},
   "outputs": [
    {
     "name": "stdout",
     "output_type": "stream",
     "text": [
      "Python runs code by setting a special variable __name__ which returns __main__\n"
     ]
    }
   ],
   "source": [
    "if __name__ == '__main__': # To confirm if code is directly run by python\n",
    "    main()"
   ]
  },
  {
   "cell_type": "code",
   "execution_count": 6,
   "metadata": {},
   "outputs": [],
   "source": [
    "# if __name__ == '__main__':\n",
    "\n",
    "# Very useful to help to run codes based on whether they are imports or not\n",
    "\n"
   ]
  },
  {
   "cell_type": "code",
   "execution_count": 7,
   "metadata": {},
   "outputs": [
    {
     "data": {
      "text/plain": [
       "' 1, true'"
      ]
     },
     "execution_count": 7,
     "metadata": {},
     "output_type": "execute_result"
    }
   ],
   "source": [
    "''' {}, {}'''.format(*(1, 'true'))"
   ]
  },
  {
   "cell_type": "code",
   "execution_count": 2,
   "metadata": {},
   "outputs": [
    {
     "name": "stdout",
     "output_type": "stream",
     "text": [
      "0\n",
      "20\n",
      "40\n",
      "60\n",
      "80\n"
     ]
    }
   ],
   "source": [
    "for i in range(0, 100, 20):\n",
    "    print(i)"
   ]
  },
  {
   "cell_type": "code",
   "execution_count": 3,
   "metadata": {},
   "outputs": [
    {
     "name": "stdout",
     "output_type": "stream",
     "text": [
      "range(0, 100, 20)\n"
     ]
    }
   ],
   "source": [
    "print(range(0, 100, 20))"
   ]
  },
  {
   "cell_type": "code",
   "execution_count": 1,
   "metadata": {},
   "outputs": [],
   "source": [
    "import numpy as np\n",
    "import pandas as pd"
   ]
  },
  {
   "cell_type": "code",
   "execution_count": 3,
   "metadata": {},
   "outputs": [],
   "source": [
    "np.random.normal?"
   ]
  },
  {
   "cell_type": "code",
   "execution_count": 4,
   "metadata": {},
   "outputs": [],
   "source": [
    "returns = pd.DataFrame(np.random.normal(1.0, 0.03, (100, 10)))\n",
    "prices = returns.cumprod()"
   ]
  },
  {
   "cell_type": "code",
   "execution_count": 6,
   "metadata": {},
   "outputs": [],
   "source": [
    "returns.cumprod?"
   ]
  },
  {
   "cell_type": "code",
   "execution_count": 5,
   "metadata": {},
   "outputs": [
    {
     "data": {
      "text/html": [
       "<div>\n",
       "<style scoped>\n",
       "    .dataframe tbody tr th:only-of-type {\n",
       "        vertical-align: middle;\n",
       "    }\n",
       "\n",
       "    .dataframe tbody tr th {\n",
       "        vertical-align: top;\n",
       "    }\n",
       "\n",
       "    .dataframe thead th {\n",
       "        text-align: right;\n",
       "    }\n",
       "</style>\n",
       "<table border=\"1\" class=\"dataframe\">\n",
       "  <thead>\n",
       "    <tr style=\"text-align: right;\">\n",
       "      <th></th>\n",
       "      <th>0</th>\n",
       "      <th>1</th>\n",
       "      <th>2</th>\n",
       "      <th>3</th>\n",
       "      <th>4</th>\n",
       "      <th>5</th>\n",
       "      <th>6</th>\n",
       "      <th>7</th>\n",
       "      <th>8</th>\n",
       "      <th>9</th>\n",
       "    </tr>\n",
       "  </thead>\n",
       "  <tbody>\n",
       "    <tr>\n",
       "      <th>0</th>\n",
       "      <td>1.069107</td>\n",
       "      <td>0.981009</td>\n",
       "      <td>1.012732</td>\n",
       "      <td>1.028312</td>\n",
       "      <td>1.061009</td>\n",
       "      <td>0.984782</td>\n",
       "      <td>0.965007</td>\n",
       "      <td>1.016800</td>\n",
       "      <td>1.024437</td>\n",
       "      <td>0.988072</td>\n",
       "    </tr>\n",
       "    <tr>\n",
       "      <th>1</th>\n",
       "      <td>1.112833</td>\n",
       "      <td>0.969546</td>\n",
       "      <td>0.950374</td>\n",
       "      <td>1.035019</td>\n",
       "      <td>1.058249</td>\n",
       "      <td>1.028151</td>\n",
       "      <td>0.909686</td>\n",
       "      <td>1.024503</td>\n",
       "      <td>1.005193</td>\n",
       "      <td>0.966047</td>\n",
       "    </tr>\n",
       "    <tr>\n",
       "      <th>2</th>\n",
       "      <td>1.127702</td>\n",
       "      <td>0.977381</td>\n",
       "      <td>0.943566</td>\n",
       "      <td>1.037356</td>\n",
       "      <td>1.035553</td>\n",
       "      <td>1.047296</td>\n",
       "      <td>0.897089</td>\n",
       "      <td>1.081588</td>\n",
       "      <td>1.020766</td>\n",
       "      <td>0.955708</td>\n",
       "    </tr>\n",
       "    <tr>\n",
       "      <th>3</th>\n",
       "      <td>1.074771</td>\n",
       "      <td>0.988423</td>\n",
       "      <td>0.870998</td>\n",
       "      <td>1.016157</td>\n",
       "      <td>1.048568</td>\n",
       "      <td>1.035140</td>\n",
       "      <td>0.890318</td>\n",
       "      <td>1.074680</td>\n",
       "      <td>1.035264</td>\n",
       "      <td>0.923008</td>\n",
       "    </tr>\n",
       "    <tr>\n",
       "      <th>4</th>\n",
       "      <td>1.045005</td>\n",
       "      <td>0.974689</td>\n",
       "      <td>0.852011</td>\n",
       "      <td>1.073864</td>\n",
       "      <td>1.017230</td>\n",
       "      <td>1.025483</td>\n",
       "      <td>0.922051</td>\n",
       "      <td>1.028492</td>\n",
       "      <td>1.018057</td>\n",
       "      <td>0.927303</td>\n",
       "    </tr>\n",
       "    <tr>\n",
       "      <th>...</th>\n",
       "      <td>...</td>\n",
       "      <td>...</td>\n",
       "      <td>...</td>\n",
       "      <td>...</td>\n",
       "      <td>...</td>\n",
       "      <td>...</td>\n",
       "      <td>...</td>\n",
       "      <td>...</td>\n",
       "      <td>...</td>\n",
       "      <td>...</td>\n",
       "    </tr>\n",
       "    <tr>\n",
       "      <th>95</th>\n",
       "      <td>1.092014</td>\n",
       "      <td>0.721252</td>\n",
       "      <td>0.769724</td>\n",
       "      <td>1.140789</td>\n",
       "      <td>0.804020</td>\n",
       "      <td>1.295840</td>\n",
       "      <td>0.912631</td>\n",
       "      <td>1.178000</td>\n",
       "      <td>0.955801</td>\n",
       "      <td>1.019315</td>\n",
       "    </tr>\n",
       "    <tr>\n",
       "      <th>96</th>\n",
       "      <td>1.096985</td>\n",
       "      <td>0.727904</td>\n",
       "      <td>0.749255</td>\n",
       "      <td>1.163231</td>\n",
       "      <td>0.819580</td>\n",
       "      <td>1.234829</td>\n",
       "      <td>0.926354</td>\n",
       "      <td>1.185911</td>\n",
       "      <td>0.968292</td>\n",
       "      <td>1.001630</td>\n",
       "    </tr>\n",
       "    <tr>\n",
       "      <th>97</th>\n",
       "      <td>1.055666</td>\n",
       "      <td>0.736371</td>\n",
       "      <td>0.739688</td>\n",
       "      <td>1.066259</td>\n",
       "      <td>0.783874</td>\n",
       "      <td>1.187318</td>\n",
       "      <td>0.965802</td>\n",
       "      <td>1.214072</td>\n",
       "      <td>0.929588</td>\n",
       "      <td>1.008060</td>\n",
       "    </tr>\n",
       "    <tr>\n",
       "      <th>98</th>\n",
       "      <td>1.047237</td>\n",
       "      <td>0.726775</td>\n",
       "      <td>0.734768</td>\n",
       "      <td>1.024364</td>\n",
       "      <td>0.802363</td>\n",
       "      <td>1.218542</td>\n",
       "      <td>0.939792</td>\n",
       "      <td>1.224952</td>\n",
       "      <td>0.931766</td>\n",
       "      <td>1.011913</td>\n",
       "    </tr>\n",
       "    <tr>\n",
       "      <th>99</th>\n",
       "      <td>0.997383</td>\n",
       "      <td>0.752766</td>\n",
       "      <td>0.728670</td>\n",
       "      <td>1.040084</td>\n",
       "      <td>0.798813</td>\n",
       "      <td>1.165095</td>\n",
       "      <td>0.982852</td>\n",
       "      <td>1.227103</td>\n",
       "      <td>0.935144</td>\n",
       "      <td>1.046847</td>\n",
       "    </tr>\n",
       "  </tbody>\n",
       "</table>\n",
       "<p>100 rows × 10 columns</p>\n",
       "</div>"
      ],
      "text/plain": [
       "           0         1         2         3         4         5         6  \\\n",
       "0   1.069107  0.981009  1.012732  1.028312  1.061009  0.984782  0.965007   \n",
       "1   1.112833  0.969546  0.950374  1.035019  1.058249  1.028151  0.909686   \n",
       "2   1.127702  0.977381  0.943566  1.037356  1.035553  1.047296  0.897089   \n",
       "3   1.074771  0.988423  0.870998  1.016157  1.048568  1.035140  0.890318   \n",
       "4   1.045005  0.974689  0.852011  1.073864  1.017230  1.025483  0.922051   \n",
       "..       ...       ...       ...       ...       ...       ...       ...   \n",
       "95  1.092014  0.721252  0.769724  1.140789  0.804020  1.295840  0.912631   \n",
       "96  1.096985  0.727904  0.749255  1.163231  0.819580  1.234829  0.926354   \n",
       "97  1.055666  0.736371  0.739688  1.066259  0.783874  1.187318  0.965802   \n",
       "98  1.047237  0.726775  0.734768  1.024364  0.802363  1.218542  0.939792   \n",
       "99  0.997383  0.752766  0.728670  1.040084  0.798813  1.165095  0.982852   \n",
       "\n",
       "           7         8         9  \n",
       "0   1.016800  1.024437  0.988072  \n",
       "1   1.024503  1.005193  0.966047  \n",
       "2   1.081588  1.020766  0.955708  \n",
       "3   1.074680  1.035264  0.923008  \n",
       "4   1.028492  1.018057  0.927303  \n",
       "..       ...       ...       ...  \n",
       "95  1.178000  0.955801  1.019315  \n",
       "96  1.185911  0.968292  1.001630  \n",
       "97  1.214072  0.929588  1.008060  \n",
       "98  1.224952  0.931766  1.011913  \n",
       "99  1.227103  0.935144  1.046847  \n",
       "\n",
       "[100 rows x 10 columns]"
      ]
     },
     "execution_count": 5,
     "metadata": {},
     "output_type": "execute_result"
    }
   ],
   "source": [
    "prices"
   ]
  },
  {
   "cell_type": "code",
   "execution_count": null,
   "metadata": {},
   "outputs": [],
   "source": []
  }
 ],
 "metadata": {
  "kernelspec": {
   "display_name": "Python 3",
   "language": "python",
   "name": "python3"
  },
  "language_info": {
   "codemirror_mode": {
    "name": "ipython",
    "version": 3
   },
   "file_extension": ".py",
   "mimetype": "text/x-python",
   "name": "python",
   "nbconvert_exporter": "python",
   "pygments_lexer": "ipython3",
   "version": "3.7.6"
  }
 },
 "nbformat": 4,
 "nbformat_minor": 4
}
