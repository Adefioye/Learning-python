{
 "cells": [
  {
   "cell_type": "markdown",
   "metadata": {},
   "source": [
    "## Describe the business problem\n",
    "This notebook describes how to use CPLEX Modeling for Python to manage the production of pasta to meet demand with your resources.\n",
    "\n",
    "The model aims at minimizing the production cost for a number of products while satisfying customer demand.\n",
    "\n",
    "Each product can be produced either inside the company or outside, at a higher cost.\n",
    "The inside production is constrained by the company's resources, while outside production is considered unlimited.\n",
    "The model first declares the products and the resources.\n",
    "The data consists of the description of the products (the demand, the inside and outside costs, and the resource consumption) and the capacity of the various resources. The variables for this problem are the inside and outside production for each product."
   ]
  },
  {
   "cell_type": "markdown",
   "metadata": {},
   "source": [
    "## Use decision optimization\n",
    "\n",
    "#### Step 1: Model the data\n"
   ]
  },
  {
   "cell_type": "code",
   "execution_count": 38,
   "metadata": {},
   "outputs": [],
   "source": [
    "# Products contain (name, demand, inside_cost, outside_cost)\n",
    "\n",
    "products = [(\"kluski\", 100, 0.6, 0.8),\n",
    "            (\"capellini\", 200, 0.8, 0.9),\n",
    "            (\"fettucine\", 300, 0.3, 0.4)]\n",
    "\n",
    "# resources are a list of simple tuples (name, capacity)\n",
    "resources = [(\"flour\", 20),\n",
    "             (\"eggs\", 40)]\n",
    "\n",
    "# consumptions defined as (product_name, resource_named, consumed)\n",
    "consumptions = {(\"kluski\", \"flour\"): 0.5,\n",
    "                (\"kluski\", \"eggs\"): 0.2,\n",
    "                (\"capellini\", \"flour\"): 0.4,\n",
    "                (\"capellini\", \"eggs\"): 0.4,\n",
    "                (\"fettucine\", \"flour\"): 0.3,\n",
    "                (\"fettucine\", \"eggs\"): 0.6}"
   ]
  },
  {
   "cell_type": "markdown",
   "metadata": {},
   "source": [
    "#### Step 2: Prepare the data\n",
    "\n",
    "The data used is very simple and is ready to use without any cleaning, massage, refactoring."
   ]
  },
  {
   "cell_type": "markdown",
   "metadata": {},
   "source": [
    "#### Step 3: Set up the prescriptive model\n",
    "\n",
    "Set up the prescriptive model using the Mathematical Programming (docplex.mp) modeling package."
   ]
  },
  {
   "cell_type": "code",
   "execution_count": 39,
   "metadata": {},
   "outputs": [
    {
     "name": "stdout",
     "output_type": "stream",
     "text": [
      "* system is: Windows 64bit\n",
      "* Python version 3.7.6, located at: C:\\Users\\User\\anaconda3\\python.exe\n",
      "* docplex is present, version is 2.15.194\n",
      "* CPLEX library is present, version is 12.10.0.0, located at: C:\\Program Files\\IBM\\ILOG\\CPLEX_Studio1210\\cplex\\python\\3.7\\x64_win64\n",
      "* pandas is present, version is 1.0.1\n"
     ]
    }
   ],
   "source": [
    "from docplex.mp.environment import Environment\n",
    "env = Environment()\n",
    "env.print_information()"
   ]
  },
  {
   "cell_type": "markdown",
   "metadata": {},
   "source": [
    "#### Create the DOcplex model\n",
    "\n",
    "The model contains all the business constraints and defines the objective.\n",
    "\n",
    "We now use CPLEX Modeling for Python to build a Mixed Integer Programming (MIP) model for this problem."
   ]
  },
  {
   "cell_type": "code",
   "execution_count": 40,
   "metadata": {},
   "outputs": [],
   "source": [
    "from docplex.mp.model import Model\n",
    "mdl = Model(name=\"pasta\")"
   ]
  },
  {
   "cell_type": "markdown",
   "metadata": {},
   "source": [
    "#### Define the decision variables"
   ]
  },
  {
   "cell_type": "code",
   "execution_count": 41,
   "metadata": {},
   "outputs": [],
   "source": [
    "# This defines number of each products produced inside and outside the company\n",
    "inside_vars = mdl.continuous_var_dict(products, name='inside')\n",
    "outside_vars = mdl.continuous_var_dict(products, name='outside')"
   ]
  },
  {
   "cell_type": "code",
   "execution_count": 42,
   "metadata": {},
   "outputs": [
    {
     "name": "stdout",
     "output_type": "stream",
     "text": [
      "inside_kluski_100_0.6_0.8\n",
      "inside_capellini_200_0.8_0.9\n",
      "inside_fettucine_300_0.3_0.4\n"
     ]
    }
   ],
   "source": [
    "for p in products:\n",
    "    print(inside_vars[p])"
   ]
  },
  {
   "cell_type": "markdown",
   "metadata": {},
   "source": [
    "#### Express the business constraints\n",
    "\n",
    "- Each product can be produced either inside the company or outside, at a higher cost.\n",
    "- The inside production is constrained by the company's resources, while outside production is considered unlimited."
   ]
  },
  {
   "cell_type": "code",
   "execution_count": 43,
   "metadata": {},
   "outputs": [
    {
     "data": {
      "text/plain": [
       "[('kluski', 100, 0.6, 0.8),\n",
       " ('capellini', 200, 0.8, 0.9),\n",
       " ('fettucine', 300, 0.3, 0.4)]"
      ]
     },
     "execution_count": 43,
     "metadata": {},
     "output_type": "execute_result"
    }
   ],
   "source": [
    "products"
   ]
  },
  {
   "cell_type": "code",
   "execution_count": 44,
   "metadata": {},
   "outputs": [
    {
     "data": {
      "text/plain": [
       "([('flour', 20), ('eggs', 40)],\n",
       " {('kluski', 'flour'): 0.5,\n",
       "  ('kluski', 'eggs'): 0.2,\n",
       "  ('capellini', 'flour'): 0.4,\n",
       "  ('capellini', 'eggs'): 0.4,\n",
       "  ('fettucine', 'flour'): 0.3,\n",
       "  ('fettucine', 'eggs'): 0.6})"
      ]
     },
     "execution_count": 44,
     "metadata": {},
     "output_type": "execute_result"
    }
   ],
   "source": [
    "resources, consumptions"
   ]
  },
  {
   "cell_type": "code",
   "execution_count": 45,
   "metadata": {},
   "outputs": [
    {
     "name": "stdout",
     "output_type": "stream",
     "text": [
      "Model: pasta\n",
      " - number of variables: 6\n",
      "   - binary=0, integer=0, continuous=6\n",
      " - number of constraints: 0\n",
      "   - linear=0\n",
      " - parameters: defaults\n",
      " - objective: none\n",
      " - problem type is: LP\n"
     ]
    }
   ],
   "source": [
    "mdl.print_information()"
   ]
  },
  {
   "cell_type": "code",
   "execution_count": 46,
   "metadata": {},
   "outputs": [
    {
     "name": "stdout",
     "output_type": "stream",
     "text": [
      "Model: pasta\n",
      " - number of variables: 6\n",
      "   - binary=0, integer=0, continuous=6\n",
      " - number of constraints: 5\n",
      "   - linear=5\n",
      " - parameters: defaults\n",
      " - objective: none\n",
      " - problem type is: LP\n"
     ]
    }
   ],
   "source": [
    "# --- constraints ---\n",
    "# demand satisfaction\n",
    "# For each product, total production of inside and outside company >= demand\n",
    "mdl.add_constraints((inside_vars[prod] + outside_vars[prod] >= prod[1], 'ct_demand_{}'.format(prod[0])) \\\n",
    "                    for prod in products)\n",
    "\n",
    "# --- resource capacity ---\n",
    "# For inside company, For each resource, total product consumptions must be less than capacity\n",
    "# The operations give 2D-array for consumptions of the 2 resources in each product, p[flour, egg]\n",
    "mdl.add_constraints((mdl.sum(inside_vars[p] * consumptions[p[0], res[0]] for p in products) <= res[1], 'ct_res_%{}'.format(res[0]))\n",
    "                    for res in resources)\n",
    "\n",
    "mdl.print_information()"
   ]
  },
  {
   "cell_type": "markdown",
   "metadata": {},
   "source": [
    "#### Express the objective\n",
    "\n",
    "Minimizing the production cost for a number of products while satisfying customer demand."
   ]
  },
  {
   "cell_type": "code",
   "execution_count": 47,
   "metadata": {},
   "outputs": [],
   "source": [
    "total_inside_cost = mdl.sum(inside_vars[p] * p[2] for p in products)\n",
    "total_outside_cost = mdl.sum(outside_vars[p] * p[3] for p in products)\n",
    "\n",
    "mdl.minimize(total_inside_cost + total_outside_cost)"
   ]
  },
  {
   "cell_type": "markdown",
   "metadata": {},
   "source": [
    "#### Solve with Decision Optimization\n",
    "Now solve the model, using Model.solve(). The following cell solves using your local CPLEX (if any, and provided you have added it to your PYTHONPATH variable)."
   ]
  },
  {
   "cell_type": "code",
   "execution_count": 48,
   "metadata": {},
   "outputs": [
    {
     "name": "stdout",
     "output_type": "stream",
     "text": [
      "Model: pasta\n",
      " - number of variables: 6\n",
      "   - binary=0, integer=0, continuous=6\n",
      " - number of constraints: 5\n",
      "   - linear=5\n",
      " - parameters: defaults\n",
      " - objective: minimize\n",
      " - problem type is: LP\n"
     ]
    }
   ],
   "source": [
    "mdl.solve()\n",
    "mdl.print_information()"
   ]
  },
  {
   "cell_type": "code",
   "execution_count": 49,
   "metadata": {},
   "outputs": [
    {
     "name": "stdout",
     "output_type": "stream",
     "text": [
      "objective: 372.000\n",
      "  inside_kluski_100_0.6_0.8=40.000\n",
      "  outside_kluski_100_0.6_0.8=60.000\n",
      "  outside_capellini_200_0.8_0.9=200.000\n",
      "  outside_fettucine_300_0.3_0.4=300.000\n"
     ]
    }
   ],
   "source": [
    "mdl.print_solution()"
   ]
  },
  {
   "cell_type": "code",
   "execution_count": 50,
   "metadata": {},
   "outputs": [
    {
     "data": {
      "text/plain": [
       "372.0"
      ]
     },
     "execution_count": 50,
     "metadata": {},
     "output_type": "execute_result"
    }
   ],
   "source": [
    "mdl.objective_value"
   ]
  },
  {
   "cell_type": "markdown",
   "metadata": {},
   "source": [
    "#### Step 4: Investigate the solution and then run an example analysis\n",
    "\n",
    "print out solution in nice format"
   ]
  },
  {
   "cell_type": "code",
   "execution_count": 51,
   "metadata": {},
   "outputs": [
    {
     "name": "stdout",
     "output_type": "stream",
     "text": [
      "Objective value: 372.0\n",
      "Inside company variables:\n",
      "\n",
      "Total cost of production ==> 24.0\n",
      "Total units of kluski product ==> 40.0\n",
      "Total units of capellini product ==> 0\n",
      "Total units of fettucine product ==> 0\n",
      "\n",
      "Outside company variables:\n",
      "\n",
      "Total cost of production ==> 348.0\n",
      "Total units of kluski product ==> 60.0\n",
      "Total units of capellini product ==> 200.0\n",
      "Total units of fettucine product ==> 300.0\n"
     ]
    }
   ],
   "source": [
    "print('Objective value: {}'.format(mdl.objective_value))\n",
    "\n",
    "print('Inside company variables:\\n')\n",
    "print('Total cost of production ==> {}'.format(total_inside_cost.solution_value))\n",
    "for p in products:\n",
    "    print('Total units of {} product ==> {}'.format(p[0], inside_vars[p].solution_value))\n",
    "\n",
    "print('\\nOutside company variables:\\n')\n",
    "print('Total cost of production ==> {}'.format(total_outside_cost.solution_value))\n",
    "for p in products:\n",
    "    print('Total units of {} product ==> {}'.format(p[0], outside_vars[p].solution_value))"
   ]
  },
  {
   "cell_type": "code",
   "execution_count": null,
   "metadata": {},
   "outputs": [],
   "source": []
  },
  {
   "cell_type": "code",
   "execution_count": null,
   "metadata": {},
   "outputs": [],
   "source": []
  }
 ],
 "metadata": {
  "kernelspec": {
   "display_name": "Python 3",
   "language": "python",
   "name": "python3"
  },
  "language_info": {
   "codemirror_mode": {
    "name": "ipython",
    "version": 3
   },
   "file_extension": ".py",
   "mimetype": "text/x-python",
   "name": "python",
   "nbconvert_exporter": "python",
   "pygments_lexer": "ipython3",
   "version": "3.7.6"
  }
 },
 "nbformat": 4,
 "nbformat_minor": 4
}
