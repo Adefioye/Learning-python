{
 "cells": [
  {
   "cell_type": "markdown",
   "metadata": {},
   "source": [
    "In this chapter, we deal with the following\n",
    "\n",
    "- Basic inheritance\n",
    "- Inheriting from built-in types\n",
    "- Multiple inheritance\n",
    "- Polymorphism and duck typing"
   ]
  },
  {
   "cell_type": "markdown",
   "metadata": {},
   "source": [
    "__Basic Inheritance__"
   ]
  },
  {
   "cell_type": "markdown",
   "metadata": {},
   "source": [
    "Technically, every class we create uses inheritance. This classes are usually subclasses of the special built-in class named __object__. "
   ]
  },
  {
   "cell_type": "code",
   "execution_count": 1,
   "metadata": {},
   "outputs": [],
   "source": [
    "class Contact:\n",
    "    all_contacts = []\n",
    "    \n",
    "    def __init__(self, name, email):\n",
    "        self.name = name\n",
    "        self.email = email\n",
    "        Contact.all_contacts.append(self)"
   ]
  },
  {
   "cell_type": "code",
   "execution_count": 15,
   "metadata": {},
   "outputs": [],
   "source": [
    "class Supplier(Contact):\n",
    "    def order(self, order):\n",
    "        print('If this were a real system we would send'\n",
    "              f'{order}order to {self.name}')"
   ]
  },
  {
   "cell_type": "code",
   "execution_count": 3,
   "metadata": {},
   "outputs": [
    {
     "name": "stdout",
     "output_type": "stream",
     "text": [
      "Some body somebody@example.net Sup Plier supplier@example.net\n"
     ]
    }
   ],
   "source": [
    "c = Contact('Some body', 'somebody@example.net')\n",
    "s = Supplier('Sup Plier', 'supplier@example.net')\n",
    "print(c.name, c.email, s.name, s.email)"
   ]
  },
  {
   "cell_type": "code",
   "execution_count": 4,
   "metadata": {},
   "outputs": [
    {
     "data": {
      "text/plain": [
       "[<__main__.Contact at 0x21c007ce848>, <__main__.Supplier at 0x21c007f00c8>]"
      ]
     },
     "execution_count": 4,
     "metadata": {},
     "output_type": "execute_result"
    }
   ],
   "source": [
    "c.all_contacts"
   ]
  },
  {
   "cell_type": "code",
   "execution_count": 5,
   "metadata": {},
   "outputs": [
    {
     "ename": "AttributeError",
     "evalue": "'Contact' object has no attribute 'order'",
     "output_type": "error",
     "traceback": [
      "\u001b[1;31m---------------------------------------------------------------------------\u001b[0m",
      "\u001b[1;31mAttributeError\u001b[0m                            Traceback (most recent call last)",
      "\u001b[1;32m<ipython-input-5-96ca46e73df9>\u001b[0m in \u001b[0;36m<module>\u001b[1;34m\u001b[0m\n\u001b[1;32m----> 1\u001b[1;33m \u001b[0mc\u001b[0m\u001b[1;33m.\u001b[0m\u001b[0morder\u001b[0m\u001b[1;33m(\u001b[0m\u001b[1;34m'I need Pliers'\u001b[0m\u001b[1;33m)\u001b[0m\u001b[1;33m\u001b[0m\u001b[1;33m\u001b[0m\u001b[0m\n\u001b[0m",
      "\u001b[1;31mAttributeError\u001b[0m: 'Contact' object has no attribute 'order'"
     ]
    }
   ],
   "source": [
    "c.order('I need Pliers')"
   ]
  },
  {
   "cell_type": "code",
   "execution_count": 16,
   "metadata": {},
   "outputs": [
    {
     "name": "stdout",
     "output_type": "stream",
     "text": [
      "If this were a real system we would send I need Pliers              order to Sup Plier\n"
     ]
    }
   ],
   "source": [
    "# Order method only available to suppliers\n",
    "s.order('I need Pliers')"
   ]
  },
  {
   "cell_type": "markdown",
   "metadata": {},
   "source": [
    "__Extending builtins__"
   ]
  },
  {
   "cell_type": "markdown",
   "metadata": {},
   "source": [
    "The __ContactList__ extend the builtins datatype"
   ]
  },
  {
   "cell_type": "code",
   "execution_count": 19,
   "metadata": {},
   "outputs": [],
   "source": [
    "class ContactList(list):\n",
    "    def search(self, name):\n",
    "        '''Return all contacts that contain the search value in their\n",
    "        name.'''\n",
    "        matching_contacts = []\n",
    "        for contact in self:\n",
    "            if name in contact.name:\n",
    "                matching_contacts.append(contact)\n",
    "        return matching_contacts    "
   ]
  },
  {
   "cell_type": "code",
   "execution_count": 18,
   "metadata": {},
   "outputs": [],
   "source": [
    "class Contact:\n",
    "    all_contacts = ContactList()\n",
    "    \n",
    "    def __init__(self, name, email):\n",
    "        self.name = name\n",
    "        self.email = email\n",
    "        Contact.all_contacts.append(self)"
   ]
  },
  {
   "cell_type": "code",
   "execution_count": 20,
   "metadata": {},
   "outputs": [],
   "source": [
    "c1 = Contact(\"John A\", \"johna@example.net\")\n",
    "c2 = Contact(\"John B\", \"johnb@example.net\")\n",
    "c3 = Contact(\"Jenna C\", \"jennac@example.net\")"
   ]
  },
  {
   "cell_type": "code",
   "execution_count": 21,
   "metadata": {},
   "outputs": [
    {
     "data": {
      "text/plain": [
       "['John A', 'John B']"
      ]
     },
     "execution_count": 21,
     "metadata": {},
     "output_type": "execute_result"
    }
   ],
   "source": [
    "[c.name for c in Contact.all_contacts.search('John')]"
   ]
  },
  {
   "cell_type": "markdown",
   "metadata": {},
   "source": [
    "- [] is a __syntactic sugar__ for the list() constructor. Also, the list itself extends the object class"
   ]
  },
  {
   "cell_type": "code",
   "execution_count": 22,
   "metadata": {},
   "outputs": [
    {
     "data": {
      "text/plain": [
       "True"
      ]
     },
     "execution_count": 22,
     "metadata": {},
     "output_type": "execute_result"
    }
   ],
   "source": [
    "isinstance([], object)"
   ]
  },
  {
   "cell_type": "markdown",
   "metadata": {},
   "source": [
    "- Lets extend the dict class"
   ]
  },
  {
   "cell_type": "code",
   "execution_count": 23,
   "metadata": {},
   "outputs": [],
   "source": [
    "class LongNameDict(dict):\n",
    "    def longest_key(self):\n",
    "        longest = None\n",
    "        for key in self:\n",
    "            if not longest or len(key) > len(longest):\n",
    "                longest = key\n",
    "        return longest"
   ]
  },
  {
   "cell_type": "code",
   "execution_count": 24,
   "metadata": {},
   "outputs": [],
   "source": [
    "longkeys = LongNameDict()\n",
    "longkeys['hello'] = 1\n",
    "longkeys['longest yet'] = 5\n",
    "longkeys['hello2'] = 'world'"
   ]
  },
  {
   "cell_type": "code",
   "execution_count": 25,
   "metadata": {},
   "outputs": [
    {
     "data": {
      "text/plain": [
       "'longest yet'"
      ]
     },
     "execution_count": 25,
     "metadata": {},
     "output_type": "execute_result"
    }
   ],
   "source": [
    "longkeys.longest_key()"
   ]
  },
  {
   "cell_type": "markdown",
   "metadata": {},
   "source": [
    "- Most built-in types can be similarly extended. Commonly extended builtins\n",
    "are object, list, set, dict, file, and str. Numerical types such as int and\n",
    "float are also occasionally inherited from."
   ]
  },
  {
   "cell_type": "markdown",
   "metadata": {},
   "source": [
    "__Overriding and super__"
   ]
  },
  {
   "cell_type": "code",
   "execution_count": 11,
   "metadata": {},
   "outputs": [],
   "source": [
    "class Contact:\n",
    "    all_contacts = []\n",
    "    \n",
    "    def __init__(self, name, email):\n",
    "        self.name = name\n",
    "        self.email = email\n",
    "        Contact.all_contacts.append(self)"
   ]
  },
  {
   "cell_type": "code",
   "execution_count": 12,
   "metadata": {},
   "outputs": [],
   "source": [
    "# Overriding with super() method\n",
    "\n",
    "class Friend(Contact):\n",
    "    def __init__(self, name, email, phone):\n",
    "        super().__init__(name, email)\n",
    "        self.phone = phone"
   ]
  },
  {
   "cell_type": "markdown",
   "metadata": {},
   "source": [
    "__Multiple inheritance__"
   ]
  },
  {
   "cell_type": "code",
   "execution_count": 13,
   "metadata": {},
   "outputs": [],
   "source": [
    "class MailSender:\n",
    "    def send_mail(self, message):\n",
    "        print('Sending mail to ' + self.email)\n",
    "        # Add e-mail logic here"
   ]
  },
  {
   "cell_type": "code",
   "execution_count": 14,
   "metadata": {},
   "outputs": [],
   "source": [
    "class EmailableContact(Contact, MailSender): # 2 classes\n",
    "    pass"
   ]
  },
  {
   "cell_type": "code",
   "execution_count": 15,
   "metadata": {},
   "outputs": [
    {
     "name": "stdout",
     "output_type": "stream",
     "text": [
      "[<__main__.EmailableContact object at 0x0000024B0D3E4188>]\n"
     ]
    }
   ],
   "source": [
    "e = EmailableContact('John Smith', 'jsmith@example.net')\n",
    "print(Contact.all_contacts)"
   ]
  },
  {
   "cell_type": "code",
   "execution_count": 16,
   "metadata": {},
   "outputs": [
    {
     "name": "stdout",
     "output_type": "stream",
     "text": [
      "Sending mail to jsmith@example.net\n"
     ]
    }
   ],
   "source": [
    "e.send_mail('Hello, test e-mail here')"
   ]
  },
  {
   "cell_type": "markdown",
   "metadata": {},
   "source": [
    "Creating an address using class method has an advantage of adding more behaviors to the address such as direction and possible map. "
   ]
  },
  {
   "cell_type": "code",
   "execution_count": 18,
   "metadata": {},
   "outputs": [],
   "source": [
    "class AddressHolder:\n",
    "    def __init__(self, street, city, state, code):\n",
    "        self.street = street\n",
    "        self.city = city\n",
    "        self.state = state\n",
    "        self.code = code"
   ]
  },
  {
   "cell_type": "markdown",
   "metadata": {},
   "source": [
    "We can add the AddressHolder class to the Friend class\n",
    "\n",
    "- Using __naive approach__ to initialize a subclass from two superclasses"
   ]
  },
  {
   "cell_type": "code",
   "execution_count": 19,
   "metadata": {},
   "outputs": [],
   "source": [
    "class Friend(Contact, AddressHolder):\n",
    "    def __init__(self, name, email, phone, street, city, state, code):\n",
    "        Contact.__init__(self, name, email)\n",
    "        AddressHolder.__init__(self, street, city, state, code)\n",
    "        self.phone = phone"
   ]
  },
  {
   "attachments": {
    "image.png": {
     "image/png": "[encoded data removed]"
    }
   },
   "cell_type": "markdown",
   "metadata": {},
   "source": [
    "__The diamond problem__\n",
    "\n",
    "A typical diamond problem is such that a **base class** has a method named _call_me_. Two subclasses override this method and then another subclass extends both of these using __multiple inheritance__. This is called a _diamond problem_ because of shape of the class diagram\n",
    "\n",
    "![image.png](attachment:image.png)\n",
    "\n",
    "__Let's convert the diagram to code__:"
   ]
  },
  {
   "cell_type": "code",
   "execution_count": 37,
   "metadata": {},
   "outputs": [],
   "source": [
    "class Baseclass:\n",
    "    num_base_calls = 0\n",
    "    \n",
    "    def call_me(self):\n",
    "        print('Calling method on Base Class')\n",
    "        self.num_base_calls += 1\n",
    "        \n",
    "class LeftSubclass(Baseclass):\n",
    "    num_left_calls = 0\n",
    "    \n",
    "    def call_me(self):\n",
    "        Baseclass.call_me(self)\n",
    "        print('Calling method on Left Subclass')\n",
    "        self.num_left_calls += 1\n",
    "        \n",
    "class RightSubclass(Baseclass):\n",
    "    num_right_calls = 0\n",
    "    \n",
    "    def call_me(self):\n",
    "        Baseclass.call_me(self)\n",
    "        print('Calling method on Right Subclass')\n",
    "        self.num_right_calls += 1\n",
    "        \n",
    "class Subclass(LeftSubclass, RightSubclass):\n",
    "    num_sub_calls = 0\n",
    "    \n",
    "    def call_me(self):\n",
    "        LeftSubclass.call_me(self)\n",
    "        RightSubclass.call_me(self)\n",
    "        print('Calling method on Subclass')\n",
    "        self.num_sub_calls += 1"
   ]
  },
  {
   "cell_type": "code",
   "execution_count": 38,
   "metadata": {},
   "outputs": [
    {
     "name": "stdout",
     "output_type": "stream",
     "text": [
      "Calling method on Base Class\n",
      "Calling method on Left Subclass\n",
      "Calling method on Base Class\n",
      "Calling method on Right Subclass\n",
      "Calling method on Subclass\n"
     ]
    }
   ],
   "source": [
    "s = Subclass()\n",
    "s.call_me()"
   ]
  },
  {
   "cell_type": "code",
   "execution_count": 39,
   "metadata": {},
   "outputs": [
    {
     "name": "stdout",
     "output_type": "stream",
     "text": [
      "2 1 1 1\n"
     ]
    }
   ],
   "source": [
    "print(s.num_base_calls, s.num_left_calls, s.num_right_calls, s.num_sub_calls)"
   ]
  },
  {
   "cell_type": "markdown",
   "metadata": {},
   "source": [
    "The thing to keep in mind with multiple inheritance is that we only want to\n",
    "call the next method in the class hierarchy, not the parent method. In fact, that\n",
    "next method may not be on a parent or ancestor of the current class. The\n",
    "super keyword comes to our rescue once again. Indeed, super was originally\n",
    "developed to make complicated forms of multiple inheritance possible.\n",
    "Here is the same code written using super:"
   ]
  },
  {
   "cell_type": "code",
   "execution_count": 42,
   "metadata": {},
   "outputs": [],
   "source": [
    "class Baseclass:\n",
    "    num_base_calls = 0\n",
    "    \n",
    "    def call_me(self):\n",
    "        print('Calling method on Base Class')\n",
    "        self.num_base_calls += 1\n",
    "        \n",
    "class LeftSubclass(Baseclass):\n",
    "    num_left_calls = 0\n",
    "    \n",
    "    def call_me(self):\n",
    "        super().call_me()\n",
    "        print('Calling method on Left Subclass')\n",
    "        self.num_left_calls += 1\n",
    "        \n",
    "class RightSubclass(Baseclass):\n",
    "    num_right_calls = 0\n",
    "    \n",
    "    def call_me(self):\n",
    "        super().call_me()\n",
    "        print('Calling method on Right Subclass')\n",
    "        self.num_right_calls += 1\n",
    "        \n",
    "class Subclass(LeftSubclass, RightSubclass):\n",
    "    num_sub_calls = 0\n",
    "    \n",
    "    def call_me(self):\n",
    "        super().call_me()\n",
    "        print('Calling method on Subclass')\n",
    "        self.num_sub_calls += 1"
   ]
  },
  {
   "cell_type": "markdown",
   "metadata": {},
   "source": [
    "We only replace the naive direct calls with calls to __super()__. The bottom Subclass only calls __super()__ once instead of making calls for both left and right."
   ]
  },
  {
   "cell_type": "code",
   "execution_count": 43,
   "metadata": {},
   "outputs": [
    {
     "name": "stdout",
     "output_type": "stream",
     "text": [
      "Calling method on Base Class\n",
      "Calling method on Right Subclass\n",
      "Calling method on Left Subclass\n",
      "Calling method on Subclass\n"
     ]
    }
   ],
   "source": [
    "s = Subclass()\n",
    "s.call_me()"
   ]
  },
  {
   "cell_type": "code",
   "execution_count": 44,
   "metadata": {},
   "outputs": [
    {
     "name": "stdout",
     "output_type": "stream",
     "text": [
      "1 1 1 1\n"
     ]
    }
   ],
   "source": [
    "print(s.num_base_calls, s.num_left_calls, s.num_right_calls, s.num_sub_calls)"
   ]
  },
  {
   "cell_type": "markdown",
   "metadata": {},
   "source": [
    "- The super() call works by calling the next class in the hierarchy. Hence. s.call_me calls LeftSubclass.call_me whose super() call calls RightSubclass.call_me whose super() call then calls the Baseclass.call_me"
   ]
  },
  {
   "cell_type": "markdown",
   "metadata": {},
   "source": [
    "__Different sets of arguments__\n",
    "\n",
    "When trying to pass different arguments to different subclasses. We dont necessarily know how the super() method is gonna initialize the subclasses so as to pass the right arguments to specific subclass as it moves up the hierarchy of classes.\n",
    "\n",
    "- Unfortunately, the way to deal with this issue is to design for it from the beginning. We are gonna use the *Friend* class to illustrate this concept."
   ]
  },
  {
   "cell_type": "code",
   "execution_count": 1,
   "metadata": {},
   "outputs": [],
   "source": [
    "class Contact:\n",
    "    all_contacts = []\n",
    "    \n",
    "    def __init__(self, name=\"\", email=\"\", **kwargs):\n",
    "        super().__init__(**kwargs)\n",
    "        self.name = name\n",
    "        self.email = email\n",
    "        self.all_contacts.append(self)\n",
    "        \n",
    "class AddressHolder:\n",
    "    def __init__(self, street=\"\", city=\"\", state=\"\", code=\"\", **kwargs):\n",
    "        super().__init__(**kwargs)\n",
    "        self.street = street\n",
    "        self.city = city\n",
    "        self.state = state\n",
    "        self.code = code\n",
    "        \n",
    "class Friend(Contact, AddressHolder):\n",
    "    def __init__(self, phone=\"\", **kwargs):\n",
    "        super().__init__(**kwargs)\n",
    "        self.phone = phone"
   ]
  },
  {
   "cell_type": "markdown",
   "metadata": {},
   "source": [
    "__Polymorphism__\n",
    "\n",
    "This concept will be explained using an audiofile. \n",
    "\n",
    "An _AudioFile_ object can have a play() method which is responsible for decompressing and extracting the audio before reouting it to the sound card or speakers. \n",
    "\n",
    "The act of playing an audio file can as simple as __audio_file.play()__.\n",
    "\n",
    "Although different audio files have different compression algorithms. Hence, we can use inheritance with polymorphism to simplify the design. For example, _wavFile_ and _MP3File_. Each of these would have a different subclass with a __play()__ method that would be implemented differently for each file to ensure that the correct extraction procedure is followed. The _media player object_ would never need to know which subclass of _AudioFile_ it is referring to; it just calls _play()_ method and polymorphically lets the object take care of the actual details of playing.   "
   ]
  },
  {
   "cell_type": "code",
   "execution_count": 3,
   "metadata": {},
   "outputs": [],
   "source": [
    "class AudioFile:\n",
    "    def __init__(self, filename):\n",
    "        if not filename.endswith(self.ext):\n",
    "            raise Exception('Invalid file format')\n",
    "            \n",
    "        self.filename = filename\n",
    "        \n",
    "class MP3File(AudioFile):\n",
    "    ext = 'mp3'\n",
    "    \n",
    "    def play(self):\n",
    "        print('playing {} as mp3'.format(self.filename))\n",
    "        \n",
    "class WavFile(AudioFile):\n",
    "    ext = 'wav'\n",
    "    \n",
    "    def play(self):\n",
    "        print('playing {} as wav'.format(self.filename))\n",
    "        \n",
    "class OggFile(AudioFile):\n",
    "    ext = 'ogg'\n",
    "    \n",
    "    def play(self):\n",
    "        print('playing {} as ogg'.format(self.filename))"
   ]
  },
  {
   "cell_type": "markdown",
   "metadata": {},
   "source": [
    "Polymorphism occurs in code above in 2 basic ways:\n",
    "\n",
    "- Polymorphism is able to allow _AudioFile_ to access the \"ext\" class variable in all of its subclasses\n",
    "\n",
    "- Polymorphism also allow for the _AudioFile_ to play different Files without knowing the files it referring to"
   ]
  },
  {
   "cell_type": "code",
   "execution_count": 4,
   "metadata": {},
   "outputs": [
    {
     "name": "stdout",
     "output_type": "stream",
     "text": [
      "playing myfile.ogg as ogg\n"
     ]
    }
   ],
   "source": [
    "ogg = OggFile('myfile.ogg')\n",
    "ogg.play()"
   ]
  },
  {
   "cell_type": "code",
   "execution_count": 5,
   "metadata": {},
   "outputs": [
    {
     "name": "stdout",
     "output_type": "stream",
     "text": [
      "playing myfile.mp3 as mp3\n"
     ]
    }
   ],
   "source": [
    "mp3 = MP3File('myfile.mp3')\n",
    "mp3.play()"
   ]
  },
  {
   "cell_type": "code",
   "execution_count": 6,
   "metadata": {},
   "outputs": [
    {
     "ename": "Exception",
     "evalue": "Invalid file format",
     "output_type": "error",
     "traceback": [
      "\u001b[1;31m---------------------------------------------------------------------------\u001b[0m",
      "\u001b[1;31mException\u001b[0m                                 Traceback (most recent call last)",
      "\u001b[1;32m<ipython-input-6-5629d13d5258>\u001b[0m in \u001b[0;36m<module>\u001b[1;34m\u001b[0m\n\u001b[1;32m----> 1\u001b[1;33m \u001b[0mnot_an_mp3\u001b[0m \u001b[1;33m=\u001b[0m \u001b[0mMP3File\u001b[0m\u001b[1;33m(\u001b[0m\u001b[1;34m'myfile.ogg'\u001b[0m\u001b[1;33m)\u001b[0m\u001b[1;33m\u001b[0m\u001b[1;33m\u001b[0m\u001b[0m\n\u001b[0m",
      "\u001b[1;32m<ipython-input-3-1713cb2a958d>\u001b[0m in \u001b[0;36m__init__\u001b[1;34m(self, filename)\u001b[0m\n\u001b[0;32m      2\u001b[0m     \u001b[1;32mdef\u001b[0m \u001b[0m__init__\u001b[0m\u001b[1;33m(\u001b[0m\u001b[0mself\u001b[0m\u001b[1;33m,\u001b[0m \u001b[0mfilename\u001b[0m\u001b[1;33m)\u001b[0m\u001b[1;33m:\u001b[0m\u001b[1;33m\u001b[0m\u001b[1;33m\u001b[0m\u001b[0m\n\u001b[0;32m      3\u001b[0m         \u001b[1;32mif\u001b[0m \u001b[1;32mnot\u001b[0m \u001b[0mfilename\u001b[0m\u001b[1;33m.\u001b[0m\u001b[0mendswith\u001b[0m\u001b[1;33m(\u001b[0m\u001b[0mself\u001b[0m\u001b[1;33m.\u001b[0m\u001b[0mext\u001b[0m\u001b[1;33m)\u001b[0m\u001b[1;33m:\u001b[0m\u001b[1;33m\u001b[0m\u001b[1;33m\u001b[0m\u001b[0m\n\u001b[1;32m----> 4\u001b[1;33m             \u001b[1;32mraise\u001b[0m \u001b[0mException\u001b[0m\u001b[1;33m(\u001b[0m\u001b[1;34m'Invalid file format'\u001b[0m\u001b[1;33m)\u001b[0m\u001b[1;33m\u001b[0m\u001b[1;33m\u001b[0m\u001b[0m\n\u001b[0m\u001b[0;32m      5\u001b[0m \u001b[1;33m\u001b[0m\u001b[0m\n\u001b[0;32m      6\u001b[0m         \u001b[0mself\u001b[0m\u001b[1;33m.\u001b[0m\u001b[0mfilename\u001b[0m \u001b[1;33m=\u001b[0m \u001b[0mfilename\u001b[0m\u001b[1;33m\u001b[0m\u001b[1;33m\u001b[0m\u001b[0m\n",
      "\u001b[1;31mException\u001b[0m: Invalid file format"
     ]
    }
   ],
   "source": [
    "not_an_mp3 = MP3File('myfile.ogg')"
   ]
  },
  {
   "cell_type": "markdown",
   "metadata": {},
   "source": [
    "- Python makes polymorphism seem less awesome because of duck typing\n",
    "\n",
    "__Duck typing__ in Python allows us to use any object that provides a required behavior without forcing it to be a subclass. The following example does not extend _AudioFile_ but it can be interacted with in python using the exact same interface."
   ]
  },
  {
   "cell_type": "code",
   "execution_count": 7,
   "metadata": {},
   "outputs": [],
   "source": [
    "class FlacFile:\n",
    "    def __init__(self, filename):\n",
    "        if not filename.endswith('.flac'):\n",
    "            raise Exception('Invalid file format')\n",
    "            \n",
    "        self.filename = filename\n",
    "        \n",
    "    def play(self):\n",
    "        print('playing {} as flac'.format(self.filename))"
   ]
  },
  {
   "cell_type": "markdown",
   "metadata": {},
   "source": [
    "The media player can play this object as easily as one that extends _AudioFile_"
   ]
  },
  {
   "cell_type": "markdown",
   "metadata": {},
   "source": [
    "__Abstract base classes(ABCs)__\n",
    "\n",
    "These define a set of methods and properties that a class must implement in order to be considered a duck-type instance of that class. the class can extend the ABC itself in order to be used as an instance of that class, but it must supply all the appropriate methods.\n",
    "\n",
    "In practice, it's rarely necessary to create new abstract base classes, but we may find occasions to implement instances of existing ABCs. We'll cover\n",
    "implementing ABCs first, and then briefly see how to create your own,\n",
    "should you ever need to.\n",
    "\n",
    "- Using an abstract base class\n",
    "\n",
    "Most of the ABCs in python standard library exists in the __collections__ module. Let's inspect one of them, the _Container_ class"
   ]
  },
  {
   "cell_type": "code",
   "execution_count": 2,
   "metadata": {},
   "outputs": [],
   "source": [
    "from collections.abc import Container"
   ]
  },
  {
   "cell_type": "code",
   "execution_count": 3,
   "metadata": {},
   "outputs": [
    {
     "data": {
      "text/plain": [
       "frozenset({'__contains__'})"
      ]
     },
     "execution_count": 3,
     "metadata": {},
     "output_type": "execute_result"
    }
   ],
   "source": [
    "# Lets check the methods in the Container Class\n",
    "\n",
    "Container.__abstractmethods__"
   ]
  },
  {
   "cell_type": "markdown",
   "metadata": {},
   "source": [
    "- The container only holds one methods"
   ]
  },
  {
   "cell_type": "code",
   "execution_count": 4,
   "metadata": {},
   "outputs": [
    {
     "name": "stdout",
     "output_type": "stream",
     "text": [
      "Help on function __contains__ in module collections.abc:\n",
      "\n",
      "__contains__(self, x)\n",
      "\n"
     ]
    }
   ],
   "source": [
    "help(Container.__contains__)"
   ]
  },
  {
   "cell_type": "code",
   "execution_count": 7,
   "metadata": {},
   "outputs": [],
   "source": [
    "Container.__contains__??"
   ]
  },
  {
   "cell_type": "markdown",
   "metadata": {},
   "source": [
    "- This tries to check if the container holds the value used as argument\n",
    "\n",
    "This method can be implemented by _list, str and dict_ to indicate whether or not a given value is in the data structure"
   ]
  },
  {
   "cell_type": "code",
   "execution_count": 8,
   "metadata": {},
   "outputs": [],
   "source": [
    "# Lets make a container that tells whether a given value is in \n",
    "# the set of odd integers\n",
    "\n",
    "class OddContainer:\n",
    "    def __contains__(self, x):\n",
    "        if not isinstance(x, int) or not x % 2:\n",
    "            return False\n",
    "        return True"
   ]
  },
  {
   "cell_type": "markdown",
   "metadata": {},
   "source": [
    "- The OddContainer class has a duct-type instance of __Container__ class. Because it has the only method dunder __contains__ in the __Container__ class"
   ]
  },
  {
   "cell_type": "code",
   "execution_count": 9,
   "metadata": {},
   "outputs": [],
   "source": [
    "from collections.abc import Container\n",
    "odd_container = OddContainer()"
   ]
  },
  {
   "cell_type": "code",
   "execution_count": 10,
   "metadata": {},
   "outputs": [
    {
     "data": {
      "text/plain": [
       "True"
      ]
     },
     "execution_count": 10,
     "metadata": {},
     "output_type": "execute_result"
    }
   ],
   "source": [
    "isinstance(odd_container, Container)"
   ]
  },
  {
   "cell_type": "code",
   "execution_count": 11,
   "metadata": {},
   "outputs": [
    {
     "data": {
      "text/plain": [
       "True"
      ]
     },
     "execution_count": 11,
     "metadata": {},
     "output_type": "execute_result"
    }
   ],
   "source": [
    "issubclass(OddContainer, Container)"
   ]
  },
  {
   "cell_type": "markdown",
   "metadata": {},
   "source": [
    "And that is why duck typing is way more awesome than classical\n",
    "polymorphism. We can create is a relationships without the overhead of\n",
    "writing the code to set up inheritance (or worse, multiple inheritance)."
   ]
  },
  {
   "cell_type": "code",
   "execution_count": 16,
   "metadata": {},
   "outputs": [
    {
     "data": {
      "text/plain": [
       "True"
      ]
     },
     "execution_count": 16,
     "metadata": {},
     "output_type": "execute_result"
    }
   ],
   "source": [
    "# False or False: not True or not True\n",
    "# Test 1: not True or not True"
   ]
  },
  {
   "cell_type": "markdown",
   "metadata": {},
   "source": [
    "- One cool thing about the __Container ABC__ is that any class that gets to implement it gets to use the __in__ _keyword_ for free. Infact __in__ is the syntactic sugar for __contains__ method."
   ]
  },
  {
   "cell_type": "code",
   "execution_count": 22,
   "metadata": {},
   "outputs": [
    {
     "name": "stdout",
     "output_type": "stream",
     "text": [
      "True\n",
      "True\n"
     ]
    }
   ],
   "source": [
    "print(1 in odd_container)\n",
    "print(odd_container.__contains__(1))"
   ]
  },
  {
   "cell_type": "code",
   "execution_count": 23,
   "metadata": {},
   "outputs": [
    {
     "name": "stdout",
     "output_type": "stream",
     "text": [
      "False\n",
      "True\n",
      "False\n"
     ]
    }
   ],
   "source": [
    "print(2 in odd_container)\n",
    "print(3 in odd_container)\n",
    "print('a_string' in odd_container)"
   ]
  },
  {
   "cell_type": "markdown",
   "metadata": {},
   "source": [
    "__Creating an abstract base class__\n",
    "\n",
    "The following contains python's most arcane concepts"
   ]
  },
  {
   "cell_type": "code",
   "execution_count": 3,
   "metadata": {},
   "outputs": [],
   "source": [
    "import abc"
   ]
  },
  {
   "cell_type": "code",
   "execution_count": 29,
   "metadata": {},
   "outputs": [],
   "source": [
    "class MediaLoader(metaclass=abc.ABCMeta):\n",
    "    \n",
    "    @abc.abstractmethod\n",
    "    def play(self):\n",
    "        pass\n",
    "    \n",
    "    @abc.abstractproperty\n",
    "    def ext(self):\n",
    "        pass\n",
    "    \n",
    "    @classmethod\n",
    "    def __subclasshook__(cls, C):\n",
    "        if cls is MediaLoader:\n",
    "            attrs = set(dir(C))\n",
    "            if set(cls.__abstractmethods__) <= attrs:\n",
    "                return True\n",
    "            \n",
    "        return NotImplemented"
   ]
  },
  {
   "cell_type": "markdown",
   "metadata": {},
   "source": [
    "- The ABCMeta metaclass provides superhero(or at least superclass) abilities. __@abc.abstractmethod__ and __@abc.abstractproperty__ construct are python decorators. By marking a method or property as being abstract. We are stating that any subclass of this class must implememnt that method or supply that property to be considered proper of the class.\n",
    "\n",
    "- __subclasshook__ method job is that _if any class supplies concrete implementations of the abstract attributes and methods, it should automatically be made a subclass of the Medialoader even though it did not inherit the Medialoader class_"
   ]
  },
  {
   "cell_type": "markdown",
   "metadata": {},
   "source": [
    "- See what happened when method and property with the decorators are'nt \n",
    " supplied"
   ]
  },
  {
   "cell_type": "code",
   "execution_count": 33,
   "metadata": {},
   "outputs": [],
   "source": [
    "class Wav(MediaLoader):\n",
    "    pass"
   ]
  },
  {
   "cell_type": "code",
   "execution_count": 31,
   "metadata": {},
   "outputs": [
    {
     "ename": "TypeError",
     "evalue": "Can't instantiate abstract class Wav with abstract methods ext, play",
     "output_type": "error",
     "traceback": [
      "\u001b[1;31m---------------------------------------------------------------------------\u001b[0m",
      "\u001b[1;31mTypeError\u001b[0m                                 Traceback (most recent call last)",
      "\u001b[1;32m<ipython-input-31-3bef4301f672>\u001b[0m in \u001b[0;36m<module>\u001b[1;34m\u001b[0m\n\u001b[1;32m----> 1\u001b[1;33m \u001b[0mx\u001b[0m \u001b[1;33m=\u001b[0m \u001b[0mWav\u001b[0m\u001b[1;33m(\u001b[0m\u001b[1;33m)\u001b[0m\u001b[1;33m\u001b[0m\u001b[1;33m\u001b[0m\u001b[0m\n\u001b[0m",
      "\u001b[1;31mTypeError\u001b[0m: Can't instantiate abstract class Wav with abstract methods ext, play"
     ]
    }
   ],
   "source": [
    "x = Wav()"
   ]
  },
  {
   "cell_type": "markdown",
   "metadata": {},
   "source": [
    "- See what happened when method and property with the decorators are \n",
    " supplied"
   ]
  },
  {
   "cell_type": "code",
   "execution_count": 58,
   "metadata": {},
   "outputs": [],
   "source": [
    "class Ogg(MediaLoader):\n",
    "    ext = '.ogg'\n",
    "\n",
    "    \n",
    "    def play(self):\n",
    "        pass"
   ]
  },
  {
   "cell_type": "code",
   "execution_count": 40,
   "metadata": {},
   "outputs": [],
   "source": [
    "x = Ogg() # Works fine as the method and property in the superclass are \n",
    "          # supplied"
   ]
  },
  {
   "cell_type": "markdown",
   "metadata": {},
   "source": [
    "- _Wav_ class fails instantiate as abstract attributes and methods are not implemented . However, _Ogg_ instantiates well as the attributes and methods are supplied."
   ]
  },
  {
   "cell_type": "markdown",
   "metadata": {},
   "source": [
    "More common object-oriented languages have a clear separation between\n",
    "the interface and the implementation of a class. For example, some\n",
    "languages provide an explicit interface keyword that allows us to define the\n",
    "methods that a class must have without any implementation. In such an\n",
    "environment, an abstract class is one that provides both an interface and a\n",
    "concrete implementation of some, but not all, methods. Any class can\n",
    "explicitly state that it implements a given interface.\n",
    "Python's ABCs help to supply the functionality of interfaces without\n",
    "compromising on the benefits of duck typing."
   ]
  },
  {
   "cell_type": "code",
   "execution_count": 44,
   "metadata": {},
   "outputs": [
    {
     "data": {
      "text/plain": [
       "42"
      ]
     },
     "execution_count": 44,
     "metadata": {},
     "output_type": "execute_result"
    }
   ],
   "source": [
    "len(set(dir(MediaLoader.__abstractmethods__)))"
   ]
  },
  {
   "cell_type": "code",
   "execution_count": 45,
   "metadata": {},
   "outputs": [
    {
     "data": {
      "text/plain": [
       "30"
      ]
     },
     "execution_count": 45,
     "metadata": {},
     "output_type": "execute_result"
    }
   ],
   "source": [
    "len(set(dir(MediaLoader)))"
   ]
  },
  {
   "cell_type": "code",
   "execution_count": 46,
   "metadata": {},
   "outputs": [
    {
     "data": {
      "text/plain": [
       "30"
      ]
     },
     "execution_count": 46,
     "metadata": {},
     "output_type": "execute_result"
    }
   ],
   "source": [
    "len(set(dir(Ogg)))"
   ]
  },
  {
   "cell_type": "code",
   "execution_count": 48,
   "metadata": {},
   "outputs": [
    {
     "data": {
      "text/plain": [
       "True"
      ]
     },
     "execution_count": 48,
     "metadata": {},
     "output_type": "execute_result"
    }
   ],
   "source": [
    "issubclass(Ogg, MediaLoader)"
   ]
  },
  {
   "cell_type": "code",
   "execution_count": 59,
   "metadata": {},
   "outputs": [
    {
     "data": {
      "text/plain": [
       "False"
      ]
     },
     "execution_count": 59,
     "metadata": {},
     "output_type": "execute_result"
    }
   ],
   "source": [
    "set(dir(MediaLoader.__abstractmethods__)) <= set(dir(Ogg))"
   ]
  },
  {
   "cell_type": "markdown",
   "metadata": {},
   "source": [
    "__Case Study__\n",
    "\n",
    "- Creating an automated grading system for programming assignement\n",
    "- the system shoulf have an interface for course writers to create assignments and should give useful error if it does not fulfill that interface\n",
    "- the writers need to be able to supply lessons and write custom answer checking code to ensure students got the answer right. They should also have access to students name to make content friendlier.\n",
    "- The grader should be able to keep track of which assignment the studentr is working on. Atudent might m ake several attempts at an assignment before they get it right. We wanna keep track of the attempts so the course authors can improve the content of the more difficult lessons.\n",
    "\n",
    "Lets define the interface that course authors will need to use. ideally it contains minimal code besides lesson content and answer checking code"
   ]
  },
  {
   "cell_type": "code",
   "execution_count": 14,
   "metadata": {},
   "outputs": [],
   "source": [
    "class IntroToPython:\n",
    "    def lesson(self):\n",
    "        return f'''Hello {self.student}. define two variables,\n",
    "        an integer named a with value 1 and a string named b with value\n",
    "        \"hello\"'''\n",
    "    \n",
    "    def check(self, code):\n",
    "        return code == \"a = 1\\nb = 'hello'\""
   ]
  },
  {
   "cell_type": "markdown",
   "metadata": {},
   "source": [
    "Lets make an ABC that defines this interface as follows:"
   ]
  },
  {
   "cell_type": "code",
   "execution_count": 15,
   "metadata": {},
   "outputs": [],
   "source": [
    "class Assignment(metaclass=abc.ABCMeta):\n",
    "    \n",
    "    @abc.abstractmethod\n",
    "    def lesson(self, student):\n",
    "        pass\n",
    "    \n",
    "    @abc.abstractmethod\n",
    "    def check(self, code):\n",
    "        pass\n",
    "    \n",
    "    @classmethod\n",
    "    def __subclasshook__(cls, C):\n",
    "        if cls is Assignment:\n",
    "            attrs = set(dir(C))\n",
    "            if set(cls.__abstractmethods__) <= attrs:\n",
    "                return True\n",
    "            \n",
    "        return NotImplemented"
   ]
  },
  {
   "cell_type": "markdown",
   "metadata": {},
   "source": [
    "- Lets check if the IntroToPython fulfills this interface"
   ]
  },
  {
   "cell_type": "code",
   "execution_count": 16,
   "metadata": {},
   "outputs": [
    {
     "data": {
      "text/plain": [
       "True"
      ]
     },
     "execution_count": 16,
     "metadata": {},
     "output_type": "execute_result"
    }
   ],
   "source": [
    "issubclass(IntroToPython, Assignment)"
   ]
  },
  {
   "cell_type": "markdown",
   "metadata": {},
   "source": [
    "- We can extend the Assignment class if we prefer as seen below"
   ]
  },
  {
   "cell_type": "code",
   "execution_count": 17,
   "metadata": {},
   "outputs": [],
   "source": [
    "class Statistics(Assignment):\n",
    "    def lesson(self):\n",
    "        return (\n",
    "            \"Good work so far, \"\n",
    "            + self.student\n",
    "            + \". Now calculate the average of the numbers \"\n",
    "            + \" 1, 5, 18, -3 and assign to a variable named 'avg'\"\n",
    "        )\n",
    "    \n",
    "    def check(self, code):\n",
    "        import statistics\n",
    "        \n",
    "        code = \"import statistics\\n\" + code\n",
    "        \n",
    "        local_vars = {}\n",
    "        global_vars = {}\n",
    "        exec(code, global_vars, local_vars)\n",
    "        \n",
    "        return local_vars.get('avg') == statistics.mean([1, 5, 18, -3])"
   ]
  },
  {
   "cell_type": "markdown",
   "metadata": {},
   "source": [
    "- Next we create a class that manages how many attempts the student has made at a given assignment"
   ]
  },
  {
   "cell_type": "code",
   "execution_count": 18,
   "metadata": {},
   "outputs": [],
   "source": [
    "class AssignmentGrader:\n",
    "    def __init__(self, student, AssignmentClass):\n",
    "        self.assignment = AssignmentClass()\n",
    "        self.assignment.student = student\n",
    "        self.attempts = 0\n",
    "        self.correct_attempts = 0\n",
    "        \n",
    "    def check(self, code):\n",
    "        self.attempts += 1\n",
    "        result = self.assignment.check(code)\n",
    "        if result:\n",
    "            self.correct_attempts += 1\n",
    "            \n",
    "        return result\n",
    "    \n",
    "    def lesson(self):\n",
    "        return self.assignment.lesson()"
   ]
  },
  {
   "cell_type": "markdown",
   "metadata": {},
   "source": [
    "This class uses composition instead of inheritance. At first glance, it may be nice to use _Assignment_ as superclass. That would eliminate the annoying _lesson_ method. It is also possible to put the logic in the _Assignment_ ABC. Lastly It would also be possible to have ABC inherit from this _AssignmentGrader_ class. This is the recommended approach, though this will defy our need to make the interface as simple as possible. \n",
    "\n",
    "__Finally,__ let us put together the _Grader_ class, which is responsible for managing which assignments are available and which one each student is currently working on. The most interesting part is the register method."
   ]
  },
  {
   "cell_type": "code",
   "execution_count": 19,
   "metadata": {},
   "outputs": [],
   "source": [
    "import uuid"
   ]
  },
  {
   "cell_type": "code",
   "execution_count": 20,
   "metadata": {},
   "outputs": [],
   "source": [
    "uuid?"
   ]
  },
  {
   "cell_type": "code",
   "execution_count": 24,
   "metadata": {},
   "outputs": [],
   "source": [
    "class Grader:\n",
    "    def __init__(self):\n",
    "        self.student_graders = {}\n",
    "        self.assignment_classes = {}\n",
    "        \n",
    "    def register(self, assignment_classes):\n",
    "        if not issubclass(assignment_classes, Assignment):\n",
    "            raise RuntimeError(\n",
    "                \"Your class does not have the right methods\"\n",
    "            )\n",
    "            \n",
    "        id_ = uuid.uuid4()\n",
    "        self.assignment_classes[id_] = assignment_classes\n",
    "        \n",
    "        return id_\n",
    "    \n",
    "    def start_assignment(self, student, id_):\n",
    "        self.student_graders[student] = \\\n",
    "                        AssignmentGrader(student, self.assignment_classes[id_])\n",
    "        \n",
    "    # Write proxy methods that get the lesson or check the code for whatever\n",
    "    # assignment the student is currently working on:\n",
    "    \n",
    "    def get_lesson(self, student):\n",
    "        assignment = self.student_graders[student]\n",
    "        return assignment.lesson()\n",
    "    \n",
    "    def check_assignment(self, student, code):\n",
    "        assignment = self.student_graders[student]\n",
    "        return assignment.check(code)\n",
    "    \n",
    "    # Finally, we give a method, that gives summary of a student's current \n",
    "    # assignment progress. It looks up the assignment object and creates a\n",
    "    # formatted string with all the information we have about that student\n",
    "    \n",
    "    def assignment_summary(self, student):\n",
    "        grader = self.student_graders[student]\n",
    "        return f\"\"\"\n",
    "        {student}'s attempts at {grader.assignment.__class__.__name__}':\n",
    "        \n",
    "        attempts: {grader.attempts}\n",
    "        correct: {grader.correct_attempts}\n",
    "        \n",
    "        passed: {grader.correct_attempts > 0}\n",
    "        \"\"\""
   ]
  },
  {
   "cell_type": "markdown",
   "metadata": {},
   "source": [
    "- Presumably, another object would then place the id_ from Grader class in a course syllabus of some sorts so students do the assignments in order. but we wont be doing this part of the project.\n",
    "\n",
    "__Next up__, we have _start_assignment_ function. which allows a student to start working on an assignment given the ID of that assignment.\n",
    "\n",
    "__Here's a bit of test code that shows all these objects connected together:__"
   ]
  },
  {
   "cell_type": "code",
   "execution_count": 25,
   "metadata": {},
   "outputs": [
    {
     "name": "stdout",
     "output_type": "stream",
     "text": [
      "Tammy's lessom: Hello Tammy. define two variables,\n",
      "        an integer named a with value 1 and a string named b with value\n",
      "        \"hello\"\n",
      "Tammy's check: False\n",
      "Tammy's other check: True\n",
      "\n",
      "        Tammy's attempts at IntroToPython':\n",
      "        \n",
      "        attempts: 2\n",
      "        correct: 1\n",
      "        \n",
      "        passed: True\n",
      "        \n"
     ]
    }
   ],
   "source": [
    "grader = Grader()\n",
    "itp_id = grader.register(IntroToPython)\n",
    "stat_id = grader.register(Statistics)\n",
    "\n",
    "grader.start_assignment(\"Tammy\", itp_id)\n",
    "print(\"Tammy's lessom:\", grader.get_lesson('Tammy'))\n",
    "print(\n",
    "    \"Tammy's check:\",\n",
    "    grader.check_assignment(\"Tammy\", \"a = 1 ; b = 'hello'\"),\n",
    ")\n",
    "\n",
    "print(\n",
    "    \"Tammy's other check:\",\n",
    "    grader.check_assignment(\"Tammy\", \"a = 1\\nb = 'hello'\"),\n",
    ")\n",
    "\n",
    "print(grader.assignment_summary(\"Tammy\"))"
   ]
  },
  {
   "cell_type": "code",
   "execution_count": null,
   "metadata": {},
   "outputs": [],
   "source": []
  }
 ],
 "metadata": {
  "kernelspec": {
   "display_name": "Python 3",
   "language": "python",
   "name": "python3"
  },
  "language_info": {
   "codemirror_mode": {
    "name": "ipython",
    "version": 3
   },
   "file_extension": ".py",
   "mimetype": "text/x-python",
   "name": "python",
   "nbconvert_exporter": "python",
   "pygments_lexer": "ipython3",
   "version": "3.7.6"
  }
 },
 "nbformat": 4,
 "nbformat_minor": 4
}
