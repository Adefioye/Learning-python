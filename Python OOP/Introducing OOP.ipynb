{
 "cells": [
  {
   "cell_type": "markdown",
   "metadata": {},
   "source": [
    "- What object-oriented means?\n",
    "- The diff btw object-oriented design and object-oriented programming\n",
    "- basic principles of object-oreinted design\n",
    "- Basic Unified Modeling Language (UML) and when it's evil"
   ]
  },
  {
   "cell_type": "markdown",
   "metadata": {},
   "source": [
    "In software development, objects are models of sths that can do certain things and have certain things done to them. Formally, Object is a collection of __data__ and associated __behaviors__.\n",
    "\n",
    "__Object-oriented__ simply means functionally oriented modeling objects. This is one of many ways of modeling complex systems. It is defined by describing a collection of interacting objects via their data and behaviors.\n",
    "\n",
    "__object-oriented-analysis(OOA)__: This is a process of looking at a problem, task or system and then identifying the objects and intercation between objects. Analysis stage is about __what needs to be done__. \n",
    "\n",
    "The output of the analysis stage is a set of requirements. If analysis stage is finished in one step. one would have turned a task such as I need a websiteinto a set of requirements. In software dev, the initial stages of analysis include interviewing customers, studying their processes and eliminating possibilities.\n",
    "\n",
    "__object-oriented-design(OOD)__: The design stage is used to transform a set of requirements into an implementation specification. The designer must name the objects, define the behaviors and formally specify which objects can activagte specific behaviors on other objects. the design stage is __about how things should be done__.\n",
    "\n",
    "The output of the design stage is the implementation specification. Finshing this stage brings about transformation of the set of requirements to set of classes and interfaces that could be implemented in any OOP language.\n",
    "\n",
    "__object-oriented-programming(OOP)__: This is the process of converting this perfectly-defined design into a working program that does exactly what the CEO originally requested.\n",
    "\n",
    "Classes are a kind of objects. They are like blueprints for creating an object.In OOP language, objects are instances of classes that can be asscoaited with each other. An object is a specific object with its own set of data and behaviors.\n",
    "\n",
    "Data represents individual characteristics of a certain object. Class can have sepcific sets of features that are shared by all objects from that class. Any specific object  can have different data values for the given characteristics."
   ]
  },
  {
   "cell_type": "markdown",
   "metadata": {},
   "source": [
    "__Hiding details and creating the public interface__\n",
    "\n",
    "The key purpose of modeling object in object-oriented design is to determine what the public interface of that object will be. The interface is a collection of attributes and methods that other objects use to interact with that object. They do not need, and are often not allowed, to access the internal workings of the object.\n",
    "\n",
    "The process of hiding the implementation of an object is called __information hiding__. It is also sometimes referred to as __encapsulation__. Encapsulation is an all-encompassing  term. Encapsulated data is not necessary hidden. Encapsulation is literally, creating a capsule. If it is locked and buried then it can be said to be encapsulated and hidden. However if the capsule is unlocked or made of clear plastic then it can be said to be encapsulated but there is no information hiding.\n",
    "\n",
    "Program objects may represent real objects but that does not make them real objects. They are just midels used for abstracting irrelevant details. The model is an __abstraction__ of the real object.\n",
    "\n",
    "__Abstraction__ is a certain level of detail that is necessary to perform a given task. Abstraction could also mean the encapsulation of information with separate public and private interfaces. The prvate interfaces can be subjected to information hiding. Efforts should be made to make the model understandable to other objects that have to interact with them"
   ]
  },
  {
   "cell_type": "markdown",
   "metadata": {},
   "source": [
    "__Composition__\n",
    "\n",
    "We have design systems as a group of intercating objects where each interaction involves viewing objects at an apt level of abstraction. How do we create these levels of abstraction? There are a variety of them. Advanced ones are _string and serialization_ **and** _iterator pattern_. However, most design patterns rely on 2 basic object-oriented principles known as __composition and inheritance__.  \n",
    "\n",
    "Composition is the act of combining several objects to create a new one. Composition is usally a good choice when one object is part of another. A car is a common inreoductory example of composition, but it's not overly usefu; when it comes.\n",
    "\n",
    "__Abstract class__ with a _move method_ declared __abstract__. ABstract methods typically say this:\n",
    "\n",
    "__We demand this method exist in any non-abstract subclass, but we are declining to specify an implementation in this class.__\n",
    "\n",
    "__Interfaces__ are classes that do not implement any methods at all. Such classes would simply tell us what to do without provding any advice/way on how do to it.\n",
    "\n",
    "__Polymorphism__ is the ability to treat a class differently depending on which subclass is implemented. \n",
    "\n",
    "What is __duck-typing__ as a type of polymorphism?\n",
    "\n",
    "Duck-typing allows future designers to create new types of birds without actually specifying an inheritance hierarchy for aquatic birds. It also allows them to create completely\n",
    "different drop-in behaviors that the original designers never planned for. For\n",
    "example, future designers might be able to make a walking, swimming\n",
    "penguin that works with the same interface without ever suggesting that\n",
    "penguins are ducks."
   ]
  },
  {
   "cell_type": "code",
   "execution_count": null,
   "metadata": {},
   "outputs": [],
   "source": [
    "class Point:\n",
    "    def reset(self):\n",
    "        self.x = 0\n",
    "        self.y = 0"
   ]
  },
  {
   "cell_type": "code",
   "execution_count": null,
   "metadata": {},
   "outputs": [],
   "source": [
    "p = Point()\n",
    "p.reset()"
   ]
  },
  {
   "cell_type": "code",
   "execution_count": null,
   "metadata": {},
   "outputs": [],
   "source": [
    "print(p.x, p.y)"
   ]
  },
  {
   "cell_type": "code",
   "execution_count": null,
   "metadata": {},
   "outputs": [],
   "source": [
    "# IF self keyword is ommited in the method definition, error message occurs\n",
    "\n",
    "class Point:\n",
    "    def reset():\n",
    "        pass    "
   ]
  },
  {
   "cell_type": "code",
   "execution_count": null,
   "metadata": {},
   "outputs": [],
   "source": [
    "#  Even though error message not clear, whenever there is message\n",
    "# has missing args, first check should be whether there is a \n",
    "# a \"self\" keyword in the method\n",
    "p = Point()\n",
    "print(p.reset()) "
   ]
  },
  {
   "cell_type": "markdown",
   "metadata": {},
   "source": [
    "__More arguments__"
   ]
  },
  {
   "cell_type": "code",
   "execution_count": null,
   "metadata": {},
   "outputs": [],
   "source": [
    "import math\n",
    "\n",
    "class Point:\n",
    "    def move(self, x, y):\n",
    "        self.x = x\n",
    "        self.y = y\n",
    "        \n",
    "    def reset(self):\n",
    "        self.move(0,0)\n",
    "        \n",
    "    def calculate_distance(self, other_point):\n",
    "        return math.sqrt(\n",
    "        (self.x - other_point.x) ** 2\n",
    "        + (self.y - other_point.y) **2\n",
    "        )\n",
    "    "
   ]
  },
  {
   "cell_type": "code",
   "execution_count": null,
   "metadata": {},
   "outputs": [],
   "source": [
    "point1 = Point()\n",
    "point2 = Point()"
   ]
  },
  {
   "cell_type": "code",
   "execution_count": null,
   "metadata": {},
   "outputs": [],
   "source": [
    "point1.reset()\n",
    "point2.move(5, 0)\n",
    "print(point2.calculate_distance(point1))"
   ]
  },
  {
   "cell_type": "code",
   "execution_count": null,
   "metadata": {},
   "outputs": [],
   "source": [
    "# assert will bail (brings an error message), if it evaluates to FALSE\n",
    "\n",
    "assert point2.calculate_distance(point1) == point1.calculate_distance(point2)"
   ]
  },
  {
   "cell_type": "code",
   "execution_count": null,
   "metadata": {},
   "outputs": [],
   "source": [
    "point1.move(3, 4)\n",
    "print(point1.calculate_distance(point2))\n",
    "print(point1.calculate_distance(point1))"
   ]
  },
  {
   "cell_type": "code",
   "execution_count": null,
   "metadata": {},
   "outputs": [],
   "source": [
    "assert?"
   ]
  },
  {
   "cell_type": "code",
   "execution_count": null,
   "metadata": {},
   "outputs": [],
   "source": [
    "abx *"
   ]
  },
  {
   "cell_type": "markdown",
   "metadata": {},
   "source": [
    "__Initializing object__\n",
    "\n",
    "OOP language has a concept of a constructor, a special method for creating and initializing objects. Python is a little different, it has a constructor and an initializer. The constructor function is rarely used, unless you're doing sth very exotic. \n",
    "\n",
    "Let's start with the initialization method using dunder __init__ method.\n",
    "\n",
    "- N:B --> No method should be created with the __leading and trailing double underscore__. Even if the python designers have not used the name yet, it may be used in the future and the code will break. \n",
    "\n",
    "The python constructor is the $__new__$ method. It acepts the __class__ that is being constructed. It takes no __self__ argument. It also has to return the newly created object. This special method is rarely used in day-to-day python programming. However, it has interesting possibilities when it comes to the complicated art of __metaprogramming__."
   ]
  },
  {
   "cell_type": "code",
   "execution_count": null,
   "metadata": {},
   "outputs": [],
   "source": [
    "class Point:\n",
    "    def __init__(self, x, y):\n",
    "        self.move(x, y)\n",
    "        \n",
    "    def move(self, x, y):\n",
    "        self.x = x\n",
    "        self.y = y\n",
    "        \n",
    "    def reset(self):\n",
    "        self.move(0, 0)\n",
    "        \n"
   ]
  },
  {
   "cell_type": "code",
   "execution_count": null,
   "metadata": {},
   "outputs": [],
   "source": [
    "# Constructing a point\n",
    "\n",
    "point = Point(3, 5)\n",
    "print(point.x, point.y)"
   ]
  },
  {
   "cell_type": "code",
   "execution_count": null,
   "metadata": {},
   "outputs": [],
   "source": [
    "# If we pass only one parameter. The interpreter will bail\n",
    "\n",
    "point = Point(3)\n",
    "print(point.x, point.y) # Not enough args (missing argument)"
   ]
  },
  {
   "cell_type": "code",
   "execution_count": null,
   "metadata": {},
   "outputs": [],
   "source": [
    "# IF all args not passed but keyword args set to 0, there will be no error\n",
    "# value would default to zero\n",
    "\n",
    "class Point:\n",
    "    def __init__(self, x=0, y=0):\n",
    "        self.move(x, y)\n",
    "    \n",
    "    def move(self, x, y):\n",
    "        self.x = x\n",
    "        self.y = y\n",
    "        \n",
    "    def reset(self):\n",
    "        self.move(0, 0)"
   ]
  },
  {
   "cell_type": "code",
   "execution_count": null,
   "metadata": {},
   "outputs": [],
   "source": [
    "point = Point(3)\n",
    "print(point.x, point.y)"
   ]
  },
  {
   "cell_type": "markdown",
   "metadata": {},
   "source": [
    "__Explaining yourself__\n",
    "\n",
    "When objects like classes, functions and methods are created, __docstrings__ can be used to summarize the usefulness of the objects while also using the time to explain any __parameters/arguments__ that are not immediately obvious to the user."
   ]
  },
  {
   "cell_type": "code",
   "execution_count": null,
   "metadata": {},
   "outputs": [],
   "source": [
    "import math\n",
    "\n",
    "class Point:\n",
    "    'Represents a point in 2-D geomertic coordinates'\n",
    "    \n",
    "    def __init__(self, x=0, y=0):\n",
    "        '''Initialize the position of a new point. The x and y coordinates\n",
    "        can be specified. If they are not, the point defaults to the origin.\n",
    "        '''\n",
    "        self.move(x, y)\n",
    "        \n",
    "    def move(self, x, y):\n",
    "        'Move the point to a new location in 2D space'\n",
    "        self.x = x\n",
    "        self.y = y\n",
    "        \n",
    "    def reset(self):\n",
    "        'Reset the point back to the geometric origin: 0, 0'\n",
    "        self.move(0, 0)\n",
    "        \n",
    "    def calculate_distance(self, other_point):\n",
    "        '''Calculate the distance from this point to a second point passed as\n",
    "        a parameter.\n",
    "        \n",
    "        This function uses the pythogoras theorem to calculate the distnace \n",
    "        between the two points. The distance is returned as a float\n",
    "        '''\n",
    "        return math.sqrt(\n",
    "        (self.x - other_point.x) ** 2\n",
    "        + (self.y - other_point.y) **2\n",
    "        )\n",
    "    \n",
    "        "
   ]
  },
  {
   "cell_type": "code",
   "execution_count": null,
   "metadata": {},
   "outputs": [],
   "source": [
    "help(Point) # This prints out a nice documentation of the class object and\n",
    "            # its methods"
   ]
  },
  {
   "cell_type": "markdown",
   "metadata": {},
   "source": [
    "__Modules and Packages__"
   ]
  },
  {
   "cell_type": "markdown",
   "metadata": {},
   "source": [
    "Modules are simply python files with .py extension. Two python files is the same as two __modules__. It is possible to use classes and functions in one module in another module using the __import__ keyword.\n",
    "\n",
    "Examples would be illustrated using two modules database.py and products.py.\n",
    "database.py has a Database class where products can be queried from from the products.py module.\n",
    "\n",
    "- To import Database class into the products namespace for database query.\n",
    "\n",
    "import database\n",
    "db = database.Database() # Do queries on db\n",
    "\n",
    "- To import just the Database class.\n",
    "\n",
    "from database import Database\n",
    "db = Database() # Do queries on db\n",
    "\n",
    "- If the product.py has a class Database and we do not wanna confuse them for each other. The below is used\n",
    "\n",
    "from database import Database as DB\n",
    "db = DB()\n",
    "\n",
    "- Multiple items can also be imported in one statement. If there is a __Query__ class in database.py. Database and Query class can both be imported\n",
    "\n",
    "from database import Database, Query\n",
    "\n",
    "- Some sources also say that import all classes and functions from database module.\n",
    "\n",
    "from database import *\n",
    "\n",
    "__N.B__: Some expert python programmers warn rookies to avoid using this syntax. This is because it makes it difficult to access the location of an object in a file if issue arises. Also, using this syntax brings about the importation of all classes and functions from a file into our local namespace and at the same time, it also imports other classes and functions that are themselves imported into that file.\n",
    "\n"
   ]
  },
  {
   "cell_type": "code",
   "execution_count": null,
   "metadata": {},
   "outputs": [],
   "source": [
    "import this"
   ]
  },
  {
   "cell_type": "markdown",
   "metadata": {},
   "source": [
    "__Name mangling__ is a way of making attributes and methods accessible within the classes but inaccessible outside the classes"
   ]
  },
  {
   "cell_type": "code",
   "execution_count": null,
   "metadata": {},
   "outputs": [],
   "source": [
    "class SecretString:\n",
    "    '''A not-at-all secure way ofto store a secret string.'''\n",
    "    \n",
    "    def __init__(self, plain_string, pass_phrase):\n",
    "        self.__plain_string = plain_string\n",
    "        self.__pass_phrase = pass_phrase\n",
    "        \n",
    "    def decrypt(self, pass_phrase):\n",
    "        '''Only show the string if the pass_phrase is correct'''\n",
    "        if pass_phrase == self.__pass_phrase:\n",
    "            return self.__plain_string\n",
    "        else:\n",
    "            return ''"
   ]
  },
  {
   "cell_type": "code",
   "execution_count": null,
   "metadata": {},
   "outputs": [],
   "source": [
    "secret_string = SecretString('ACME: Top Secret', 'antwerp')\n",
    "print(secret_string.decrypt('antwerp'))"
   ]
  },
  {
   "cell_type": "code",
   "execution_count": null,
   "metadata": {},
   "outputs": [],
   "source": [
    "# Accessing plain_string externally results in error\n",
    "# print(secret_string.plain_string)\n",
    "print(secret_string.__plain_string)"
   ]
  },
  {
   "cell_type": "code",
   "execution_count": null,
   "metadata": {},
   "outputs": [],
   "source": [
    "# It may appear secure but it is not, It can be accesses using special method\n",
    "print(secret_string._SecretString__plain_string)"
   ]
  },
  {
   "cell_type": "markdown",
   "metadata": {},
   "source": [
    "- Having mini python installation in a working directory is called a virtual environment"
   ]
  },
  {
   "attachments": {
    "image.png": {
     "image/png": "[encoded data removed]"
    }
   },
   "cell_type": "markdown",
   "metadata": {},
   "source": [
    "Cteate a class for Notebook and Note with this feature\n",
    "\n",
    "![image.png](attachment:image.png)"
   ]
  },
  {
   "cell_type": "code",
   "execution_count": 1,
   "metadata": {},
   "outputs": [],
   "source": [
    "# Define Note class\n",
    "\n",
    "import datetime\n",
    "\n",
    "# Store next available id for all new notes\n",
    "last_id = 0\n",
    "\n",
    "class Note:\n",
    "    '''Represent a note in the notebook. Match against a string in searches\n",
    "    and store tags for each note'''\n",
    "    \n",
    "    def __init__(self, memo, tags=\"\"):\n",
    "        '''Initializes note with a memo and optional space-separated tags. \n",
    "        Automatically set the note\\'s creation date and a unique id'''\n",
    "        self.memo = memo\n",
    "        self.tags = tags\n",
    "        self.creation_date = datetime.date.today()\n",
    "        global last_id\n",
    "        last_id += 1\n",
    "        self.id = last_id\n",
    "        \n",
    "    def match(self, filter_):\n",
    "        '''Determine if the note matches the filter text. Return True if it\n",
    "        matches, False otherwise.\n",
    "        \n",
    "        Search is case-sensitive and matches both text and tags'''\n",
    "        \n",
    "        return filter_ in self.memo or filter_ in self.tags"
   ]
  },
  {
   "cell_type": "code",
   "execution_count": 2,
   "metadata": {},
   "outputs": [
    {
     "name": "stdout",
     "output_type": "stream",
     "text": [
      "n1.id: 1\n",
      "n2.id: 2\n"
     ]
    }
   ],
   "source": [
    "n1 = Note('hello first')\n",
    "n2 = Note('hello again')\n",
    "\n",
    "print('n1.id:', n1.id)\n",
    "print('n2.id:', n2.id)"
   ]
  },
  {
   "cell_type": "code",
   "execution_count": 3,
   "metadata": {},
   "outputs": [
    {
     "name": "stdout",
     "output_type": "stream",
     "text": [
      "True\n",
      "False\n"
     ]
    }
   ],
   "source": [
    "print(n1.match('hello'))\n",
    "print(n2.match('second'))"
   ]
  },
  {
   "cell_type": "code",
   "execution_count": null,
   "metadata": {},
   "outputs": [],
   "source": [
    "# Craete Notebook class\n",
    "\n",
    "# class Notebook:\n",
    "#     '''Represent a collection of notes that can be tagged, modified, and \n",
    "#     searched.'''\n",
    "    \n",
    "#     def __init__(self):\n",
    "#         '''initialize a notebook with an empty list.'''\n",
    "#         self.notes = []\n",
    "        \n",
    "#     def new_note(self, memo, tags=''):\n",
    "#         '''Create a new note and add it to the list.'''\n",
    "#         self.notes.append(Note(memo, tags))\n",
    "        \n",
    "#     def modify_memo(self, note_id, memo):\n",
    "#         '''Find the note with the given id and change its memo to the given\n",
    "#         value.'''\n",
    "#         for note in self.notes:\n",
    "#             if note.id == note_id:\n",
    "#                 note.memo = memo\n",
    "#                 break\n",
    "                \n",
    "#     def modify_tags(self, note_id, tags):\n",
    "#         '''Find the note with the given id and change its tags to the given\n",
    "#         value'''\n",
    "#         for note in self.notes:\n",
    "#             if note.id == note_id:\n",
    "#                 note.tags = tags\n",
    "#                 break\n",
    "                \n",
    "#     def search(self, filter_):\n",
    "#         '''Find all notes that macth the given filter string.'''\n",
    "#         return [note for note in self.notes if note.match(filter_)]"
   ]
  },
  {
   "cell_type": "code",
   "execution_count": 2,
   "metadata": {},
   "outputs": [],
   "source": [
    "class Notebook:\n",
    "    '''Represent a collection of notes that can be tagged, modified, and \n",
    "    searched.'''\n",
    "    \n",
    "    def __init__(self):\n",
    "        '''initialize a notebook with an empty list.'''\n",
    "        self.notes = []\n",
    "        \n",
    "    def new_note(self, memo, tags=''):\n",
    "        '''Create a new note and add it to the list.'''\n",
    "        self.notes.append(Note(memo, tags))\n",
    "        \n",
    "    def _find_note(self, note_id):\n",
    "        '''Locate the note with the given id.'''\n",
    "        for note in self.notes:\n",
    "            if str(note.id) == str(note_id):\n",
    "                return note\n",
    "        return None\n",
    "    \n",
    "    def modify_memo(self, note_id, memo):\n",
    "        '''Find the note with the given id and change its memo to the given\n",
    "        value.'''\n",
    "        self._find_note(note_id).memo = memo\n",
    "        \n",
    "    def modify_tags(self, note_id, tags):\n",
    "        '''Find the note with the given id and change its tags to the given\n",
    "        value.'''\n",
    "        self._find_note(note_id).tags = tags\n",
    "\n",
    "    def search(self, filter_):\n",
    "        '''Find all notes that macth the given filter string.'''\n",
    "        return [note for note in self.notes if note.match(filter_)]"
   ]
  },
  {
   "cell_type": "code",
   "execution_count": 5,
   "metadata": {},
   "outputs": [],
   "source": [
    "# del n"
   ]
  },
  {
   "cell_type": "code",
   "execution_count": 6,
   "metadata": {},
   "outputs": [
    {
     "name": "stdout",
     "output_type": "stream",
     "text": [
      "[<__main__.Note object at 0x000001D31BB602C8>, <__main__.Note object at 0x000001D31BB60508>]\n"
     ]
    }
   ],
   "source": [
    "# Lets test the code above\n",
    "\n",
    "n = Notebook()\n",
    "\n",
    "# Add Note with memo to Notebook\n",
    "n.new_note('hello world')\n",
    "n.new_note('hello again')\n",
    "\n",
    "print(n.notes)"
   ]
  },
  {
   "cell_type": "code",
   "execution_count": 7,
   "metadata": {},
   "outputs": [
    {
     "name": "stdout",
     "output_type": "stream",
     "text": [
      "3\n",
      "4\n"
     ]
    }
   ],
   "source": [
    "print(n.notes[0].id)\n",
    "print(n.notes[1].id)"
   ]
  },
  {
   "cell_type": "code",
   "execution_count": 8,
   "metadata": {},
   "outputs": [
    {
     "name": "stdout",
     "output_type": "stream",
     "text": [
      "hello world\n",
      "hello again\n"
     ]
    }
   ],
   "source": [
    "print(n.notes[0].memo)\n",
    "print(n.notes[1].memo)"
   ]
  },
  {
   "cell_type": "code",
   "execution_count": 9,
   "metadata": {},
   "outputs": [
    {
     "name": "stdout",
     "output_type": "stream",
     "text": [
      "Notebooks with 'hello' word: [<__main__.Note object at 0x000001D31BB602C8>, <__main__.Note object at 0x000001D31BB60508>]\n",
      "##################################################\n",
      "Notebooks with 'world' word: [<__main__.Note object at 0x000001D31BB602C8>]\n"
     ]
    }
   ],
   "source": [
    "print(\"Notebooks with 'hello' word:\", n.search('hello'))\n",
    "print('#'*50)\n",
    "print(\"Notebooks with 'world' word:\", n.search('world'))"
   ]
  },
  {
   "cell_type": "code",
   "execution_count": 10,
   "metadata": {},
   "outputs": [],
   "source": [
    "# Modify note in notebook\n",
    "n.modify_memo(3, 'hi world')"
   ]
  },
  {
   "cell_type": "code",
   "execution_count": 11,
   "metadata": {},
   "outputs": [
    {
     "name": "stdout",
     "output_type": "stream",
     "text": [
      "hi world\n"
     ]
    }
   ],
   "source": [
    "print(n.notes[0].memo) # Was implemented"
   ]
  },
  {
   "cell_type": "markdown",
   "metadata": {},
   "source": [
    "- The modify_memo and modify_tags are almost identical. This is not good coding practice. So let us refine the code with find_note method with a prefix underscore. "
   ]
  },
  {
   "cell_type": "code",
   "execution_count": 3,
   "metadata": {},
   "outputs": [],
   "source": [
    "import sys"
   ]
  },
  {
   "cell_type": "code",
   "execution_count": 4,
   "metadata": {},
   "outputs": [],
   "source": [
    "class Menu:\n",
    "    '''Display a menu and respond to choices when run'''\n",
    "    \n",
    "    def __init__(self):\n",
    "        \n",
    "        self.notebook = Notebook()\n",
    "        self.choices = {\n",
    "            '1': self.show_notes,\n",
    "            '2': self.search_notes,\n",
    "            '3': self.add_note,\n",
    "            '4': self.modify_note,\n",
    "            '5': self.quit,\n",
    "        }\n",
    "        \n",
    "    def display_menu(self):\n",
    "        print (\n",
    "            '''\n",
    "            \n",
    "Notebook Menu\n",
    "\n",
    "1. Show all Notes\n",
    "2. Search Notes\n",
    "3. Add note\n",
    "4. Modify Note\n",
    "5. Quit\n",
    "\n",
    "'''\n",
    "        )\n",
    "        \n",
    "    def run(self):\n",
    "        '''Display the menu and respond to choices.'''\n",
    "        while True:\n",
    "            self.display_menu()\n",
    "            choice = input('Enter an option: ')\n",
    "            action = self.choices.get(choice)\n",
    "            if action:\n",
    "                action()\n",
    "            else:\n",
    "                print('{} is not a valid choice'.format(choice))\n",
    "                \n",
    "    def show_notes(self, notes=None):\n",
    "        if not notes:\n",
    "            notes = self.notebook.notes\n",
    "        for note in notes:\n",
    "            print('{0}: {1}\\n{2}'.format(note.id, note.tags, note.memo))\n",
    "            \n",
    "    def search_notes(self):\n",
    "        filter_ = input('Search for: ')\n",
    "        notes = self.notebook.search(filter_)\n",
    "        self.show_notes(notes)\n",
    "        \n",
    "    def add_note(self):\n",
    "        memo = input('Enter a memo: ')\n",
    "        self.notebook.new_note(memo)\n",
    "        print('Your note has been added.')\n",
    "        \n",
    "    def modify_note(self):\n",
    "        id_ = input('Enter a note id: ')\n",
    "        memo = input('Enter a memo: ')\n",
    "        tags = input('Enter tags: ')\n",
    "        if memo:\n",
    "            self.notebook.modify_memo(id_, memo)\n",
    "        if tags:\n",
    "            self.notebook.modify_tags(id_, memo)\n",
    "            \n",
    "    def quit(self):\n",
    "        print('Thank you for using your notebook today.')\n",
    "        sys.exit(0)"
   ]
  },
  {
   "cell_type": "code",
   "execution_count": 5,
   "metadata": {},
   "outputs": [],
   "source": [
    "interface = Menu()"
   ]
  },
  {
   "cell_type": "code",
   "execution_count": null,
   "metadata": {},
   "outputs": [
    {
     "name": "stdout",
     "output_type": "stream",
     "text": [
      "\n",
      "            \n",
      "Notebook Menu\n",
      "\n",
      "1. Show all Notes\n",
      "2. Search Notes\n",
      "3. Add note\n",
      "4. Modify Note\n",
      "5. Quit\n",
      "\n",
      "\n",
      "Enter an option: 3\n",
      "Enter a memo: hi world\n",
      "Your note has been added.\n",
      "\n",
      "            \n",
      "Notebook Menu\n",
      "\n",
      "1. Show all Notes\n",
      "2. Search Notes\n",
      "3. Add note\n",
      "4. Modify Note\n",
      "5. Quit\n",
      "\n",
      "\n",
      "Enter an option: 1\n",
      "1: \n",
      "hi world\n",
      "\n",
      "            \n",
      "Notebook Menu\n",
      "\n",
      "1. Show all Notes\n",
      "2. Search Notes\n",
      "3. Add note\n",
      "4. Modify Note\n",
      "5. Quit\n",
      "\n",
      "\n",
      "Enter an option: 4\n",
      "Enter a note id: 1\n",
      "Enter a memo: hello world\n",
      "Enter tags: \n",
      "\n",
      "            \n",
      "Notebook Menu\n",
      "\n",
      "1. Show all Notes\n",
      "2. Search Notes\n",
      "3. Add note\n",
      "4. Modify Note\n",
      "5. Quit\n",
      "\n",
      "\n",
      "Enter an option: 1\n",
      "1: \n",
      "hello world\n",
      "\n",
      "            \n",
      "Notebook Menu\n",
      "\n",
      "1. Show all Notes\n",
      "2. Search Notes\n",
      "3. Add note\n",
      "4. Modify Note\n",
      "5. Quit\n",
      "\n",
      "\n"
     ]
    }
   ],
   "source": [
    "interface.run()"
   ]
  },
  {
   "cell_type": "markdown",
   "metadata": {},
   "source": [
    "- Notebook crashes when we enter a note ID that does not exist. We should never trust our users to enter correct data!\n",
    "- Even if we enter correct ID, it will crash because the note IDs are integers, but our menu is passing a string.\n",
    "\n",
    "The later can be fixed using strings instead of integers stored in the note"
   ]
  },
  {
   "cell_type": "code",
   "execution_count": null,
   "metadata": {},
   "outputs": [],
   "source": []
  }
 ],
 "metadata": {
  "kernelspec": {
   "display_name": "Python 3",
   "language": "python",
   "name": "python3"
  },
  "language_info": {
   "codemirror_mode": {
    "name": "ipython",
    "version": 3
   },
   "file_extension": ".py",
   "mimetype": "text/x-python",
   "name": "python",
   "nbconvert_exporter": "python",
   "pygments_lexer": "ipython3",
   "version": "3.7.6"
  }
 },
 "nbformat": 4,
 "nbformat_minor": 4
}
