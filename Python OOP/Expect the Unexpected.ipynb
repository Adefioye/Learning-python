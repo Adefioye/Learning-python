{
 "cells": [
  {
   "cell_type": "markdown",
   "metadata": {},
   "source": [
    "In this part, we will do the following:\n",
    "\n",
    "- How to cause an exception to occur\n",
    "- How to recover when an exception has occurred\n",
    "- How to handle different exception types in different ways\n",
    "- Cleaning up when an exception has occurred\n",
    "- Creating new types of exception\n",
    "- Using the exception syntax for flow control"
   ]
  },
  {
   "cell_type": "markdown",
   "metadata": {},
   "source": [
    "__Raising Exceptions__"
   ]
  },
  {
   "cell_type": "markdown",
   "metadata": {},
   "source": [
    "Error and Exceptions are used interchangeably. They are python objects(classes). All Exceptions in python have a common class called the __BaseException__. Also, the built-in common errors/exceptions extend the capapbilities of the _BaseException_ __superclass__."
   ]
  },
  {
   "cell_type": "markdown",
   "metadata": {},
   "source": [
    "- Lets look atvan example that adds item to a list only if they are even"
   ]
  },
  {
   "cell_type": "code",
   "execution_count": 1,
   "metadata": {},
   "outputs": [],
   "source": [
    "class EvenOnly(list):\n",
    "    def append(self, integer):\n",
    "        if not isinstance(integer, int):\n",
    "            raise TypeError('Only integer can be added')\n",
    "            \n",
    "        if integer % 2:\n",
    "            raise ValueError(\"Only even numbers can be added\")\n",
    "            \n",
    "        super().append(integer)"
   ]
  },
  {
   "cell_type": "markdown",
   "metadata": {},
   "source": [
    "- Lets test the class to be ssure its printing out meaningful output"
   ]
  },
  {
   "cell_type": "code",
   "execution_count": 2,
   "metadata": {},
   "outputs": [
    {
     "ename": "TypeError",
     "evalue": "Only integer can be added",
     "output_type": "error",
     "traceback": [
      "\u001b[1;31m---------------------------------------------------------------------------\u001b[0m",
      "\u001b[1;31mTypeError\u001b[0m                                 Traceback (most recent call last)",
      "\u001b[1;32m<ipython-input-2-c2a9ac2ede5b>\u001b[0m in \u001b[0;36m<module>\u001b[1;34m\u001b[0m\n\u001b[0;32m      1\u001b[0m \u001b[0me\u001b[0m \u001b[1;33m=\u001b[0m \u001b[0mEvenOnly\u001b[0m\u001b[1;33m(\u001b[0m\u001b[1;33m)\u001b[0m\u001b[1;33m\u001b[0m\u001b[1;33m\u001b[0m\u001b[0m\n\u001b[1;32m----> 2\u001b[1;33m \u001b[0mprint\u001b[0m\u001b[1;33m(\u001b[0m\u001b[0me\u001b[0m\u001b[1;33m.\u001b[0m\u001b[0mappend\u001b[0m\u001b[1;33m(\u001b[0m\u001b[1;34m'a string'\u001b[0m\u001b[1;33m)\u001b[0m\u001b[1;33m)\u001b[0m\u001b[1;33m\u001b[0m\u001b[1;33m\u001b[0m\u001b[0m\n\u001b[0m",
      "\u001b[1;32m<ipython-input-1-5a3a2678c58a>\u001b[0m in \u001b[0;36mappend\u001b[1;34m(self, integer)\u001b[0m\n\u001b[0;32m      2\u001b[0m     \u001b[1;32mdef\u001b[0m \u001b[0mappend\u001b[0m\u001b[1;33m(\u001b[0m\u001b[0mself\u001b[0m\u001b[1;33m,\u001b[0m \u001b[0minteger\u001b[0m\u001b[1;33m)\u001b[0m\u001b[1;33m:\u001b[0m\u001b[1;33m\u001b[0m\u001b[1;33m\u001b[0m\u001b[0m\n\u001b[0;32m      3\u001b[0m         \u001b[1;32mif\u001b[0m \u001b[1;32mnot\u001b[0m \u001b[0misinstance\u001b[0m\u001b[1;33m(\u001b[0m\u001b[0minteger\u001b[0m\u001b[1;33m,\u001b[0m \u001b[0mint\u001b[0m\u001b[1;33m)\u001b[0m\u001b[1;33m:\u001b[0m\u001b[1;33m\u001b[0m\u001b[1;33m\u001b[0m\u001b[0m\n\u001b[1;32m----> 4\u001b[1;33m             \u001b[1;32mraise\u001b[0m \u001b[0mTypeError\u001b[0m\u001b[1;33m(\u001b[0m\u001b[1;34m'Only integer can be added'\u001b[0m\u001b[1;33m)\u001b[0m\u001b[1;33m\u001b[0m\u001b[1;33m\u001b[0m\u001b[0m\n\u001b[0m\u001b[0;32m      5\u001b[0m \u001b[1;33m\u001b[0m\u001b[0m\n\u001b[0;32m      6\u001b[0m         \u001b[1;32mif\u001b[0m \u001b[0minteger\u001b[0m \u001b[1;33m%\u001b[0m \u001b[1;36m2\u001b[0m\u001b[1;33m:\u001b[0m\u001b[1;33m\u001b[0m\u001b[1;33m\u001b[0m\u001b[0m\n",
      "\u001b[1;31mTypeError\u001b[0m: Only integer can be added"
     ]
    }
   ],
   "source": [
    "e = EvenOnly()\n",
    "print(e.append('a string'))"
   ]
  },
  {
   "cell_type": "code",
   "execution_count": 3,
   "metadata": {},
   "outputs": [
    {
     "ename": "ValueError",
     "evalue": "Only even numbers can be added",
     "output_type": "error",
     "traceback": [
      "\u001b[1;31m---------------------------------------------------------------------------\u001b[0m",
      "\u001b[1;31mValueError\u001b[0m                                Traceback (most recent call last)",
      "\u001b[1;32m<ipython-input-3-488046b52890>\u001b[0m in \u001b[0;36m<module>\u001b[1;34m\u001b[0m\n\u001b[1;32m----> 1\u001b[1;33m \u001b[0mprint\u001b[0m\u001b[1;33m(\u001b[0m\u001b[0me\u001b[0m\u001b[1;33m.\u001b[0m\u001b[0mappend\u001b[0m\u001b[1;33m(\u001b[0m\u001b[1;36m3\u001b[0m\u001b[1;33m)\u001b[0m\u001b[1;33m)\u001b[0m\u001b[1;33m\u001b[0m\u001b[1;33m\u001b[0m\u001b[0m\n\u001b[0m",
      "\u001b[1;32m<ipython-input-1-5a3a2678c58a>\u001b[0m in \u001b[0;36mappend\u001b[1;34m(self, integer)\u001b[0m\n\u001b[0;32m      5\u001b[0m \u001b[1;33m\u001b[0m\u001b[0m\n\u001b[0;32m      6\u001b[0m         \u001b[1;32mif\u001b[0m \u001b[0minteger\u001b[0m \u001b[1;33m%\u001b[0m \u001b[1;36m2\u001b[0m\u001b[1;33m:\u001b[0m\u001b[1;33m\u001b[0m\u001b[1;33m\u001b[0m\u001b[0m\n\u001b[1;32m----> 7\u001b[1;33m             \u001b[1;32mraise\u001b[0m \u001b[0mValueError\u001b[0m\u001b[1;33m(\u001b[0m\u001b[1;34m\"Only even numbers can be added\"\u001b[0m\u001b[1;33m)\u001b[0m\u001b[1;33m\u001b[0m\u001b[1;33m\u001b[0m\u001b[0m\n\u001b[0m\u001b[0;32m      8\u001b[0m \u001b[1;33m\u001b[0m\u001b[0m\n\u001b[0;32m      9\u001b[0m         \u001b[0msuper\u001b[0m\u001b[1;33m(\u001b[0m\u001b[1;33m)\u001b[0m\u001b[1;33m.\u001b[0m\u001b[0mappend\u001b[0m\u001b[1;33m(\u001b[0m\u001b[0minteger\u001b[0m\u001b[1;33m)\u001b[0m\u001b[1;33m\u001b[0m\u001b[1;33m\u001b[0m\u001b[0m\n",
      "\u001b[1;31mValueError\u001b[0m: Only even numbers can be added"
     ]
    }
   ],
   "source": [
    "print(e.append(3))"
   ]
  },
  {
   "cell_type": "code",
   "execution_count": 4,
   "metadata": {},
   "outputs": [
    {
     "name": "stdout",
     "output_type": "stream",
     "text": [
      "None\n"
     ]
    }
   ],
   "source": [
    "print(e.append(2))"
   ]
  },
  {
   "cell_type": "code",
   "execution_count": 5,
   "metadata": {},
   "outputs": [
    {
     "data": {
      "text/plain": [
       "[2]"
      ]
     },
     "execution_count": 5,
     "metadata": {},
     "output_type": "execute_result"
    }
   ],
   "source": [
    "e # Successfully appended with Exception"
   ]
  },
  {
   "cell_type": "markdown",
   "metadata": {},
   "source": [
    "__The effects of an exception__"
   ]
  },
  {
   "cell_type": "code",
   "execution_count": 6,
   "metadata": {},
   "outputs": [],
   "source": [
    "# The function below typifies the execution of a program\n",
    "\n",
    "def no_return():\n",
    "    print(\"I am about to raise an Exception\")\n",
    "    raise Exception(\"This is always raised\")\n",
    "    print('This line will never be executed')\n",
    "    return \"I won't be returned\""
   ]
  },
  {
   "cell_type": "code",
   "execution_count": 7,
   "metadata": {},
   "outputs": [
    {
     "name": "stdout",
     "output_type": "stream",
     "text": [
      "I am about to raise an Exception\n"
     ]
    },
    {
     "ename": "Exception",
     "evalue": "This is always raised",
     "output_type": "error",
     "traceback": [
      "\u001b[1;31m---------------------------------------------------------------------------\u001b[0m",
      "\u001b[1;31mException\u001b[0m                                 Traceback (most recent call last)",
      "\u001b[1;32m<ipython-input-7-8a0faa20bd0a>\u001b[0m in \u001b[0;36m<module>\u001b[1;34m\u001b[0m\n\u001b[0;32m      1\u001b[0m \u001b[1;31m# Execute no_return() function\u001b[0m\u001b[1;33m\u001b[0m\u001b[1;33m\u001b[0m\u001b[1;33m\u001b[0m\u001b[0m\n\u001b[0;32m      2\u001b[0m \u001b[1;33m\u001b[0m\u001b[0m\n\u001b[1;32m----> 3\u001b[1;33m \u001b[0mno_return\u001b[0m\u001b[1;33m(\u001b[0m\u001b[1;33m)\u001b[0m\u001b[1;33m\u001b[0m\u001b[1;33m\u001b[0m\u001b[0m\n\u001b[0m",
      "\u001b[1;32m<ipython-input-6-76d77dedc85d>\u001b[0m in \u001b[0;36mno_return\u001b[1;34m()\u001b[0m\n\u001b[0;32m      3\u001b[0m \u001b[1;32mdef\u001b[0m \u001b[0mno_return\u001b[0m\u001b[1;33m(\u001b[0m\u001b[1;33m)\u001b[0m\u001b[1;33m:\u001b[0m\u001b[1;33m\u001b[0m\u001b[1;33m\u001b[0m\u001b[0m\n\u001b[0;32m      4\u001b[0m     \u001b[0mprint\u001b[0m\u001b[1;33m(\u001b[0m\u001b[1;34m\"I am about to raise an Exception\"\u001b[0m\u001b[1;33m)\u001b[0m\u001b[1;33m\u001b[0m\u001b[1;33m\u001b[0m\u001b[0m\n\u001b[1;32m----> 5\u001b[1;33m     \u001b[1;32mraise\u001b[0m \u001b[0mException\u001b[0m\u001b[1;33m(\u001b[0m\u001b[1;34m\"This is always raised\"\u001b[0m\u001b[1;33m)\u001b[0m\u001b[1;33m\u001b[0m\u001b[1;33m\u001b[0m\u001b[0m\n\u001b[0m\u001b[0;32m      6\u001b[0m     \u001b[0mprint\u001b[0m\u001b[1;33m(\u001b[0m\u001b[1;34m'This line will never be executed'\u001b[0m\u001b[1;33m)\u001b[0m\u001b[1;33m\u001b[0m\u001b[1;33m\u001b[0m\u001b[0m\n\u001b[0;32m      7\u001b[0m     \u001b[1;32mreturn\u001b[0m \u001b[1;34m\"I won't be returned\"\u001b[0m\u001b[1;33m\u001b[0m\u001b[1;33m\u001b[0m\u001b[0m\n",
      "\u001b[1;31mException\u001b[0m: This is always raised"
     ]
    }
   ],
   "source": [
    "# Execute no_return() function\n",
    "\n",
    "no_return()"
   ]
  },
  {
   "cell_type": "markdown",
   "metadata": {},
   "source": [
    "- Let us check the execution of the program when a function calls another function with an __Exception__"
   ]
  },
  {
   "cell_type": "code",
   "execution_count": 8,
   "metadata": {},
   "outputs": [],
   "source": [
    "def call_exceptor():\n",
    "    print(\"Call_exceptor starts here...\")\n",
    "    no_return()\n",
    "    print(\"an exception was raised\")\n",
    "    print(\"...so these lines don't run\")"
   ]
  },
  {
   "cell_type": "code",
   "execution_count": 9,
   "metadata": {},
   "outputs": [
    {
     "name": "stdout",
     "output_type": "stream",
     "text": [
      "Call_exceptor starts here...\n",
      "I am about to raise an Exception\n"
     ]
    },
    {
     "ename": "Exception",
     "evalue": "This is always raised",
     "output_type": "error",
     "traceback": [
      "\u001b[1;31m---------------------------------------------------------------------------\u001b[0m",
      "\u001b[1;31mException\u001b[0m                                 Traceback (most recent call last)",
      "\u001b[1;32m<ipython-input-9-e86660b7de9c>\u001b[0m in \u001b[0;36m<module>\u001b[1;34m\u001b[0m\n\u001b[1;32m----> 1\u001b[1;33m \u001b[0mcall_exceptor\u001b[0m\u001b[1;33m(\u001b[0m\u001b[1;33m)\u001b[0m\u001b[1;33m\u001b[0m\u001b[1;33m\u001b[0m\u001b[0m\n\u001b[0m",
      "\u001b[1;32m<ipython-input-8-857dd7e323c6>\u001b[0m in \u001b[0;36mcall_exceptor\u001b[1;34m()\u001b[0m\n\u001b[0;32m      1\u001b[0m \u001b[1;32mdef\u001b[0m \u001b[0mcall_exceptor\u001b[0m\u001b[1;33m(\u001b[0m\u001b[1;33m)\u001b[0m\u001b[1;33m:\u001b[0m\u001b[1;33m\u001b[0m\u001b[1;33m\u001b[0m\u001b[0m\n\u001b[0;32m      2\u001b[0m     \u001b[0mprint\u001b[0m\u001b[1;33m(\u001b[0m\u001b[1;34m\"Call_exceptor starts here...\"\u001b[0m\u001b[1;33m)\u001b[0m\u001b[1;33m\u001b[0m\u001b[1;33m\u001b[0m\u001b[0m\n\u001b[1;32m----> 3\u001b[1;33m     \u001b[0mno_return\u001b[0m\u001b[1;33m(\u001b[0m\u001b[1;33m)\u001b[0m\u001b[1;33m\u001b[0m\u001b[1;33m\u001b[0m\u001b[0m\n\u001b[0m\u001b[0;32m      4\u001b[0m     \u001b[0mprint\u001b[0m\u001b[1;33m(\u001b[0m\u001b[1;34m\"an exception was raised\"\u001b[0m\u001b[1;33m)\u001b[0m\u001b[1;33m\u001b[0m\u001b[1;33m\u001b[0m\u001b[0m\n\u001b[0;32m      5\u001b[0m     \u001b[0mprint\u001b[0m\u001b[1;33m(\u001b[0m\u001b[1;34m\"...so these lines don't run\"\u001b[0m\u001b[1;33m)\u001b[0m\u001b[1;33m\u001b[0m\u001b[1;33m\u001b[0m\u001b[0m\n",
      "\u001b[1;32m<ipython-input-6-76d77dedc85d>\u001b[0m in \u001b[0;36mno_return\u001b[1;34m()\u001b[0m\n\u001b[0;32m      3\u001b[0m \u001b[1;32mdef\u001b[0m \u001b[0mno_return\u001b[0m\u001b[1;33m(\u001b[0m\u001b[1;33m)\u001b[0m\u001b[1;33m:\u001b[0m\u001b[1;33m\u001b[0m\u001b[1;33m\u001b[0m\u001b[0m\n\u001b[0;32m      4\u001b[0m     \u001b[0mprint\u001b[0m\u001b[1;33m(\u001b[0m\u001b[1;34m\"I am about to raise an Exception\"\u001b[0m\u001b[1;33m)\u001b[0m\u001b[1;33m\u001b[0m\u001b[1;33m\u001b[0m\u001b[0m\n\u001b[1;32m----> 5\u001b[1;33m     \u001b[1;32mraise\u001b[0m \u001b[0mException\u001b[0m\u001b[1;33m(\u001b[0m\u001b[1;34m\"This is always raised\"\u001b[0m\u001b[1;33m)\u001b[0m\u001b[1;33m\u001b[0m\u001b[1;33m\u001b[0m\u001b[0m\n\u001b[0m\u001b[0;32m      6\u001b[0m     \u001b[0mprint\u001b[0m\u001b[1;33m(\u001b[0m\u001b[1;34m'This line will never be executed'\u001b[0m\u001b[1;33m)\u001b[0m\u001b[1;33m\u001b[0m\u001b[1;33m\u001b[0m\u001b[0m\n\u001b[0;32m      7\u001b[0m     \u001b[1;32mreturn\u001b[0m \u001b[1;34m\"I won't be returned\"\u001b[0m\u001b[1;33m\u001b[0m\u001b[1;33m\u001b[0m\u001b[0m\n",
      "\u001b[1;31mException\u001b[0m: This is always raised"
     ]
    }
   ],
   "source": [
    "call_exceptor()"
   ]
  },
  {
   "cell_type": "markdown",
   "metadata": {},
   "source": [
    "__Handling Exceptions__\n",
    "\n",
    "Errors are typicaly handled with __try...Except__ clause. the most basic syntax is shown below:"
   ]
  },
  {
   "cell_type": "code",
   "execution_count": 10,
   "metadata": {},
   "outputs": [
    {
     "name": "stdout",
     "output_type": "stream",
     "text": [
      "I am about to raise an Exception\n",
      "I caught an exception\n",
      "Executed after the exception\n"
     ]
    }
   ],
   "source": [
    "try:\n",
    "    no_return()\n",
    "except:\n",
    "    print(\"I caught an exception\")\n",
    "print(\"Executed after the exception\")"
   ]
  },
  {
   "cell_type": "markdown",
   "metadata": {},
   "source": [
    "- What if we have two errorsa Lets say we wanna catch _ZeroDivisionError_ and propagate the other to the console."
   ]
  },
  {
   "cell_type": "code",
   "execution_count": 11,
   "metadata": {},
   "outputs": [],
   "source": [
    "def funny_division(divider):\n",
    "    try:\n",
    "        return 100 / divider\n",
    "    except ZeroDivisionError:\n",
    "        return \"Zero is not a good idea\""
   ]
  },
  {
   "cell_type": "code",
   "execution_count": 12,
   "metadata": {},
   "outputs": [
    {
     "name": "stdout",
     "output_type": "stream",
     "text": [
      "Zero is not a good idea\n",
      "2.0\n"
     ]
    },
    {
     "ename": "TypeError",
     "evalue": "unsupported operand type(s) for /: 'int' and 'str'",
     "output_type": "error",
     "traceback": [
      "\u001b[1;31m---------------------------------------------------------------------------\u001b[0m",
      "\u001b[1;31mTypeError\u001b[0m                                 Traceback (most recent call last)",
      "\u001b[1;32m<ipython-input-12-41dbca603527>\u001b[0m in \u001b[0;36m<module>\u001b[1;34m\u001b[0m\n\u001b[0;32m      1\u001b[0m \u001b[0mprint\u001b[0m\u001b[1;33m(\u001b[0m\u001b[0mfunny_division\u001b[0m\u001b[1;33m(\u001b[0m\u001b[1;36m0\u001b[0m\u001b[1;33m)\u001b[0m\u001b[1;33m)\u001b[0m\u001b[1;33m\u001b[0m\u001b[1;33m\u001b[0m\u001b[0m\n\u001b[0;32m      2\u001b[0m \u001b[0mprint\u001b[0m\u001b[1;33m(\u001b[0m\u001b[0mfunny_division\u001b[0m\u001b[1;33m(\u001b[0m\u001b[1;36m50\u001b[0m\u001b[1;33m)\u001b[0m\u001b[1;33m)\u001b[0m\u001b[1;33m\u001b[0m\u001b[1;33m\u001b[0m\u001b[0m\n\u001b[1;32m----> 3\u001b[1;33m \u001b[0mprint\u001b[0m\u001b[1;33m(\u001b[0m\u001b[0mfunny_division\u001b[0m\u001b[1;33m(\u001b[0m\u001b[1;34m'hello'\u001b[0m\u001b[1;33m)\u001b[0m\u001b[1;33m)\u001b[0m\u001b[1;33m\u001b[0m\u001b[1;33m\u001b[0m\u001b[0m\n\u001b[0m",
      "\u001b[1;32m<ipython-input-11-197d9db64ac2>\u001b[0m in \u001b[0;36mfunny_division\u001b[1;34m(divider)\u001b[0m\n\u001b[0;32m      1\u001b[0m \u001b[1;32mdef\u001b[0m \u001b[0mfunny_division\u001b[0m\u001b[1;33m(\u001b[0m\u001b[0mdivider\u001b[0m\u001b[1;33m)\u001b[0m\u001b[1;33m:\u001b[0m\u001b[1;33m\u001b[0m\u001b[1;33m\u001b[0m\u001b[0m\n\u001b[0;32m      2\u001b[0m     \u001b[1;32mtry\u001b[0m\u001b[1;33m:\u001b[0m\u001b[1;33m\u001b[0m\u001b[1;33m\u001b[0m\u001b[0m\n\u001b[1;32m----> 3\u001b[1;33m         \u001b[1;32mreturn\u001b[0m \u001b[1;36m100\u001b[0m \u001b[1;33m/\u001b[0m \u001b[0mdivider\u001b[0m\u001b[1;33m\u001b[0m\u001b[1;33m\u001b[0m\u001b[0m\n\u001b[0m\u001b[0;32m      4\u001b[0m     \u001b[1;32mexcept\u001b[0m \u001b[0mZeroDivisionError\u001b[0m\u001b[1;33m:\u001b[0m\u001b[1;33m\u001b[0m\u001b[1;33m\u001b[0m\u001b[0m\n\u001b[0;32m      5\u001b[0m         \u001b[1;32mreturn\u001b[0m \u001b[1;34m\"Zero is not a good idea\"\u001b[0m\u001b[1;33m\u001b[0m\u001b[1;33m\u001b[0m\u001b[0m\n",
      "\u001b[1;31mTypeError\u001b[0m: unsupported operand type(s) for /: 'int' and 'str'"
     ]
    }
   ],
   "source": [
    "print(funny_division(0))\n",
    "print(funny_division(50))\n",
    "print(funny_division('hello'))"
   ]
  },
  {
   "cell_type": "markdown",
   "metadata": {},
   "source": [
    "- Handling 2 or more exceptions"
   ]
  },
  {
   "cell_type": "code",
   "execution_count": 13,
   "metadata": {},
   "outputs": [],
   "source": [
    "def funny_division2(divider):\n",
    "    try:\n",
    "        if divider == 13:\n",
    "            raise ValueError(\"13 is an unlucky number\")\n",
    "        return 100 / divider\n",
    "    except (ZeroDivisionError, TypeError):\n",
    "        return \"Enter a number other than zero\""
   ]
  },
  {
   "cell_type": "code",
   "execution_count": 14,
   "metadata": {},
   "outputs": [
    {
     "name": "stdout",
     "output_type": "stream",
     "text": [
      "Testing 0: Enter a number other than zero\n",
      "Testing hello: Enter a number other than zero\n",
      "Testing 50.0: 2.0\n",
      "Testing 13: "
     ]
    },
    {
     "ename": "ValueError",
     "evalue": "13 is an unlucky number",
     "output_type": "error",
     "traceback": [
      "\u001b[1;31m---------------------------------------------------------------------------\u001b[0m",
      "\u001b[1;31mValueError\u001b[0m                                Traceback (most recent call last)",
      "\u001b[1;32m<ipython-input-14-b198b5c4f714>\u001b[0m in \u001b[0;36m<module>\u001b[1;34m\u001b[0m\n\u001b[0;32m      1\u001b[0m \u001b[1;32mfor\u001b[0m \u001b[0mval\u001b[0m \u001b[1;32min\u001b[0m \u001b[1;33m(\u001b[0m\u001b[1;36m0\u001b[0m\u001b[1;33m,\u001b[0m \u001b[1;34m'hello'\u001b[0m\u001b[1;33m,\u001b[0m \u001b[1;36m50.0\u001b[0m\u001b[1;33m,\u001b[0m \u001b[1;36m13\u001b[0m\u001b[1;33m)\u001b[0m\u001b[1;33m:\u001b[0m\u001b[1;33m\u001b[0m\u001b[1;33m\u001b[0m\u001b[0m\n\u001b[0;32m      2\u001b[0m     \u001b[0mprint\u001b[0m\u001b[1;33m(\u001b[0m\u001b[1;34m\"Testing {}:\"\u001b[0m\u001b[1;33m.\u001b[0m\u001b[0mformat\u001b[0m\u001b[1;33m(\u001b[0m\u001b[0mval\u001b[0m\u001b[1;33m)\u001b[0m\u001b[1;33m,\u001b[0m \u001b[0mend\u001b[0m\u001b[1;33m=\u001b[0m \u001b[1;34m\" \"\u001b[0m\u001b[1;33m)\u001b[0m\u001b[1;33m\u001b[0m\u001b[1;33m\u001b[0m\u001b[0m\n\u001b[1;32m----> 3\u001b[1;33m     \u001b[0mprint\u001b[0m\u001b[1;33m(\u001b[0m\u001b[0mfunny_division2\u001b[0m\u001b[1;33m(\u001b[0m\u001b[0mval\u001b[0m\u001b[1;33m)\u001b[0m\u001b[1;33m)\u001b[0m\u001b[1;33m\u001b[0m\u001b[1;33m\u001b[0m\u001b[0m\n\u001b[0m",
      "\u001b[1;32m<ipython-input-13-8cc01bf241c4>\u001b[0m in \u001b[0;36mfunny_division2\u001b[1;34m(divider)\u001b[0m\n\u001b[0;32m      2\u001b[0m     \u001b[1;32mtry\u001b[0m\u001b[1;33m:\u001b[0m\u001b[1;33m\u001b[0m\u001b[1;33m\u001b[0m\u001b[0m\n\u001b[0;32m      3\u001b[0m         \u001b[1;32mif\u001b[0m \u001b[0mdivider\u001b[0m \u001b[1;33m==\u001b[0m \u001b[1;36m13\u001b[0m\u001b[1;33m:\u001b[0m\u001b[1;33m\u001b[0m\u001b[1;33m\u001b[0m\u001b[0m\n\u001b[1;32m----> 4\u001b[1;33m             \u001b[1;32mraise\u001b[0m \u001b[0mValueError\u001b[0m\u001b[1;33m(\u001b[0m\u001b[1;34m\"13 is an unlucky number\"\u001b[0m\u001b[1;33m)\u001b[0m\u001b[1;33m\u001b[0m\u001b[1;33m\u001b[0m\u001b[0m\n\u001b[0m\u001b[0;32m      5\u001b[0m         \u001b[1;32mreturn\u001b[0m \u001b[1;36m100\u001b[0m \u001b[1;33m/\u001b[0m \u001b[0mdivider\u001b[0m\u001b[1;33m\u001b[0m\u001b[1;33m\u001b[0m\u001b[0m\n\u001b[0;32m      6\u001b[0m     \u001b[1;32mexcept\u001b[0m \u001b[1;33m(\u001b[0m\u001b[0mZeroDivisionError\u001b[0m\u001b[1;33m,\u001b[0m \u001b[0mTypeError\u001b[0m\u001b[1;33m)\u001b[0m\u001b[1;33m:\u001b[0m\u001b[1;33m\u001b[0m\u001b[1;33m\u001b[0m\u001b[0m\n",
      "\u001b[1;31mValueError\u001b[0m: 13 is an unlucky number"
     ]
    }
   ],
   "source": [
    "for val in (0, 'hello', 50.0, 13):\n",
    "    print(\"Testing {}:\".format(val), end= \" \")\n",
    "    print(funny_division2(val))"
   ]
  },
  {
   "cell_type": "markdown",
   "metadata": {},
   "source": [
    "- If we wanna catch the __ValueError_ above, we can catch it by stacking __Except__ blocks of codes."
   ]
  },
  {
   "cell_type": "code",
   "execution_count": 15,
   "metadata": {},
   "outputs": [],
   "source": [
    "def funny_division3(divider):\n",
    "    try:\n",
    "        if divider == 13:\n",
    "            raise ValueError(\"13 is an unlucky number\")\n",
    "        return 100 / divider\n",
    "    except ZeroDivisionError:\n",
    "        return \"Enter a number other than zero\"\n",
    "    except TypeError:\n",
    "        return \"Enter a numerical value\"\n",
    "    except ValueError:\n",
    "        print(\"No, No, not 13!\")\n",
    "        raise"
   ]
  },
  {
   "cell_type": "markdown",
   "metadata": {},
   "source": [
    "- The last line re-raises the _ValueError_ error. So after outputing __No, No, not 13!__, Ut will raise the exception again. We will still get original trace stack trace on the console"
   ]
  },
  {
   "cell_type": "code",
   "execution_count": 16,
   "metadata": {},
   "outputs": [
    {
     "name": "stdout",
     "output_type": "stream",
     "text": [
      "Testing 0: Enter a number other than zero\n",
      "Testing hello: Enter a numerical value\n",
      "Testing 50.0: 2.0\n",
      "Testing 13: No, No, not 13!\n"
     ]
    },
    {
     "ename": "ValueError",
     "evalue": "13 is an unlucky number",
     "output_type": "error",
     "traceback": [
      "\u001b[1;31m---------------------------------------------------------------------------\u001b[0m",
      "\u001b[1;31mValueError\u001b[0m                                Traceback (most recent call last)",
      "\u001b[1;32m<ipython-input-16-cef9e74ca6b1>\u001b[0m in \u001b[0;36m<module>\u001b[1;34m\u001b[0m\n\u001b[0;32m      1\u001b[0m \u001b[1;32mfor\u001b[0m \u001b[0mval\u001b[0m \u001b[1;32min\u001b[0m \u001b[1;33m(\u001b[0m\u001b[1;36m0\u001b[0m\u001b[1;33m,\u001b[0m \u001b[1;34m'hello'\u001b[0m\u001b[1;33m,\u001b[0m \u001b[1;36m50.0\u001b[0m\u001b[1;33m,\u001b[0m \u001b[1;36m13\u001b[0m\u001b[1;33m)\u001b[0m\u001b[1;33m:\u001b[0m\u001b[1;33m\u001b[0m\u001b[1;33m\u001b[0m\u001b[0m\n\u001b[0;32m      2\u001b[0m     \u001b[0mprint\u001b[0m\u001b[1;33m(\u001b[0m\u001b[1;34m\"Testing {}:\"\u001b[0m\u001b[1;33m.\u001b[0m\u001b[0mformat\u001b[0m\u001b[1;33m(\u001b[0m\u001b[0mval\u001b[0m\u001b[1;33m)\u001b[0m\u001b[1;33m,\u001b[0m \u001b[0mend\u001b[0m\u001b[1;33m=\u001b[0m \u001b[1;34m\" \"\u001b[0m\u001b[1;33m)\u001b[0m\u001b[1;33m\u001b[0m\u001b[1;33m\u001b[0m\u001b[0m\n\u001b[1;32m----> 3\u001b[1;33m     \u001b[0mprint\u001b[0m\u001b[1;33m(\u001b[0m\u001b[0mfunny_division3\u001b[0m\u001b[1;33m(\u001b[0m\u001b[0mval\u001b[0m\u001b[1;33m)\u001b[0m\u001b[1;33m)\u001b[0m\u001b[1;33m\u001b[0m\u001b[1;33m\u001b[0m\u001b[0m\n\u001b[0m",
      "\u001b[1;32m<ipython-input-15-f31ab1aa6c4e>\u001b[0m in \u001b[0;36mfunny_division3\u001b[1;34m(divider)\u001b[0m\n\u001b[0;32m      2\u001b[0m     \u001b[1;32mtry\u001b[0m\u001b[1;33m:\u001b[0m\u001b[1;33m\u001b[0m\u001b[1;33m\u001b[0m\u001b[0m\n\u001b[0;32m      3\u001b[0m         \u001b[1;32mif\u001b[0m \u001b[0mdivider\u001b[0m \u001b[1;33m==\u001b[0m \u001b[1;36m13\u001b[0m\u001b[1;33m:\u001b[0m\u001b[1;33m\u001b[0m\u001b[1;33m\u001b[0m\u001b[0m\n\u001b[1;32m----> 4\u001b[1;33m             \u001b[1;32mraise\u001b[0m \u001b[0mValueError\u001b[0m\u001b[1;33m(\u001b[0m\u001b[1;34m\"13 is an unlucky number\"\u001b[0m\u001b[1;33m)\u001b[0m\u001b[1;33m\u001b[0m\u001b[1;33m\u001b[0m\u001b[0m\n\u001b[0m\u001b[0;32m      5\u001b[0m         \u001b[1;32mreturn\u001b[0m \u001b[1;36m100\u001b[0m \u001b[1;33m/\u001b[0m \u001b[0mdivider\u001b[0m\u001b[1;33m\u001b[0m\u001b[1;33m\u001b[0m\u001b[0m\n\u001b[0;32m      6\u001b[0m     \u001b[1;32mexcept\u001b[0m \u001b[0mZeroDivisionError\u001b[0m\u001b[1;33m:\u001b[0m\u001b[1;33m\u001b[0m\u001b[1;33m\u001b[0m\u001b[0m\n",
      "\u001b[1;31mValueError\u001b[0m: 13 is an unlucky number"
     ]
    }
   ],
   "source": [
    "for val in (0, 'hello', 50.0, 13):\n",
    "    print(\"Testing {}:\".format(val), end= \" \")\n",
    "    print(funny_division3(val))"
   ]
  },
  {
   "cell_type": "markdown",
   "metadata": {},
   "source": [
    "- If we catch _Exception_ before we catch the _TypeError_. Then only the exception handler will be executed, because _TypeError_ is an _Exception_ by inheritance.\n",
    "\n",
    "- For most real cases, we have to catch _Exception_ after catching all specific exceptions and handle the general case there.\n",
    "\n",
    "_The syntax for capturing an exception as a variable uses the as __keyword___"
   ]
  },
  {
   "cell_type": "code",
   "execution_count": 17,
   "metadata": {},
   "outputs": [
    {
     "name": "stdout",
     "output_type": "stream",
     "text": [
      "The exception arguments were ('This is an argument',)\n"
     ]
    }
   ],
   "source": [
    "try:\n",
    "    raise ValueError(\"This is an argument\")\n",
    "except ValueError as e:\n",
    "    print(\"The exception arguments were\", e.args)"
   ]
  },
  {
   "cell_type": "markdown",
   "metadata": {},
   "source": [
    "The above outputs the string *arg* passed to the ValueError"
   ]
  },
  {
   "cell_type": "markdown",
   "metadata": {},
   "source": [
    "- Lets also get to know how to specify code that should be executed __only__ if an exception does __not__ occur"
   ]
  },
  {
   "cell_type": "code",
   "execution_count": 18,
   "metadata": {},
   "outputs": [
    {
     "name": "stdout",
     "output_type": "stream",
     "text": [
      "raising None\n",
      "This code called if there is not exception\n",
      "This cleanup code is always called\n"
     ]
    }
   ],
   "source": [
    "import random\n",
    "some_exceptions = [ValueError, TypeError, IndexError, None]\n",
    "\n",
    "try:\n",
    "    choice = random.choice(some_exceptions)\n",
    "    print(\"raising {}\".format(choice))\n",
    "    if choice:\n",
    "        raise choice(\"An error\")\n",
    "except ValueError:\n",
    "    print(\"Caught a ValueError\")\n",
    "except TypeError:\n",
    "    print(\"Caught a TypeError\")\n",
    "except Exception as e:\n",
    "    print(\"Caught some other error: {}\".format(e.__class__.__name__))\n",
    "    \n",
    "else:\n",
    "    print(\"This code called if there is not exception\")\n",
    "finally:\n",
    "    print(\"This cleanup code is always called\")"
   ]
  },
  {
   "cell_type": "markdown",
   "metadata": {},
   "source": [
    "- for the above __try...except...else...finally__ code block. It was observed that the __print__ statement in the _finally_ clause is always executed. This is extremely useful for performing certain tasks after our code has finished running. Examples are shown below:\n",
    "    - Cleaning up an open database connection\n",
    "    - Closing an open file\n",
    "    - Sending a closing handshake over the network\n",
    "    \n",
    "we can afford to omit __except, else,__ and __finally__ clauses after a __try__ block. __except__ clauses come first and then the __else__ clause with the __finally__ clause at the end."
   ]
  },
  {
   "attachments": {
    "image.png": {
     "image/png": "[encoded data removed]"
    }
   },
   "cell_type": "markdown",
   "metadata": {},
   "source": [
    "__The exception hierarchy__\n",
    "\n",
    "Most _Exceptions_ inherit from Exception class but not all inherit from Exception which inherits from BaseException directly. Infact all exceptions extend teh BaseException class.\n",
    "\n",
    "There are 2 key built-in exception classes, _SystemExit_ and _KeyboardInterrupt_ that derive from _BaseException_. \n",
    "\n",
    "_SystemExit_ is raised whenever a program naturally exits. tpically because we called_sys.exit_ function somewhere in our code. It could clicking the Close button on a window, user selecting an exit menu or entering a command to shutdown a server. we generally don't need to handle it explicitly\n",
    "because cleanup code can happen inside a _finally_ clause.\n",
    "\n",
    "If _SystemExit_ is handled, exception is usually re-raised since catching it would stop the program from exiting. usually, if we wanna handle _SystemExit_ because we wanna do something with it or are anticipating it directly. We espespecially dont want it to be accidentally caught in generic clauses that catch all normal exceptions. This is why it derives dorectlt from BaseException\n",
    "\n",
    "_KeyboardInterrupt_ is common in command-line programs. It is thrown when the user explicitly interrupts program execution with OS-dependent key combinations. Its a standard way to terminate the program. Like _SystemExit_ i, it should also clean codes(tasks) in the _finally_ clause.\n",
    "\n",
    "___Class diagram that fully illustrates the hierarchy___\n",
    "\n",
    "![image.png](attachment:image.png)"
   ]
  },
  {
   "cell_type": "markdown",
   "metadata": {},
   "source": [
    "__Defining our own exceptions__\n",
    "\n",
    "Most times we realise that we want to raise exception but we cant based on the vailable exceptions in the BaseException Superclass. Luckily, it is trivial to create a custom exception for one's purposes. For practical purposes, Most of the custom exceptions usually inherit from the _Exception_ class. It's important to note that there are'nt many use cases for inheriting from the _BaseException_ superclass."
   ]
  },
  {
   "cell_type": "code",
   "execution_count": 19,
   "metadata": {},
   "outputs": [],
   "source": [
    "# Here is a simple exception we might use in a banking application\n",
    "\n",
    "class InvalidWithdrawal(Exception):\n",
    "    pass"
   ]
  },
  {
   "cell_type": "code",
   "execution_count": 20,
   "metadata": {},
   "outputs": [
    {
     "ename": "InvalidWithdrawal",
     "evalue": "You don't have $50 in your account",
     "output_type": "error",
     "traceback": [
      "\u001b[1;31m---------------------------------------------------------------------------\u001b[0m",
      "\u001b[1;31mInvalidWithdrawal\u001b[0m                         Traceback (most recent call last)",
      "\u001b[1;32m<ipython-input-20-5a07eeae7180>\u001b[0m in \u001b[0;36m<module>\u001b[1;34m\u001b[0m\n\u001b[1;32m----> 1\u001b[1;33m \u001b[1;32mraise\u001b[0m \u001b[0mInvalidWithdrawal\u001b[0m\u001b[1;33m(\u001b[0m\u001b[1;34m\"You don't have $50 in your account\"\u001b[0m\u001b[1;33m)\u001b[0m\u001b[1;33m\u001b[0m\u001b[1;33m\u001b[0m\u001b[0m\n\u001b[0m",
      "\u001b[1;31mInvalidWithdrawal\u001b[0m: You don't have $50 in your account"
     ]
    }
   ],
   "source": [
    "raise InvalidWithdrawal(\"You don't have $50 in your account\")"
   ]
  },
  {
   "cell_type": "markdown",
   "metadata": {},
   "source": [
    "The Exception.__init__ method is designed to accept any arguments and store them as a tuple in an __attribute__ named __args__.This makes exceptions easier to define without needing to override __init__.\n",
    "\n",
    "_Here is an exception whose initializer accepts current balance and the anount the user wanted to withdraw. In addition, it adds a method to calculate how overdrawn the request was_"
   ]
  },
  {
   "cell_type": "code",
   "execution_count": 21,
   "metadata": {},
   "outputs": [],
   "source": [
    "class InvalidWithdrawal(Exception):\n",
    "    def __init__(self, balance, amount):\n",
    "        super().__init__(f\"account doesn't have ${amount}\")\n",
    "        self.amount = amount\n",
    "        self.balance = balance\n",
    "        \n",
    "    def overage(self):\n",
    "        return self.amount - self.balance\n",
    "    "
   ]
  },
  {
   "cell_type": "code",
   "execution_count": 22,
   "metadata": {},
   "outputs": [
    {
     "ename": "InvalidWithdrawal",
     "evalue": "account doesn't have $50",
     "output_type": "error",
     "traceback": [
      "\u001b[1;31m---------------------------------------------------------------------------\u001b[0m",
      "\u001b[1;31mInvalidWithdrawal\u001b[0m                         Traceback (most recent call last)",
      "\u001b[1;32m<ipython-input-22-4fe51dc2610d>\u001b[0m in \u001b[0;36m<module>\u001b[1;34m\u001b[0m\n\u001b[1;32m----> 1\u001b[1;33m \u001b[1;32mraise\u001b[0m \u001b[0mInvalidWithdrawal\u001b[0m\u001b[1;33m(\u001b[0m\u001b[1;36m25\u001b[0m\u001b[1;33m,\u001b[0m \u001b[1;36m50\u001b[0m\u001b[1;33m)\u001b[0m\u001b[1;33m\u001b[0m\u001b[1;33m\u001b[0m\u001b[0m\n\u001b[0m",
      "\u001b[1;31mInvalidWithdrawal\u001b[0m: account doesn't have $50"
     ]
    }
   ],
   "source": [
    "raise InvalidWithdrawal(25, 50)"
   ]
  },
  {
   "cell_type": "markdown",
   "metadata": {},
   "source": [
    "- Handling the InvalidWithdrawal exception"
   ]
  },
  {
   "cell_type": "code",
   "execution_count": 23,
   "metadata": {},
   "outputs": [
    {
     "name": "stdout",
     "output_type": "stream",
     "text": [
      "I'm sorry, but your withdrawal is more than your balance by $25\n"
     ]
    }
   ],
   "source": [
    "try:\n",
    "    raise InvalidWithdrawal(25, 50)\n",
    "except InvalidWithdrawal as e:\n",
    "    print(\"I'm sorry, but your withdrawal is more than\"\n",
    "          f\" your balance by ${e.overage()}\")"
   ]
  },
  {
   "cell_type": "markdown",
   "metadata": {},
   "source": [
    "- Examples of other custom functions"
   ]
  },
  {
   "cell_type": "code",
   "execution_count": 24,
   "metadata": {},
   "outputs": [],
   "source": [
    "def divide_with_exception(number, divisor):\n",
    "    try:\n",
    "        print(f\"{number} / {divisor} = {number / divisor}\")\n",
    "    except ZeroDivisionError:\n",
    "        print(\"You can't divide by zero\")\n",
    "        \n",
    "def divide_with_if(number, divisor):\n",
    "    if divisor == 0:\n",
    "        print(\"You can't divide by zero\")\n",
    "    else:\n",
    "        print(f\"{number} / {divisor} = {number / divisor}\")\n",
    "            "
   ]
  },
  {
   "cell_type": "markdown",
   "metadata": {},
   "source": [
    "- Lets look at an inventory application that features the following\n",
    "    - When purchase is made, the program can either be available or out-of-stock\n",
    "    - We also wanna lock each item so it is not purchased/ taken by someone else"
   ]
  },
  {
   "cell_type": "code",
   "execution_count": 25,
   "metadata": {},
   "outputs": [],
   "source": [
    "class Inventory:\n",
    "    def lock(self, item_type):\n",
    "        \"\"\"Select the type of item that is going to\n",
    "be manipulated. This method will lock the\n",
    "item so nobody else can manipulate the\n",
    "inventory until it's returned. This prevents\n",
    "selling the same item to two different\n",
    "customers.\"\"\"\n",
    "        pass\n",
    "    \n",
    "    def unlock(self, item_type):\n",
    "        \"\"\"Release the given type so that other\n",
    "customers can access it.\"\"\"\n",
    "        \n",
    "    def purchase(self, item_type):\n",
    "        \"\"\"If the item is not locked, raise an\n",
    "exception. If the item_type does not exist,\n",
    "raise an exception. If the item is currently\n",
    "out of stock, raise an exception. If the item\n",
    "is available, subtract one item and return\n",
    "the number of items left.\"\"\"\n",
    "        pass\n",
    "        "
   ]
  },
  {
   "cell_type": "markdown",
   "metadata": {},
   "source": [
    "- Let's use python robust exception handling method to consider different branches, depending on how purchase was made:"
   ]
  },
  {
   "cell_type": "code",
   "execution_count": 26,
   "metadata": {},
   "outputs": [
    {
     "name": "stdout",
     "output_type": "stream",
     "text": [
      "Purchase complete. There are None widgets left\n"
     ]
    }
   ],
   "source": [
    "item_type = \"widget\"\n",
    "\n",
    "inv = Inventory()\n",
    "\n",
    "inv.lock(item_type)\n",
    "try:\n",
    "    num_left = inv.purchase(item_type)\n",
    "except InvalidItemType:\n",
    "    print(\"Sorry we don't sell {}\".format(item_type))\n",
    "except OutOfStock:\n",
    "    print(\"Sorry, that item is out of stock.\")\n",
    "else:\n",
    "    print(f\"Purchase complete. There are {num_left} {item_type}s left\")\n",
    "finally:\n",
    "    inv.unlock(item_type)"
   ]
  },
  {
   "cell_type": "markdown",
   "metadata": {},
   "source": [
    "__Case study__\n",
    "\n",
    "- Design simple central authentication and authorization system.\n",
    "- We can have __User__ class for storing username and encrypted password\n",
    "- __Authenticator__ class that handles user management and logging in or out \n",
    "- __Authorizor__ that deals with permissions and checking whether a user can perform an activity. \n",
    "\n",
    "- defining 3 exception classes __AuthException__, __UsernameAlreadyExists__(To avoid adding a user with an existing username), __PasswordTooShort__(weal password)"
   ]
  },
  {
   "cell_type": "code",
   "execution_count": 10,
   "metadata": {},
   "outputs": [],
   "source": [
    "import hashlib"
   ]
  },
  {
   "cell_type": "code",
   "execution_count": 28,
   "metadata": {},
   "outputs": [],
   "source": [
    "hashlib?"
   ]
  },
  {
   "cell_type": "code",
   "execution_count": 1,
   "metadata": {},
   "outputs": [],
   "source": [
    "class User:\n",
    "    def __init__(self, username, password):\n",
    "        \"\"\"Create a new user object. The password will be encrypted \n",
    "        before storing.\"\"\"\n",
    "        self.username = username\n",
    "        self.password = self._encrypt_pw(password)\n",
    "        self.is_logged_in = False\n",
    "        \n",
    "    def _encrypt_pw(self, password):\n",
    "        \"\"\"Encrypt the password with the username and return\n",
    "        the sha digest.\"\"\"\n",
    "        hash_string = self.username + password\n",
    "        hash_string = hash_string.encode(\"utf8\")\n",
    "        return hashlib.sha256(hash_string).hexdigest()\n",
    "    \n",
    "    def check_password(self, password):\n",
    "        \"\"\"Return True if the password is valid for this user,\n",
    "        false otherwise.\"\"\"\n",
    "        encrypted = self._encrypt_pw(password)\n",
    "        return encrypted == self.password"
   ]
  },
  {
   "cell_type": "code",
   "execution_count": 2,
   "metadata": {},
   "outputs": [],
   "source": [
    "class AuthException(Exception):\n",
    "    def __init__(self, username, user=None):\n",
    "        super().__init__(username, user)\n",
    "        self.username = username\n",
    "        self.user = user\n",
    "        \n",
    "class UsernameAlreadyExists(AuthException):\n",
    "    pass\n",
    "\n",
    "class PasswordTooShort(AuthException):\n",
    "    pass"
   ]
  },
  {
   "cell_type": "markdown",
   "metadata": {},
   "source": [
    "- Create  an __Authenticator__ class for mapping user objects to username and for adding users who has met two conditions(strong password, not-previously-exisisting-user)"
   ]
  },
  {
   "cell_type": "code",
   "execution_count": 3,
   "metadata": {},
   "outputs": [],
   "source": [
    "class Authenticator:\n",
    "    def __init__(self):\n",
    "        \"\"\"Construct an authenticator to manage users logging in and out.\"\"\"\n",
    "        self.users = {}\n",
    "        \n",
    "    def add_user(self, username, password):\n",
    "        if username in self.users:\n",
    "            raise UsernameAlreadyExists(username)\n",
    "        if len(password) < 6:\n",
    "            raise Password\n",
    "        self.users[username] = User(username, password)\n",
    "        \n",
    "    # Let's define login method to our authenticator class that raises \n",
    "    # InvalidUsername and InvalidPassword exceptions\n",
    "    \n",
    "    def login(self, username, password):\n",
    "        try:\n",
    "            user = self.users[username]\n",
    "        except KeyError:\n",
    "            raise InvalidUsername(username)\n",
    "            \n",
    "        if not user.check_password(password):\n",
    "            raise InvalidPassword(username, user)\n",
    "            \n",
    "        user.is_logged_in = True\n",
    "        \n",
    "        return True\n",
    "    \n",
    "    def is_logged_in(self, username):\n",
    "        if username in self.users:\n",
    "            return self.users[username].is_logged_in\n",
    "        return False"
   ]
  },
  {
   "cell_type": "markdown",
   "metadata": {},
   "source": [
    "- We add new exceptions to capture if username doe's not exist or password does not match"
   ]
  },
  {
   "cell_type": "code",
   "execution_count": 4,
   "metadata": {},
   "outputs": [],
   "source": [
    "class InvalidUsername(AuthException):\n",
    "    pass\n",
    "\n",
    "class InvalidPassword(AuthException):\n",
    "    pass"
   ]
  },
  {
   "cell_type": "markdown",
   "metadata": {},
   "source": [
    "- Let us create an __Authorizor__ class should not permit user access to a permission if they are not logged in, so they need reference to a specific authenticator."
   ]
  },
  {
   "cell_type": "code",
   "execution_count": 5,
   "metadata": {},
   "outputs": [],
   "source": [
    "authenticator = Authenticator()"
   ]
  },
  {
   "cell_type": "code",
   "execution_count": 6,
   "metadata": {},
   "outputs": [],
   "source": [
    "class Authorizor:\n",
    "    def __init__(self, authenticator):\n",
    "        self.authenticator = authenticator\n",
    "        self.permissions = {}\n",
    "        \n",
    "    # Add methods to add new permissions and to set up which users are \n",
    "    # associated with each permission\n",
    "    \n",
    "    def add_permission(self, perm_name):\n",
    "        '''Create a new permission that users\n",
    "can be added to'''\n",
    "        try:\n",
    "            perm_set = self.permissions[perm_name]\n",
    "        except KeyError:\n",
    "            self.permissions[perm_name] = set()\n",
    "        else:\n",
    "            raise PermissionError('Permission Exists')\n",
    "            \n",
    "    def permit_user(self, perm_name, username):\n",
    "        '''Grant the given permission to the user'''\n",
    "        try:\n",
    "            perm_set = self.permissions[perm_name]\n",
    "        except KeyError:\n",
    "            raise PermissionError(\"Permission does not exist\")\n",
    "        else:\n",
    "            if username not in self.authenticator.users:\n",
    "                raise InvalidUsername(username)\n",
    "            perm_set.add(username)\n",
    "            \n",
    "    def check_permission(self, perm_name, username):\n",
    "        if not self.authenticator.is_logged_in(username):\n",
    "            raise NotLoggedInError(username)\n",
    "        try:\n",
    "            perm_set = self.permissions[perm_name]\n",
    "        except KeyError:\n",
    "            raise PermissionError(\"Permission does not exist\")\n",
    "        else:\n",
    "            if username not in perm_set:\n",
    "                raise NotPermittedError(username)\n",
    "            else:\n",
    "                return True"
   ]
  },
  {
   "cell_type": "code",
   "execution_count": 7,
   "metadata": {},
   "outputs": [],
   "source": [
    "# \n",
    "class PermissionError(Exception):\n",
    "    pass\n",
    "\n",
    "class NotLoggedInError(AuthException):\n",
    "    pass\n",
    "\n",
    "class NotPermittedError(AuthException):\n",
    "    pass"
   ]
  },
  {
   "cell_type": "code",
   "execution_count": 8,
   "metadata": {},
   "outputs": [],
   "source": [
    "authorizor = Authorizor(authenticator)"
   ]
  },
  {
   "cell_type": "markdown",
   "metadata": {},
   "source": [
    "- This is our basic authentication/authorization system. We can test the system at the Python prompt, checking to see whether a user, _joe_ , is permitted to do tasks in the _paint_ department."
   ]
  },
  {
   "cell_type": "code",
   "execution_count": 78,
   "metadata": {},
   "outputs": [],
   "source": [
    "authenticator.add_user(\"joe\", \"joepassword\")"
   ]
  },
  {
   "cell_type": "code",
   "execution_count": 79,
   "metadata": {},
   "outputs": [],
   "source": [
    "authorizor.add_permission(\"paint\")"
   ]
  },
  {
   "cell_type": "code",
   "execution_count": 80,
   "metadata": {},
   "outputs": [
    {
     "ename": "NotLoggedInError",
     "evalue": "('joe', None)",
     "output_type": "error",
     "traceback": [
      "\u001b[1;31m---------------------------------------------------------------------------\u001b[0m",
      "\u001b[1;31mNotLoggedInError\u001b[0m                          Traceback (most recent call last)",
      "\u001b[1;32m<ipython-input-80-e80fdb0bf4a7>\u001b[0m in \u001b[0;36m<module>\u001b[1;34m\u001b[0m\n\u001b[1;32m----> 1\u001b[1;33m \u001b[0mauthorizor\u001b[0m\u001b[1;33m.\u001b[0m\u001b[0mcheck_permission\u001b[0m\u001b[1;33m(\u001b[0m\u001b[1;34m\"paint\"\u001b[0m\u001b[1;33m,\u001b[0m \u001b[1;34m\"joe\"\u001b[0m\u001b[1;33m)\u001b[0m\u001b[1;33m\u001b[0m\u001b[1;33m\u001b[0m\u001b[0m\n\u001b[0m",
      "\u001b[1;32m<ipython-input-75-11cdbac518a0>\u001b[0m in \u001b[0;36mcheck_permission\u001b[1;34m(self, perm_name, username)\u001b[0m\n\u001b[0;32m     30\u001b[0m     \u001b[1;32mdef\u001b[0m \u001b[0mcheck_permission\u001b[0m\u001b[1;33m(\u001b[0m\u001b[0mself\u001b[0m\u001b[1;33m,\u001b[0m \u001b[0mperm_name\u001b[0m\u001b[1;33m,\u001b[0m \u001b[0musername\u001b[0m\u001b[1;33m)\u001b[0m\u001b[1;33m:\u001b[0m\u001b[1;33m\u001b[0m\u001b[1;33m\u001b[0m\u001b[0m\n\u001b[0;32m     31\u001b[0m         \u001b[1;32mif\u001b[0m \u001b[1;32mnot\u001b[0m \u001b[0mself\u001b[0m\u001b[1;33m.\u001b[0m\u001b[0mauthenticator\u001b[0m\u001b[1;33m.\u001b[0m\u001b[0mis_logged_in\u001b[0m\u001b[1;33m(\u001b[0m\u001b[0musername\u001b[0m\u001b[1;33m)\u001b[0m\u001b[1;33m:\u001b[0m\u001b[1;33m\u001b[0m\u001b[1;33m\u001b[0m\u001b[0m\n\u001b[1;32m---> 32\u001b[1;33m             \u001b[1;32mraise\u001b[0m \u001b[0mNotLoggedInError\u001b[0m\u001b[1;33m(\u001b[0m\u001b[0musername\u001b[0m\u001b[1;33m)\u001b[0m\u001b[1;33m\u001b[0m\u001b[1;33m\u001b[0m\u001b[0m\n\u001b[0m\u001b[0;32m     33\u001b[0m         \u001b[1;32mtry\u001b[0m\u001b[1;33m:\u001b[0m\u001b[1;33m\u001b[0m\u001b[1;33m\u001b[0m\u001b[0m\n\u001b[0;32m     34\u001b[0m             \u001b[0mperm_set\u001b[0m \u001b[1;33m=\u001b[0m \u001b[0mself\u001b[0m\u001b[1;33m.\u001b[0m\u001b[0mpermissions\u001b[0m\u001b[1;33m[\u001b[0m\u001b[0mperm_name\u001b[0m\u001b[1;33m]\u001b[0m\u001b[1;33m\u001b[0m\u001b[1;33m\u001b[0m\u001b[0m\n",
      "\u001b[1;31mNotLoggedInError\u001b[0m: ('joe', None)"
     ]
    }
   ],
   "source": [
    "authorizor.check_permission(\"paint\", \"joe\")"
   ]
  },
  {
   "cell_type": "code",
   "execution_count": 81,
   "metadata": {},
   "outputs": [
    {
     "data": {
      "text/plain": [
       "False"
      ]
     },
     "execution_count": 81,
     "metadata": {},
     "output_type": "execute_result"
    }
   ],
   "source": [
    "authenticator.is_logged_in(\"joe\")"
   ]
  },
  {
   "cell_type": "code",
   "execution_count": 82,
   "metadata": {},
   "outputs": [
    {
     "data": {
      "text/plain": [
       "{'joe': <__main__.User at 0x14fafc46bc8>}"
      ]
     },
     "execution_count": 82,
     "metadata": {},
     "output_type": "execute_result"
    }
   ],
   "source": [
    "authenticator.users"
   ]
  },
  {
   "cell_type": "code",
   "execution_count": 83,
   "metadata": {},
   "outputs": [
    {
     "data": {
      "text/plain": [
       "True"
      ]
     },
     "execution_count": 83,
     "metadata": {},
     "output_type": "execute_result"
    }
   ],
   "source": [
    "authenticator.login(\"joe\", \"joepassword\")"
   ]
  },
  {
   "cell_type": "code",
   "execution_count": 84,
   "metadata": {
    "scrolled": true
   },
   "outputs": [
    {
     "ename": "NotPermittedError",
     "evalue": "('joe', None)",
     "output_type": "error",
     "traceback": [
      "\u001b[1;31m---------------------------------------------------------------------------\u001b[0m",
      "\u001b[1;31mNotPermittedError\u001b[0m                         Traceback (most recent call last)",
      "\u001b[1;32m<ipython-input-84-e80fdb0bf4a7>\u001b[0m in \u001b[0;36m<module>\u001b[1;34m\u001b[0m\n\u001b[1;32m----> 1\u001b[1;33m \u001b[0mauthorizor\u001b[0m\u001b[1;33m.\u001b[0m\u001b[0mcheck_permission\u001b[0m\u001b[1;33m(\u001b[0m\u001b[1;34m\"paint\"\u001b[0m\u001b[1;33m,\u001b[0m \u001b[1;34m\"joe\"\u001b[0m\u001b[1;33m)\u001b[0m\u001b[1;33m\u001b[0m\u001b[1;33m\u001b[0m\u001b[0m\n\u001b[0m",
      "\u001b[1;32m<ipython-input-75-11cdbac518a0>\u001b[0m in \u001b[0;36mcheck_permission\u001b[1;34m(self, perm_name, username)\u001b[0m\n\u001b[0;32m     37\u001b[0m         \u001b[1;32melse\u001b[0m\u001b[1;33m:\u001b[0m\u001b[1;33m\u001b[0m\u001b[1;33m\u001b[0m\u001b[0m\n\u001b[0;32m     38\u001b[0m             \u001b[1;32mif\u001b[0m \u001b[0musername\u001b[0m \u001b[1;32mnot\u001b[0m \u001b[1;32min\u001b[0m \u001b[0mperm_set\u001b[0m\u001b[1;33m:\u001b[0m\u001b[1;33m\u001b[0m\u001b[1;33m\u001b[0m\u001b[0m\n\u001b[1;32m---> 39\u001b[1;33m                 \u001b[1;32mraise\u001b[0m \u001b[0mNotPermittedError\u001b[0m\u001b[1;33m(\u001b[0m\u001b[0musername\u001b[0m\u001b[1;33m)\u001b[0m\u001b[1;33m\u001b[0m\u001b[1;33m\u001b[0m\u001b[0m\n\u001b[0m\u001b[0;32m     40\u001b[0m             \u001b[1;32melse\u001b[0m\u001b[1;33m:\u001b[0m\u001b[1;33m\u001b[0m\u001b[1;33m\u001b[0m\u001b[0m\n\u001b[0;32m     41\u001b[0m                 \u001b[1;32mreturn\u001b[0m \u001b[1;32mTrue\u001b[0m\u001b[1;33m\u001b[0m\u001b[1;33m\u001b[0m\u001b[0m\n",
      "\u001b[1;31mNotPermittedError\u001b[0m: ('joe', None)"
     ]
    }
   ],
   "source": [
    "authorizor.check_permission(\"paint\", \"joe\")"
   ]
  },
  {
   "cell_type": "code",
   "execution_count": 85,
   "metadata": {},
   "outputs": [
    {
     "ename": "PermissionError",
     "evalue": "Permission does not exist",
     "output_type": "error",
     "traceback": [
      "\u001b[1;31m---------------------------------------------------------------------------\u001b[0m",
      "\u001b[1;31mKeyError\u001b[0m                                  Traceback (most recent call last)",
      "\u001b[1;32m<ipython-input-75-11cdbac518a0>\u001b[0m in \u001b[0;36mcheck_permission\u001b[1;34m(self, perm_name, username)\u001b[0m\n\u001b[0;32m     33\u001b[0m         \u001b[1;32mtry\u001b[0m\u001b[1;33m:\u001b[0m\u001b[1;33m\u001b[0m\u001b[1;33m\u001b[0m\u001b[0m\n\u001b[1;32m---> 34\u001b[1;33m             \u001b[0mperm_set\u001b[0m \u001b[1;33m=\u001b[0m \u001b[0mself\u001b[0m\u001b[1;33m.\u001b[0m\u001b[0mpermissions\u001b[0m\u001b[1;33m[\u001b[0m\u001b[0mperm_name\u001b[0m\u001b[1;33m]\u001b[0m\u001b[1;33m\u001b[0m\u001b[1;33m\u001b[0m\u001b[0m\n\u001b[0m\u001b[0;32m     35\u001b[0m         \u001b[1;32mexcept\u001b[0m \u001b[0mKeyError\u001b[0m\u001b[1;33m:\u001b[0m\u001b[1;33m\u001b[0m\u001b[1;33m\u001b[0m\u001b[0m\n",
      "\u001b[1;31mKeyError\u001b[0m: 'mix'",
      "\nDuring handling of the above exception, another exception occurred:\n",
      "\u001b[1;31mPermissionError\u001b[0m                           Traceback (most recent call last)",
      "\u001b[1;32m<ipython-input-85-d4363cfaf345>\u001b[0m in \u001b[0;36m<module>\u001b[1;34m\u001b[0m\n\u001b[1;32m----> 1\u001b[1;33m \u001b[0mauthorizor\u001b[0m\u001b[1;33m.\u001b[0m\u001b[0mcheck_permission\u001b[0m\u001b[1;33m(\u001b[0m\u001b[1;34m\"mix\"\u001b[0m\u001b[1;33m,\u001b[0m \u001b[1;34m\"joe\"\u001b[0m\u001b[1;33m)\u001b[0m\u001b[1;33m\u001b[0m\u001b[1;33m\u001b[0m\u001b[0m\n\u001b[0m",
      "\u001b[1;32m<ipython-input-75-11cdbac518a0>\u001b[0m in \u001b[0;36mcheck_permission\u001b[1;34m(self, perm_name, username)\u001b[0m\n\u001b[0;32m     34\u001b[0m             \u001b[0mperm_set\u001b[0m \u001b[1;33m=\u001b[0m \u001b[0mself\u001b[0m\u001b[1;33m.\u001b[0m\u001b[0mpermissions\u001b[0m\u001b[1;33m[\u001b[0m\u001b[0mperm_name\u001b[0m\u001b[1;33m]\u001b[0m\u001b[1;33m\u001b[0m\u001b[1;33m\u001b[0m\u001b[0m\n\u001b[0;32m     35\u001b[0m         \u001b[1;32mexcept\u001b[0m \u001b[0mKeyError\u001b[0m\u001b[1;33m:\u001b[0m\u001b[1;33m\u001b[0m\u001b[1;33m\u001b[0m\u001b[0m\n\u001b[1;32m---> 36\u001b[1;33m             \u001b[1;32mraise\u001b[0m \u001b[0mPermissionError\u001b[0m\u001b[1;33m(\u001b[0m\u001b[1;34m\"Permission does not exist\"\u001b[0m\u001b[1;33m)\u001b[0m\u001b[1;33m\u001b[0m\u001b[1;33m\u001b[0m\u001b[0m\n\u001b[0m\u001b[0;32m     37\u001b[0m         \u001b[1;32melse\u001b[0m\u001b[1;33m:\u001b[0m\u001b[1;33m\u001b[0m\u001b[1;33m\u001b[0m\u001b[0m\n\u001b[0;32m     38\u001b[0m             \u001b[1;32mif\u001b[0m \u001b[0musername\u001b[0m \u001b[1;32mnot\u001b[0m \u001b[1;32min\u001b[0m \u001b[0mperm_set\u001b[0m\u001b[1;33m:\u001b[0m\u001b[1;33m\u001b[0m\u001b[1;33m\u001b[0m\u001b[0m\n",
      "\u001b[1;31mPermissionError\u001b[0m: Permission does not exist"
     ]
    }
   ],
   "source": [
    "authorizor.check_permission(\"mix\", \"joe\")"
   ]
  },
  {
   "cell_type": "code",
   "execution_count": 87,
   "metadata": {},
   "outputs": [
    {
     "ename": "PermissionError",
     "evalue": "Permission does not exist",
     "output_type": "error",
     "traceback": [
      "\u001b[1;31m---------------------------------------------------------------------------\u001b[0m",
      "\u001b[1;31mKeyError\u001b[0m                                  Traceback (most recent call last)",
      "\u001b[1;32m<ipython-input-75-11cdbac518a0>\u001b[0m in \u001b[0;36mpermit_user\u001b[1;34m(self, perm_name, username)\u001b[0m\n\u001b[0;32m     21\u001b[0m         \u001b[1;32mtry\u001b[0m\u001b[1;33m:\u001b[0m\u001b[1;33m\u001b[0m\u001b[1;33m\u001b[0m\u001b[0m\n\u001b[1;32m---> 22\u001b[1;33m             \u001b[0mperm_set\u001b[0m \u001b[1;33m=\u001b[0m \u001b[0mself\u001b[0m\u001b[1;33m.\u001b[0m\u001b[0mpermissions\u001b[0m\u001b[1;33m[\u001b[0m\u001b[0mperm_name\u001b[0m\u001b[1;33m]\u001b[0m\u001b[1;33m\u001b[0m\u001b[1;33m\u001b[0m\u001b[0m\n\u001b[0m\u001b[0;32m     23\u001b[0m         \u001b[1;32mexcept\u001b[0m \u001b[0mKeyError\u001b[0m\u001b[1;33m:\u001b[0m\u001b[1;33m\u001b[0m\u001b[1;33m\u001b[0m\u001b[0m\n",
      "\u001b[1;31mKeyError\u001b[0m: 'mix'",
      "\nDuring handling of the above exception, another exception occurred:\n",
      "\u001b[1;31mPermissionError\u001b[0m                           Traceback (most recent call last)",
      "\u001b[1;32m<ipython-input-87-6a3272715304>\u001b[0m in \u001b[0;36m<module>\u001b[1;34m\u001b[0m\n\u001b[1;32m----> 1\u001b[1;33m \u001b[0mauthorizor\u001b[0m\u001b[1;33m.\u001b[0m\u001b[0mpermit_user\u001b[0m\u001b[1;33m(\u001b[0m\u001b[1;34m\"mix\"\u001b[0m\u001b[1;33m,\u001b[0m \u001b[1;34m\"joe\"\u001b[0m\u001b[1;33m)\u001b[0m\u001b[1;33m\u001b[0m\u001b[1;33m\u001b[0m\u001b[0m\n\u001b[0m",
      "\u001b[1;32m<ipython-input-75-11cdbac518a0>\u001b[0m in \u001b[0;36mpermit_user\u001b[1;34m(self, perm_name, username)\u001b[0m\n\u001b[0;32m     22\u001b[0m             \u001b[0mperm_set\u001b[0m \u001b[1;33m=\u001b[0m \u001b[0mself\u001b[0m\u001b[1;33m.\u001b[0m\u001b[0mpermissions\u001b[0m\u001b[1;33m[\u001b[0m\u001b[0mperm_name\u001b[0m\u001b[1;33m]\u001b[0m\u001b[1;33m\u001b[0m\u001b[1;33m\u001b[0m\u001b[0m\n\u001b[0;32m     23\u001b[0m         \u001b[1;32mexcept\u001b[0m \u001b[0mKeyError\u001b[0m\u001b[1;33m:\u001b[0m\u001b[1;33m\u001b[0m\u001b[1;33m\u001b[0m\u001b[0m\n\u001b[1;32m---> 24\u001b[1;33m             \u001b[1;32mraise\u001b[0m \u001b[0mPermissionError\u001b[0m\u001b[1;33m(\u001b[0m\u001b[1;34m\"Permission does not exist\"\u001b[0m\u001b[1;33m)\u001b[0m\u001b[1;33m\u001b[0m\u001b[1;33m\u001b[0m\u001b[0m\n\u001b[0m\u001b[0;32m     25\u001b[0m         \u001b[1;32melse\u001b[0m\u001b[1;33m:\u001b[0m\u001b[1;33m\u001b[0m\u001b[1;33m\u001b[0m\u001b[0m\n\u001b[0;32m     26\u001b[0m             \u001b[1;32mif\u001b[0m \u001b[0musername\u001b[0m \u001b[1;32mnot\u001b[0m \u001b[1;32min\u001b[0m \u001b[0mself\u001b[0m\u001b[1;33m.\u001b[0m\u001b[0mauthenticator\u001b[0m\u001b[1;33m.\u001b[0m\u001b[0musers\u001b[0m\u001b[1;33m:\u001b[0m\u001b[1;33m\u001b[0m\u001b[1;33m\u001b[0m\u001b[0m\n",
      "\u001b[1;31mPermissionError\u001b[0m: Permission does not exist"
     ]
    }
   ],
   "source": [
    "authorizor.permit_user(\"mix\", \"joe\")"
   ]
  },
  {
   "cell_type": "code",
   "execution_count": 89,
   "metadata": {},
   "outputs": [],
   "source": [
    "authorizor.permit_user(\"paint\", \"joe\")"
   ]
  },
  {
   "cell_type": "code",
   "execution_count": 90,
   "metadata": {},
   "outputs": [
    {
     "data": {
      "text/plain": [
       "True"
      ]
     },
     "execution_count": 90,
     "metadata": {},
     "output_type": "execute_result"
    }
   ],
   "source": [
    "authorizor.check_permission(\"paint\", \"joe\")"
   ]
  },
  {
   "cell_type": "markdown",
   "metadata": {},
   "source": [
    "While verbose, the preceding output shows all of our code and most of our\n",
    "exceptions in action, but to really understand the API we've defined, we\n",
    "should write some exception handling code that actually uses it. Here's a\n",
    "basic menu interface that allows certain users to change or test a program:"
   ]
  },
  {
   "cell_type": "code",
   "execution_count": 11,
   "metadata": {},
   "outputs": [],
   "source": [
    "authenticator.add_user(\"joe\", \"joepassword\")\n",
    "authorizor.add_permission(\"test program\")\n",
    "authorizor.add_permission(\"change program\")\n",
    "authorizor.permit_user(\"test program\", \"joe\")"
   ]
  },
  {
   "cell_type": "code",
   "execution_count": 20,
   "metadata": {},
   "outputs": [],
   "source": [
    "class Editor:\n",
    "    def __init__(self):\n",
    "        self.username = None\n",
    "        self.menu_map = {\n",
    "            \"login\": self.login,\n",
    "            \"test\": self.test,\n",
    "            \"change\": self.change,\n",
    "            \"quit\": self.quit,\n",
    "        }\n",
    "        \n",
    "    def login(self):\n",
    "        logged_in = False\n",
    "        while not logged_in:\n",
    "            username = input(\"username: \")\n",
    "            password = input(\"password: \")\n",
    "            try:\n",
    "                logged_in = authenticator.login(username, password)\n",
    "            except InvalidUsername:\n",
    "                print(\"Sorry, that username does not exist\")\n",
    "            except InvalidPassword:\n",
    "                print(\"Sorry, incorrect password\")\n",
    "            else:\n",
    "                self.username = username\n",
    "                \n",
    "    def is_permitted(self, permission):\n",
    "        try:\n",
    "            authorizor.check_permission(permission, self.username)\n",
    "        except NotLoggedInError as e:\n",
    "            print(\"{} is not logged in\".format(e.username))\n",
    "            return False\n",
    "        except NotPermittedError as e:\n",
    "            print(\"{} cannot {}\".format(e.username, permission))\n",
    "            return False\n",
    "        else: \n",
    "            return True\n",
    "        \n",
    "    def test(self):\n",
    "        if self.is_permitted(\"test program\"):\n",
    "            print(\"Testing program now...\")\n",
    "            \n",
    "    def change(self):\n",
    "        if self.is_permitted(\"change_program\"):\n",
    "            print(\"Changing program now\")\n",
    "            \n",
    "    def quit(self):\n",
    "        raise SystemExit()\n",
    "        \n",
    "    def menu(self):\n",
    "        try:\n",
    "            answer = \"\"\n",
    "            while True:\n",
    "                print(\n",
    "                \"\"\"\n",
    "Please enter a command:\n",
    "\\tlogin\\tLogin\n",
    "\\ttest\\tTest the program\n",
    "\\tchange\\tChange the program\n",
    "\\tquit\\tQuit\n",
    "\"\"\")\n",
    "                answer = input(\"enter a command: \").lower()\n",
    "                try:\n",
    "                    func = self.menu_map[answer]\n",
    "                except KeyError:\n",
    "                    print(\"{} is not a valid option\".format(answer))\n",
    "                else:\n",
    "                    func()\n",
    "        finally:\n",
    "            print(\"Thank for testing the authorization/authentication classes\")                  "
   ]
  },
  {
   "cell_type": "code",
   "execution_count": null,
   "metadata": {},
   "outputs": [],
   "source": []
  }
 ],
 "metadata": {
  "kernelspec": {
   "display_name": "Python 3",
   "language": "python",
   "name": "python3"
  },
  "language_info": {
   "codemirror_mode": {
    "name": "ipython",
    "version": 3
   },
   "file_extension": ".py",
   "mimetype": "text/x-python",
   "name": "python",
   "nbconvert_exporter": "python",
   "pygments_lexer": "ipython3",
   "version": "3.7.6"
  }
 },
 "nbformat": 4,
 "nbformat_minor": 4
}
