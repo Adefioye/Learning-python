{
 "cells": [
  {
   "cell_type": "markdown",
   "metadata": {},
   "source": [
    "# Basic terminologies"
   ]
  },
  {
   "cell_type": "markdown",
   "metadata": {},
   "source": [
    "- Probability is the study of random events\n",
    "- Statistics is a investigative tool that allows us to draw conclusions about a population based on sample data\n",
    "- Computation as it concerns __statistics__ allows us to gain valuable insights from sample data using computer programs. For example, using pythonic statistics modules and libraries to do the inquiry process"
   ]
  },
  {
   "cell_type": "markdown",
   "metadata": {},
   "source": [
    "#### General steps involved  when dealing with data"
   ]
  },
  {
   "cell_type": "markdown",
   "metadata": {},
   "source": [
    "- Importinng and cleaning of datasets\n",
    "- Univariate analysis done by exploring each column/attribute in the dataset\n",
    "- Pairwise correlation between variables to investigate relationships\n",
    "- Multivariate analysis to explore complext relationships between attributes\n",
    "- Estimation and hypothesis testing"
   ]
  },
  {
   "cell_type": "markdown",
   "metadata": {},
   "source": [
    "#### Glossary"
   ]
  },
  {
   "cell_type": "code",
   "execution_count": 12,
   "metadata": {},
   "outputs": [],
   "source": [
    "def PercentileRank(scores, your_score):\n",
    "    count = 0\n",
    "    for score in scores:\n",
    "        if score <= your_score:\n",
    "            count += 1\n",
    "            percentile_rank = 100.0 * count / len(scores)\n",
    "    return percentile_rank"
   ]
  },
  {
   "cell_type": "code",
   "execution_count": 15,
   "metadata": {},
   "outputs": [],
   "source": [
    "def Percentile(scores, percentile_rank):\n",
    "    scores.sort()\n",
    "    for score in scores:\n",
    "        if PercentileRank(scores, score) >= percentile_rank:\n",
    "            return score"
   ]
  },
  {
   "cell_type": "code",
   "execution_count": 16,
   "metadata": {},
   "outputs": [],
   "source": [
    "def EvalCdf(sample, x):\n",
    "    count = 0.0\n",
    "    for value in sample:\n",
    "        if value <= x:\n",
    "            count += 1\n",
    "            prob = count / len(sample)\n",
    "    return prob\n"
   ]
  },
  {
   "cell_type": "code",
   "execution_count": 17,
   "metadata": {},
   "outputs": [],
   "source": [
    "# Check for class Cdf with methods such as Prob(x) and Value(p)"
   ]
  },
  {
   "cell_type": "code",
   "execution_count": 19,
   "metadata": {},
   "outputs": [],
   "source": [
    "def PositionToPercentile(position, field_size):\n",
    "    beat = field_size - position + 1\n",
    "    percentile = 100.0 * beat / field_size\n",
    "    return percentile"
   ]
  },
  {
   "cell_type": "code",
   "execution_count": 20,
   "metadata": {},
   "outputs": [],
   "source": [
    "def PercentileToPosition(percentile, field_size):\n",
    "    beat = percentile * field_size / 100.0\n",
    "    position = field_size - beat + 1\n",
    "    return position"
   ]
  },
  {
   "cell_type": "code",
   "execution_count": 21,
   "metadata": {},
   "outputs": [
    {
     "data": {
      "text/plain": [
       "<bound method rv_continuous.cdf of <scipy.stats._continuous_distns.norm_gen object at 0x0000029FEFB94348>>"
      ]
     },
     "execution_count": 21,
     "metadata": {},
     "output_type": "execute_result"
    }
   ],
   "source": [
    "import scipy.stats\n",
    "scipy.stats.norm.cdf # For computing CDF for normally distributed data"
   ]
  },
  {
   "cell_type": "code",
   "execution_count": 22,
   "metadata": {},
   "outputs": [],
   "source": [
    "def RenderNormalCdf(mu, sigma, low, high, n=101):\n",
    "    \"\"\"Generates sequences of xs and ps for a Normal CDF.\n",
    "\n",
    "    mu: parameter\n",
    "    sigma: parameter\n",
    "    low: float\n",
    "    high: float\n",
    "    n: number of points to render\n",
    "\n",
    "    returns: numpy arrays (xs, ps)\n",
    "    \"\"\"\n",
    "    xs = np.linspace(low, high, n)\n",
    "    ps = stats.norm.cdf(xs, mu, sigma)\n",
    "    return xs, ps"
   ]
  },
  {
   "cell_type": "code",
   "execution_count": 23,
   "metadata": {},
   "outputs": [],
   "source": [
    "def NormalProbability(ys, jitter=0):\n",
    "    \"\"\"Generates data for a normal probability plot.\n",
    "\n",
    "    ys: sequence of values\n",
    "    jitter: float magnitude of jitter added to the ys \n",
    "\n",
    "    returns: numpy arrays xs, ys\n",
    "    \"\"\"\n",
    "    n = len(ys)\n",
    "    xs = np.random.normal(0, 1, n)\n",
    "    xs.sort()\n",
    "    \n",
    "    if jitter:\n",
    "        ys = Jitter(ys, jitter)\n",
    "    else:\n",
    "        ys = np.array(ys)\n",
    "    ys.sort()\n",
    "\n",
    "    return xs, ys\n"
   ]
  },
  {
   "cell_type": "code",
   "execution_count": null,
   "metadata": {},
   "outputs": [],
   "source": []
  }
 ],
 "metadata": {
  "kernelspec": {
   "display_name": "Python 3",
   "language": "python",
   "name": "python3"
  },
  "language_info": {
   "codemirror_mode": {
    "name": "ipython",
    "version": 3
   },
   "file_extension": ".py",
   "mimetype": "text/x-python",
   "name": "python",
   "nbconvert_exporter": "python",
   "pygments_lexer": "ipython3",
   "version": "3.7.6"
  }
 },
 "nbformat": 4,
 "nbformat_minor": 4
}
