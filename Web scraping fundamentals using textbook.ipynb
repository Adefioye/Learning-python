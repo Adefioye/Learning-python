{
 "cells": [
  {
   "cell_type": "code",
   "execution_count": 1,
   "metadata": {},
   "outputs": [],
   "source": [
    "import scrapy"
   ]
  },
  {
   "cell_type": "code",
   "execution_count": 2,
   "metadata": {},
   "outputs": [],
   "source": [
    "import builtwith"
   ]
  },
  {
   "cell_type": "code",
   "execution_count": 3,
   "metadata": {},
   "outputs": [
    {
     "data": {
      "text/plain": [
       "{'web-servers': ['Nginx'],\n",
       " 'web-frameworks': ['Web2py', 'Twitter Bootstrap'],\n",
       " 'programming-languages': ['Python'],\n",
       " 'javascript-frameworks': ['jQuery', 'Modernizr', 'jQuery UI']}"
      ]
     },
     "execution_count": 3,
     "metadata": {},
     "output_type": "execute_result"
    }
   ],
   "source": [
    "builtwith.parse('http://example.webscraping.com') # To check the languages and web frameworks used to build the website"
   ]
  },
  {
   "cell_type": "code",
   "execution_count": 4,
   "metadata": {},
   "outputs": [
    {
     "data": {
      "text/plain": [
       "{'web-servers': ['Nginx'],\n",
       " 'maps': ['Google Maps'],\n",
       " 'javascript-frameworks': ['React', 'RequireJS'],\n",
       " 'web-frameworks': ['Ruby on Rails'],\n",
       " 'programming-languages': ['Ruby']}"
      ]
     },
     "execution_count": 4,
     "metadata": {},
     "output_type": "execute_result"
    }
   ],
   "source": [
    "builtwith.parse('http://airbnb.com') # "
   ]
  },
  {
   "cell_type": "code",
   "execution_count": 6,
   "metadata": {},
   "outputs": [
    {
     "data": {
      "text/plain": [
       "{'cdn': ['CloudFlare'],\n",
       " 'javascript-frameworks': ['AngularJS', 'React'],\n",
       " 'web-frameworks': ['Twitter Bootstrap']}"
      ]
     },
     "execution_count": 6,
     "metadata": {},
     "output_type": "execute_result"
    }
   ],
   "source": [
    "builtwith.parse('http://udemy.com')"
   ]
  },
  {
   "cell_type": "code",
   "execution_count": 8,
   "metadata": {},
   "outputs": [
    {
     "data": {
      "text/plain": [
       "{'javascript-frameworks': ['React'],\n",
       " 'analytics': ['comScore'],\n",
       " 'web-frameworks': ['Ruby on Rails'],\n",
       " 'programming-languages': ['Ruby']}"
      ]
     },
     "execution_count": 8,
     "metadata": {},
     "output_type": "execute_result"
    }
   ],
   "source": [
    "builtwith.parse('http://goodreads.com')"
   ]
  },
  {
   "cell_type": "code",
   "execution_count": 1,
   "metadata": {},
   "outputs": [],
   "source": [
    "#pip install python-whois"
   ]
  },
  {
   "cell_type": "code",
   "execution_count": 2,
   "metadata": {},
   "outputs": [],
   "source": [
    "import whois # Necessary to know who owns a website"
   ]
  },
  {
   "cell_type": "code",
   "execution_count": 3,
   "metadata": {},
   "outputs": [
    {
     "data": {
      "text/plain": [
       "{'domain_name': ['APPSPOT.COM', 'appspot.com'],\n",
       " 'registrar': 'MarkMonitor, Inc.',\n",
       " 'whois_server': 'whois.markmonitor.com',\n",
       " 'referral_url': None,\n",
       " 'updated_date': [datetime.datetime(2020, 2, 7, 10, 36, 6),\n",
       "  datetime.datetime(2020, 2, 7, 2, 36, 7)],\n",
       " 'creation_date': [datetime.datetime(2005, 3, 10, 2, 27, 55),\n",
       "  datetime.datetime(2005, 3, 9, 18, 27, 55)],\n",
       " 'expiration_date': [datetime.datetime(2021, 3, 10, 1, 27, 55),\n",
       "  datetime.datetime(2021, 3, 9, 0, 0)],\n",
       " 'name_servers': ['NS1.GOOGLE.COM',\n",
       "  'NS2.GOOGLE.COM',\n",
       "  'NS3.GOOGLE.COM',\n",
       "  'NS4.GOOGLE.COM',\n",
       "  'ns2.google.com',\n",
       "  'ns3.google.com',\n",
       "  'ns1.google.com',\n",
       "  'ns4.google.com'],\n",
       " 'status': ['clientDeleteProhibited https://icann.org/epp#clientDeleteProhibited',\n",
       "  'clientTransferProhibited https://icann.org/epp#clientTransferProhibited',\n",
       "  'clientUpdateProhibited https://icann.org/epp#clientUpdateProhibited',\n",
       "  'serverDeleteProhibited https://icann.org/epp#serverDeleteProhibited',\n",
       "  'serverTransferProhibited https://icann.org/epp#serverTransferProhibited',\n",
       "  'serverUpdateProhibited https://icann.org/epp#serverUpdateProhibited',\n",
       "  'clientUpdateProhibited (https://www.icann.org/epp#clientUpdateProhibited)',\n",
       "  'clientTransferProhibited (https://www.icann.org/epp#clientTransferProhibited)',\n",
       "  'clientDeleteProhibited (https://www.icann.org/epp#clientDeleteProhibited)',\n",
       "  'serverUpdateProhibited (https://www.icann.org/epp#serverUpdateProhibited)',\n",
       "  'serverTransferProhibited (https://www.icann.org/epp#serverTransferProhibited)',\n",
       "  'serverDeleteProhibited (https://www.icann.org/epp#serverDeleteProhibited)'],\n",
       " 'emails': ['abusecomplaints@markmonitor.com', 'whoisrequest@markmonitor.com'],\n",
       " 'dnssec': 'unsigned',\n",
       " 'name': None,\n",
       " 'org': 'Google LLC',\n",
       " 'address': None,\n",
       " 'city': None,\n",
       " 'state': 'CA',\n",
       " 'zipcode': None,\n",
       " 'country': 'US'}"
      ]
     },
     "execution_count": 3,
     "metadata": {},
     "output_type": "execute_result"
    }
   ],
   "source": [
    "whois.whois('appspot.com')"
   ]
  },
  {
   "cell_type": "code",
   "execution_count": 4,
   "metadata": {},
   "outputs": [
    {
     "data": {
      "text/plain": [
       "{'domain_name': ['AIRBNB.COM', 'airbnb.com'],\n",
       " 'registrar': 'MarkMonitor, Inc.',\n",
       " 'whois_server': 'whois.markmonitor.com',\n",
       " 'referral_url': None,\n",
       " 'updated_date': [datetime.datetime(2017, 12, 14, 19, 28, 41),\n",
       "  datetime.datetime(2017, 12, 14, 11, 20, 16)],\n",
       " 'creation_date': [datetime.datetime(2008, 8, 5, 7, 29),\n",
       "  datetime.datetime(2008, 8, 5, 0, 29)],\n",
       " 'expiration_date': [datetime.datetime(2020, 8, 5, 7, 29),\n",
       "  datetime.datetime(2020, 8, 5, 0, 29)],\n",
       " 'name_servers': ['DNS1.P08.NSONE.NET',\n",
       "  'DNS2.P08.NSONE.NET',\n",
       "  'DNS3.P08.NSONE.NET',\n",
       "  'DNS4.P08.NSONE.NET',\n",
       "  'NS1.P74.DYNECT.NET',\n",
       "  'NS2.P74.DYNECT.NET',\n",
       "  'NS3.P74.DYNECT.NET',\n",
       "  'NS4.P74.DYNECT.NET',\n",
       "  'ns2.p74.dynect.net',\n",
       "  'ns4.p74.dynect.net',\n",
       "  'dns1.p08.nsone.net',\n",
       "  'dns3.p08.nsone.net',\n",
       "  'ns3.p74.dynect.net',\n",
       "  'dns4.p08.nsone.net',\n",
       "  'dns2.p08.nsone.net',\n",
       "  'ns1.p74.dynect.net'],\n",
       " 'status': ['clientDeleteProhibited https://icann.org/epp#clientDeleteProhibited',\n",
       "  'clientTransferProhibited https://icann.org/epp#clientTransferProhibited',\n",
       "  'clientUpdateProhibited https://icann.org/epp#clientUpdateProhibited',\n",
       "  'serverDeleteProhibited https://icann.org/epp#serverDeleteProhibited',\n",
       "  'serverTransferProhibited https://icann.org/epp#serverTransferProhibited',\n",
       "  'serverUpdateProhibited https://icann.org/epp#serverUpdateProhibited',\n",
       "  'clientUpdateProhibited (https://www.icann.org/epp#clientUpdateProhibited)',\n",
       "  'clientTransferProhibited (https://www.icann.org/epp#clientTransferProhibited)',\n",
       "  'clientDeleteProhibited (https://www.icann.org/epp#clientDeleteProhibited)',\n",
       "  'serverUpdateProhibited (https://www.icann.org/epp#serverUpdateProhibited)',\n",
       "  'serverTransferProhibited (https://www.icann.org/epp#serverTransferProhibited)',\n",
       "  'serverDeleteProhibited (https://www.icann.org/epp#serverDeleteProhibited)'],\n",
       " 'emails': ['abusecomplaints@markmonitor.com', 'whoisrequest@markmonitor.com'],\n",
       " 'dnssec': 'unsigned',\n",
       " 'name': None,\n",
       " 'org': 'Airbnb, Inc.',\n",
       " 'address': None,\n",
       " 'city': None,\n",
       " 'state': 'CA',\n",
       " 'zipcode': None,\n",
       " 'country': 'US'}"
      ]
     },
     "execution_count": 4,
     "metadata": {},
     "output_type": "execute_result"
    }
   ],
   "source": [
    "whois.whois('airbnb.com')"
   ]
  },
  {
   "cell_type": "code",
   "execution_count": 6,
   "metadata": {},
   "outputs": [
    {
     "data": {
      "text/plain": [
       "{'domain_name': 'MONASH.EDU.AU',\n",
       " 'last_modified': '2018-07-02T02:12:28Z',\n",
       " 'registrar': 'EDUCATION SERVICES AUSTRALIA LIMITED',\n",
       " 'status': 'serverRenewProhibited https://afilias.com.au/get-au/whois-status-codes#serverRenewProhibited',\n",
       " 'registrant_name': 'Monash University',\n",
       " 'registrant_contact_name': 'Domain Request',\n",
       " 'name_servers': ['NS3.ITS.MONASH.EDU',\n",
       "  'NS1.ITS.MONASH.EDU.AU',\n",
       "  'NS2.ITS.MONASH.EDU.AU']}"
      ]
     },
     "execution_count": 6,
     "metadata": {},
     "output_type": "execute_result"
    }
   ],
   "source": [
    "whois.whois('monash.edu.au')"
   ]
  },
  {
   "cell_type": "code",
   "execution_count": 9,
   "metadata": {},
   "outputs": [],
   "source": [
    "#whois.whois('monash.edu.my') # This address failed"
   ]
  },
  {
   "cell_type": "raw",
   "metadata": {},
   "source": [
    "https://tools.ietf.org/html/rfc7231#section-6  # Website with info on the http errors"
   ]
  },
  {
   "cell_type": "code",
   "execution_count": 11,
   "metadata": {},
   "outputs": [],
   "source": [
    "import itertools"
   ]
  },
  {
   "cell_type": "code",
   "execution_count": 3,
   "metadata": {},
   "outputs": [],
   "source": [
    "import re"
   ]
  },
  {
   "cell_type": "code",
   "execution_count": 8,
   "metadata": {},
   "outputs": [
    {
     "data": {
      "text/plain": [
       "''"
      ]
     },
     "execution_count": 8,
     "metadata": {},
     "output_type": "execute_result"
    }
   ],
   "source": [
    "string = ''''''\n",
    "<a href=\"/places/default/view/Afghanistan-1\">,\n",
    "'<a href=\"/places/default/view/Albania-3\">'\n",
    "''''''"
   ]
  },
  {
   "cell_type": "code",
   "execution_count": 9,
   "metadata": {},
   "outputs": [
    {
     "data": {
      "text/plain": [
       "[]"
      ]
     },
     "execution_count": 9,
     "metadata": {},
     "output_type": "execute_result"
    }
   ],
   "source": [
    "re.findall(r'<a[^>]+href=[\"\\'](.*?)[\"\\']', string)"
   ]
  },
  {
   "cell_type": "code",
   "execution_count": null,
   "metadata": {},
   "outputs": [],
   "source": [
    "r'<a\\s*href=\"(.?)\">'"
   ]
  }
 ],
 "metadata": {
  "kernelspec": {
   "display_name": "Python 3",
   "language": "python",
   "name": "python3"
  },
  "language_info": {
   "codemirror_mode": {
    "name": "ipython",
    "version": 3
   },
   "file_extension": ".py",
   "mimetype": "text/x-python",
   "name": "python",
   "nbconvert_exporter": "python",
   "pygments_lexer": "ipython3",
   "version": "3.7.6"
  }
 },
 "nbformat": 4,
 "nbformat_minor": 4
}
