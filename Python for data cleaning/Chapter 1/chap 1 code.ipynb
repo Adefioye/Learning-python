{
 "cells": [
  {
   "cell_type": "code",
   "execution_count": 1,
   "metadata": {},
   "outputs": [],
   "source": [
    "# Set up environment to make viewing the output easier\n",
    "\n",
    "import pandas as pd"
   ]
  },
  {
   "cell_type": "code",
   "execution_count": 2,
   "metadata": {},
   "outputs": [],
   "source": [
    "pd.options.display.float_format = '{:,.2f}'.format\n",
    "pd.set_option('display.width', 85)\n",
    "pd.set_option('display.max_columns', 8)"
   ]
  },
  {
   "cell_type": "markdown",
   "metadata": {},
   "source": [
    "# Import csv file"
   ]
  },
  {
   "cell_type": "code",
   "execution_count": 3,
   "metadata": {},
   "outputs": [],
   "source": [
    "# To read a csv file use the below\n",
    "landtemps = pd.read_csv('data/landtempssample.csv', names=['stationid','year','month','avgtemp','latitude',\n",
    "                'longitude','elevation','station','countryid','country'], skiprows=1, low_memory=False,\n",
    "                       parse_dates=[['month', 'year']])"
   ]
  },
  {
   "cell_type": "code",
   "execution_count": 5,
   "metadata": {},
   "outputs": [
    {
     "data": {
      "text/html": [
       "<div>\n",
       "<style scoped>\n",
       "    .dataframe tbody tr th:only-of-type {\n",
       "        vertical-align: middle;\n",
       "    }\n",
       "\n",
       "    .dataframe tbody tr th {\n",
       "        vertical-align: top;\n",
       "    }\n",
       "\n",
       "    .dataframe thead th {\n",
       "        text-align: right;\n",
       "    }\n",
       "</style>\n",
       "<table border=\"1\" class=\"dataframe\">\n",
       "  <thead>\n",
       "    <tr style=\"text-align: right;\">\n",
       "      <th></th>\n",
       "      <th>month_year</th>\n",
       "      <th>stationid</th>\n",
       "      <th>avgtemp</th>\n",
       "      <th>latitude</th>\n",
       "      <th>...</th>\n",
       "      <th>elevation</th>\n",
       "      <th>station</th>\n",
       "      <th>countryid</th>\n",
       "      <th>country</th>\n",
       "    </tr>\n",
       "  </thead>\n",
       "  <tbody>\n",
       "    <tr>\n",
       "      <th>0</th>\n",
       "      <td>2000-04-01</td>\n",
       "      <td>USS0010K01S</td>\n",
       "      <td>5.27</td>\n",
       "      <td>39.90</td>\n",
       "      <td>...</td>\n",
       "      <td>2,773.70</td>\n",
       "      <td>INDIAN_CANYON</td>\n",
       "      <td>US</td>\n",
       "      <td>United States</td>\n",
       "    </tr>\n",
       "    <tr>\n",
       "      <th>1</th>\n",
       "      <td>1940-05-01</td>\n",
       "      <td>CI000085406</td>\n",
       "      <td>18.04</td>\n",
       "      <td>-18.35</td>\n",
       "      <td>...</td>\n",
       "      <td>58.00</td>\n",
       "      <td>ARICA</td>\n",
       "      <td>CI</td>\n",
       "      <td>Chile</td>\n",
       "    </tr>\n",
       "    <tr>\n",
       "      <th>2</th>\n",
       "      <td>2013-12-01</td>\n",
       "      <td>USC00036376</td>\n",
       "      <td>6.22</td>\n",
       "      <td>34.37</td>\n",
       "      <td>...</td>\n",
       "      <td>61.00</td>\n",
       "      <td>SAINT_CHARLES</td>\n",
       "      <td>US</td>\n",
       "      <td>United States</td>\n",
       "    </tr>\n",
       "    <tr>\n",
       "      <th>3</th>\n",
       "      <td>1963-02-01</td>\n",
       "      <td>ASN00024002</td>\n",
       "      <td>22.93</td>\n",
       "      <td>-34.28</td>\n",
       "      <td>...</td>\n",
       "      <td>65.50</td>\n",
       "      <td>BERRI_IRRIGATION</td>\n",
       "      <td>AS</td>\n",
       "      <td>Australia</td>\n",
       "    </tr>\n",
       "    <tr>\n",
       "      <th>4</th>\n",
       "      <td>2001-11-01</td>\n",
       "      <td>ASN00028007</td>\n",
       "      <td>nan</td>\n",
       "      <td>-14.78</td>\n",
       "      <td>...</td>\n",
       "      <td>79.40</td>\n",
       "      <td>MUSGRAVE</td>\n",
       "      <td>AS</td>\n",
       "      <td>Australia</td>\n",
       "    </tr>\n",
       "  </tbody>\n",
       "</table>\n",
       "<p>5 rows × 9 columns</p>\n",
       "</div>"
      ],
      "text/plain": [
       "  month_year    stationid  avgtemp  latitude  ...  elevation           station  \\\n",
       "0 2000-04-01  USS0010K01S     5.27     39.90  ...   2,773.70     INDIAN_CANYON   \n",
       "1 1940-05-01  CI000085406    18.04    -18.35  ...      58.00             ARICA   \n",
       "2 2013-12-01  USC00036376     6.22     34.37  ...      61.00     SAINT_CHARLES   \n",
       "3 1963-02-01  ASN00024002    22.93    -34.28  ...      65.50  BERRI_IRRIGATION   \n",
       "4 2001-11-01  ASN00028007      nan    -14.78  ...      79.40          MUSGRAVE   \n",
       "\n",
       "  countryid        country  \n",
       "0        US  United States  \n",
       "1        CI          Chile  \n",
       "2        US  United States  \n",
       "3        AS      Australia  \n",
       "4        AS      Australia  \n",
       "\n",
       "[5 rows x 9 columns]"
      ]
     },
     "execution_count": 5,
     "metadata": {},
     "output_type": "execute_result"
    }
   ],
   "source": [
    "landtemps.head()"
   ]
  },
  {
   "cell_type": "code",
   "execution_count": 6,
   "metadata": {},
   "outputs": [],
   "source": [
    "# Give the month_year a better name called 'month' \n",
    "landtemps.rename(columns={'month_year': 'measuredate'}, inplace=True)"
   ]
  },
  {
   "cell_type": "code",
   "execution_count": 7,
   "metadata": {},
   "outputs": [
    {
     "data": {
      "text/plain": [
       "Index(['measuredate', 'stationid', 'avgtemp', 'latitude', 'longitude', 'elevation',\n",
       "       'station', 'countryid', 'country'],\n",
       "      dtype='object')"
      ]
     },
     "execution_count": 7,
     "metadata": {},
     "output_type": "execute_result"
    }
   ],
   "source": [
    "landtemps.columns"
   ]
  },
  {
   "cell_type": "code",
   "execution_count": 8,
   "metadata": {},
   "outputs": [
    {
     "data": {
      "text/plain": [
       "count   85,554.00\n",
       "mean        10.92\n",
       "std         11.52\n",
       "min        -70.70\n",
       "25%          3.46\n",
       "50%         12.22\n",
       "75%         19.57\n",
       "max         39.95\n",
       "Name: avgtemp, dtype: float64"
      ]
     },
     "execution_count": 8,
     "metadata": {},
     "output_type": "execute_result"
    }
   ],
   "source": [
    "# Calculate summary stat on numerical variable\n",
    "landtemps.avgtemp.describe()"
   ]
  },
  {
   "cell_type": "code",
   "execution_count": 9,
   "metadata": {},
   "outputs": [
    {
     "data": {
      "text/plain": [
       "measuredate        0\n",
       "stationid          0\n",
       "avgtemp        14446\n",
       "latitude           0\n",
       "longitude          0\n",
       "elevation          0\n",
       "station            0\n",
       "countryid          0\n",
       "country            5\n",
       "dtype: int64"
      ]
     },
     "execution_count": 9,
     "metadata": {},
     "output_type": "execute_result"
    }
   ],
   "source": [
    "# Check missing value\n",
    "\n",
    "landtemps.isnull().sum()"
   ]
  },
  {
   "cell_type": "code",
   "execution_count": 10,
   "metadata": {},
   "outputs": [
    {
     "data": {
      "text/plain": [
       "100000"
      ]
     },
     "execution_count": 10,
     "metadata": {},
     "output_type": "execute_result"
    }
   ],
   "source": [
    "# Remove subset of rows with avgtemp missing values\n",
    "\n",
    "len(landtemps)"
   ]
  },
  {
   "cell_type": "code",
   "execution_count": 11,
   "metadata": {},
   "outputs": [],
   "source": [
    "landtemps.dropna(inplace=True)"
   ]
  },
  {
   "cell_type": "code",
   "execution_count": 12,
   "metadata": {},
   "outputs": [
    {
     "data": {
      "text/plain": [
       "85552"
      ]
     },
     "execution_count": 12,
     "metadata": {},
     "output_type": "execute_result"
    }
   ],
   "source": [
    "len(landtemps)"
   ]
  },
  {
   "cell_type": "code",
   "execution_count": 13,
   "metadata": {},
   "outputs": [
    {
     "data": {
      "text/plain": [
       "measuredate    0\n",
       "stationid      0\n",
       "avgtemp        0\n",
       "latitude       0\n",
       "longitude      0\n",
       "elevation      0\n",
       "station        0\n",
       "countryid      0\n",
       "country        0\n",
       "dtype: int64"
      ]
     },
     "execution_count": 13,
     "metadata": {},
     "output_type": "execute_result"
    }
   ],
   "source": [
    "landtemps.isnull().sum()"
   ]
  },
  {
   "cell_type": "markdown",
   "metadata": {},
   "source": [
    "# Reading a Zip File"
   ]
  },
  {
   "cell_type": "code",
   "execution_count": 14,
   "metadata": {},
   "outputs": [],
   "source": [
    "# pd.read_csv can read a zip file. Compression arg should be provided with zip\n",
    "\n",
    "# landtemps = pd.read_csv('data/landtemps.zip', names=['stationid','year','month','avgtemp','latitude',\n",
    "#                 'longitude','elevation','station','countryid','country'], skiprows=1, low_memory=False,\n",
    "#                        parse_dates=[['month', 'year']], compression='zip')"
   ]
  },
  {
   "cell_type": "code",
   "execution_count": 77,
   "metadata": {},
   "outputs": [],
   "source": [
    "# Read Excel file\n",
    "# we note the sheet_name of the excel file\n",
    "# We skipped first 4 rows including the header, and also skipped the last row\n",
    "# The column used are A and C through T. column B is excluded\n",
    "\n",
    "percapitaGDP = pd.read_excel(\"data/GDPpercapita.xlsx\", sheet_name=\"OECD.Stat export\", skiprows=4, skipfooter=1,\n",
    "                                    usecols=\"A,C:T\")"
   ]
  },
  {
   "cell_type": "code",
   "execution_count": 78,
   "metadata": {},
   "outputs": [
    {
     "data": {
      "text/html": [
       "<div>\n",
       "<style scoped>\n",
       "    .dataframe tbody tr th:only-of-type {\n",
       "        vertical-align: middle;\n",
       "    }\n",
       "\n",
       "    .dataframe tbody tr th {\n",
       "        vertical-align: top;\n",
       "    }\n",
       "\n",
       "    .dataframe thead th {\n",
       "        text-align: right;\n",
       "    }\n",
       "</style>\n",
       "<table border=\"1\" class=\"dataframe\">\n",
       "  <thead>\n",
       "    <tr style=\"text-align: right;\">\n",
       "      <th></th>\n",
       "      <th>Year</th>\n",
       "      <th>2001</th>\n",
       "      <th>2002</th>\n",
       "      <th>2003</th>\n",
       "      <th>...</th>\n",
       "      <th>2015</th>\n",
       "      <th>2016</th>\n",
       "      <th>2017</th>\n",
       "      <th>2018</th>\n",
       "    </tr>\n",
       "  </thead>\n",
       "  <tbody>\n",
       "    <tr>\n",
       "      <th>0</th>\n",
       "      <td>Metropolitan areas</td>\n",
       "      <td>NaN</td>\n",
       "      <td>NaN</td>\n",
       "      <td>NaN</td>\n",
       "      <td>...</td>\n",
       "      <td>NaN</td>\n",
       "      <td>NaN</td>\n",
       "      <td>NaN</td>\n",
       "      <td>NaN</td>\n",
       "    </tr>\n",
       "    <tr>\n",
       "      <th>1</th>\n",
       "      <td>AUS: Australia</td>\n",
       "      <td>..</td>\n",
       "      <td>..</td>\n",
       "      <td>..</td>\n",
       "      <td>...</td>\n",
       "      <td>..</td>\n",
       "      <td>..</td>\n",
       "      <td>..</td>\n",
       "      <td>..</td>\n",
       "    </tr>\n",
       "    <tr>\n",
       "      <th>2</th>\n",
       "      <td>AUS01: Greater Sydney</td>\n",
       "      <td>43313</td>\n",
       "      <td>44008</td>\n",
       "      <td>45424</td>\n",
       "      <td>...</td>\n",
       "      <td>50075</td>\n",
       "      <td>50519</td>\n",
       "      <td>50578</td>\n",
       "      <td>49860</td>\n",
       "    </tr>\n",
       "    <tr>\n",
       "      <th>3</th>\n",
       "      <td>AUS02: Greater Melbourne</td>\n",
       "      <td>40125</td>\n",
       "      <td>40894</td>\n",
       "      <td>41602</td>\n",
       "      <td>...</td>\n",
       "      <td>42928</td>\n",
       "      <td>42671</td>\n",
       "      <td>43025</td>\n",
       "      <td>42674</td>\n",
       "    </tr>\n",
       "    <tr>\n",
       "      <th>4</th>\n",
       "      <td>AUS03: Greater Brisbane</td>\n",
       "      <td>37580</td>\n",
       "      <td>37564</td>\n",
       "      <td>39080</td>\n",
       "      <td>...</td>\n",
       "      <td>44388</td>\n",
       "      <td>45723</td>\n",
       "      <td>46876</td>\n",
       "      <td>46640</td>\n",
       "    </tr>\n",
       "  </tbody>\n",
       "</table>\n",
       "<p>5 rows × 19 columns</p>\n",
       "</div>"
      ],
      "text/plain": [
       "                         Year   2001   2002   2003  ...   2015   2016   2017   2018\n",
       "0          Metropolitan areas    NaN    NaN    NaN  ...    NaN    NaN    NaN    NaN\n",
       "1              AUS: Australia     ..     ..     ..  ...     ..     ..     ..     ..\n",
       "2       AUS01: Greater Sydney  43313  44008  45424  ...  50075  50519  50578  49860\n",
       "3    AUS02: Greater Melbourne  40125  40894  41602  ...  42928  42671  43025  42674\n",
       "4     AUS03: Greater Brisbane  37580  37564  39080  ...  44388  45723  46876  46640\n",
       "\n",
       "[5 rows x 19 columns]"
      ]
     },
     "execution_count": 78,
     "metadata": {},
     "output_type": "execute_result"
    }
   ],
   "source": [
    "percapitaGDP.head()"
   ]
  },
  {
   "cell_type": "code",
   "execution_count": 79,
   "metadata": {},
   "outputs": [
    {
     "name": "stdout",
     "output_type": "stream",
     "text": [
      "<class 'pandas.core.frame.DataFrame'>\n",
      "RangeIndex: 702 entries, 0 to 701\n",
      "Data columns (total 19 columns):\n",
      " #   Column  Non-Null Count  Dtype \n",
      "---  ------  --------------  ----- \n",
      " 0   Year    702 non-null    object\n",
      " 1   2001    701 non-null    object\n",
      " 2   2002    701 non-null    object\n",
      " 3   2003    701 non-null    object\n",
      " 4   2004    701 non-null    object\n",
      " 5   2005    701 non-null    object\n",
      " 6   2006    701 non-null    object\n",
      " 7   2007    701 non-null    object\n",
      " 8   2008    701 non-null    object\n",
      " 9   2009    701 non-null    object\n",
      " 10  2010    701 non-null    object\n",
      " 11  2011    701 non-null    object\n",
      " 12  2012    701 non-null    object\n",
      " 13  2013    701 non-null    object\n",
      " 14  2014    701 non-null    object\n",
      " 15  2015    701 non-null    object\n",
      " 16  2016    701 non-null    object\n",
      " 17  2017    701 non-null    object\n",
      " 18  2018    701 non-null    object\n",
      "dtypes: object(19)\n",
      "memory usage: 104.3+ KB\n"
     ]
    }
   ],
   "source": [
    "# To get info on attribute, their data types and number of non-null value\n",
    "\n",
    "percapitaGDP.info()"
   ]
  },
  {
   "cell_type": "code",
   "execution_count": 80,
   "metadata": {},
   "outputs": [],
   "source": [
    "# Rename Year column to metro and remove leading and trailing spaces in metro\n",
    "\n",
    "percapitaGDP.rename(columns={'Year': 'metro'}, inplace=True)"
   ]
  },
  {
   "cell_type": "code",
   "execution_count": 81,
   "metadata": {},
   "outputs": [
    {
     "name": "stdout",
     "output_type": "stream",
     "text": [
      "True\n",
      "True\n"
     ]
    }
   ],
   "source": [
    "# To check if there is leading and trailing space\n",
    "print(percapitaGDP.metro.str.startswith(' ').any())\n",
    "print(percapitaGDP.metro.str.endswith(' ').any())\n",
    "\n",
    "# Remove trailing and leading spaces in metro column\n",
    "percapitaGDP.metro = percapitaGDP.metro.str.strip()"
   ]
  },
  {
   "cell_type": "code",
   "execution_count": 82,
   "metadata": {},
   "outputs": [
    {
     "name": "stdout",
     "output_type": "stream",
     "text": [
      "False\n",
      "False\n"
     ]
    }
   ],
   "source": [
    "# To check again there is leading and trailing space\n",
    "print(percapitaGDP.metro.str.startswith(' ').any())\n",
    "print(percapitaGDP.metro.str.endswith(' ').any()) # All clear, its false"
   ]
  },
  {
   "cell_type": "code",
   "execution_count": 83,
   "metadata": {},
   "outputs": [],
   "source": [
    "# Iterate over 2001-2018 column to convert them to numeric data and rename the columns\n",
    "\n",
    "for col in percapitaGDP.columns[1:]:\n",
    "    percapitaGDP[col] = pd.to_numeric(percapitaGDP[col], errors='coerce') # coerce force the string character to Nan\n",
    "    percapitaGDP.rename(columns={col: 'pcGDP' + col }, inplace=True)"
   ]
  },
  {
   "cell_type": "code",
   "execution_count": 84,
   "metadata": {},
   "outputs": [
    {
     "data": {
      "text/plain": [
       "Index(['metro', 'pcGDP2001', 'pcGDP2002', 'pcGDP2003', 'pcGDP2004', 'pcGDP2005',\n",
       "       'pcGDP2006', 'pcGDP2007', 'pcGDP2008', 'pcGDP2009', 'pcGDP2010', 'pcGDP2011',\n",
       "       'pcGDP2012', 'pcGDP2013', 'pcGDP2014', 'pcGDP2015', 'pcGDP2016', 'pcGDP2017',\n",
       "       'pcGDP2018'],\n",
       "      dtype='object')"
      ]
     },
     "execution_count": 84,
     "metadata": {},
     "output_type": "execute_result"
    }
   ],
   "source": [
    "percapitaGDP.columns"
   ]
  },
  {
   "cell_type": "code",
   "execution_count": 85,
   "metadata": {
    "scrolled": true
   },
   "outputs": [
    {
     "data": {
      "text/html": [
       "<div>\n",
       "<style scoped>\n",
       "    .dataframe tbody tr th:only-of-type {\n",
       "        vertical-align: middle;\n",
       "    }\n",
       "\n",
       "    .dataframe tbody tr th {\n",
       "        vertical-align: top;\n",
       "    }\n",
       "\n",
       "    .dataframe thead th {\n",
       "        text-align: right;\n",
       "    }\n",
       "</style>\n",
       "<table border=\"1\" class=\"dataframe\">\n",
       "  <thead>\n",
       "    <tr style=\"text-align: right;\">\n",
       "      <th></th>\n",
       "      <th>metro</th>\n",
       "      <th>pcGDP2001</th>\n",
       "      <th>pcGDP2002</th>\n",
       "      <th>pcGDP2003</th>\n",
       "      <th>...</th>\n",
       "      <th>pcGDP2015</th>\n",
       "      <th>pcGDP2016</th>\n",
       "      <th>pcGDP2017</th>\n",
       "      <th>pcGDP2018</th>\n",
       "    </tr>\n",
       "  </thead>\n",
       "  <tbody>\n",
       "    <tr>\n",
       "      <th>0</th>\n",
       "      <td>Metropolitan areas</td>\n",
       "      <td>nan</td>\n",
       "      <td>nan</td>\n",
       "      <td>nan</td>\n",
       "      <td>...</td>\n",
       "      <td>nan</td>\n",
       "      <td>nan</td>\n",
       "      <td>nan</td>\n",
       "      <td>nan</td>\n",
       "    </tr>\n",
       "    <tr>\n",
       "      <th>1</th>\n",
       "      <td>AUS: Australia</td>\n",
       "      <td>nan</td>\n",
       "      <td>nan</td>\n",
       "      <td>nan</td>\n",
       "      <td>...</td>\n",
       "      <td>nan</td>\n",
       "      <td>nan</td>\n",
       "      <td>nan</td>\n",
       "      <td>nan</td>\n",
       "    </tr>\n",
       "    <tr>\n",
       "      <th>2</th>\n",
       "      <td>AUS01: Greater Sydney</td>\n",
       "      <td>43,313.00</td>\n",
       "      <td>44,008.00</td>\n",
       "      <td>45,424.00</td>\n",
       "      <td>...</td>\n",
       "      <td>50,075.00</td>\n",
       "      <td>50,519.00</td>\n",
       "      <td>50,578.00</td>\n",
       "      <td>49,860.00</td>\n",
       "    </tr>\n",
       "    <tr>\n",
       "      <th>3</th>\n",
       "      <td>AUS02: Greater Melbourne</td>\n",
       "      <td>40,125.00</td>\n",
       "      <td>40,894.00</td>\n",
       "      <td>41,602.00</td>\n",
       "      <td>...</td>\n",
       "      <td>42,928.00</td>\n",
       "      <td>42,671.00</td>\n",
       "      <td>43,025.00</td>\n",
       "      <td>42,674.00</td>\n",
       "    </tr>\n",
       "    <tr>\n",
       "      <th>4</th>\n",
       "      <td>AUS03: Greater Brisbane</td>\n",
       "      <td>37,580.00</td>\n",
       "      <td>37,564.00</td>\n",
       "      <td>39,080.00</td>\n",
       "      <td>...</td>\n",
       "      <td>44,388.00</td>\n",
       "      <td>45,723.00</td>\n",
       "      <td>46,876.00</td>\n",
       "      <td>46,640.00</td>\n",
       "    </tr>\n",
       "  </tbody>\n",
       "</table>\n",
       "<p>5 rows × 19 columns</p>\n",
       "</div>"
      ],
      "text/plain": [
       "                      metro  pcGDP2001  pcGDP2002  pcGDP2003  ...  pcGDP2015  \\\n",
       "0        Metropolitan areas        nan        nan        nan  ...        nan   \n",
       "1            AUS: Australia        nan        nan        nan  ...        nan   \n",
       "2     AUS01: Greater Sydney  43,313.00  44,008.00  45,424.00  ...  50,075.00   \n",
       "3  AUS02: Greater Melbourne  40,125.00  40,894.00  41,602.00  ...  42,928.00   \n",
       "4   AUS03: Greater Brisbane  37,580.00  37,564.00  39,080.00  ...  44,388.00   \n",
       "\n",
       "   pcGDP2016  pcGDP2017  pcGDP2018  \n",
       "0        nan        nan        nan  \n",
       "1        nan        nan        nan  \n",
       "2  50,519.00  50,578.00  49,860.00  \n",
       "3  42,671.00  43,025.00  42,674.00  \n",
       "4  45,723.00  46,876.00  46,640.00  \n",
       "\n",
       "[5 rows x 19 columns]"
      ]
     },
     "execution_count": 85,
     "metadata": {},
     "output_type": "execute_result"
    }
   ],
   "source": [
    "percapitaGDP.head()"
   ]
  },
  {
   "cell_type": "code",
   "execution_count": 86,
   "metadata": {},
   "outputs": [
    {
     "name": "stdout",
     "output_type": "stream",
     "text": [
      "<class 'pandas.core.frame.DataFrame'>\n",
      "RangeIndex: 702 entries, 0 to 701\n",
      "Data columns (total 19 columns):\n",
      " #   Column     Non-Null Count  Dtype  \n",
      "---  ------     --------------  -----  \n",
      " 0   metro      702 non-null    object \n",
      " 1   pcGDP2001  424 non-null    float64\n",
      " 2   pcGDP2002  440 non-null    float64\n",
      " 3   pcGDP2003  440 non-null    float64\n",
      " 4   pcGDP2004  440 non-null    float64\n",
      " 5   pcGDP2005  447 non-null    float64\n",
      " 6   pcGDP2006  447 non-null    float64\n",
      " 7   pcGDP2007  447 non-null    float64\n",
      " 8   pcGDP2008  455 non-null    float64\n",
      " 9   pcGDP2009  471 non-null    float64\n",
      " 10  pcGDP2010  471 non-null    float64\n",
      " 11  pcGDP2011  480 non-null    float64\n",
      " 12  pcGDP2012  480 non-null    float64\n",
      " 13  pcGDP2013  480 non-null    float64\n",
      " 14  pcGDP2014  480 non-null    float64\n",
      " 15  pcGDP2015  480 non-null    float64\n",
      " 16  pcGDP2016  480 non-null    float64\n",
      " 17  pcGDP2017  445 non-null    float64\n",
      " 18  pcGDP2018  441 non-null    float64\n",
      "dtypes: float64(18), object(1)\n",
      "memory usage: 104.3+ KB\n"
     ]
    }
   ],
   "source": [
    "percapitaGDP.info() # objects successfully converted to numbers"
   ]
  },
  {
   "cell_type": "code",
   "execution_count": 87,
   "metadata": {},
   "outputs": [
    {
     "data": {
      "text/plain": [
       "(702, 19)"
      ]
     },
     "execution_count": 87,
     "metadata": {},
     "output_type": "execute_result"
    }
   ],
   "source": [
    "percapitaGDP.shape"
   ]
  },
  {
   "cell_type": "code",
   "execution_count": 88,
   "metadata": {},
   "outputs": [],
   "source": [
    "# Drop nan values\n",
    "percapitaGDP.dropna(subset=percapitaGDP.columns[1:], how='all', inplace=True)"
   ]
  },
  {
   "cell_type": "code",
   "execution_count": 89,
   "metadata": {},
   "outputs": [
    {
     "data": {
      "text/plain": [
       "(480, 19)"
      ]
     },
     "execution_count": 89,
     "metadata": {},
     "output_type": "execute_result"
    }
   ],
   "source": [
    "percapitaGDP.shape"
   ]
  },
  {
   "cell_type": "code",
   "execution_count": 92,
   "metadata": {},
   "outputs": [
    {
     "name": "stdout",
     "output_type": "stream",
     "text": [
      "480\n",
      "480\n"
     ]
    }
   ],
   "source": [
    "# To ensure there are 480 valid numbers in mtero column\n",
    "print(percapitaGDP.metro.count())\n",
    "print(percapitaGDP.metro.nunique())\n",
    "\n",
    "# set the index on metro column\n",
    "percapitaGDP.set_index('metro', inplace=True)"
   ]
  },
  {
   "cell_type": "code",
   "execution_count": 93,
   "metadata": {},
   "outputs": [
    {
     "data": {
      "text/html": [
       "<div>\n",
       "<style scoped>\n",
       "    .dataframe tbody tr th:only-of-type {\n",
       "        vertical-align: middle;\n",
       "    }\n",
       "\n",
       "    .dataframe tbody tr th {\n",
       "        vertical-align: top;\n",
       "    }\n",
       "\n",
       "    .dataframe thead th {\n",
       "        text-align: right;\n",
       "    }\n",
       "</style>\n",
       "<table border=\"1\" class=\"dataframe\">\n",
       "  <thead>\n",
       "    <tr style=\"text-align: right;\">\n",
       "      <th></th>\n",
       "      <th>pcGDP2001</th>\n",
       "      <th>pcGDP2002</th>\n",
       "      <th>pcGDP2003</th>\n",
       "      <th>pcGDP2004</th>\n",
       "      <th>...</th>\n",
       "      <th>pcGDP2015</th>\n",
       "      <th>pcGDP2016</th>\n",
       "      <th>pcGDP2017</th>\n",
       "      <th>pcGDP2018</th>\n",
       "    </tr>\n",
       "    <tr>\n",
       "      <th>metro</th>\n",
       "      <th></th>\n",
       "      <th></th>\n",
       "      <th></th>\n",
       "      <th></th>\n",
       "      <th></th>\n",
       "      <th></th>\n",
       "      <th></th>\n",
       "      <th></th>\n",
       "      <th></th>\n",
       "    </tr>\n",
       "  </thead>\n",
       "  <tbody>\n",
       "    <tr>\n",
       "      <th>AUS01: Greater Sydney</th>\n",
       "      <td>43,313.00</td>\n",
       "      <td>44,008.00</td>\n",
       "      <td>45,424.00</td>\n",
       "      <td>45,837.00</td>\n",
       "      <td>...</td>\n",
       "      <td>50,075.00</td>\n",
       "      <td>50,519.00</td>\n",
       "      <td>50,578.00</td>\n",
       "      <td>49,860.00</td>\n",
       "    </tr>\n",
       "    <tr>\n",
       "      <th>AUS02: Greater Melbourne</th>\n",
       "      <td>40,125.00</td>\n",
       "      <td>40,894.00</td>\n",
       "      <td>41,602.00</td>\n",
       "      <td>42,188.00</td>\n",
       "      <td>...</td>\n",
       "      <td>42,928.00</td>\n",
       "      <td>42,671.00</td>\n",
       "      <td>43,025.00</td>\n",
       "      <td>42,674.00</td>\n",
       "    </tr>\n",
       "    <tr>\n",
       "      <th>AUS03: Greater Brisbane</th>\n",
       "      <td>37,580.00</td>\n",
       "      <td>37,564.00</td>\n",
       "      <td>39,080.00</td>\n",
       "      <td>40,762.00</td>\n",
       "      <td>...</td>\n",
       "      <td>44,388.00</td>\n",
       "      <td>45,723.00</td>\n",
       "      <td>46,876.00</td>\n",
       "      <td>46,640.00</td>\n",
       "    </tr>\n",
       "    <tr>\n",
       "      <th>AUS04: Greater Perth</th>\n",
       "      <td>45,713.00</td>\n",
       "      <td>47,371.00</td>\n",
       "      <td>48,719.00</td>\n",
       "      <td>51,020.00</td>\n",
       "      <td>...</td>\n",
       "      <td>66,544.00</td>\n",
       "      <td>66,032.00</td>\n",
       "      <td>66,424.00</td>\n",
       "      <td>70,390.00</td>\n",
       "    </tr>\n",
       "    <tr>\n",
       "      <th>AUS05: Greater Adelaide</th>\n",
       "      <td>36,505.00</td>\n",
       "      <td>37,194.00</td>\n",
       "      <td>37,634.00</td>\n",
       "      <td>37,399.00</td>\n",
       "      <td>...</td>\n",
       "      <td>40,295.00</td>\n",
       "      <td>39,737.00</td>\n",
       "      <td>40,115.00</td>\n",
       "      <td>39,924.00</td>\n",
       "    </tr>\n",
       "  </tbody>\n",
       "</table>\n",
       "<p>5 rows × 18 columns</p>\n",
       "</div>"
      ],
      "text/plain": [
       "                          pcGDP2001  pcGDP2002  pcGDP2003  pcGDP2004  ...  \\\n",
       "metro                                                                 ...   \n",
       "AUS01: Greater Sydney     43,313.00  44,008.00  45,424.00  45,837.00  ...   \n",
       "AUS02: Greater Melbourne  40,125.00  40,894.00  41,602.00  42,188.00  ...   \n",
       "AUS03: Greater Brisbane   37,580.00  37,564.00  39,080.00  40,762.00  ...   \n",
       "AUS04: Greater Perth      45,713.00  47,371.00  48,719.00  51,020.00  ...   \n",
       "AUS05: Greater Adelaide   36,505.00  37,194.00  37,634.00  37,399.00  ...   \n",
       "\n",
       "                          pcGDP2015  pcGDP2016  pcGDP2017  pcGDP2018  \n",
       "metro                                                                 \n",
       "AUS01: Greater Sydney     50,075.00  50,519.00  50,578.00  49,860.00  \n",
       "AUS02: Greater Melbourne  42,928.00  42,671.00  43,025.00  42,674.00  \n",
       "AUS03: Greater Brisbane   44,388.00  45,723.00  46,876.00  46,640.00  \n",
       "AUS04: Greater Perth      66,544.00  66,032.00  66,424.00  70,390.00  \n",
       "AUS05: Greater Adelaide   40,295.00  39,737.00  40,115.00  39,924.00  \n",
       "\n",
       "[5 rows x 18 columns]"
      ]
     },
     "execution_count": 93,
     "metadata": {},
     "output_type": "execute_result"
    }
   ],
   "source": [
    "percapitaGDP.head()"
   ]
  },
  {
   "cell_type": "code",
   "execution_count": 94,
   "metadata": {},
   "outputs": [
    {
     "data": {
      "text/plain": [
       "pcGDP2001   40,125.00\n",
       "pcGDP2002   40,894.00\n",
       "pcGDP2003   41,602.00\n",
       "pcGDP2004   42,188.00\n",
       "pcGDP2005   41,484.00\n",
       "pcGDP2006   41,589.00\n",
       "pcGDP2007   42,316.00\n",
       "pcGDP2008   40,975.00\n",
       "pcGDP2009   41,384.00\n",
       "pcGDP2010   40,943.00\n",
       "pcGDP2011   41,165.00\n",
       "pcGDP2012   41,264.00\n",
       "pcGDP2013   41,157.00\n",
       "pcGDP2014   42,114.00\n",
       "pcGDP2015   42,928.00\n",
       "pcGDP2016   42,671.00\n",
       "pcGDP2017   43,025.00\n",
       "pcGDP2018   42,674.00\n",
       "Name: AUS02: Greater Melbourne, dtype: float64"
      ]
     },
     "execution_count": 94,
     "metadata": {},
     "output_type": "execute_result"
    }
   ],
   "source": [
    "percapitaGDP.loc['AUS02: Greater Melbourne']"
   ]
  },
  {
   "cell_type": "code",
   "execution_count": 95,
   "metadata": {},
   "outputs": [
    {
     "data": {
      "text/plain": [
       "pcGDP2001   40,125.00\n",
       "pcGDP2002   40,894.00\n",
       "pcGDP2003   41,602.00\n",
       "pcGDP2004   42,188.00\n",
       "pcGDP2005   41,484.00\n",
       "pcGDP2006   41,589.00\n",
       "pcGDP2007   42,316.00\n",
       "pcGDP2008   40,975.00\n",
       "pcGDP2009   41,384.00\n",
       "pcGDP2010   40,943.00\n",
       "pcGDP2011   41,165.00\n",
       "pcGDP2012   41,264.00\n",
       "pcGDP2013   41,157.00\n",
       "pcGDP2014   42,114.00\n",
       "pcGDP2015   42,928.00\n",
       "pcGDP2016   42,671.00\n",
       "pcGDP2017   43,025.00\n",
       "pcGDP2018   42,674.00\n",
       "Name: AUS02: Greater Melbourne, dtype: float64"
      ]
     },
     "execution_count": 95,
     "metadata": {},
     "output_type": "execute_result"
    }
   ],
   "source": [
    "# Using iloc to obtain thne same result as above\n",
    "\n",
    "percapitaGDP.iloc[1]"
   ]
  },
  {
   "cell_type": "markdown",
   "metadata": {},
   "source": [
    "# Read data from mssql server"
   ]
  },
  {
   "cell_type": "code",
   "execution_count": 97,
   "metadata": {},
   "outputs": [
    {
     "name": "stdout",
     "output_type": "stream",
     "text": [
      "Collecting pymssql\n",
      "  Downloading pymssql-2.1.5-cp37-cp37m-win_amd64.whl (411 kB)\n",
      "Installing collected packages: pymssql\n",
      "Successfully installed pymssql-2.1.5\n",
      "Note: you may need to restart the kernel to use updated packages.\n"
     ]
    }
   ],
   "source": [
    "pip install pymssql"
   ]
  },
  {
   "cell_type": "markdown",
   "metadata": {},
   "source": [
    "- Import pandas, numpy, pymssql"
   ]
  },
  {
   "cell_type": "code",
   "execution_count": 1,
   "metadata": {},
   "outputs": [],
   "source": [
    "import pandas as pd\n",
    "import numpy as np\n",
    "import pymssql"
   ]
  },
  {
   "cell_type": "markdown",
   "metadata": {},
   "source": [
    "#### Use the pymssql API and read_sql to retrieve and load data from a SQL Server instance.\n",
    "\n",
    "- Select the columns we want from the SQL Server data and use SQL aliases on column names\n",
    "- Create a connection to the SQL Server data by passing database credentials to the pymssql connect function\n",
    "- Create a pandas data frame by passing the select statement and connection object to read_sql.\n",
    "- Close the connection to return it to the pool on the server"
   ]
  },
  {
   "cell_type": "code",
   "execution_count": 9,
   "metadata": {},
   "outputs": [],
   "source": [
    "# Assign the relevant parameters needed to establish connection\n",
    "query = \"SELECT studentid, school, sex, age, famsize, medu AS mothereducation, fedu AS fathereducation,\\\n",
    "            traveltime, studytime, failures, famrel, freetime, goout, g1 AS gradeperiod1, g2 AS gradeperiod2,\\\n",
    "            g3 AS gradeperiod3 FROM STUDENTMATH\"\n",
    "\n",
    "server = \"pdcc.c9sqqzd5fulv.us-west-2.rds.amazonaws.com\"\n",
    "user = \"pdccuser\"\n",
    "password = \"pdccpass\"\n",
    "database = \"pdcctest\""
   ]
  },
  {
   "cell_type": "code",
   "execution_count": 10,
   "metadata": {},
   "outputs": [],
   "source": [
    "conn = pymssql.connect(server=server, user=user, password=password, database=database)"
   ]
  },
  {
   "cell_type": "code",
   "execution_count": 11,
   "metadata": {},
   "outputs": [],
   "source": [
    "studentmath = pd.read_sql(query,conn)"
   ]
  },
  {
   "cell_type": "code",
   "execution_count": null,
   "metadata": {},
   "outputs": [],
   "source": [
    "conn.close() # Close the connection"
   ]
  },
  {
   "cell_type": "code",
   "execution_count": 12,
   "metadata": {},
   "outputs": [
    {
     "name": "stdout",
     "output_type": "stream",
     "text": [
      "<class 'pandas.core.frame.DataFrame'>\n",
      "RangeIndex: 395 entries, 0 to 394\n",
      "Data columns (total 16 columns):\n",
      " #   Column           Non-Null Count  Dtype \n",
      "---  ------           --------------  ----- \n",
      " 0   studentid        395 non-null    object\n",
      " 1   school           395 non-null    object\n",
      " 2   sex              395 non-null    object\n",
      " 3   age              395 non-null    int64 \n",
      " 4   famsize          395 non-null    object\n",
      " 5   mothereducation  395 non-null    int64 \n",
      " 6   fathereducation  395 non-null    int64 \n",
      " 7   traveltime       395 non-null    int64 \n",
      " 8   studytime        395 non-null    int64 \n",
      " 9   failures         395 non-null    int64 \n",
      " 10  famrel           395 non-null    int64 \n",
      " 11  freetime         395 non-null    int64 \n",
      " 12  goout            395 non-null    int64 \n",
      " 13  gradeperiod1     395 non-null    int64 \n",
      " 14  gradeperiod2     395 non-null    int64 \n",
      " 15  gradeperiod3     395 non-null    int64 \n",
      "dtypes: int64(12), object(4)\n",
      "memory usage: 49.5+ KB\n"
     ]
    }
   ],
   "source": [
    "studentmath.info()"
   ]
  },
  {
   "cell_type": "code",
   "execution_count": 13,
   "metadata": {},
   "outputs": [
    {
     "data": {
      "text/html": [
       "<div>\n",
       "<style scoped>\n",
       "    .dataframe tbody tr th:only-of-type {\n",
       "        vertical-align: middle;\n",
       "    }\n",
       "\n",
       "    .dataframe tbody tr th {\n",
       "        vertical-align: top;\n",
       "    }\n",
       "\n",
       "    .dataframe thead th {\n",
       "        text-align: right;\n",
       "    }\n",
       "</style>\n",
       "<table border=\"1\" class=\"dataframe\">\n",
       "  <thead>\n",
       "    <tr style=\"text-align: right;\">\n",
       "      <th></th>\n",
       "      <th>studentid</th>\n",
       "      <th>school</th>\n",
       "      <th>sex</th>\n",
       "      <th>age</th>\n",
       "      <th>famsize</th>\n",
       "      <th>mothereducation</th>\n",
       "      <th>fathereducation</th>\n",
       "      <th>traveltime</th>\n",
       "      <th>studytime</th>\n",
       "      <th>failures</th>\n",
       "      <th>famrel</th>\n",
       "      <th>freetime</th>\n",
       "      <th>goout</th>\n",
       "      <th>gradeperiod1</th>\n",
       "      <th>gradeperiod2</th>\n",
       "      <th>gradeperiod3</th>\n",
       "    </tr>\n",
       "  </thead>\n",
       "  <tbody>\n",
       "    <tr>\n",
       "      <th>0</th>\n",
       "      <td>001</td>\n",
       "      <td>GP</td>\n",
       "      <td>F</td>\n",
       "      <td>18</td>\n",
       "      <td>GT3</td>\n",
       "      <td>4</td>\n",
       "      <td>4</td>\n",
       "      <td>2</td>\n",
       "      <td>2</td>\n",
       "      <td>0</td>\n",
       "      <td>4</td>\n",
       "      <td>3</td>\n",
       "      <td>4</td>\n",
       "      <td>5</td>\n",
       "      <td>6</td>\n",
       "      <td>6</td>\n",
       "    </tr>\n",
       "    <tr>\n",
       "      <th>1</th>\n",
       "      <td>002</td>\n",
       "      <td>GP</td>\n",
       "      <td>F</td>\n",
       "      <td>17</td>\n",
       "      <td>GT3</td>\n",
       "      <td>1</td>\n",
       "      <td>1</td>\n",
       "      <td>1</td>\n",
       "      <td>2</td>\n",
       "      <td>0</td>\n",
       "      <td>5</td>\n",
       "      <td>3</td>\n",
       "      <td>3</td>\n",
       "      <td>5</td>\n",
       "      <td>5</td>\n",
       "      <td>6</td>\n",
       "    </tr>\n",
       "    <tr>\n",
       "      <th>2</th>\n",
       "      <td>003</td>\n",
       "      <td>GP</td>\n",
       "      <td>F</td>\n",
       "      <td>15</td>\n",
       "      <td>LE3</td>\n",
       "      <td>1</td>\n",
       "      <td>1</td>\n",
       "      <td>1</td>\n",
       "      <td>2</td>\n",
       "      <td>3</td>\n",
       "      <td>4</td>\n",
       "      <td>3</td>\n",
       "      <td>2</td>\n",
       "      <td>7</td>\n",
       "      <td>8</td>\n",
       "      <td>10</td>\n",
       "    </tr>\n",
       "    <tr>\n",
       "      <th>3</th>\n",
       "      <td>004</td>\n",
       "      <td>GP</td>\n",
       "      <td>F</td>\n",
       "      <td>15</td>\n",
       "      <td>GT3</td>\n",
       "      <td>4</td>\n",
       "      <td>2</td>\n",
       "      <td>1</td>\n",
       "      <td>3</td>\n",
       "      <td>0</td>\n",
       "      <td>3</td>\n",
       "      <td>2</td>\n",
       "      <td>2</td>\n",
       "      <td>15</td>\n",
       "      <td>14</td>\n",
       "      <td>15</td>\n",
       "    </tr>\n",
       "    <tr>\n",
       "      <th>4</th>\n",
       "      <td>005</td>\n",
       "      <td>GP</td>\n",
       "      <td>F</td>\n",
       "      <td>16</td>\n",
       "      <td>GT3</td>\n",
       "      <td>3</td>\n",
       "      <td>3</td>\n",
       "      <td>1</td>\n",
       "      <td>2</td>\n",
       "      <td>0</td>\n",
       "      <td>4</td>\n",
       "      <td>3</td>\n",
       "      <td>2</td>\n",
       "      <td>6</td>\n",
       "      <td>10</td>\n",
       "      <td>10</td>\n",
       "    </tr>\n",
       "  </tbody>\n",
       "</table>\n",
       "</div>"
      ],
      "text/plain": [
       "  studentid school sex  age famsize  mothereducation  fathereducation  \\\n",
       "0       001     GP   F   18     GT3                4                4   \n",
       "1       002     GP   F   17     GT3                1                1   \n",
       "2       003     GP   F   15     LE3                1                1   \n",
       "3       004     GP   F   15     GT3                4                2   \n",
       "4       005     GP   F   16     GT3                3                3   \n",
       "\n",
       "   traveltime  studytime  failures  famrel  freetime  goout  gradeperiod1  \\\n",
       "0           2          2         0       4         3      4             5   \n",
       "1           1          2         0       5         3      3             5   \n",
       "2           1          2         3       4         3      2             7   \n",
       "3           1          3         0       3         2      2            15   \n",
       "4           1          2         0       4         3      2             6   \n",
       "\n",
       "   gradeperiod2  gradeperiod3  \n",
       "0             6             6  \n",
       "1             5             6  \n",
       "2             8            10  \n",
       "3            14            15  \n",
       "4            10            10  "
      ]
     },
     "execution_count": 13,
     "metadata": {},
     "output_type": "execute_result"
    }
   ],
   "source": [
    "studentmath.head()"
   ]
  },
  {
   "cell_type": "code",
   "execution_count": 14,
   "metadata": {},
   "outputs": [
    {
     "data": {
      "text/plain": [
       "studentid          0\n",
       "school             0\n",
       "sex                0\n",
       "age                0\n",
       "famsize            0\n",
       "mothereducation    0\n",
       "fathereducation    0\n",
       "traveltime         0\n",
       "studytime          0\n",
       "failures           0\n",
       "famrel             0\n",
       "freetime           0\n",
       "goout              0\n",
       "gradeperiod1       0\n",
       "gradeperiod2       0\n",
       "gradeperiod3       0\n",
       "dtype: int64"
      ]
     },
     "execution_count": 14,
     "metadata": {},
     "output_type": "execute_result"
    }
   ],
   "source": [
    "# Find the missing values\n",
    "studentmath.isnull().sum()"
   ]
  },
  {
   "cell_type": "code",
   "execution_count": 15,
   "metadata": {},
   "outputs": [],
   "source": [
    "# Set the index in studentid\n",
    "studentmath.set_index('studentid', inplace=True)"
   ]
  },
  {
   "cell_type": "code",
   "execution_count": 16,
   "metadata": {},
   "outputs": [
    {
     "data": {
      "text/html": [
       "<div>\n",
       "<style scoped>\n",
       "    .dataframe tbody tr th:only-of-type {\n",
       "        vertical-align: middle;\n",
       "    }\n",
       "\n",
       "    .dataframe tbody tr th {\n",
       "        vertical-align: top;\n",
       "    }\n",
       "\n",
       "    .dataframe thead th {\n",
       "        text-align: right;\n",
       "    }\n",
       "</style>\n",
       "<table border=\"1\" class=\"dataframe\">\n",
       "  <thead>\n",
       "    <tr style=\"text-align: right;\">\n",
       "      <th></th>\n",
       "      <th>school</th>\n",
       "      <th>sex</th>\n",
       "      <th>age</th>\n",
       "      <th>famsize</th>\n",
       "      <th>mothereducation</th>\n",
       "      <th>fathereducation</th>\n",
       "      <th>traveltime</th>\n",
       "      <th>studytime</th>\n",
       "      <th>failures</th>\n",
       "      <th>famrel</th>\n",
       "      <th>freetime</th>\n",
       "      <th>goout</th>\n",
       "      <th>gradeperiod1</th>\n",
       "      <th>gradeperiod2</th>\n",
       "      <th>gradeperiod3</th>\n",
       "    </tr>\n",
       "    <tr>\n",
       "      <th>studentid</th>\n",
       "      <th></th>\n",
       "      <th></th>\n",
       "      <th></th>\n",
       "      <th></th>\n",
       "      <th></th>\n",
       "      <th></th>\n",
       "      <th></th>\n",
       "      <th></th>\n",
       "      <th></th>\n",
       "      <th></th>\n",
       "      <th></th>\n",
       "      <th></th>\n",
       "      <th></th>\n",
       "      <th></th>\n",
       "      <th></th>\n",
       "    </tr>\n",
       "  </thead>\n",
       "  <tbody>\n",
       "    <tr>\n",
       "      <th>001</th>\n",
       "      <td>GP</td>\n",
       "      <td>F</td>\n",
       "      <td>18</td>\n",
       "      <td>GT3</td>\n",
       "      <td>4</td>\n",
       "      <td>4</td>\n",
       "      <td>2</td>\n",
       "      <td>2</td>\n",
       "      <td>0</td>\n",
       "      <td>4</td>\n",
       "      <td>3</td>\n",
       "      <td>4</td>\n",
       "      <td>5</td>\n",
       "      <td>6</td>\n",
       "      <td>6</td>\n",
       "    </tr>\n",
       "    <tr>\n",
       "      <th>002</th>\n",
       "      <td>GP</td>\n",
       "      <td>F</td>\n",
       "      <td>17</td>\n",
       "      <td>GT3</td>\n",
       "      <td>1</td>\n",
       "      <td>1</td>\n",
       "      <td>1</td>\n",
       "      <td>2</td>\n",
       "      <td>0</td>\n",
       "      <td>5</td>\n",
       "      <td>3</td>\n",
       "      <td>3</td>\n",
       "      <td>5</td>\n",
       "      <td>5</td>\n",
       "      <td>6</td>\n",
       "    </tr>\n",
       "    <tr>\n",
       "      <th>003</th>\n",
       "      <td>GP</td>\n",
       "      <td>F</td>\n",
       "      <td>15</td>\n",
       "      <td>LE3</td>\n",
       "      <td>1</td>\n",
       "      <td>1</td>\n",
       "      <td>1</td>\n",
       "      <td>2</td>\n",
       "      <td>3</td>\n",
       "      <td>4</td>\n",
       "      <td>3</td>\n",
       "      <td>2</td>\n",
       "      <td>7</td>\n",
       "      <td>8</td>\n",
       "      <td>10</td>\n",
       "    </tr>\n",
       "    <tr>\n",
       "      <th>004</th>\n",
       "      <td>GP</td>\n",
       "      <td>F</td>\n",
       "      <td>15</td>\n",
       "      <td>GT3</td>\n",
       "      <td>4</td>\n",
       "      <td>2</td>\n",
       "      <td>1</td>\n",
       "      <td>3</td>\n",
       "      <td>0</td>\n",
       "      <td>3</td>\n",
       "      <td>2</td>\n",
       "      <td>2</td>\n",
       "      <td>15</td>\n",
       "      <td>14</td>\n",
       "      <td>15</td>\n",
       "    </tr>\n",
       "    <tr>\n",
       "      <th>005</th>\n",
       "      <td>GP</td>\n",
       "      <td>F</td>\n",
       "      <td>16</td>\n",
       "      <td>GT3</td>\n",
       "      <td>3</td>\n",
       "      <td>3</td>\n",
       "      <td>1</td>\n",
       "      <td>2</td>\n",
       "      <td>0</td>\n",
       "      <td>4</td>\n",
       "      <td>3</td>\n",
       "      <td>2</td>\n",
       "      <td>6</td>\n",
       "      <td>10</td>\n",
       "      <td>10</td>\n",
       "    </tr>\n",
       "  </tbody>\n",
       "</table>\n",
       "</div>"
      ],
      "text/plain": [
       "          school sex  age famsize  mothereducation  fathereducation  \\\n",
       "studentid                                                             \n",
       "001           GP   F   18     GT3                4                4   \n",
       "002           GP   F   17     GT3                1                1   \n",
       "003           GP   F   15     LE3                1                1   \n",
       "004           GP   F   15     GT3                4                2   \n",
       "005           GP   F   16     GT3                3                3   \n",
       "\n",
       "           traveltime  studytime  failures  famrel  freetime  goout  \\\n",
       "studentid                                                             \n",
       "001                 2          2         0       4         3      4   \n",
       "002                 1          2         0       5         3      3   \n",
       "003                 1          2         3       4         3      2   \n",
       "004                 1          3         0       3         2      2   \n",
       "005                 1          2         0       4         3      2   \n",
       "\n",
       "           gradeperiod1  gradeperiod2  gradeperiod3  \n",
       "studentid                                            \n",
       "001                   5             6             6  \n",
       "002                   5             5             6  \n",
       "003                   7             8            10  \n",
       "004                  15            14            15  \n",
       "005                   6            10            10  "
      ]
     },
     "execution_count": 16,
     "metadata": {},
     "output_type": "execute_result"
    }
   ],
   "source": [
    "studentmath.head()"
   ]
  },
  {
   "cell_type": "code",
   "execution_count": 27,
   "metadata": {},
   "outputs": [],
   "source": [
    "# To replace famrel, freetime, goout, mothereducation anf fathereducation with  meaningful values\n",
    "setvalues = {'famrel':{1:\"1:verybad\",2:\"2:bad\",3:\"3:neutral\",4:\"4:good\",5:\"5:excellent\"},\n",
    "                   \"freetime\":{1:\"1:very low\",2:\"2:low\",3:\"3:neutral\",4:\"4:high\",5:\"5:very high\"},\n",
    "                   \"goout\":{1:\"1:very low\",2:\"2:low\",3:\"3:neutral\",4:\"4:high\",5:\"5:very high\"},\n",
    "                    \"mothereducation\":{0:np.nan,1:\"1:k-4\",2:\"2:5-9\",3:\"3:secondary ed\",4:\"4:higher ed\"},\n",
    "                    \"fathereducation\":{0:np.nan,1:\"1:k-4\",2:\"2:5-9\",3:\"3:secondary ed\",4:\"4:higher ed\"}\n",
    "                   }\n",
    "\n",
    "studentmath.replace(setvalues, inplace=True)"
   ]
  },
  {
   "cell_type": "code",
   "execution_count": 29,
   "metadata": {},
   "outputs": [
    {
     "name": "stdout",
     "output_type": "stream",
     "text": [
      "['famrel', 'freetime', 'goout', 'mothereducation', 'fathereducation']\n"
     ]
    }
   ],
   "source": [
    "setvalueskeys = [key for key in setvalues]\n",
    "print(setvalueskeys)"
   ]
  },
  {
   "cell_type": "code",
   "execution_count": 30,
   "metadata": {},
   "outputs": [
    {
     "data": {
      "text/html": [
       "<div>\n",
       "<style scoped>\n",
       "    .dataframe tbody tr th:only-of-type {\n",
       "        vertical-align: middle;\n",
       "    }\n",
       "\n",
       "    .dataframe tbody tr th {\n",
       "        vertical-align: top;\n",
       "    }\n",
       "\n",
       "    .dataframe thead th {\n",
       "        text-align: right;\n",
       "    }\n",
       "</style>\n",
       "<table border=\"1\" class=\"dataframe\">\n",
       "  <thead>\n",
       "    <tr style=\"text-align: right;\">\n",
       "      <th></th>\n",
       "      <th>school</th>\n",
       "      <th>sex</th>\n",
       "      <th>age</th>\n",
       "      <th>famsize</th>\n",
       "      <th>mothereducation</th>\n",
       "      <th>fathereducation</th>\n",
       "      <th>traveltime</th>\n",
       "      <th>studytime</th>\n",
       "      <th>failures</th>\n",
       "      <th>famrel</th>\n",
       "      <th>freetime</th>\n",
       "      <th>goout</th>\n",
       "      <th>gradeperiod1</th>\n",
       "      <th>gradeperiod2</th>\n",
       "      <th>gradeperiod3</th>\n",
       "    </tr>\n",
       "    <tr>\n",
       "      <th>studentid</th>\n",
       "      <th></th>\n",
       "      <th></th>\n",
       "      <th></th>\n",
       "      <th></th>\n",
       "      <th></th>\n",
       "      <th></th>\n",
       "      <th></th>\n",
       "      <th></th>\n",
       "      <th></th>\n",
       "      <th></th>\n",
       "      <th></th>\n",
       "      <th></th>\n",
       "      <th></th>\n",
       "      <th></th>\n",
       "      <th></th>\n",
       "    </tr>\n",
       "  </thead>\n",
       "  <tbody>\n",
       "    <tr>\n",
       "      <th>001</th>\n",
       "      <td>GP</td>\n",
       "      <td>F</td>\n",
       "      <td>18</td>\n",
       "      <td>GT3</td>\n",
       "      <td>4:higher ed</td>\n",
       "      <td>4:higher ed</td>\n",
       "      <td>2</td>\n",
       "      <td>2</td>\n",
       "      <td>0</td>\n",
       "      <td>4:good</td>\n",
       "      <td>3:neutral</td>\n",
       "      <td>4:high</td>\n",
       "      <td>5</td>\n",
       "      <td>6</td>\n",
       "      <td>6</td>\n",
       "    </tr>\n",
       "    <tr>\n",
       "      <th>002</th>\n",
       "      <td>GP</td>\n",
       "      <td>F</td>\n",
       "      <td>17</td>\n",
       "      <td>GT3</td>\n",
       "      <td>1:k-4</td>\n",
       "      <td>1:k-4</td>\n",
       "      <td>1</td>\n",
       "      <td>2</td>\n",
       "      <td>0</td>\n",
       "      <td>5:excellent</td>\n",
       "      <td>3:neutral</td>\n",
       "      <td>3:neutral</td>\n",
       "      <td>5</td>\n",
       "      <td>5</td>\n",
       "      <td>6</td>\n",
       "    </tr>\n",
       "    <tr>\n",
       "      <th>003</th>\n",
       "      <td>GP</td>\n",
       "      <td>F</td>\n",
       "      <td>15</td>\n",
       "      <td>LE3</td>\n",
       "      <td>1:k-4</td>\n",
       "      <td>1:k-4</td>\n",
       "      <td>1</td>\n",
       "      <td>2</td>\n",
       "      <td>3</td>\n",
       "      <td>4:good</td>\n",
       "      <td>3:neutral</td>\n",
       "      <td>2:low</td>\n",
       "      <td>7</td>\n",
       "      <td>8</td>\n",
       "      <td>10</td>\n",
       "    </tr>\n",
       "    <tr>\n",
       "      <th>004</th>\n",
       "      <td>GP</td>\n",
       "      <td>F</td>\n",
       "      <td>15</td>\n",
       "      <td>GT3</td>\n",
       "      <td>4:higher ed</td>\n",
       "      <td>2:5-9</td>\n",
       "      <td>1</td>\n",
       "      <td>3</td>\n",
       "      <td>0</td>\n",
       "      <td>3:neutral</td>\n",
       "      <td>2:low</td>\n",
       "      <td>2:low</td>\n",
       "      <td>15</td>\n",
       "      <td>14</td>\n",
       "      <td>15</td>\n",
       "    </tr>\n",
       "    <tr>\n",
       "      <th>005</th>\n",
       "      <td>GP</td>\n",
       "      <td>F</td>\n",
       "      <td>16</td>\n",
       "      <td>GT3</td>\n",
       "      <td>3:secondary ed</td>\n",
       "      <td>3:secondary ed</td>\n",
       "      <td>1</td>\n",
       "      <td>2</td>\n",
       "      <td>0</td>\n",
       "      <td>4:good</td>\n",
       "      <td>3:neutral</td>\n",
       "      <td>2:low</td>\n",
       "      <td>6</td>\n",
       "      <td>10</td>\n",
       "      <td>10</td>\n",
       "    </tr>\n",
       "  </tbody>\n",
       "</table>\n",
       "</div>"
      ],
      "text/plain": [
       "          school sex  age famsize mothereducation fathereducation  traveltime  \\\n",
       "studentid                                                                       \n",
       "001           GP   F   18     GT3     4:higher ed     4:higher ed           2   \n",
       "002           GP   F   17     GT3           1:k-4           1:k-4           1   \n",
       "003           GP   F   15     LE3           1:k-4           1:k-4           1   \n",
       "004           GP   F   15     GT3     4:higher ed           2:5-9           1   \n",
       "005           GP   F   16     GT3  3:secondary ed  3:secondary ed           1   \n",
       "\n",
       "           studytime  failures       famrel   freetime      goout  \\\n",
       "studentid                                                           \n",
       "001                2         0       4:good  3:neutral     4:high   \n",
       "002                2         0  5:excellent  3:neutral  3:neutral   \n",
       "003                2         3       4:good  3:neutral      2:low   \n",
       "004                3         0    3:neutral      2:low      2:low   \n",
       "005                2         0       4:good  3:neutral      2:low   \n",
       "\n",
       "           gradeperiod1  gradeperiod2  gradeperiod3  \n",
       "studentid                                            \n",
       "001                   5             6             6  \n",
       "002                   5             5             6  \n",
       "003                   7             8            10  \n",
       "004                  15            14            15  \n",
       "005                   6            10            10  "
      ]
     },
     "execution_count": 30,
     "metadata": {},
     "output_type": "execute_result"
    }
   ],
   "source": [
    "studentmath.head()"
   ]
  },
  {
   "cell_type": "code",
   "execution_count": 36,
   "metadata": {},
   "outputs": [
    {
     "data": {
      "text/plain": [
       "famrel             3160\n",
       "freetime           3160\n",
       "goout              3160\n",
       "mothereducation    3160\n",
       "fathereducation    3160\n",
       "dtype: int64"
      ]
     },
     "execution_count": 36,
     "metadata": {},
     "output_type": "execute_result"
    }
   ],
   "source": [
    "# Check memory usage \n",
    "studentmath[setvalueskeys].memory_usage(index=False)"
   ]
  },
  {
   "cell_type": "code",
   "execution_count": 37,
   "metadata": {},
   "outputs": [
    {
     "data": {
      "text/plain": [
       "school             object\n",
       "sex                object\n",
       "age                 int64\n",
       "famsize            object\n",
       "mothereducation    object\n",
       "fathereducation    object\n",
       "traveltime          int64\n",
       "studytime           int64\n",
       "failures            int64\n",
       "famrel             object\n",
       "freetime           object\n",
       "goout              object\n",
       "gradeperiod1        int64\n",
       "gradeperiod2        int64\n",
       "gradeperiod3        int64\n",
       "dtype: object"
      ]
     },
     "execution_count": 37,
     "metadata": {},
     "output_type": "execute_result"
    }
   ],
   "source": [
    "studentmath.dtypes"
   ]
  },
  {
   "cell_type": "code",
   "execution_count": 41,
   "metadata": {},
   "outputs": [],
   "source": [
    "# The setvalueskeys are objects and occupying large amount of space\n",
    "# We can convert to categorical variables to reduce memory usage\n",
    "\n",
    "for col in studentmath[setvalueskeys].columns:\n",
    "    studentmath[col] = studentmath[col].astype('category')"
   ]
  },
  {
   "cell_type": "code",
   "execution_count": 42,
   "metadata": {},
   "outputs": [
    {
     "data": {
      "text/plain": [
       "famrel             595\n",
       "freetime           595\n",
       "goout              595\n",
       "mothereducation    587\n",
       "fathereducation    587\n",
       "dtype: int64"
      ]
     },
     "execution_count": 42,
     "metadata": {},
     "output_type": "execute_result"
    }
   ],
   "source": [
    "# Check memory usage again\n",
    "studentmath[setvalueskeys].memory_usage(index=False)"
   ]
  },
  {
   "cell_type": "code",
   "execution_count": 49,
   "metadata": {},
   "outputs": [
    {
     "data": {
      "text/html": [
       "<div>\n",
       "<style scoped>\n",
       "    .dataframe tbody tr th:only-of-type {\n",
       "        vertical-align: middle;\n",
       "    }\n",
       "\n",
       "    .dataframe tbody tr th {\n",
       "        vertical-align: top;\n",
       "    }\n",
       "\n",
       "    .dataframe thead th {\n",
       "        text-align: right;\n",
       "    }\n",
       "</style>\n",
       "<table border=\"1\" class=\"dataframe\">\n",
       "  <thead>\n",
       "    <tr style=\"text-align: right;\">\n",
       "      <th></th>\n",
       "      <th>freetime</th>\n",
       "      <th>goout</th>\n",
       "    </tr>\n",
       "  </thead>\n",
       "  <tbody>\n",
       "    <tr>\n",
       "      <th>1:very low</th>\n",
       "      <td>0.048101</td>\n",
       "      <td>0.058228</td>\n",
       "    </tr>\n",
       "    <tr>\n",
       "      <th>2:low</th>\n",
       "      <td>0.162025</td>\n",
       "      <td>0.260759</td>\n",
       "    </tr>\n",
       "    <tr>\n",
       "      <th>3:neutral</th>\n",
       "      <td>0.397468</td>\n",
       "      <td>0.329114</td>\n",
       "    </tr>\n",
       "    <tr>\n",
       "      <th>4:high</th>\n",
       "      <td>0.291139</td>\n",
       "      <td>0.217722</td>\n",
       "    </tr>\n",
       "    <tr>\n",
       "      <th>5:very high</th>\n",
       "      <td>0.101266</td>\n",
       "      <td>0.134177</td>\n",
       "    </tr>\n",
       "  </tbody>\n",
       "</table>\n",
       "</div>"
      ],
      "text/plain": [
       "             freetime     goout\n",
       "1:very low   0.048101  0.058228\n",
       "2:low        0.162025  0.260759\n",
       "3:neutral    0.397468  0.329114\n",
       "4:high       0.291139  0.217722\n",
       "5:very high  0.101266  0.134177"
      ]
     },
     "execution_count": 49,
     "metadata": {},
     "output_type": "execute_result"
    }
   ],
   "source": [
    "studentmath[['freetime','goout']].apply(pd.Series.value_counts, sort=False, normalize=True)"
   ]
  },
  {
   "cell_type": "code",
   "execution_count": 50,
   "metadata": {},
   "outputs": [
    {
     "data": {
      "text/html": [
       "<div>\n",
       "<style scoped>\n",
       "    .dataframe tbody tr th:only-of-type {\n",
       "        vertical-align: middle;\n",
       "    }\n",
       "\n",
       "    .dataframe tbody tr th {\n",
       "        vertical-align: top;\n",
       "    }\n",
       "\n",
       "    .dataframe thead th {\n",
       "        text-align: right;\n",
       "    }\n",
       "</style>\n",
       "<table border=\"1\" class=\"dataframe\">\n",
       "  <thead>\n",
       "    <tr style=\"text-align: right;\">\n",
       "      <th></th>\n",
       "      <th>mothereducation</th>\n",
       "      <th>fathereducation</th>\n",
       "    </tr>\n",
       "  </thead>\n",
       "  <tbody>\n",
       "    <tr>\n",
       "      <th>1:k-4</th>\n",
       "      <td>0.150510</td>\n",
       "      <td>0.208651</td>\n",
       "    </tr>\n",
       "    <tr>\n",
       "      <th>2:5-9</th>\n",
       "      <td>0.262755</td>\n",
       "      <td>0.292621</td>\n",
       "    </tr>\n",
       "    <tr>\n",
       "      <th>3:secondary ed</th>\n",
       "      <td>0.252551</td>\n",
       "      <td>0.254453</td>\n",
       "    </tr>\n",
       "    <tr>\n",
       "      <th>4:higher ed</th>\n",
       "      <td>0.334184</td>\n",
       "      <td>0.244275</td>\n",
       "    </tr>\n",
       "  </tbody>\n",
       "</table>\n",
       "</div>"
      ],
      "text/plain": [
       "                mothereducation  fathereducation\n",
       "1:k-4                  0.150510         0.208651\n",
       "2:5-9                  0.262755         0.292621\n",
       "3:secondary ed         0.252551         0.254453\n",
       "4:higher ed            0.334184         0.244275"
      ]
     },
     "execution_count": 50,
     "metadata": {},
     "output_type": "execute_result"
    }
   ],
   "source": [
    "studentmath[['mothereducation','fathereducation']].apply(pd.Series.value_counts, sort=False, normalize=True)"
   ]
  },
  {
   "cell_type": "markdown",
   "metadata": {},
   "source": [
    "# Import data from SPSS, Stata, and SAS"
   ]
  },
  {
   "cell_type": "code",
   "execution_count": 1,
   "metadata": {},
   "outputs": [],
   "source": [
    "import pandas as pd\n",
    "import numpy as np\n",
    "import pyreadstat"
   ]
  },
  {
   "cell_type": "code",
   "execution_count": 4,
   "metadata": {},
   "outputs": [],
   "source": [
    "data, metadata_spss = pyreadstat.read_sav('data/nls97.sav')"
   ]
  },
  {
   "cell_type": "code",
   "execution_count": 6,
   "metadata": {},
   "outputs": [
    {
     "data": {
      "text/html": [
       "<div>\n",
       "<style scoped>\n",
       "    .dataframe tbody tr th:only-of-type {\n",
       "        vertical-align: middle;\n",
       "    }\n",
       "\n",
       "    .dataframe tbody tr th {\n",
       "        vertical-align: top;\n",
       "    }\n",
       "\n",
       "    .dataframe thead th {\n",
       "        text-align: right;\n",
       "    }\n",
       "</style>\n",
       "<table border=\"1\" class=\"dataframe\">\n",
       "  <thead>\n",
       "    <tr style=\"text-align: right;\">\n",
       "      <th></th>\n",
       "      <th>R0000100</th>\n",
       "      <th>R0536300</th>\n",
       "      <th>R0536401</th>\n",
       "      <th>R0536402</th>\n",
       "      <th>R1235800</th>\n",
       "      <th>R1482600</th>\n",
       "      <th>R9793800</th>\n",
       "      <th>R9793900</th>\n",
       "      <th>R9871900</th>\n",
       "      <th>R9872000</th>\n",
       "      <th>...</th>\n",
       "      <th>U1852700</th>\n",
       "      <th>U2166200</th>\n",
       "      <th>U2166300</th>\n",
       "      <th>U2166400</th>\n",
       "      <th>U2166500</th>\n",
       "      <th>U2857300</th>\n",
       "      <th>U2962800</th>\n",
       "      <th>U2962900</th>\n",
       "      <th>U2963000</th>\n",
       "      <th>Z9063900</th>\n",
       "    </tr>\n",
       "  </thead>\n",
       "  <tbody>\n",
       "    <tr>\n",
       "      <th>0</th>\n",
       "      <td>1.0</td>\n",
       "      <td>2.0</td>\n",
       "      <td>9.0</td>\n",
       "      <td>1981.0</td>\n",
       "      <td>1.0</td>\n",
       "      <td>4.0</td>\n",
       "      <td>350.0</td>\n",
       "      <td>470.0</td>\n",
       "      <td>309.0</td>\n",
       "      <td>310.0</td>\n",
       "      <td>...</td>\n",
       "      <td>NaN</td>\n",
       "      <td>NaN</td>\n",
       "      <td>NaN</td>\n",
       "      <td>NaN</td>\n",
       "      <td>NaN</td>\n",
       "      <td>NaN</td>\n",
       "      <td>NaN</td>\n",
       "      <td>NaN</td>\n",
       "      <td>NaN</td>\n",
       "      <td>52.0</td>\n",
       "    </tr>\n",
       "    <tr>\n",
       "      <th>1</th>\n",
       "      <td>2.0</td>\n",
       "      <td>1.0</td>\n",
       "      <td>7.0</td>\n",
       "      <td>1982.0</td>\n",
       "      <td>1.0</td>\n",
       "      <td>2.0</td>\n",
       "      <td>460.0</td>\n",
       "      <td>440.0</td>\n",
       "      <td>217.0</td>\n",
       "      <td>280.0</td>\n",
       "      <td>...</td>\n",
       "      <td>NaN</td>\n",
       "      <td>NaN</td>\n",
       "      <td>NaN</td>\n",
       "      <td>NaN</td>\n",
       "      <td>NaN</td>\n",
       "      <td>NaN</td>\n",
       "      <td>4.0</td>\n",
       "      <td>2.0</td>\n",
       "      <td>6.0</td>\n",
       "      <td>0.0</td>\n",
       "    </tr>\n",
       "    <tr>\n",
       "      <th>2</th>\n",
       "      <td>3.0</td>\n",
       "      <td>2.0</td>\n",
       "      <td>9.0</td>\n",
       "      <td>1983.0</td>\n",
       "      <td>1.0</td>\n",
       "      <td>2.0</td>\n",
       "      <td>NaN</td>\n",
       "      <td>NaN</td>\n",
       "      <td>NaN</td>\n",
       "      <td>NaN</td>\n",
       "      <td>...</td>\n",
       "      <td>0.0</td>\n",
       "      <td>NaN</td>\n",
       "      <td>NaN</td>\n",
       "      <td>NaN</td>\n",
       "      <td>NaN</td>\n",
       "      <td>NaN</td>\n",
       "      <td>6.0</td>\n",
       "      <td>2.0</td>\n",
       "      <td>6.0</td>\n",
       "      <td>0.0</td>\n",
       "    </tr>\n",
       "    <tr>\n",
       "      <th>3</th>\n",
       "      <td>4.0</td>\n",
       "      <td>2.0</td>\n",
       "      <td>2.0</td>\n",
       "      <td>1981.0</td>\n",
       "      <td>1.0</td>\n",
       "      <td>2.0</td>\n",
       "      <td>NaN</td>\n",
       "      <td>NaN</td>\n",
       "      <td>253.0</td>\n",
       "      <td>216.0</td>\n",
       "      <td>...</td>\n",
       "      <td>1.0</td>\n",
       "      <td>NaN</td>\n",
       "      <td>NaN</td>\n",
       "      <td>NaN</td>\n",
       "      <td>NaN</td>\n",
       "      <td>NaN</td>\n",
       "      <td>3.0</td>\n",
       "      <td>2.0</td>\n",
       "      <td>6.0</td>\n",
       "      <td>4.0</td>\n",
       "    </tr>\n",
       "    <tr>\n",
       "      <th>4</th>\n",
       "      <td>5.0</td>\n",
       "      <td>1.0</td>\n",
       "      <td>10.0</td>\n",
       "      <td>1982.0</td>\n",
       "      <td>1.0</td>\n",
       "      <td>2.0</td>\n",
       "      <td>NaN</td>\n",
       "      <td>NaN</td>\n",
       "      <td>243.0</td>\n",
       "      <td>235.0</td>\n",
       "      <td>...</td>\n",
       "      <td>0.0</td>\n",
       "      <td>NaN</td>\n",
       "      <td>NaN</td>\n",
       "      <td>NaN</td>\n",
       "      <td>NaN</td>\n",
       "      <td>NaN</td>\n",
       "      <td>2.0</td>\n",
       "      <td>2.0</td>\n",
       "      <td>5.0</td>\n",
       "      <td>12.0</td>\n",
       "    </tr>\n",
       "    <tr>\n",
       "      <th>...</th>\n",
       "      <td>...</td>\n",
       "      <td>...</td>\n",
       "      <td>...</td>\n",
       "      <td>...</td>\n",
       "      <td>...</td>\n",
       "      <td>...</td>\n",
       "      <td>...</td>\n",
       "      <td>...</td>\n",
       "      <td>...</td>\n",
       "      <td>...</td>\n",
       "      <td>...</td>\n",
       "      <td>...</td>\n",
       "      <td>...</td>\n",
       "      <td>...</td>\n",
       "      <td>...</td>\n",
       "      <td>...</td>\n",
       "      <td>...</td>\n",
       "      <td>...</td>\n",
       "      <td>...</td>\n",
       "      <td>...</td>\n",
       "      <td>...</td>\n",
       "    </tr>\n",
       "    <tr>\n",
       "      <th>8979</th>\n",
       "      <td>9018.0</td>\n",
       "      <td>2.0</td>\n",
       "      <td>3.0</td>\n",
       "      <td>1980.0</td>\n",
       "      <td>1.0</td>\n",
       "      <td>4.0</td>\n",
       "      <td>NaN</td>\n",
       "      <td>NaN</td>\n",
       "      <td>NaN</td>\n",
       "      <td>NaN</td>\n",
       "      <td>...</td>\n",
       "      <td>3.0</td>\n",
       "      <td>NaN</td>\n",
       "      <td>NaN</td>\n",
       "      <td>NaN</td>\n",
       "      <td>NaN</td>\n",
       "      <td>NaN</td>\n",
       "      <td>4.0</td>\n",
       "      <td>2.0</td>\n",
       "      <td>4.0</td>\n",
       "      <td>49.0</td>\n",
       "    </tr>\n",
       "    <tr>\n",
       "      <th>8980</th>\n",
       "      <td>9019.0</td>\n",
       "      <td>1.0</td>\n",
       "      <td>9.0</td>\n",
       "      <td>1984.0</td>\n",
       "      <td>0.0</td>\n",
       "      <td>2.0</td>\n",
       "      <td>NaN</td>\n",
       "      <td>NaN</td>\n",
       "      <td>NaN</td>\n",
       "      <td>NaN</td>\n",
       "      <td>...</td>\n",
       "      <td>4.0</td>\n",
       "      <td>NaN</td>\n",
       "      <td>NaN</td>\n",
       "      <td>NaN</td>\n",
       "      <td>NaN</td>\n",
       "      <td>NaN</td>\n",
       "      <td>2.0</td>\n",
       "      <td>2.0</td>\n",
       "      <td>6.0</td>\n",
       "      <td>0.0</td>\n",
       "    </tr>\n",
       "    <tr>\n",
       "      <th>8981</th>\n",
       "      <td>9020.0</td>\n",
       "      <td>1.0</td>\n",
       "      <td>7.0</td>\n",
       "      <td>1980.0</td>\n",
       "      <td>1.0</td>\n",
       "      <td>4.0</td>\n",
       "      <td>NaN</td>\n",
       "      <td>NaN</td>\n",
       "      <td>322.0</td>\n",
       "      <td>290.0</td>\n",
       "      <td>...</td>\n",
       "      <td>NaN</td>\n",
       "      <td>NaN</td>\n",
       "      <td>NaN</td>\n",
       "      <td>NaN</td>\n",
       "      <td>NaN</td>\n",
       "      <td>NaN</td>\n",
       "      <td>NaN</td>\n",
       "      <td>NaN</td>\n",
       "      <td>NaN</td>\n",
       "      <td>15.0</td>\n",
       "    </tr>\n",
       "    <tr>\n",
       "      <th>8982</th>\n",
       "      <td>9021.0</td>\n",
       "      <td>1.0</td>\n",
       "      <td>7.0</td>\n",
       "      <td>1980.0</td>\n",
       "      <td>1.0</td>\n",
       "      <td>4.0</td>\n",
       "      <td>NaN</td>\n",
       "      <td>NaN</td>\n",
       "      <td>230.0</td>\n",
       "      <td>184.0</td>\n",
       "      <td>...</td>\n",
       "      <td>0.0</td>\n",
       "      <td>NaN</td>\n",
       "      <td>NaN</td>\n",
       "      <td>NaN</td>\n",
       "      <td>NaN</td>\n",
       "      <td>NaN</td>\n",
       "      <td>6.0</td>\n",
       "      <td>2.0</td>\n",
       "      <td>7.0</td>\n",
       "      <td>50.0</td>\n",
       "    </tr>\n",
       "    <tr>\n",
       "      <th>8983</th>\n",
       "      <td>9022.0</td>\n",
       "      <td>2.0</td>\n",
       "      <td>1.0</td>\n",
       "      <td>1982.0</td>\n",
       "      <td>1.0</td>\n",
       "      <td>4.0</td>\n",
       "      <td>NaN</td>\n",
       "      <td>NaN</td>\n",
       "      <td>NaN</td>\n",
       "      <td>NaN</td>\n",
       "      <td>...</td>\n",
       "      <td>0.0</td>\n",
       "      <td>NaN</td>\n",
       "      <td>NaN</td>\n",
       "      <td>NaN</td>\n",
       "      <td>NaN</td>\n",
       "      <td>NaN</td>\n",
       "      <td>6.0</td>\n",
       "      <td>1.0</td>\n",
       "      <td>7.0</td>\n",
       "      <td>20.0</td>\n",
       "    </tr>\n",
       "  </tbody>\n",
       "</table>\n",
       "<p>8984 rows × 42 columns</p>\n",
       "</div>"
      ],
      "text/plain": [
       "      R0000100  R0536300  R0536401  R0536402  R1235800  R1482600  R9793800  \\\n",
       "0          1.0       2.0       9.0    1981.0       1.0       4.0     350.0   \n",
       "1          2.0       1.0       7.0    1982.0       1.0       2.0     460.0   \n",
       "2          3.0       2.0       9.0    1983.0       1.0       2.0       NaN   \n",
       "3          4.0       2.0       2.0    1981.0       1.0       2.0       NaN   \n",
       "4          5.0       1.0      10.0    1982.0       1.0       2.0       NaN   \n",
       "...        ...       ...       ...       ...       ...       ...       ...   \n",
       "8979    9018.0       2.0       3.0    1980.0       1.0       4.0       NaN   \n",
       "8980    9019.0       1.0       9.0    1984.0       0.0       2.0       NaN   \n",
       "8981    9020.0       1.0       7.0    1980.0       1.0       4.0       NaN   \n",
       "8982    9021.0       1.0       7.0    1980.0       1.0       4.0       NaN   \n",
       "8983    9022.0       2.0       1.0    1982.0       1.0       4.0       NaN   \n",
       "\n",
       "      R9793900  R9871900  R9872000  ...  U1852700  U2166200  U2166300  \\\n",
       "0        470.0     309.0     310.0  ...       NaN       NaN       NaN   \n",
       "1        440.0     217.0     280.0  ...       NaN       NaN       NaN   \n",
       "2          NaN       NaN       NaN  ...       0.0       NaN       NaN   \n",
       "3          NaN     253.0     216.0  ...       1.0       NaN       NaN   \n",
       "4          NaN     243.0     235.0  ...       0.0       NaN       NaN   \n",
       "...        ...       ...       ...  ...       ...       ...       ...   \n",
       "8979       NaN       NaN       NaN  ...       3.0       NaN       NaN   \n",
       "8980       NaN       NaN       NaN  ...       4.0       NaN       NaN   \n",
       "8981       NaN     322.0     290.0  ...       NaN       NaN       NaN   \n",
       "8982       NaN     230.0     184.0  ...       0.0       NaN       NaN   \n",
       "8983       NaN       NaN       NaN  ...       0.0       NaN       NaN   \n",
       "\n",
       "      U2166400  U2166500  U2857300  U2962800  U2962900  U2963000  Z9063900  \n",
       "0          NaN       NaN       NaN       NaN       NaN       NaN      52.0  \n",
       "1          NaN       NaN       NaN       4.0       2.0       6.0       0.0  \n",
       "2          NaN       NaN       NaN       6.0       2.0       6.0       0.0  \n",
       "3          NaN       NaN       NaN       3.0       2.0       6.0       4.0  \n",
       "4          NaN       NaN       NaN       2.0       2.0       5.0      12.0  \n",
       "...        ...       ...       ...       ...       ...       ...       ...  \n",
       "8979       NaN       NaN       NaN       4.0       2.0       4.0      49.0  \n",
       "8980       NaN       NaN       NaN       2.0       2.0       6.0       0.0  \n",
       "8981       NaN       NaN       NaN       NaN       NaN       NaN      15.0  \n",
       "8982       NaN       NaN       NaN       6.0       2.0       7.0      50.0  \n",
       "8983       NaN       NaN       NaN       6.0       1.0       7.0      20.0  \n",
       "\n",
       "[8984 rows x 42 columns]"
      ]
     },
     "execution_count": 6,
     "metadata": {},
     "output_type": "execute_result"
    }
   ],
   "source": [
    "data"
   ]
  },
  {
   "cell_type": "code",
   "execution_count": 14,
   "metadata": {},
   "outputs": [
    {
     "data": {
      "text/plain": [
       "{0.0: 'No Information', 1.0: 'Male', 2.0: 'Female'}"
      ]
     },
     "execution_count": 14,
     "metadata": {},
     "output_type": "execute_result"
    }
   ],
   "source": [
    "metadata_spss.variable_value_labels['R0536300']"
   ]
  },
  {
   "cell_type": "code",
   "execution_count": 9,
   "metadata": {},
   "outputs": [],
   "source": [
    "pyreadstat.read_sav??"
   ]
  },
  {
   "cell_type": "code",
   "execution_count": null,
   "metadata": {},
   "outputs": [],
   "source": [
    "data."
   ]
  }
 ],
 "metadata": {
  "kernelspec": {
   "display_name": "Python 3",
   "language": "python",
   "name": "python3"
  },
  "language_info": {
   "codemirror_mode": {
    "name": "ipython",
    "version": 3
   },
   "file_extension": ".py",
   "mimetype": "text/x-python",
   "name": "python",
   "nbconvert_exporter": "python",
   "pygments_lexer": "ipython3",
   "version": "3.7.6"
  }
 },
 "nbformat": 4,
 "nbformat_minor": 4
}
