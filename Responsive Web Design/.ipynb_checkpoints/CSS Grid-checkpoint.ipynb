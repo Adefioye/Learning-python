{
 "cells": [
  {
   "cell_type": "markdown",
   "metadata": {},
   "source": [
    "CSS grid is used to build complex web design. It has the power to transform HTML element into a grid container with rows and columns where we can easily place child elements."
   ]
  },
  {
   "cell_type": "raw",
   "metadata": {},
   "source": [
    "- Create a CSS grid by setting {display: grid;}. This turns the HTML element to a grid container. It also allows the element to access grid properties\n",
    "\n",
    "- To create columns in the grid, set {grid-template-columns: 100px 100px 100px}. This tells us that 3 columns would be created in the grid and the width of each of thne columns would be 100px. \n",
    "\n",
    "- To create rows in the grid, set {grid-template-rows: 50px 50px}. This creates 2 rows with 50px height.\n",
    "\n",
    "- Important units used to set width of rows and columns in a grid container\n",
    "# fr: This is set to a fraction fo the available page\n",
    "# auto: This sets the width and height of column and row respectively to their content\n",
    "# %: This is set to percent of the width of container\n",
    "\n",
    "grid-template-columns: 1fr 100px 2fr\n",
    "\n",
    "- To create gaps between columns. Set {grid-column-gap: 30px}\n",
    "\n",
    "- To create gap between rows. Set {grid-row-gap: 5px}\n",
    "\n",
    "- \"grid-gap\" is a shortform for grid-row-gap and grid-column-gap. If it has 1 value. It is gonna use same gap between rows and columns in the grid. However, if it has 2 values, It gonna use the first one for rows and second one for columns.\n",
    "\n",
    "- {grid-column and grid-row: a / b} ready to extend the item from one line \"a\" to line \"b\"\n",
    "\n",
    "- To align item horizontally in the CSS grid. Set {justify-self: center, start, end}\n",
    "\n",
    "- To align item vertically in the CSS grid. Set {align-self: center, start, end}\n",
    "\n",
    "- To align all items horizontally in the CSS grid. Set {justify-items: center, start, end}\n",
    "\n",
    "- To align all items vertically in the CSS grid. Set {align-items: center, start, end}\n",
    "\n",
    "- To group cells together into an area. \n",
    "\n",
    "Set {grid-template-areas: \n",
    "        \"header header header\"\n",
    "        \"advert content advert\"\n",
    "        \"footer footer footer\";\n",
    "        }                        # Each label stands for a cell in the grid container. Therefore, this is a 3by3 grid\n",
    "                                 # a \".\" can be used to label an empty cell.\n",
    "                                 # each quotation \"\" stands for a row\n",
    "\n",
    "- After using \"grid-template-areas\". One can reference the cell in the grid by setting \"{grid-area: custom label}\"\n",
    "\n",
    "- To create the \"grid-area\" on-the-fly without \"grid-template-areas\".\n",
    "Set {grid-area: horizontal line to start at/ vertical line to start at/ horizontal line to end at/ vertical line to end at}\n",
    "\n",
    "- To run many columns in a grid. we use the \"repeat function\". \n",
    "\n",
    "{grid-template-rows: repeat(100, 50px);} # Creates 100 rows with with of 50px\n",
    "{grid-template-columns: repeat(2, 1fr 50px) 20px;} # Creates columns with 1fr 50px 1fr 50px 20px;\n",
    "\n",
    "- Another useful function used with grid-template-rows & grid-template-columns is minmax(90px, 1fr)\n",
    "\n",
    "- The repeat function automatically comes with the \"auto-fill\" attribute. It has the special work of automatically filling the rows with items of the \"size\" specified.\n",
    "\n",
    "- "
   ]
  }
 ],
 "metadata": {
  "kernelspec": {
   "display_name": "Python 3",
   "language": "python",
   "name": "python3"
  },
  "language_info": {
   "codemirror_mode": {
    "name": "ipython",
    "version": 3
   },
   "file_extension": ".py",
   "mimetype": "text/x-python",
   "name": "python",
   "nbconvert_exporter": "python",
   "pygments_lexer": "ipython3",
   "version": "3.7.6"
  }
 },
 "nbformat": 4,
 "nbformat_minor": 4
}
