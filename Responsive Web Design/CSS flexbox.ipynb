{
 "cells": [
  {
   "cell_type": "markdown",
   "metadata": {},
   "source": [
    "Web UIs have 2 basic components. The visual elements(fonts, images and colors) and the positioning of those elements. In responsive web design, UIs are designed to make webpages fit different device requirements(dimension). \n",
    "\n",
    "CSS3 intoduced Flexible boxes (flexbox) creates page layouts for a dynamic UI. It arranges element in  aredictable way for different screen sizes and browsers. Even though new, many modern web browser support flexbox"
   ]
  },
  {
   "cell_type": "raw",
   "metadata": {},
   "source": [
    "- CSS \"display: flex\" allows for use of flex properties to build a responsive webpage. It also helps to allow elements to fit predicatble on a webpage based on a viewport\n",
    "\n",
    "- CSS \"flex-direction\" property. When CSS \"display: flex\" rule is applied, the element is automatically made a flex container and the children of the elements are given \"flex-direction\" property to arrange the children in rows or columns. The default value is \"row\". Other values for \"flex-direction\" are \"row-reverse; column-reverse\"\n",
    "\n",
    "- CSS \"justify-content\" property can be used to arrange child elements in a flex container along the main axis.\n",
    "\n",
    " The following are the behaviors that can be performed by the \"justify-content\" flex property:\n",
    " # center: the items are centered in the flex container\n",
    " # flex-start: pushes items to the start of the flex container. left for row; top for column\n",
    " # flex-end: pushes items to the end of the flex container. right for row; bottom for column\n",
    " # space-between: pushes first and last items to the edges of thr flex container. For row container, first to left, last to right and remaining spaces distributed evenly\n",
    " # space-around: similar to space-between, Except that the first and last item are not locked to the edges. Instead spaces are distributed between them with HALF of the spaces in the middle and remaining around the edges\n",
    " # space-evenly: spaces split evenly between the items and also around the edges\n",
    " \n",
    " - CSS \"align-items\" property is used to align items along the cross axis in a container\n",
    " # stretch: items are strected to fill the flex container. For rows, it goes from top to bottom.\n",
    " # flex-start: For rows, items start from top to bottom.\n",
    " # flex-end: For rows, items move from left to right.\n",
    " # center: This align items to the center.\n",
    " # baseline: Align items to their baselines. Baseline is a text concept. Think of it as line that letters sit on.\n",
    " \n",
    " - CSS \"flex-wrap\" property wraps items by moving extra items into new row or column. It has 3 attributes:\n",
    " # nowrap: default settinf\n",
    " # wrap: wrap extra item. For rows, create extra row for extra items and vice-versa\n",
    " # wrap-reverse: Reverse of the \"wrap\" attribute\n",
    " \n",
    " - The CSS properties above work on flex containers.  However. \"flex-shrink\" works on flex items. This works on flex items when their width combined is higher than flex container. It takes numbers as values. When \"flex-shrink\" of an item is 1 and others are 3. The other items would shrink 3 times relative to the one with 1. \n",
    " \n",
    " - \"flex-grow\" is the opposite of \"flex-shrink\". Flex-shrink works when the flex container shrinks. while, flex-grow works when the flex container expands. \n",
    " \n",
    " - \"flex-basis\" set the initial sizes of the boxes\n",
    " \n",
    " - There is a shortcut to set the flex properties all at once.\n",
    " flex: flex-grow, flex-shrink, flex-basis. The dafault value is {flex: 0, 1, auto}\n",
    " \n",
    " - \"order\" property orders the flex items in the flex container, \n",
    " \n",
    " - \"align-self\" works for individual items in the flex container. It takes all of the values of \"align-items\" and even overrides it when made available."
   ]
  }
 ],
 "metadata": {
  "kernelspec": {
   "display_name": "Python 3",
   "language": "python",
   "name": "python3"
  },
  "language_info": {
   "codemirror_mode": {
    "name": "ipython",
    "version": 3
   },
   "file_extension": ".py",
   "mimetype": "text/x-python",
   "name": "python",
   "nbconvert_exporter": "python",
   "pygments_lexer": "ipython3",
   "version": "3.7.6"
  }
 },
 "nbformat": 4,
 "nbformat_minor": 4
}
