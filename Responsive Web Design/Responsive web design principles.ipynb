{
 "cells": [
  {
   "cell_type": "markdown",
   "metadata": {},
   "source": [
    "Most web contents today can be accessed from different devices. These devices have different screen sizes, resolutions and processing power. Hence, Responsive web design has to do with creating webpage that responds to the constraints of the different device. The page structure and the CSS rules should be able to accomodate this differences. If web-content creator is expecting more mobile-users, CSS rules should be designed for mobile users then conditional rules should be made for larger screens."
   ]
  },
  {
   "cell_type": "raw",
   "metadata": {},
   "source": [
    "- Media query is a new method in CSS3 used to change the presentation of webpage based on the size of the viewport.\n",
    "\n",
    "The following is an implementation of the media query:\n",
    "\n",
    "@media (max-width: 100px) {/* CSS Rules */} # This applies the CSS rules to screen with width <= 100px\n",
    "\n",
    "@media (min-height: 350px) {/* CSS Rules */} # This applies CSS rules to screen with height >= 350px\n",
    "\n",
    "- Add a media query to make p element have a font-size of 10px when max-height: 800px\n",
    "\n",
    "@media (max-height: 800px) {p {font-size: 10px}}\n",
    "\n",
    "- To make image fit the viewport. CSS rules max-width: 100%; height: auto are used.\n",
    "\n",
    "- Different devices have different pixel density. Pixel Per Inch(PPI) or Dots Per Inch(DPI). Most famous kind of high resolution display are \"Retina\" displays of Macbook Pro notebooks. Due to the difference in pixel density of \"Retina\" and \"Non-Retina\" diaplays, some images that have not been made with \"high-resolution-display\" in mind appear \"pixelated\" on high resolution displays. To avoid this, the image width and height should be halved.\n",
    "\n",
    "- Make webpage text(typography responsive). Instead of using em and px. viewport units can be used to make the text resposive to the viewport dimensions:\n",
    "\n",
    "There are 4 viewport dimensions:\n",
    "# vw (viewport width): 10vw, This 10% of viewport's width\n",
    "# vh (viewport height): 3vh,  This is 3% of viewport's height\n",
    "# vmin (viewport minimum): 70vmin, This is 70% of viewport's minimum dimension\n",
    "# vmax (viewport maximum): 100vmax, This is 100% of vieport's maximum dimension\n",
    "\n",
    "- Set the width of the h2 tag to 80% of the viewport's width and the width of the paragraph as 75% of the viewport's smaller dimension.\n",
    "\n",
    "h2 {width: 80vw;} and p {width: 75vmin;}"
   ]
  }
 ],
 "metadata": {
  "kernelspec": {
   "display_name": "Python 3",
   "language": "python",
   "name": "python3"
  },
  "language_info": {
   "codemirror_mode": {
    "name": "ipython",
    "version": 3
   },
   "file_extension": ".py",
   "mimetype": "text/x-python",
   "name": "python",
   "nbconvert_exporter": "python",
   "pygments_lexer": "ipython3",
   "version": "3.7.6"
  }
 },
 "nbformat": 4,
 "nbformat_minor": 4
}
