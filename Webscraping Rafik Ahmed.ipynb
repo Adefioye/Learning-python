{
 "cells": [
  {
   "cell_type": "code",
   "execution_count": 35,
   "metadata": {},
   "outputs": [],
   "source": [
    "import scrapy"
   ]
  },
  {
   "cell_type": "code",
   "execution_count": 22,
   "metadata": {},
   "outputs": [],
   "source": [
    "urls = \"https://www.goodreads.com/quotes?page={}{}{}{}{}{}{}{}{}{}\".format(*[i for i in range(1, 11)])"
   ]
  },
  {
   "cell_type": "code",
   "execution_count": 23,
   "metadata": {},
   "outputs": [
    {
     "data": {
      "text/plain": [
       "'https://www.goodreads.com/quotes?page=12345678910'"
      ]
     },
     "execution_count": 23,
     "metadata": {},
     "output_type": "execute_result"
    }
   ],
   "source": [
    "urls"
   ]
  },
  {
   "cell_type": "code",
   "execution_count": 19,
   "metadata": {},
   "outputs": [],
   "source": [
    "url = (\"https://www.goodreads.com/quotes?page={}\".format(i) for i in range(1, 11))"
   ]
  },
  {
   "cell_type": "code",
   "execution_count": 21,
   "metadata": {},
   "outputs": [
    {
     "name": "stdout",
     "output_type": "stream",
     "text": [
      "https://www.goodreads.com/quotes?page=1\n",
      "https://www.goodreads.com/quotes?page=2\n",
      "https://www.goodreads.com/quotes?page=3\n",
      "https://www.goodreads.com/quotes?page=4\n",
      "https://www.goodreads.com/quotes?page=5\n",
      "https://www.goodreads.com/quotes?page=6\n",
      "https://www.goodreads.com/quotes?page=7\n",
      "https://www.goodreads.com/quotes?page=8\n",
      "https://www.goodreads.com/quotes?page=9\n",
      "https://www.goodreads.com/quotes?page=10\n"
     ]
    }
   ],
   "source": [
    "for i in url:\n",
    "    print(i)"
   ]
  },
  {
   "cell_type": "code",
   "execution_count": null,
   "metadata": {},
   "outputs": [],
   "source": [
    "# A predicate is a boolean-valued function."
   ]
  },
  {
   "cell_type": "code",
   "execution_count": 33,
   "metadata": {},
   "outputs": [],
   "source": [
    "# \" \".join(\"By Mark Luiz and David Ascber\".split().remove('By'))"
   ]
  },
  {
   "cell_type": "code",
   "execution_count": 27,
   "metadata": {},
   "outputs": [],
   "source": [
    "raw_author = \"By Mark Luiz and David Ascber\".split()"
   ]
  },
  {
   "cell_type": "code",
   "execution_count": 29,
   "metadata": {},
   "outputs": [],
   "source": [
    "# raw_author.remove('By')"
   ]
  },
  {
   "cell_type": "code",
   "execution_count": 31,
   "metadata": {},
   "outputs": [
    {
     "data": {
      "text/plain": [
       "'Mark Luiz and David Ascber'"
      ]
     },
     "execution_count": 31,
     "metadata": {},
     "output_type": "execute_result"
    }
   ],
   "source": [
    "# \" \".join(raw_author)"
   ]
  },
  {
   "cell_type": "raw",
   "metadata": {},
   "source": [
    "//div[@class='quoteText']/text()[1]   # To extract quote text in goodreads\n",
    "//span[@class='authorOrTitle']/text()  # To extract author name\n",
    "//div[@class=\"greyText smallText left\"]/a/text()   $ To extract the text"
   ]
  },
  {
   "cell_type": "code",
   "execution_count": 34,
   "metadata": {},
   "outputs": [
    {
     "name": "stdout",
     "output_type": "stream",
     "text": [
      "Object `response.selector.xpath` not found.\n"
     ]
    }
   ],
   "source": [
    "response.selector.xpath?"
   ]
  },
  {
   "cell_type": "code",
   "execution_count": 36,
   "metadata": {},
   "outputs": [],
   "source": [
    "from scrapy.loader import ItemLoader"
   ]
  },
  {
   "cell_type": "code",
   "execution_count": 38,
   "metadata": {},
   "outputs": [],
   "source": [
    "loader = ItemLoader()"
   ]
  },
  {
   "cell_type": "code",
   "execution_count": 39,
   "metadata": {},
   "outputs": [],
   "source": [
    "loader.add_xpath?"
   ]
  },
  {
   "cell_type": "code",
   "execution_count": 41,
   "metadata": {},
   "outputs": [],
   "source": [
    "loader.load_item??"
   ]
  },
  {
   "cell_type": "raw",
   "metadata": {},
   "source": [
    "//div[@class=\"quote\"]/span[@class=\"text\"]/text()   # To get text quote \n",
    "\n",
    "//div[@class=\"quote\"]/span/small[@class=\"author\"]/text()  # To get author name\n",
    "\n",
    "//div[@class=\"quote\"]/div[@class=\"tags\"]/a/@href/text()  # To get "
   ]
  }
 ],
 "metadata": {
  "kernelspec": {
   "display_name": "Python 3",
   "language": "python",
   "name": "python3"
  },
  "language_info": {
   "codemirror_mode": {
    "name": "ipython",
    "version": 3
   },
   "file_extension": ".py",
   "mimetype": "text/x-python",
   "name": "python",
   "nbconvert_exporter": "python",
   "pygments_lexer": "ipython3",
   "version": "3.7.6"
  }
 },
 "nbformat": 4,
 "nbformat_minor": 4
}
