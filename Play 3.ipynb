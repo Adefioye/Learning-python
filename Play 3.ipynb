{
 "cells": [
  {
   "cell_type": "code",
   "execution_count": 4,
   "metadata": {},
   "outputs": [],
   "source": [
    "a = set([1,2])\n",
    "b = set([1, 3, 2])"
   ]
  },
  {
   "cell_type": "code",
   "execution_count": 7,
   "metadata": {},
   "outputs": [],
   "source": [
    "state = a.issubset(b)"
   ]
  },
  {
   "cell_type": "code",
   "execution_count": 9,
   "metadata": {},
   "outputs": [],
   "source": [
    "ls = []"
   ]
  },
  {
   "cell_type": "code",
   "execution_count": 10,
   "metadata": {},
   "outputs": [],
   "source": [
    "ls.append(state)"
   ]
  },
  {
   "cell_type": "code",
   "execution_count": 11,
   "metadata": {},
   "outputs": [
    {
     "data": {
      "text/plain": [
       "[True]"
      ]
     },
     "execution_count": 11,
     "metadata": {},
     "output_type": "execute_result"
    }
   ],
   "source": [
    "ls"
   ]
  },
  {
   "cell_type": "code",
   "execution_count": 12,
   "metadata": {},
   "outputs": [],
   "source": [
    "all?"
   ]
  },
  {
   "cell_type": "code",
   "execution_count": 20,
   "metadata": {},
   "outputs": [],
   "source": [
    "import cmath"
   ]
  },
  {
   "cell_type": "code",
   "execution_count": 15,
   "metadata": {},
   "outputs": [],
   "source": [
    "c_num = '1+2j'"
   ]
  },
  {
   "cell_type": "code",
   "execution_count": 24,
   "metadata": {},
   "outputs": [],
   "source": [
    "real_part = int(c_num[0])\n",
    "im_part = int(c_num[2])"
   ]
  },
  {
   "cell_type": "code",
   "execution_count": 25,
   "metadata": {},
   "outputs": [],
   "source": [
    "z = complex(real_part, im_part)"
   ]
  },
  {
   "cell_type": "code",
   "execution_count": 26,
   "metadata": {},
   "outputs": [],
   "source": [
    "phase_ = cmath.phase(z)"
   ]
  },
  {
   "cell_type": "code",
   "execution_count": 27,
   "metadata": {},
   "outputs": [
    {
     "data": {
      "text/plain": [
       "1.1071487177940904"
      ]
     },
     "execution_count": 27,
     "metadata": {},
     "output_type": "execute_result"
    }
   ],
   "source": [
    "phase_"
   ]
  },
  {
   "cell_type": "code",
   "execution_count": 28,
   "metadata": {},
   "outputs": [],
   "source": [
    "abs_ = abs(z)"
   ]
  },
  {
   "cell_type": "code",
   "execution_count": 29,
   "metadata": {},
   "outputs": [
    {
     "data": {
      "text/plain": [
       "2.23606797749979"
      ]
     },
     "execution_count": 29,
     "metadata": {},
     "output_type": "execute_result"
    }
   ],
   "source": [
    "abs_"
   ]
  },
  {
   "cell_type": "code",
   "execution_count": 30,
   "metadata": {},
   "outputs": [],
   "source": [
    "test1 = '-1-5j'"
   ]
  },
  {
   "cell_type": "code",
   "execution_count": 31,
   "metadata": {},
   "outputs": [],
   "source": [
    "c = complex(test1)"
   ]
  },
  {
   "cell_type": "code",
   "execution_count": 33,
   "metadata": {},
   "outputs": [
    {
     "data": {
      "text/plain": [
       "-1.0"
      ]
     },
     "execution_count": 33,
     "metadata": {},
     "output_type": "execute_result"
    }
   ],
   "source": [
    "c.real"
   ]
  },
  {
   "cell_type": "code",
   "execution_count": 34,
   "metadata": {},
   "outputs": [],
   "source": [
    "import math"
   ]
  },
  {
   "cell_type": "code",
   "execution_count": 40,
   "metadata": {},
   "outputs": [],
   "source": [
    "math.atan2?"
   ]
  },
  {
   "cell_type": "code",
   "execution_count": 36,
   "metadata": {},
   "outputs": [],
   "source": [
    "math.degrees?"
   ]
  },
  {
   "cell_type": "code",
   "execution_count": null,
   "metadata": {},
   "outputs": [],
   "source": [
    "math.degree"
   ]
  },
  {
   "cell_type": "code",
   "execution_count": 41,
   "metadata": {},
   "outputs": [],
   "source": [
    "import operator"
   ]
  },
  {
   "cell_type": "code",
   "execution_count": 43,
   "metadata": {},
   "outputs": [
    {
     "name": "stdout",
     "output_type": "stream",
     "text": [
      "['__abs__', '__add__', '__all__', '__and__', '__builtins__', '__cached__', '__concat__', '__contains__', '__delitem__', '__doc__', '__eq__', '__file__', '__floordiv__', '__ge__', '__getitem__', '__gt__', '__iadd__', '__iand__', '__iconcat__', '__ifloordiv__', '__ilshift__', '__imatmul__', '__imod__', '__imul__', '__index__', '__inv__', '__invert__', '__ior__', '__ipow__', '__irshift__', '__isub__', '__itruediv__', '__ixor__', '__le__', '__loader__', '__lshift__', '__lt__', '__matmul__', '__mod__', '__mul__', '__name__', '__ne__', '__neg__', '__not__', '__or__', '__package__', '__pos__', '__pow__', '__rshift__', '__setitem__', '__spec__', '__sub__', '__truediv__', '__xor__', '_abs', 'abs', 'add', 'and_', 'attrgetter', 'concat', 'contains', 'countOf', 'delitem', 'eq', 'floordiv', 'ge', 'getitem', 'gt', 'iadd', 'iand', 'iconcat', 'ifloordiv', 'ilshift', 'imatmul', 'imod', 'imul', 'index', 'indexOf', 'inv', 'invert', 'ior', 'ipow', 'irshift', 'is_', 'is_not', 'isub', 'itemgetter', 'itruediv', 'ixor', 'le', 'length_hint', 'lshift', 'lt', 'matmul', 'methodcaller', 'mod', 'mul', 'ne', 'neg', 'not_', 'or_', 'pos', 'pow', 'rshift', 'setitem', 'sub', 'truediv', 'truth', 'xor']\n"
     ]
    }
   ],
   "source": [
    "print(dir(operator))"
   ]
  },
  {
   "cell_type": "code",
   "execution_count": 46,
   "metadata": {},
   "outputs": [],
   "source": [
    "operator.iconcat?"
   ]
  },
  {
   "cell_type": "code",
   "execution_count": 54,
   "metadata": {},
   "outputs": [],
   "source": [
    "a = '1 2'"
   ]
  },
  {
   "cell_type": "code",
   "execution_count": 55,
   "metadata": {},
   "outputs": [],
   "source": [
    "b = '3 4'"
   ]
  },
  {
   "cell_type": "code",
   "execution_count": 56,
   "metadata": {},
   "outputs": [],
   "source": [
    "a_list = list(map(int, a.split()))\n",
    "b_list = list(map(int, b.split()))"
   ]
  },
  {
   "cell_type": "code",
   "execution_count": 58,
   "metadata": {},
   "outputs": [],
   "source": [
    "from itertools import product"
   ]
  },
  {
   "cell_type": "code",
   "execution_count": 64,
   "metadata": {},
   "outputs": [],
   "source": [
    "result = product(a_list, b_list)"
   ]
  },
  {
   "cell_type": "code",
   "execution_count": 65,
   "metadata": {},
   "outputs": [
    {
     "data": {
      "text/plain": [
       "((1, 3), (1, 4), (2, 3), (2, 4))"
      ]
     },
     "execution_count": 65,
     "metadata": {},
     "output_type": "execute_result"
    }
   ],
   "source": [
    "tuple(result)"
   ]
  },
  {
   "cell_type": "code",
   "execution_count": 66,
   "metadata": {},
   "outputs": [],
   "source": [
    "a = 'HACK'"
   ]
  },
  {
   "cell_type": "code",
   "execution_count": 68,
   "metadata": {},
   "outputs": [
    {
     "name": "stdout",
     "output_type": "stream",
     "text": [
      "ACHK\n"
     ]
    }
   ],
   "source": [
    "print(''.join(sorted(a)))"
   ]
  },
  {
   "cell_type": "code",
   "execution_count": 74,
   "metadata": {},
   "outputs": [],
   "source": [
    "import itertools"
   ]
  },
  {
   "cell_type": "code",
   "execution_count": 176,
   "metadata": {},
   "outputs": [],
   "source": [
    "n = 4\n",
    "ls_a = 'a a c d'.split()\n",
    "indices = range(1, n+1)\n",
    "index = 2\n",
    "\n",
    "index_value = 'a'"
   ]
  },
  {
   "cell_type": "code",
   "execution_count": 177,
   "metadata": {},
   "outputs": [
    {
     "data": {
      "text/plain": [
       "'a'"
      ]
     },
     "execution_count": 177,
     "metadata": {},
     "output_type": "execute_result"
    }
   ],
   "source": [
    "index_value"
   ]
  },
  {
   "cell_type": "code",
   "execution_count": 208,
   "metadata": {},
   "outputs": [],
   "source": [
    "n = 9\n",
    "ls_a = 'a b c a d b z e o'.split()\n",
    "indices = range(1, n+1)\n",
    "index = 4\n",
    "\n",
    "index_value = 'a'"
   ]
  },
  {
   "cell_type": "code",
   "execution_count": 238,
   "metadata": {},
   "outputs": [],
   "source": [
    "n = 10\n",
    "ls_a = 'a z e i o a f g h k'.split()\n",
    "index = 5\n",
    "\n",
    "index_value = 'a'"
   ]
  },
  {
   "cell_type": "markdown",
   "metadata": {},
   "source": [
    "C = list(itertools.combinations(ls_a, index))\n",
    "F = filter(lambda c: 'a' in c, C)\n",
    "print('{:.3f}'.format((len(list(F))/ len(C))))"
   ]
  },
  {
   "cell_type": "code",
   "execution_count": 239,
   "metadata": {},
   "outputs": [
    {
     "data": {
      "text/plain": [
       "'a'"
      ]
     },
     "execution_count": 239,
     "metadata": {},
     "output_type": "execute_result"
    }
   ],
   "source": [
    "index_value"
   ]
  },
  {
   "cell_type": "markdown",
   "metadata": {},
   "source": [
    "indexes = [] # To grab indexes in \n",
    "for i, value in enumerate(ls_a):\n",
    "    if value == index_value:\n",
    "        indexes.append(i+1)"
   ]
  },
  {
   "cell_type": "markdown",
   "metadata": {},
   "source": [
    "indexes"
   ]
  },
  {
   "cell_type": "code",
   "execution_count": 240,
   "metadata": {},
   "outputs": [],
   "source": [
    "groups = itertools.combinations(ls_a, index)\n",
    "copy1, copy2, copy3 = itertools.tee(groups, 3) # 3 copies of groups"
   ]
  },
  {
   "cell_type": "code",
   "execution_count": 241,
   "metadata": {},
   "outputs": [
    {
     "data": {
      "text/plain": [
       "[('a', 'z', 'e', 'i', 'o'),\n",
       " ('a', 'z', 'e', 'i', 'a'),\n",
       " ('a', 'z', 'e', 'i', 'f'),\n",
       " ('a', 'z', 'e', 'i', 'g'),\n",
       " ('a', 'z', 'e', 'i', 'h'),\n",
       " ('a', 'z', 'e', 'i', 'k'),\n",
       " ('a', 'z', 'e', 'o', 'a'),\n",
       " ('a', 'z', 'e', 'o', 'f'),\n",
       " ('a', 'z', 'e', 'o', 'g'),\n",
       " ('a', 'z', 'e', 'o', 'h'),\n",
       " ('a', 'z', 'e', 'o', 'k'),\n",
       " ('a', 'z', 'e', 'a', 'f'),\n",
       " ('a', 'z', 'e', 'a', 'g'),\n",
       " ('a', 'z', 'e', 'a', 'h'),\n",
       " ('a', 'z', 'e', 'a', 'k'),\n",
       " ('a', 'z', 'e', 'f', 'g'),\n",
       " ('a', 'z', 'e', 'f', 'h'),\n",
       " ('a', 'z', 'e', 'f', 'k'),\n",
       " ('a', 'z', 'e', 'g', 'h'),\n",
       " ('a', 'z', 'e', 'g', 'k'),\n",
       " ('a', 'z', 'e', 'h', 'k'),\n",
       " ('a', 'z', 'i', 'o', 'a'),\n",
       " ('a', 'z', 'i', 'o', 'f'),\n",
       " ('a', 'z', 'i', 'o', 'g'),\n",
       " ('a', 'z', 'i', 'o', 'h'),\n",
       " ('a', 'z', 'i', 'o', 'k'),\n",
       " ('a', 'z', 'i', 'a', 'f'),\n",
       " ('a', 'z', 'i', 'a', 'g'),\n",
       " ('a', 'z', 'i', 'a', 'h'),\n",
       " ('a', 'z', 'i', 'a', 'k'),\n",
       " ('a', 'z', 'i', 'f', 'g'),\n",
       " ('a', 'z', 'i', 'f', 'h'),\n",
       " ('a', 'z', 'i', 'f', 'k'),\n",
       " ('a', 'z', 'i', 'g', 'h'),\n",
       " ('a', 'z', 'i', 'g', 'k'),\n",
       " ('a', 'z', 'i', 'h', 'k'),\n",
       " ('a', 'z', 'o', 'a', 'f'),\n",
       " ('a', 'z', 'o', 'a', 'g'),\n",
       " ('a', 'z', 'o', 'a', 'h'),\n",
       " ('a', 'z', 'o', 'a', 'k'),\n",
       " ('a', 'z', 'o', 'f', 'g'),\n",
       " ('a', 'z', 'o', 'f', 'h'),\n",
       " ('a', 'z', 'o', 'f', 'k'),\n",
       " ('a', 'z', 'o', 'g', 'h'),\n",
       " ('a', 'z', 'o', 'g', 'k'),\n",
       " ('a', 'z', 'o', 'h', 'k'),\n",
       " ('a', 'z', 'a', 'f', 'g'),\n",
       " ('a', 'z', 'a', 'f', 'h'),\n",
       " ('a', 'z', 'a', 'f', 'k'),\n",
       " ('a', 'z', 'a', 'g', 'h'),\n",
       " ('a', 'z', 'a', 'g', 'k'),\n",
       " ('a', 'z', 'a', 'h', 'k'),\n",
       " ('a', 'z', 'f', 'g', 'h'),\n",
       " ('a', 'z', 'f', 'g', 'k'),\n",
       " ('a', 'z', 'f', 'h', 'k'),\n",
       " ('a', 'z', 'g', 'h', 'k'),\n",
       " ('a', 'e', 'i', 'o', 'a'),\n",
       " ('a', 'e', 'i', 'o', 'f'),\n",
       " ('a', 'e', 'i', 'o', 'g'),\n",
       " ('a', 'e', 'i', 'o', 'h'),\n",
       " ('a', 'e', 'i', 'o', 'k'),\n",
       " ('a', 'e', 'i', 'a', 'f'),\n",
       " ('a', 'e', 'i', 'a', 'g'),\n",
       " ('a', 'e', 'i', 'a', 'h'),\n",
       " ('a', 'e', 'i', 'a', 'k'),\n",
       " ('a', 'e', 'i', 'f', 'g'),\n",
       " ('a', 'e', 'i', 'f', 'h'),\n",
       " ('a', 'e', 'i', 'f', 'k'),\n",
       " ('a', 'e', 'i', 'g', 'h'),\n",
       " ('a', 'e', 'i', 'g', 'k'),\n",
       " ('a', 'e', 'i', 'h', 'k'),\n",
       " ('a', 'e', 'o', 'a', 'f'),\n",
       " ('a', 'e', 'o', 'a', 'g'),\n",
       " ('a', 'e', 'o', 'a', 'h'),\n",
       " ('a', 'e', 'o', 'a', 'k'),\n",
       " ('a', 'e', 'o', 'f', 'g'),\n",
       " ('a', 'e', 'o', 'f', 'h'),\n",
       " ('a', 'e', 'o', 'f', 'k'),\n",
       " ('a', 'e', 'o', 'g', 'h'),\n",
       " ('a', 'e', 'o', 'g', 'k'),\n",
       " ('a', 'e', 'o', 'h', 'k'),\n",
       " ('a', 'e', 'a', 'f', 'g'),\n",
       " ('a', 'e', 'a', 'f', 'h'),\n",
       " ('a', 'e', 'a', 'f', 'k'),\n",
       " ('a', 'e', 'a', 'g', 'h'),\n",
       " ('a', 'e', 'a', 'g', 'k'),\n",
       " ('a', 'e', 'a', 'h', 'k'),\n",
       " ('a', 'e', 'f', 'g', 'h'),\n",
       " ('a', 'e', 'f', 'g', 'k'),\n",
       " ('a', 'e', 'f', 'h', 'k'),\n",
       " ('a', 'e', 'g', 'h', 'k'),\n",
       " ('a', 'i', 'o', 'a', 'f'),\n",
       " ('a', 'i', 'o', 'a', 'g'),\n",
       " ('a', 'i', 'o', 'a', 'h'),\n",
       " ('a', 'i', 'o', 'a', 'k'),\n",
       " ('a', 'i', 'o', 'f', 'g'),\n",
       " ('a', 'i', 'o', 'f', 'h'),\n",
       " ('a', 'i', 'o', 'f', 'k'),\n",
       " ('a', 'i', 'o', 'g', 'h'),\n",
       " ('a', 'i', 'o', 'g', 'k'),\n",
       " ('a', 'i', 'o', 'h', 'k'),\n",
       " ('a', 'i', 'a', 'f', 'g'),\n",
       " ('a', 'i', 'a', 'f', 'h'),\n",
       " ('a', 'i', 'a', 'f', 'k'),\n",
       " ('a', 'i', 'a', 'g', 'h'),\n",
       " ('a', 'i', 'a', 'g', 'k'),\n",
       " ('a', 'i', 'a', 'h', 'k'),\n",
       " ('a', 'i', 'f', 'g', 'h'),\n",
       " ('a', 'i', 'f', 'g', 'k'),\n",
       " ('a', 'i', 'f', 'h', 'k'),\n",
       " ('a', 'i', 'g', 'h', 'k'),\n",
       " ('a', 'o', 'a', 'f', 'g'),\n",
       " ('a', 'o', 'a', 'f', 'h'),\n",
       " ('a', 'o', 'a', 'f', 'k'),\n",
       " ('a', 'o', 'a', 'g', 'h'),\n",
       " ('a', 'o', 'a', 'g', 'k'),\n",
       " ('a', 'o', 'a', 'h', 'k'),\n",
       " ('a', 'o', 'f', 'g', 'h'),\n",
       " ('a', 'o', 'f', 'g', 'k'),\n",
       " ('a', 'o', 'f', 'h', 'k'),\n",
       " ('a', 'o', 'g', 'h', 'k'),\n",
       " ('a', 'a', 'f', 'g', 'h'),\n",
       " ('a', 'a', 'f', 'g', 'k'),\n",
       " ('a', 'a', 'f', 'h', 'k'),\n",
       " ('a', 'a', 'g', 'h', 'k'),\n",
       " ('a', 'f', 'g', 'h', 'k'),\n",
       " ('z', 'e', 'i', 'o', 'a'),\n",
       " ('z', 'e', 'i', 'o', 'f'),\n",
       " ('z', 'e', 'i', 'o', 'g'),\n",
       " ('z', 'e', 'i', 'o', 'h'),\n",
       " ('z', 'e', 'i', 'o', 'k'),\n",
       " ('z', 'e', 'i', 'a', 'f'),\n",
       " ('z', 'e', 'i', 'a', 'g'),\n",
       " ('z', 'e', 'i', 'a', 'h'),\n",
       " ('z', 'e', 'i', 'a', 'k'),\n",
       " ('z', 'e', 'i', 'f', 'g'),\n",
       " ('z', 'e', 'i', 'f', 'h'),\n",
       " ('z', 'e', 'i', 'f', 'k'),\n",
       " ('z', 'e', 'i', 'g', 'h'),\n",
       " ('z', 'e', 'i', 'g', 'k'),\n",
       " ('z', 'e', 'i', 'h', 'k'),\n",
       " ('z', 'e', 'o', 'a', 'f'),\n",
       " ('z', 'e', 'o', 'a', 'g'),\n",
       " ('z', 'e', 'o', 'a', 'h'),\n",
       " ('z', 'e', 'o', 'a', 'k'),\n",
       " ('z', 'e', 'o', 'f', 'g'),\n",
       " ('z', 'e', 'o', 'f', 'h'),\n",
       " ('z', 'e', 'o', 'f', 'k'),\n",
       " ('z', 'e', 'o', 'g', 'h'),\n",
       " ('z', 'e', 'o', 'g', 'k'),\n",
       " ('z', 'e', 'o', 'h', 'k'),\n",
       " ('z', 'e', 'a', 'f', 'g'),\n",
       " ('z', 'e', 'a', 'f', 'h'),\n",
       " ('z', 'e', 'a', 'f', 'k'),\n",
       " ('z', 'e', 'a', 'g', 'h'),\n",
       " ('z', 'e', 'a', 'g', 'k'),\n",
       " ('z', 'e', 'a', 'h', 'k'),\n",
       " ('z', 'e', 'f', 'g', 'h'),\n",
       " ('z', 'e', 'f', 'g', 'k'),\n",
       " ('z', 'e', 'f', 'h', 'k'),\n",
       " ('z', 'e', 'g', 'h', 'k'),\n",
       " ('z', 'i', 'o', 'a', 'f'),\n",
       " ('z', 'i', 'o', 'a', 'g'),\n",
       " ('z', 'i', 'o', 'a', 'h'),\n",
       " ('z', 'i', 'o', 'a', 'k'),\n",
       " ('z', 'i', 'o', 'f', 'g'),\n",
       " ('z', 'i', 'o', 'f', 'h'),\n",
       " ('z', 'i', 'o', 'f', 'k'),\n",
       " ('z', 'i', 'o', 'g', 'h'),\n",
       " ('z', 'i', 'o', 'g', 'k'),\n",
       " ('z', 'i', 'o', 'h', 'k'),\n",
       " ('z', 'i', 'a', 'f', 'g'),\n",
       " ('z', 'i', 'a', 'f', 'h'),\n",
       " ('z', 'i', 'a', 'f', 'k'),\n",
       " ('z', 'i', 'a', 'g', 'h'),\n",
       " ('z', 'i', 'a', 'g', 'k'),\n",
       " ('z', 'i', 'a', 'h', 'k'),\n",
       " ('z', 'i', 'f', 'g', 'h'),\n",
       " ('z', 'i', 'f', 'g', 'k'),\n",
       " ('z', 'i', 'f', 'h', 'k'),\n",
       " ('z', 'i', 'g', 'h', 'k'),\n",
       " ('z', 'o', 'a', 'f', 'g'),\n",
       " ('z', 'o', 'a', 'f', 'h'),\n",
       " ('z', 'o', 'a', 'f', 'k'),\n",
       " ('z', 'o', 'a', 'g', 'h'),\n",
       " ('z', 'o', 'a', 'g', 'k'),\n",
       " ('z', 'o', 'a', 'h', 'k'),\n",
       " ('z', 'o', 'f', 'g', 'h'),\n",
       " ('z', 'o', 'f', 'g', 'k'),\n",
       " ('z', 'o', 'f', 'h', 'k'),\n",
       " ('z', 'o', 'g', 'h', 'k'),\n",
       " ('z', 'a', 'f', 'g', 'h'),\n",
       " ('z', 'a', 'f', 'g', 'k'),\n",
       " ('z', 'a', 'f', 'h', 'k'),\n",
       " ('z', 'a', 'g', 'h', 'k'),\n",
       " ('z', 'f', 'g', 'h', 'k'),\n",
       " ('e', 'i', 'o', 'a', 'f'),\n",
       " ('e', 'i', 'o', 'a', 'g'),\n",
       " ('e', 'i', 'o', 'a', 'h'),\n",
       " ('e', 'i', 'o', 'a', 'k'),\n",
       " ('e', 'i', 'o', 'f', 'g'),\n",
       " ('e', 'i', 'o', 'f', 'h'),\n",
       " ('e', 'i', 'o', 'f', 'k'),\n",
       " ('e', 'i', 'o', 'g', 'h'),\n",
       " ('e', 'i', 'o', 'g', 'k'),\n",
       " ('e', 'i', 'o', 'h', 'k'),\n",
       " ('e', 'i', 'a', 'f', 'g'),\n",
       " ('e', 'i', 'a', 'f', 'h'),\n",
       " ('e', 'i', 'a', 'f', 'k'),\n",
       " ('e', 'i', 'a', 'g', 'h'),\n",
       " ('e', 'i', 'a', 'g', 'k'),\n",
       " ('e', 'i', 'a', 'h', 'k'),\n",
       " ('e', 'i', 'f', 'g', 'h'),\n",
       " ('e', 'i', 'f', 'g', 'k'),\n",
       " ('e', 'i', 'f', 'h', 'k'),\n",
       " ('e', 'i', 'g', 'h', 'k'),\n",
       " ('e', 'o', 'a', 'f', 'g'),\n",
       " ('e', 'o', 'a', 'f', 'h'),\n",
       " ('e', 'o', 'a', 'f', 'k'),\n",
       " ('e', 'o', 'a', 'g', 'h'),\n",
       " ('e', 'o', 'a', 'g', 'k'),\n",
       " ('e', 'o', 'a', 'h', 'k'),\n",
       " ('e', 'o', 'f', 'g', 'h'),\n",
       " ('e', 'o', 'f', 'g', 'k'),\n",
       " ('e', 'o', 'f', 'h', 'k'),\n",
       " ('e', 'o', 'g', 'h', 'k'),\n",
       " ('e', 'a', 'f', 'g', 'h'),\n",
       " ('e', 'a', 'f', 'g', 'k'),\n",
       " ('e', 'a', 'f', 'h', 'k'),\n",
       " ('e', 'a', 'g', 'h', 'k'),\n",
       " ('e', 'f', 'g', 'h', 'k'),\n",
       " ('i', 'o', 'a', 'f', 'g'),\n",
       " ('i', 'o', 'a', 'f', 'h'),\n",
       " ('i', 'o', 'a', 'f', 'k'),\n",
       " ('i', 'o', 'a', 'g', 'h'),\n",
       " ('i', 'o', 'a', 'g', 'k'),\n",
       " ('i', 'o', 'a', 'h', 'k'),\n",
       " ('i', 'o', 'f', 'g', 'h'),\n",
       " ('i', 'o', 'f', 'g', 'k'),\n",
       " ('i', 'o', 'f', 'h', 'k'),\n",
       " ('i', 'o', 'g', 'h', 'k'),\n",
       " ('i', 'a', 'f', 'g', 'h'),\n",
       " ('i', 'a', 'f', 'g', 'k'),\n",
       " ('i', 'a', 'f', 'h', 'k'),\n",
       " ('i', 'a', 'g', 'h', 'k'),\n",
       " ('i', 'f', 'g', 'h', 'k'),\n",
       " ('o', 'a', 'f', 'g', 'h'),\n",
       " ('o', 'a', 'f', 'g', 'k'),\n",
       " ('o', 'a', 'f', 'h', 'k'),\n",
       " ('o', 'a', 'g', 'h', 'k'),\n",
       " ('o', 'f', 'g', 'h', 'k'),\n",
       " ('a', 'f', 'g', 'h', 'k')]"
      ]
     },
     "execution_count": 241,
     "metadata": {},
     "output_type": "execute_result"
    }
   ],
   "source": [
    "list(copy1)"
   ]
  },
  {
   "cell_type": "code",
   "execution_count": 242,
   "metadata": {},
   "outputs": [],
   "source": [
    "t = len(list(copy2))"
   ]
  },
  {
   "cell_type": "code",
   "execution_count": 243,
   "metadata": {},
   "outputs": [],
   "source": [
    "def if_index(groups, index_value):\n",
    "    for element in groups:\n",
    "        if index_value in element:\n",
    "            yield element"
   ]
  },
  {
   "cell_type": "code",
   "execution_count": 244,
   "metadata": {},
   "outputs": [],
   "source": [
    "gen_copy1, gen_copy2, gen_copy3 = itertools.tee(if_index(copy3, index_value), 3)"
   ]
  },
  {
   "cell_type": "code",
   "execution_count": 245,
   "metadata": {},
   "outputs": [
    {
     "data": {
      "text/plain": [
       "[('a', 'z', 'e', 'i', 'o'),\n",
       " ('a', 'z', 'e', 'i', 'a'),\n",
       " ('a', 'z', 'e', 'i', 'f'),\n",
       " ('a', 'z', 'e', 'i', 'g'),\n",
       " ('a', 'z', 'e', 'i', 'h'),\n",
       " ('a', 'z', 'e', 'i', 'k'),\n",
       " ('a', 'z', 'e', 'o', 'a'),\n",
       " ('a', 'z', 'e', 'o', 'f'),\n",
       " ('a', 'z', 'e', 'o', 'g'),\n",
       " ('a', 'z', 'e', 'o', 'h'),\n",
       " ('a', 'z', 'e', 'o', 'k'),\n",
       " ('a', 'z', 'e', 'a', 'f'),\n",
       " ('a', 'z', 'e', 'a', 'g'),\n",
       " ('a', 'z', 'e', 'a', 'h'),\n",
       " ('a', 'z', 'e', 'a', 'k'),\n",
       " ('a', 'z', 'e', 'f', 'g'),\n",
       " ('a', 'z', 'e', 'f', 'h'),\n",
       " ('a', 'z', 'e', 'f', 'k'),\n",
       " ('a', 'z', 'e', 'g', 'h'),\n",
       " ('a', 'z', 'e', 'g', 'k'),\n",
       " ('a', 'z', 'e', 'h', 'k'),\n",
       " ('a', 'z', 'i', 'o', 'a'),\n",
       " ('a', 'z', 'i', 'o', 'f'),\n",
       " ('a', 'z', 'i', 'o', 'g'),\n",
       " ('a', 'z', 'i', 'o', 'h'),\n",
       " ('a', 'z', 'i', 'o', 'k'),\n",
       " ('a', 'z', 'i', 'a', 'f'),\n",
       " ('a', 'z', 'i', 'a', 'g'),\n",
       " ('a', 'z', 'i', 'a', 'h'),\n",
       " ('a', 'z', 'i', 'a', 'k'),\n",
       " ('a', 'z', 'i', 'f', 'g'),\n",
       " ('a', 'z', 'i', 'f', 'h'),\n",
       " ('a', 'z', 'i', 'f', 'k'),\n",
       " ('a', 'z', 'i', 'g', 'h'),\n",
       " ('a', 'z', 'i', 'g', 'k'),\n",
       " ('a', 'z', 'i', 'h', 'k'),\n",
       " ('a', 'z', 'o', 'a', 'f'),\n",
       " ('a', 'z', 'o', 'a', 'g'),\n",
       " ('a', 'z', 'o', 'a', 'h'),\n",
       " ('a', 'z', 'o', 'a', 'k'),\n",
       " ('a', 'z', 'o', 'f', 'g'),\n",
       " ('a', 'z', 'o', 'f', 'h'),\n",
       " ('a', 'z', 'o', 'f', 'k'),\n",
       " ('a', 'z', 'o', 'g', 'h'),\n",
       " ('a', 'z', 'o', 'g', 'k'),\n",
       " ('a', 'z', 'o', 'h', 'k'),\n",
       " ('a', 'z', 'a', 'f', 'g'),\n",
       " ('a', 'z', 'a', 'f', 'h'),\n",
       " ('a', 'z', 'a', 'f', 'k'),\n",
       " ('a', 'z', 'a', 'g', 'h'),\n",
       " ('a', 'z', 'a', 'g', 'k'),\n",
       " ('a', 'z', 'a', 'h', 'k'),\n",
       " ('a', 'z', 'f', 'g', 'h'),\n",
       " ('a', 'z', 'f', 'g', 'k'),\n",
       " ('a', 'z', 'f', 'h', 'k'),\n",
       " ('a', 'z', 'g', 'h', 'k'),\n",
       " ('a', 'e', 'i', 'o', 'a'),\n",
       " ('a', 'e', 'i', 'o', 'f'),\n",
       " ('a', 'e', 'i', 'o', 'g'),\n",
       " ('a', 'e', 'i', 'o', 'h'),\n",
       " ('a', 'e', 'i', 'o', 'k'),\n",
       " ('a', 'e', 'i', 'a', 'f'),\n",
       " ('a', 'e', 'i', 'a', 'g'),\n",
       " ('a', 'e', 'i', 'a', 'h'),\n",
       " ('a', 'e', 'i', 'a', 'k'),\n",
       " ('a', 'e', 'i', 'f', 'g'),\n",
       " ('a', 'e', 'i', 'f', 'h'),\n",
       " ('a', 'e', 'i', 'f', 'k'),\n",
       " ('a', 'e', 'i', 'g', 'h'),\n",
       " ('a', 'e', 'i', 'g', 'k'),\n",
       " ('a', 'e', 'i', 'h', 'k'),\n",
       " ('a', 'e', 'o', 'a', 'f'),\n",
       " ('a', 'e', 'o', 'a', 'g'),\n",
       " ('a', 'e', 'o', 'a', 'h'),\n",
       " ('a', 'e', 'o', 'a', 'k'),\n",
       " ('a', 'e', 'o', 'f', 'g'),\n",
       " ('a', 'e', 'o', 'f', 'h'),\n",
       " ('a', 'e', 'o', 'f', 'k'),\n",
       " ('a', 'e', 'o', 'g', 'h'),\n",
       " ('a', 'e', 'o', 'g', 'k'),\n",
       " ('a', 'e', 'o', 'h', 'k'),\n",
       " ('a', 'e', 'a', 'f', 'g'),\n",
       " ('a', 'e', 'a', 'f', 'h'),\n",
       " ('a', 'e', 'a', 'f', 'k'),\n",
       " ('a', 'e', 'a', 'g', 'h'),\n",
       " ('a', 'e', 'a', 'g', 'k'),\n",
       " ('a', 'e', 'a', 'h', 'k'),\n",
       " ('a', 'e', 'f', 'g', 'h'),\n",
       " ('a', 'e', 'f', 'g', 'k'),\n",
       " ('a', 'e', 'f', 'h', 'k'),\n",
       " ('a', 'e', 'g', 'h', 'k'),\n",
       " ('a', 'i', 'o', 'a', 'f'),\n",
       " ('a', 'i', 'o', 'a', 'g'),\n",
       " ('a', 'i', 'o', 'a', 'h'),\n",
       " ('a', 'i', 'o', 'a', 'k'),\n",
       " ('a', 'i', 'o', 'f', 'g'),\n",
       " ('a', 'i', 'o', 'f', 'h'),\n",
       " ('a', 'i', 'o', 'f', 'k'),\n",
       " ('a', 'i', 'o', 'g', 'h'),\n",
       " ('a', 'i', 'o', 'g', 'k'),\n",
       " ('a', 'i', 'o', 'h', 'k'),\n",
       " ('a', 'i', 'a', 'f', 'g'),\n",
       " ('a', 'i', 'a', 'f', 'h'),\n",
       " ('a', 'i', 'a', 'f', 'k'),\n",
       " ('a', 'i', 'a', 'g', 'h'),\n",
       " ('a', 'i', 'a', 'g', 'k'),\n",
       " ('a', 'i', 'a', 'h', 'k'),\n",
       " ('a', 'i', 'f', 'g', 'h'),\n",
       " ('a', 'i', 'f', 'g', 'k'),\n",
       " ('a', 'i', 'f', 'h', 'k'),\n",
       " ('a', 'i', 'g', 'h', 'k'),\n",
       " ('a', 'o', 'a', 'f', 'g'),\n",
       " ('a', 'o', 'a', 'f', 'h'),\n",
       " ('a', 'o', 'a', 'f', 'k'),\n",
       " ('a', 'o', 'a', 'g', 'h'),\n",
       " ('a', 'o', 'a', 'g', 'k'),\n",
       " ('a', 'o', 'a', 'h', 'k'),\n",
       " ('a', 'o', 'f', 'g', 'h'),\n",
       " ('a', 'o', 'f', 'g', 'k'),\n",
       " ('a', 'o', 'f', 'h', 'k'),\n",
       " ('a', 'o', 'g', 'h', 'k'),\n",
       " ('a', 'a', 'f', 'g', 'h'),\n",
       " ('a', 'a', 'f', 'g', 'k'),\n",
       " ('a', 'a', 'f', 'h', 'k'),\n",
       " ('a', 'a', 'g', 'h', 'k'),\n",
       " ('a', 'f', 'g', 'h', 'k'),\n",
       " ('z', 'e', 'i', 'o', 'a'),\n",
       " ('z', 'e', 'i', 'a', 'f'),\n",
       " ('z', 'e', 'i', 'a', 'g'),\n",
       " ('z', 'e', 'i', 'a', 'h'),\n",
       " ('z', 'e', 'i', 'a', 'k'),\n",
       " ('z', 'e', 'o', 'a', 'f'),\n",
       " ('z', 'e', 'o', 'a', 'g'),\n",
       " ('z', 'e', 'o', 'a', 'h'),\n",
       " ('z', 'e', 'o', 'a', 'k'),\n",
       " ('z', 'e', 'a', 'f', 'g'),\n",
       " ('z', 'e', 'a', 'f', 'h'),\n",
       " ('z', 'e', 'a', 'f', 'k'),\n",
       " ('z', 'e', 'a', 'g', 'h'),\n",
       " ('z', 'e', 'a', 'g', 'k'),\n",
       " ('z', 'e', 'a', 'h', 'k'),\n",
       " ('z', 'i', 'o', 'a', 'f'),\n",
       " ('z', 'i', 'o', 'a', 'g'),\n",
       " ('z', 'i', 'o', 'a', 'h'),\n",
       " ('z', 'i', 'o', 'a', 'k'),\n",
       " ('z', 'i', 'a', 'f', 'g'),\n",
       " ('z', 'i', 'a', 'f', 'h'),\n",
       " ('z', 'i', 'a', 'f', 'k'),\n",
       " ('z', 'i', 'a', 'g', 'h'),\n",
       " ('z', 'i', 'a', 'g', 'k'),\n",
       " ('z', 'i', 'a', 'h', 'k'),\n",
       " ('z', 'o', 'a', 'f', 'g'),\n",
       " ('z', 'o', 'a', 'f', 'h'),\n",
       " ('z', 'o', 'a', 'f', 'k'),\n",
       " ('z', 'o', 'a', 'g', 'h'),\n",
       " ('z', 'o', 'a', 'g', 'k'),\n",
       " ('z', 'o', 'a', 'h', 'k'),\n",
       " ('z', 'a', 'f', 'g', 'h'),\n",
       " ('z', 'a', 'f', 'g', 'k'),\n",
       " ('z', 'a', 'f', 'h', 'k'),\n",
       " ('z', 'a', 'g', 'h', 'k'),\n",
       " ('e', 'i', 'o', 'a', 'f'),\n",
       " ('e', 'i', 'o', 'a', 'g'),\n",
       " ('e', 'i', 'o', 'a', 'h'),\n",
       " ('e', 'i', 'o', 'a', 'k'),\n",
       " ('e', 'i', 'a', 'f', 'g'),\n",
       " ('e', 'i', 'a', 'f', 'h'),\n",
       " ('e', 'i', 'a', 'f', 'k'),\n",
       " ('e', 'i', 'a', 'g', 'h'),\n",
       " ('e', 'i', 'a', 'g', 'k'),\n",
       " ('e', 'i', 'a', 'h', 'k'),\n",
       " ('e', 'o', 'a', 'f', 'g'),\n",
       " ('e', 'o', 'a', 'f', 'h'),\n",
       " ('e', 'o', 'a', 'f', 'k'),\n",
       " ('e', 'o', 'a', 'g', 'h'),\n",
       " ('e', 'o', 'a', 'g', 'k'),\n",
       " ('e', 'o', 'a', 'h', 'k'),\n",
       " ('e', 'a', 'f', 'g', 'h'),\n",
       " ('e', 'a', 'f', 'g', 'k'),\n",
       " ('e', 'a', 'f', 'h', 'k'),\n",
       " ('e', 'a', 'g', 'h', 'k'),\n",
       " ('i', 'o', 'a', 'f', 'g'),\n",
       " ('i', 'o', 'a', 'f', 'h'),\n",
       " ('i', 'o', 'a', 'f', 'k'),\n",
       " ('i', 'o', 'a', 'g', 'h'),\n",
       " ('i', 'o', 'a', 'g', 'k'),\n",
       " ('i', 'o', 'a', 'h', 'k'),\n",
       " ('i', 'a', 'f', 'g', 'h'),\n",
       " ('i', 'a', 'f', 'g', 'k'),\n",
       " ('i', 'a', 'f', 'h', 'k'),\n",
       " ('i', 'a', 'g', 'h', 'k'),\n",
       " ('o', 'a', 'f', 'g', 'h'),\n",
       " ('o', 'a', 'f', 'g', 'k'),\n",
       " ('o', 'a', 'f', 'h', 'k'),\n",
       " ('o', 'a', 'g', 'h', 'k'),\n",
       " ('a', 'f', 'g', 'h', 'k')]"
      ]
     },
     "execution_count": 245,
     "metadata": {},
     "output_type": "execute_result"
    }
   ],
   "source": [
    "list(gen_copy1)"
   ]
  },
  {
   "cell_type": "code",
   "execution_count": 246,
   "metadata": {},
   "outputs": [],
   "source": [
    "part = len(list(gen_copy2))"
   ]
  },
  {
   "cell_type": "code",
   "execution_count": 247,
   "metadata": {},
   "outputs": [
    {
     "data": {
      "text/plain": [
       "0.7777777777777778"
      ]
     },
     "execution_count": 247,
     "metadata": {},
     "output_type": "execute_result"
    }
   ],
   "source": [
    "part/t"
   ]
  }
 ],
 "metadata": {
  "kernelspec": {
   "display_name": "Python 3",
   "language": "python",
   "name": "python3"
  },
  "language_info": {
   "codemirror_mode": {
    "name": "ipython",
    "version": 3
   },
   "file_extension": ".py",
   "mimetype": "text/x-python",
   "name": "python",
   "nbconvert_exporter": "python",
   "pygments_lexer": "ipython3",
   "version": "3.7.6"
  }
 },
 "nbformat": 4,
 "nbformat_minor": 4
}
