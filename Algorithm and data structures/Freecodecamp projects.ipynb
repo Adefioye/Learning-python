{
 "cells": [
  {
   "cell_type": "markdown",
   "metadata": {},
   "source": [
    "## Arithmetic formatter problem"
   ]
  },
  {
   "cell_type": "markdown",
   "metadata": {},
   "source": [
    "- Rules to follow\n",
    "\n",
    " - len(list) <= 5\n",
    " - item_in_list[1] == '+' 0r '-'\n",
    " - item_in_list[0] and item_in_list[2] -- str.isdigit()\n",
    " - len(item_in_list[0]) and len(item_in_list[2]) <=4"
   ]
  },
  {
   "cell_type": "code",
   "execution_count": 2,
   "metadata": {},
   "outputs": [],
   "source": [
    "def higher_length(first_number, second_number):\n",
    "    length_1 = len(first_number)\n",
    "    length_2 = len(second_number)\n",
    "    \n",
    "    if length_1 > length_2:\n",
    "        return length_1\n",
    "    return length_2\n",
    "\n",
    "def do_math(first, operator, second):\n",
    "    if operator == '+':\n",
    "        return str(int(first) + int(second))\n",
    "    else:\n",
    "        return str(int(first) - int(second))\n",
    "\n",
    "def arithmetic_arranger(list_, show_answers=None):\n",
    "    first_numbers = []\n",
    "    second_numbers = []\n",
    "    operators = []\n",
    "    \n",
    "    if len(list_) > 4:\n",
    "        return 'Error: Too many problems.'\n",
    "    else:\n",
    "        for item in list_:\n",
    "            elements = item.split()\n",
    "            if (elements[1] != '+' and elements[1] != '-'):\n",
    "                return \"Error: Operator must be '+' or '-'.\"\n",
    "            elif not (elements[0].isdigit() and elements[2].isdigit()):\n",
    "                return 'Error: Numbers must only contain digits.'\n",
    "            elif (len(elements[0]) > 4 or len(elements[2]) > 4):\n",
    "                return 'Error: Numbers cannot be more than four digits.'\n",
    "            else:\n",
    "                first_numbers.append(elements[0])\n",
    "                second_numbers.append(elements[2])\n",
    "                operators.append(elements[1])\n",
    "                \n",
    "    widths = []\n",
    "    for first, second in zip(first_numbers, second_numbers):\n",
    "        widths.append(higher_length(first, second) + 2)  # one space and for operator\n",
    "        \n",
    "    first_line = []\n",
    "    second_line = []\n",
    "    third_line = []\n",
    "    fourth_line = []\n",
    "    for first, operator, second, width in zip(first_numbers, operators,second_numbers, widths):\n",
    "        first_line.append(first.rjust(width))\n",
    "        second_line.append(operator + second.rjust(width - 1) )\n",
    "        third_line.append('-'*width)\n",
    "        fourth_line.append(do_math(first, operator, second).rjust(width))\n",
    "        \n",
    "    if show_answers != True:\n",
    "        return '    '.join(first_line) + '\\n' + '    '.join(second_line) + '\\n' + '    '.join(third_line)\n",
    "    else:\n",
    "        return '    '.join(first_line) + '\\n' + '    '.join(second_line) + '\\n' + '    '.join(third_line) + '\\n' + \\\n",
    "    '    '.join(fourth_line)"
   ]
  },
  {
   "cell_type": "code",
   "execution_count": 3,
   "metadata": {},
   "outputs": [
    {
     "name": "stdout",
     "output_type": "stream",
     "text": [
      "   32         1      45      123\n",
      "+ 698    - 3809    + 43    +  49\n",
      "-----    ------    ----    -----\n",
      "  730     -3808      88      172\n"
     ]
    }
   ],
   "source": [
    "print(arithmetic_arranger([\"32 + 698\", \"1 - 3809\", \"45 + 43\", \"123 + 49\"], True))"
   ]
  },
  {
   "cell_type": "code",
   "execution_count": 4,
   "metadata": {},
   "outputs": [
    {
     "name": "stdout",
     "output_type": "stream",
     "text": [
      "    3      3801      45      123\n",
      "+ 855    -    2    + 43    +  49\n",
      "-----    ------    ----    -----\n",
      "  858      3799      88      172\n"
     ]
    }
   ],
   "source": [
    "print(arithmetic_arranger([\"3 + 855\", \"3801 - 2\", \"45 + 43\", \"123 + 49\"], True))"
   ]
  },
  {
   "cell_type": "code",
   "execution_count": 50,
   "metadata": {},
   "outputs": [
    {
     "data": {
      "text/plain": [
       "'Error: Too many problems.'"
      ]
     },
     "execution_count": 50,
     "metadata": {},
     "output_type": "execute_result"
    }
   ],
   "source": [
    "arithmetic_arranger([\"44 + 815\", \"909 - 2\", \"45 + 43\", \"123 + 49\", \"888 + 40\", \"653 + 87\"])"
   ]
  },
  {
   "cell_type": "code",
   "execution_count": 51,
   "metadata": {},
   "outputs": [
    {
     "data": {
      "text/plain": [
       "'    3      3801      45      123\\n+ 855    -    2    + 43    +  49\\n-----    ------    ----    -----\\n  858      3799      88      172'"
      ]
     },
     "execution_count": 51,
     "metadata": {},
     "output_type": "execute_result"
    }
   ],
   "source": [
    "arithmetic_arranger([\"3 + 855\", \"3801 - 2\", \"45 + 43\", \"123 + 49\"], True)"
   ]
  },
  {
   "cell_type": "markdown",
   "metadata": {},
   "source": [
    "## Time Calculator"
   ]
  },
  {
   "cell_type": "code",
   "execution_count": 6,
   "metadata": {},
   "outputs": [],
   "source": [
    "def twelve_hour_format(total_hr, total_min):\n",
    "    # hour in 12_hour format\n",
    "    # total_hr and total_min in str\n",
    "    total_hr = int(total_hr)\n",
    "    if total_hr % 12 != 0:\n",
    "        return str(total_hr % 12) + ':' + total_min\n",
    "    return str(12) + ':' + total_min\n",
    "\n",
    "def am_or_pm(total_hr):\n",
    "    # Input in str\n",
    "    \n",
    "    total_hr = int(total_hr)\n",
    "    am_pm_metric = total_hr // 12\n",
    "    \n",
    "    if am_pm_metric % 2 != 0:\n",
    "        return 'PM'\n",
    "    return 'AM'\n",
    "\n",
    "def day_after(start_hr_min, duration_hr_min):\n",
    "    # Convert start_hr_time to 4-digit GMT\n",
    "    # Convert total_hr and total_min to str\n",
    "    \n",
    "    start_min = start_hr_min[0] * 60 + start_hr_min[1]\n",
    "    duration_min = duration_hr_min[0] * 60 + duration_hr_min[1]\n",
    "    gmt_min = 24 * 60\n",
    "    \n",
    "    if duration_min + start_min < gmt_min:\n",
    "        return ''\n",
    "    \n",
    "    if duration_min + start_min > gmt_min:\n",
    "        min_to_1day = gmt_min - start_min\n",
    "        min_after_1day = duration_min - min_to_1day\n",
    "        \n",
    "        if min_to_1day < duration_min and min_after_1day < gmt_min:\n",
    "            return '(next day)'\n",
    "        else:\n",
    "            num_days = min_after_1day // (24 * 60)\n",
    "            return '({} days later)'.format(num_days + 1)\n",
    "\n",
    "def weekday_determinant(start_hr_min, duration_hr_min, start_day_of_week):\n",
    "    # Convert start_hr_time to 4-digit GMT\n",
    "    # Convert total_hr and total_min to str\n",
    "    \n",
    "    start_min = start_hr_min[0] * 60 + start_hr_min[1]\n",
    "    duration_min = duration_hr_min[0] * 60 + duration_hr_min[1]\n",
    "    gmt_min = 24 * 60\n",
    "    \n",
    "    num_days = 0\n",
    "    if duration_min + start_min < gmt_min:\n",
    "        num_days = 0\n",
    "    \n",
    "    if duration_min + start_min > gmt_min:\n",
    "        min_to_1day = gmt_min - start_min\n",
    "        min_after_1day = duration_min - min_to_1day\n",
    "        \n",
    "        if min_to_1day < duration_min and min_after_1day < gmt_min:\n",
    "            num_days = 1\n",
    "        else:\n",
    "            num_days = min_after_1day // (24 * 60)  + 1 \n",
    "    \n",
    "\n",
    "    weekday_string = ['MONDAY', 'TUESDAY', 'WEDNESDAY', 'THURSDAY', 'FRIDAY', 'SATURDAY', 'SUNDAY']\n",
    "    \n",
    "    # lets label Monday-Sunday 1-7\n",
    "    \n",
    "    start_day_label = weekday_string.index(start_day_of_week.upper()) + 1\n",
    "    # Add start_day labels to num_days\n",
    "    \n",
    "    day_determinant = num_days + start_day_label\n",
    "    \n",
    "    if day_determinant < 7:\n",
    "        return weekday_string[day_determinant - 1].capitalize()\n",
    "    elif day_determinant > 7:\n",
    "        return weekday_string[(day_determinant % 7) - 1].capitalize()\n",
    "    else:\n",
    "        return weekday_string[6].capitalize()\n",
    "    \n",
    "def add_time(start_time, duration_time, start_day_of_week=None):\n",
    "    \n",
    "    if 'AM' in start_time:\n",
    "        start_hr_min = [int(i) for i in start_time.split(' ')[0].split(':')]\n",
    "        duration_hr_min = [int(i) for i in duration_time.split(':')]\n",
    "        \n",
    "        # Add both to get answer in GMT\n",
    "        total_hr = str((duration_hr_min[0] + start_hr_min[0]) + ((duration_hr_min[1] + start_hr_min[1]) // 60))\n",
    "        total_min = str((duration_hr_min[1] + start_hr_min[1]) % 60)\n",
    "        \n",
    "        \n",
    "        # Length of min portion\n",
    "        if len(str(total_min)) == 1: # Add 0 before it\n",
    "            total_min = '0' + str(total_min)\n",
    "        \n",
    "        if start_day_of_week:\n",
    "            return (twelve_hour_format(total_hr, total_min) + ' ' + am_or_pm(total_hr) +  ', ' + \\\n",
    "                weekday_determinant(start_hr_min, duration_hr_min, start_day_of_week) + ' '+ \\\n",
    "        day_after(start_hr_min, duration_hr_min)).rstrip()\n",
    "    \n",
    "        \n",
    "        return (twelve_hour_format(total_hr, total_min) + ' ' + am_or_pm(total_hr) +  ' ' + \\\n",
    "                day_after(start_hr_min, duration_hr_min)).rstrip()\n",
    "\n",
    "    if 'PM' in start_time:\n",
    "        \n",
    "        # Convert PM to GMT\n",
    "        start_hr_min = [int(i) for i in start_time.split(' ')[0].split(':')]\n",
    "        duration_hr_min = [int(i) for i in duration_time.split(':')]\n",
    "        \n",
    "        # Add both to get answer in GMT\n",
    "        # In particular add 12 to hour component in start_hr_min, to convert to GMT\n",
    "        start_hr_min = [start_hr_min[0] + 12, start_hr_min[1]]\n",
    "        total_hr = str((duration_hr_min[0] + start_hr_min[0]) + ((duration_hr_min[1] + start_hr_min[1]) // 60))\n",
    "        total_min = str((duration_hr_min[1] + start_hr_min[1]) % 60)\n",
    "        \n",
    "        \n",
    "        # Length of min portion\n",
    "        if len(str(total_min)) == 1: # Add 0 before it\n",
    "            total_min = '0' + str(total_min)\n",
    "        \n",
    "        if start_day_of_week:\n",
    "            return (twelve_hour_format(total_hr, total_min) + ' ' + am_or_pm(total_hr) +  ', ' + \\\n",
    "                weekday_determinant(start_hr_min, duration_hr_min, start_day_of_week) + ' '+ \\\n",
    "        day_after(start_hr_min, duration_hr_min)).rstrip()\n",
    "    \n",
    "        \n",
    "        return (twelve_hour_format(total_hr, total_min) + ' ' + am_or_pm(total_hr) +  ' ' + \\\n",
    "                day_after(start_hr_min, duration_hr_min)\n",
    ").rstrip()"
   ]
  },
  {
   "cell_type": "code",
   "execution_count": 7,
   "metadata": {},
   "outputs": [
    {
     "data": {
      "text/plain": [
       "'2:57 PM'"
      ]
     },
     "execution_count": 7,
     "metadata": {},
     "output_type": "execute_result"
    }
   ],
   "source": [
    "add_time(\"11:55 AM\", \"3:02\")"
   ]
  },
  {
   "cell_type": "code",
   "execution_count": 8,
   "metadata": {},
   "outputs": [
    {
     "data": {
      "text/plain": [
       "'7:42 AM (9 days later)'"
      ]
     },
     "execution_count": 8,
     "metadata": {},
     "output_type": "execute_result"
    }
   ],
   "source": [
    "add_time(\"6:30 PM\", \"205:12\")"
   ]
  },
  {
   "cell_type": "code",
   "execution_count": 10,
   "metadata": {},
   "outputs": [
    {
     "data": {
      "text/plain": [
       "'12:03 AM, Sunday (2 days later)'"
      ]
     },
     "execution_count": 10,
     "metadata": {},
     "output_type": "execute_result"
    }
   ],
   "source": [
    "add_time(\"11:43 PM\", \"24:20\", \"friday\")"
   ]
  },
  {
   "cell_type": "markdown",
   "metadata": {},
   "source": [
    "## Budget App"
   ]
  },
  {
   "attachments": {
    "image.png": {
     "image/png": "[encoded data removed]"
    }
   },
   "cell_type": "markdown",
   "metadata": {},
   "source": [
    "#### Instantiate category class objects based on:\n",
    "- food, clothing, and entertainment\n",
    "-  Class should have an instance variable **ledger** that is a list\n",
    "- __deposit method__ accepts amount and description. If no description then default to empty string. The method should append object to the ledger list in the form of {\"amount\": amount, \"description\": description}.\n",
    "- __withdraw method__ is similar to deposit method. Except that amount passed is stored in ledger as negative number. If no enough funds nothing should be added to ledger. Method should True if withdrawal took place. False otherwise\n",
    "- __get_balance__ method that returns current balance based on deposits and withdrawals that have occured\n",
    "- __transfer__ method accepts amount and another budget category as arguments \n",
    "    - The method should add a withdrawal with the amount and the description \"Transfer to [Destination Budget Category]\". \n",
    "    -  The method should then add a deposit to the other budget category with the amount and the description \"Transfer from             [Source Budget Category]\".\n",
    "    - If there are not enough funds, nothing should be added to either ledgers. This method should return True if the transfer took place, and False otherwise.\n",
    "- __check_funds__ method accepts amount as argument\n",
    "    - if amount > balance of budget category return False otherwise return True\n",
    "    - This method should be used by both withdraw and transfer method\n",
    "    \n",
    "When the budget object is displayed, it should display\n",
    "- A title line with 30 * characters with __name of category centred__\n",
    "- A list of items. Each line should show description and amount. First 23 characters should be displayed then the amount. The amount should be right-aligned contain 2 d.p and display a maximum of 7 characters\n",
    "- A line displaying the category total\n",
    "\n",
    "#### Write a function called create_spend_chart\n",
    "- This takes a list of categories and returns a string that is a barchart\n",
    "- The chart should show % spent in each category(as passed into the function)\n",
    "- % spent in each category should be computed based on withdrawals and not deposits\n",
    "- Down the left side should be labels 0-100. The bars in ten barchat should be made out of \"o\" character. \n",
    "- The height of each bar should be rounded down to the nearest 10\n",
    "- The horizontal bar should go two spaces past the final bar below( @ the bottom)\n",
    "- Each category name should be vertically positioned below each \n",
    "- There should be a title at the top that says \"Percentage spent by category\".\n",
    "- Thne function will be tested to up to four categories\n",
    "\n",
    "**Output of the class**\n",
    "![image.png](attachment:image.png)"
   ]
  },
  {
   "attachments": {
    "image.png": {
     "image/png": "[encoded data removed]"
    }
   },
   "cell_type": "markdown",
   "metadata": {},
   "source": [
    "**Output of the function**\n",
    "![image.png](attachment:image.png)"
   ]
  },
  {
   "cell_type": "code",
   "execution_count": 37,
   "metadata": {},
   "outputs": [],
   "source": [
    "class Category:\n",
    "\n",
    "    \n",
    "    def __init__(self, category_name):\n",
    "        \n",
    "        self.category_name = category_name\n",
    "        self.ledger = []\n",
    "        \n",
    "    def deposit(self, amount, description=\"\"):\n",
    "        \n",
    "        self.deposit_container = dict()\n",
    "        self.deposit_container['amount'] = amount\n",
    "        self.deposit_container['description'] = description\n",
    "        \n",
    "        self.ledger.append(self.deposit_container)\n",
    "    \n",
    "    def withdraw(self, amount, description=\"\"):\n",
    "        \n",
    "        amount_less_than_balance = self.check_funds(amount)\n",
    "        if amount_less_than_balance:\n",
    "            self.withdrawal_container = dict()\n",
    "            self.withdrawal_container['amount'] = - amount\n",
    "            self.withdrawal_container['description'] = description\n",
    "            \n",
    "            self.ledger.append(self.withdrawal_container)\n",
    "            return True\n",
    "\n",
    "        return False\n",
    "            \n",
    "    def get_balance(self):\n",
    "        balance = 0\n",
    "        \n",
    "        for each_item in self.ledger:\n",
    "            balance += each_item.get('amount')\n",
    "            \n",
    "        return balance\n",
    "    \n",
    "    def transfer(self, amount, other_category):\n",
    "        \n",
    "        add_withdrawal = self.withdraw(amount, \"Transfer to {}\".format(other_category.category_name))\n",
    "        add_deposit = other_category.deposit(amount, \"Transfer from {}\".format(self.category_name))\n",
    "        \n",
    "        if add_withdrawal:\n",
    "            return True\n",
    "        return False\n",
    "    \n",
    "    def check_funds(self, amount):\n",
    "        if amount > self.get_balance(): # True if amount < balance\n",
    "            return False\n",
    "        return True\n",
    "    \n",
    "    def get_withdrawals(self):\n",
    "        total_withdrawal = 0\n",
    "        for item in self.ledger:\n",
    "            if item.get(\"amount\") < 0:\n",
    "                total_withdrawal += item.get(\"amount\")\n",
    "        return total_withdrawal\n",
    "    \n",
    "    def __str__(self):\n",
    "        output = []\n",
    "        first_line = \"{:*^30}\".format(self.category_name)\n",
    "        output.append(first_line)\n",
    "        \n",
    "        for item in self.ledger:\n",
    "            output.append(\"{:<23}{:>7.2f}\".format(item.get('description')[:23], item.get('amount')))\n",
    "        \n",
    "        # Add total: balance to output\n",
    "        output.append(\"Total: {:.2f}\".format(self.get_balance()))\n",
    "        \n",
    "        return '\\n'.join(output)"
   ]
  },
  {
   "cell_type": "code",
   "execution_count": 38,
   "metadata": {},
   "outputs": [
    {
     "name": "stdout",
     "output_type": "stream",
     "text": [
      "973.96\n",
      "*************Food*************\n",
      "initial deposit        1000.00\n",
      "groceries               -10.15\n",
      "restaurant and more foo -15.89\n",
      "Transfer to Clothing    -50.00\n",
      "Total: 923.96\n",
      "***********Clothing***********\n",
      "Transfer from Food       50.00\n",
      "                        -25.55\n",
      "Total: 24.45\n"
     ]
    }
   ],
   "source": [
    "food = Category(\"Food\")\n",
    "food.deposit(1000, \"initial deposit\")\n",
    "food.withdraw(10.15, \"groceries\")\n",
    "food.withdraw(15.89, \"restaurant and more food for dessert\")\n",
    "print(food.get_balance())\n",
    "clothing = Category(\"Clothing\")\n",
    "food.transfer(50, clothing)\n",
    "clothing.withdraw(25.55)\n",
    "clothing.withdraw(100)\n",
    "auto = Category(\"Auto\")\n",
    "auto.deposit(1000, \"initial deposit\")\n",
    "auto.withdraw(15)\n",
    "\n",
    "print(food)\n",
    "print(clothing)"
   ]
  },
  {
   "cell_type": "code",
   "execution_count": 47,
   "metadata": {},
   "outputs": [],
   "source": [
    "\n",
    "def get_total_withdrawal(categories):\n",
    "    total = 0\n",
    "    withdrawal_per_category = []\n",
    "    for category in categories:\n",
    "        total += category.get_withdrawals()\n",
    "        withdrawal_per_category.append(category.get_withdrawals())\n",
    "    \n",
    "    # Round to the nearest 10\n",
    "    withdrawal_per_category = [round((i /total)* 100) for i in withdrawal_per_category]\n",
    "    \n",
    "    return withdrawal_per_category\n",
    "\n",
    "def create_spend_chart(categories):\n",
    "    output = \"Percentage spent by category\\n\"\n",
    "    i = 100\n",
    "    percent_of_total = get_total_withdrawal(categories)\n",
    "    for i in range(100, -10, -10):\n",
    "        cat_spaces = \" \"\n",
    "        for percent in percent_of_total:\n",
    "            if percent >= i:\n",
    "                cat_spaces += \"o  \"\n",
    "\n",
    "            else:\n",
    "                cat_spaces += \"   \"\n",
    "        output += str(i).rjust(3) + \"|\" + cat_spaces + (\"\\n\")\n",
    "        i-=10\n",
    "    \n",
    "    dashes = \"-\" + \"---\"*len(categories)\n",
    "    names = []\n",
    "    x_axis = \"\"\n",
    "    for category in categories:\n",
    "        names.append(category.category_name)\n",
    "\n",
    "    maxi = max(names, key=len)\n",
    "\n",
    "    for x in range(len(maxi)):\n",
    "        nameStr = '     '\n",
    "        for name in names:\n",
    "            if x >= len(name):\n",
    "                nameStr += \"   \"\n",
    "            else:\n",
    "                nameStr += name[x] + \"  \"\n",
    "        nameStr += '\\n'\n",
    "        x_axis += nameStr\n",
    "\n",
    "    output += dashes.rjust(len(dashes)+4) + \"\\n\" + x_axis\n",
    "    return output.rstrip('\\n')"
   ]
  },
  {
   "cell_type": "code",
   "execution_count": 48,
   "metadata": {},
   "outputs": [
    {
     "name": "stdout",
     "output_type": "stream",
     "text": [
      "Percentage spent by category\n",
      "100|          \n",
      " 90|          \n",
      " 80|          \n",
      " 70|          \n",
      " 60| o        \n",
      " 50| o        \n",
      " 40| o        \n",
      " 30| o        \n",
      " 20| o  o     \n",
      " 10| o  o  o  \n",
      "  0| o  o  o  \n",
      "    ----------\n",
      "     F  C  A  \n",
      "     o  l  u  \n",
      "     o  o  t  \n",
      "     d  t  o  \n",
      "        h     \n",
      "        i     \n",
      "        n     \n",
      "        g     \n"
     ]
    }
   ],
   "source": [
    "print(create_spend_chart([food, clothing, auto]))"
   ]
  },
  {
   "cell_type": "code",
   "execution_count": 26,
   "metadata": {},
   "outputs": [
    {
     "data": {
      "text/plain": [
       "'Percentage spent by category\\n100|          \\n 90|          \\n 80|          \\n 70|          \\n 60| o        \\n 50| o        \\n 40| o        \\n 30| o        \\n 20| o  o     \\n 10| o  o  o  \\n  0| o  o  o  \\n    ----------\\n     F  C  A  \\n     o  l  u  \\n     o  o  t  \\n     d  t  o  \\n        h     \\n        i     \\n        n     \\n        g     '"
      ]
     },
     "execution_count": 26,
     "metadata": {},
     "output_type": "execute_result"
    }
   ],
   "source": [
    "create_spend_chart([food, clothing, auto])"
   ]
  },
  {
   "cell_type": "markdown",
   "metadata": {},
   "source": [
    "## POLYGON AREA CALCULATOR\n",
    "\n",
    "##### Create rectangle class\n",
    "- set_width\n",
    "- set_height\n",
    "- get_area: Returns area (width * height)\n",
    "- get_perimeter: Returns perimeter (2 * width + 2 * height)\n",
    "- get_diagonal: Returns diagonal ((width ** 2 + height ** 2) ** .5)\n",
    "- get_picture: Returns a string with lines with \"*\". height = number of lines; width = length of \"*\" along the line. IF either width/ length > 50. Return \"Too big for picture.\"\n",
    "- get_amount_inside: Takes another shape as argument. Returns the number of times. the passed-in shape can fit inside the shape\n",
    "- __str__ : Rectangle(width=5, height=10)\n",
    "\n",
    "##### Create square class\n",
    "- This should be a subclass of Rectangle class\n",
    "- the __init__ should store teh side length in both **width** and  **height** \n",
    "- Square class should access REctangle class methods. Should also contain **set_side** method\n",
    "- If represented as string, It should look like Square(side=9)\n",
    "- Additionally, the set_width and set_height methods on the Square class should set both the width and height."
   ]
  },
  {
   "cell_type": "code",
   "execution_count": 23,
   "metadata": {},
   "outputs": [],
   "source": [
    "class Rectangle:\n",
    "    \n",
    "    def __init__(self, width, height):\n",
    "        self.width = width\n",
    "        self.height = height\n",
    "        \n",
    "    def set_width(self, width):\n",
    "        self.width = width\n",
    "        \n",
    "    def set_height(self, height):\n",
    "        self.height = height\n",
    "        \n",
    "    def get_area(self):\n",
    "        return self.width * self.height\n",
    "    \n",
    "    def get_perimeter(self):\n",
    "        return 2 * (self.width + self.height)\n",
    "    \n",
    "    def get_diagonal(self):\n",
    "        return (self.width**2 + self.height**2) ** 0.5\n",
    "    \n",
    "    def get_picture(self):\n",
    "        if self.width > 50 or self.height > 50:\n",
    "            return \"Too big for picture.\"\n",
    "        return \"\\n\".join([\"*\"* self.width for i in range(self.height)]) + \"\\n\"\n",
    "    \n",
    "    def get_amount_inside(self, other_shape):\n",
    "        return self.get_area() // other_shape.get_area()\n",
    "    \n",
    "    def __repr__(self):\n",
    "        return \"Rectangle(width={}, height={})\".format(self.width, self.height)"
   ]
  },
  {
   "cell_type": "code",
   "execution_count": 24,
   "metadata": {},
   "outputs": [],
   "source": [
    "class Square(Rectangle):\n",
    "    \n",
    "    def __init__(self, side):\n",
    "        super().__init__(side, side)\n",
    "        \n",
    "    def set_side(self, side):\n",
    "        Rectangle.set_width(self, side)\n",
    "        Rectangle.set_height(self, side)\n",
    "        \n",
    "    def __repr__(self):\n",
    "        return \"Square(side={})\".format(self.width)\n",
    "    \n",
    "#     def set_width(self, side):\n",
    "#         self.side = side"
   ]
  },
  {
   "cell_type": "code",
   "execution_count": 25,
   "metadata": {},
   "outputs": [
    {
     "name": "stdout",
     "output_type": "stream",
     "text": [
      "50\n",
      "26\n",
      "Rectangle(width=10, height=3)\n"
     ]
    },
    {
     "data": {
      "text/plain": [
       "'**********\\n**********\\n**********\\n'"
      ]
     },
     "execution_count": 25,
     "metadata": {},
     "output_type": "execute_result"
    }
   ],
   "source": [
    "rect = Rectangle(10, 5)\n",
    "print(rect.get_area())\n",
    "rect.set_height(3)\n",
    "print(rect.get_perimeter())\n",
    "print(rect)\n",
    "rect.get_picture()"
   ]
  },
  {
   "cell_type": "code",
   "execution_count": 22,
   "metadata": {},
   "outputs": [
    {
     "name": "stdout",
     "output_type": "stream",
     "text": [
      "81\n",
      "5.656854249492381\n",
      "Square(side=4)\n",
      "****\n",
      "****\n",
      "****\n",
      "****\n",
      "\n",
      "8.0\n"
     ]
    }
   ],
   "source": [
    "sq = Square(9)\n",
    "print(sq.get_area())\n",
    "sq.set_side(4)\n",
    "print(sq.get_diagonal())\n",
    "print(sq)\n",
    "print(sq.get_picture())\n",
    " \n",
    "rect.set_height(8)\n",
    "rect.set_width(16)\n",
    "print(rect.get_amount_inside(sq))"
   ]
  },
  {
   "cell_type": "markdown",
   "metadata": {},
   "source": [
    "## PROBABILITY CALCULATOR\n",
    "- Create the approximate probability of drawing certain amount of balls from arbitrary numbers of balls\n",
    "To achieve this\n",
    "- Start by creating a class Hat\n",
    "- create **content** instance variable. if passed arguments is {\"red\": 2, \"blue\": 1}, contents should be [\"red\", \"red\",\"blue\"].\n",
    "- Create a __draw__ method in the hat. This removes balls at random from contents and return them as list of strings. The draw method is created without replacement. If number_of_balls to be drawn > available quantity. Return all the balls \n",
    "\n",
    "- Create a function __experiment__ with the following arguments:\n",
    "    - Hat object\n",
    "    - expected_balls is {\"blue\":2, \"red\":1}\n",
    "    - num_balls_drawn per experiment\n",
    "    - num_experiments\n"
   ]
  },
  {
   "cell_type": "code",
   "execution_count": 191,
   "metadata": {},
   "outputs": [],
   "source": [
    "import random\n",
    "import numpy as np"
   ]
  },
  {
   "cell_type": "code",
   "execution_count": 193,
   "metadata": {},
   "outputs": [],
   "source": [
    "# class Hat:\n",
    "    \n",
    "#     def __init__(self, **kwargs):\n",
    "#         self.contents = []\n",
    "#         for key, value in kwargs.items():\n",
    "#             for i in range(value):\n",
    "#                 self.contents.append(key)\n",
    "        \n",
    "#     def draw(self, num_balls_drawn):\n",
    "#         drawn_balls = []\n",
    "#         if num_balls_drawn < len(self.contents):\n",
    "#             drawn_balls = np.random.choice(np.array(self.contents), 5, replace=False)\n",
    "# #                 drawn_balls.append(self.contents[rand_index])\n",
    "# #                 contents_index.remove(rand_index)\n",
    "# #                self.contents.remove(self.contents[rand_index])\n",
    "            \n",
    "    \n",
    "#         for i in drawn_balls:\n",
    "#             self.contents.remove(i)\n",
    "        \n",
    "        \n",
    "        \n",
    "        \n",
    "        \n",
    "        \n",
    "#             return drawn_balls\n",
    "#         return self.contents"
   ]
  },
  {
   "cell_type": "code",
   "execution_count": 196,
   "metadata": {},
   "outputs": [],
   "source": [
    "# def experiment(hat, expected_balls, num_balls_drawn, num_experiments):\n",
    "#     count = 0\n",
    "#     for experiment in range(num_experiments):\n",
    "#         yes_no = []\n",
    "#         balls_drawn = list(hat.draw(num_balls_drawn))\n",
    "#         for key in expected_balls:\n",
    "#             yes_no.append(balls_drawn.count(key) >= expected_balls.get(key))\n",
    "            \n",
    "#         if all(yes_no):   # IF counts of balls > expected_num_of_balls, add 1 to cou\n",
    "#             count += 1\n",
    "            \n",
    "#     return count/num_experiments"
   ]
  },
  {
   "cell_type": "code",
   "execution_count": 197,
   "metadata": {},
   "outputs": [],
   "source": [
    "hat = Hat(black=6, red=4, green=3)\n",
    "probability = experiment(hat=hat, \n",
    "                  expected_balls={\"red\":2,\"green\":1},\n",
    "                  num_balls_drawn=5,\n",
    "                  num_experiments=2000)"
   ]
  },
  {
   "cell_type": "code",
   "execution_count": 198,
   "metadata": {},
   "outputs": [
    {
     "name": "stdout",
     "output_type": "stream",
     "text": [
      "['blue' 'red' 'red' 'red' 'red']\n",
      "6\n"
     ]
    }
   ],
   "source": [
    "hat = Hat(red=5,blue=2)\n",
    "print(hat.draw(2))\n",
    "print(len(hat.contents))"
   ]
  },
  {
   "cell_type": "code",
   "execution_count": 199,
   "metadata": {},
   "outputs": [
    {
     "name": "stdout",
     "output_type": "stream",
     "text": [
      "0.0\n",
      "0.272\n"
     ]
    }
   ],
   "source": [
    "hat = Hat(blue=3,red=2,green=6)\n",
    "prob = experiment(hat=hat, expected_balls= {\"blue\":2,\"green\":1}, num_balls_drawn=4, num_experiments=1000)\n",
    "print(prob)\n",
    "print(0.272)"
   ]
  },
  {
   "cell_type": "code",
   "execution_count": 200,
   "metadata": {},
   "outputs": [
    {
     "name": "stdout",
     "output_type": "stream",
     "text": [
      "1.0\n",
      "1\n"
     ]
    }
   ],
   "source": [
    "hat = Hat(yellow=5,red=1,green=3,blue=9,test=1)\n",
    "prob = experiment(hat=hat, expected_balls={\"yellow\":2,\"blue\":3,\"test\":1}, num_balls_drawn=20, num_experiments=100)\n",
    "print(prob)\n",
    "print(1)"
   ]
  },
  {
   "cell_type": "code",
   "execution_count": 78,
   "metadata": {},
   "outputs": [],
   "source": [
    "random.getstate?"
   ]
  },
  {
   "cell_type": "code",
   "execution_count": 107,
   "metadata": {},
   "outputs": [],
   "source": [
    "import random\n",
    "random.seed('?')"
   ]
  },
  {
   "cell_type": "code",
   "execution_count": 122,
   "metadata": {},
   "outputs": [],
   "source": [
    "class Hat:\n",
    "    \n",
    "    def __init__(self, **kwargs):\n",
    "        self.contents = []\n",
    "        for key, value in kwargs.items():\n",
    "            for i in range(value):\n",
    "                self.contents.append(key)\n",
    "        \n",
    "#         self.drawn_balls = []\n",
    "        \n",
    "    def draw(self, num_balls_drawn):\n",
    "        \n",
    "        drawn_balls = []\n",
    "        contents_index = list(range(len(self.contents))) # Necessary for without replacement\n",
    "        rand_index_list = []\n",
    "        \n",
    "        if num_balls_drawn < len(self.contents):\n",
    "            for ball in range(num_balls_drawn):\n",
    "                rand_index = random.choice(contents_index)\n",
    "                drawn_balls.append(self.contents[rand_index])\n",
    "                contents_index.remove(rand_index)\n",
    "                rand_index_list.append(rand_index)\n",
    "\n",
    "            for index in rand_index_list:\n",
    "                del self.contents[index]\n",
    "                self.contents.insert(index, 0)\n",
    "            \n",
    "            for count in range(self.contents.count(0)):\n",
    "                self.contents.remove(0)\n",
    "\n",
    "#             count = 0\n",
    "#             for index in rand_index_list:\n",
    "#                 if count > 1:\n",
    "#                     del self.contents[index - count]\n",
    "#                 del self.contents[index]\n",
    "#                 count += 1\n",
    "\n",
    "#             self.contents = pd.DataFrame(self.contents).iloc[~np.array(rand_index_list)][0].values.tolist()\n",
    "            return drawn_balls\n",
    "        \n",
    "        return self.contents\n",
    "        \n",
    "\n",
    "def experiment(hat, expected_balls, num_balls_drawn, num_experiments):\n",
    "    count = 0\n",
    "    for experiment in range(num_experiments):\n",
    "        hat_copy = copy.deepcopy(hat)\n",
    "        yes_no = []\n",
    "        balls_drawn = hat_copy.draw(num_balls_drawn)\n",
    "        for key in expected_balls:\n",
    "            yes_no.append(balls_drawn.count(key) >= expected_balls.get(key))\n",
    "            \n",
    "        if all(yes_no):   # IF counts of balls > expected_num_of_balls, add 1 to cou\n",
    "            count += 1\n",
    "            \n",
    "    return count/num_experiments\n",
    "# "
   ]
  },
  {
   "cell_type": "code",
   "execution_count": 123,
   "metadata": {},
   "outputs": [
    {
     "name": "stdout",
     "output_type": "stream",
     "text": [
      "['red', 'blue']\n",
      "5\n"
     ]
    }
   ],
   "source": [
    "hat = Hat(red=5,blue=2)\n",
    "print(hat.draw(2))\n",
    "print(len(hat.contents))"
   ]
  },
  {
   "cell_type": "code",
   "execution_count": 124,
   "metadata": {},
   "outputs": [
    {
     "name": "stdout",
     "output_type": "stream",
     "text": [
      "0.235\n",
      "0.272\n"
     ]
    }
   ],
   "source": [
    "hat = Hat(blue=3,red=2,green=6)\n",
    "hat.draw(4)\n",
    "prob = experiment(hat=hat, expected_balls={\"blue\":2,\"green\":1}, num_balls_drawn=4, num_experiments=1000)\n",
    "print(prob)\n",
    "print(0.272)"
   ]
  },
  {
   "cell_type": "code",
   "execution_count": 125,
   "metadata": {},
   "outputs": [
    {
     "name": "stdout",
     "output_type": "stream",
     "text": [
      "1.0\n",
      "1\n"
     ]
    }
   ],
   "source": [
    "hat = Hat(yellow=5,red=1,green=3,blue=9,test=1)\n",
    "prob = experiment(hat=hat, expected_balls={\"yellow\":2,\"blue\":3,\"test\":1}, num_balls_drawn=20, num_experiments=100)\n",
    "print(prob)\n",
    "print(1)"
   ]
  },
  {
   "cell_type": "code",
   "execution_count": 53,
   "metadata": {},
   "outputs": [],
   "source": [
    "import pandas as pd\n",
    "import numpy as np"
   ]
  },
  {
   "cell_type": "code",
   "execution_count": 70,
   "metadata": {},
   "outputs": [],
   "source": [
    "# class Hat:\n",
    "    \n",
    "#     def __init__(self, **kwargs):\n",
    "#         self.contents = []\n",
    "#         for key, value in kwargs.items():\n",
    "#             for i in range(value):\n",
    "#                 self.contents.append(key)\n",
    "                \n",
    "#     def draw(self, num_balls_drawn):\n",
    "        \n",
    "#         rand_index = np.random.choice(np.array(range(len(self.contents))), num_balls_drawn, replace=False)\n",
    "#         self.contents = pd.DataFrame(self.contents)\n",
    "#         drawn_balls = self.contents.iloc[rand_index][0].values.tolist()\n",
    "#         self.contents = self.contents.iloc[~rand_index][0].values.tolist()\n",
    "                \n",
    "#         return drawn_balls\n",
    "\n",
    "# def experiment(hat, expected_balls, num_balls_drawn, num_experiments):\n",
    "#     count = 0\n",
    "#     for experiment in range(num_experiments):\n",
    "#         yes_no = []\n",
    "#         balls_drawn = hat.draw(num_balls_drawn)\n",
    "#         for key in expected_balls:\n",
    "#             yes_no.append(balls_drawn.count(key) >= expected_balls.get(key))\n",
    "            \n",
    "#         if all(yes_no):   # IF counts of balls > expected_num_of_balls, add 1 to cou\n",
    "#             count += 1\n",
    "            \n",
    "#     return count/num_experiments"
   ]
  },
  {
   "cell_type": "code",
   "execution_count": 118,
   "metadata": {},
   "outputs": [],
   "source": [
    "import copy\n",
    "import random"
   ]
  },
  {
   "cell_type": "code",
   "execution_count": 119,
   "metadata": {},
   "outputs": [],
   "source": [
    "class Hat:\n",
    "    \n",
    "    def __init__(self, **kwargs):\n",
    "        self.contents = []\n",
    "        for key, value in kwargs.items():\n",
    "            for i in range(value):\n",
    "                self.contents.append(key)\n",
    "        \n",
    "        \n",
    "    def draw(self, num_balls_drawn):\n",
    "        \n",
    "        drawn_balls = []\n",
    "        \n",
    "        if num_balls_drawn <= len(self.contents):\n",
    "            for ball in range(num_balls_drawn):\n",
    "                rand_ball_picked = random.choice(self.contents)\n",
    "                drawn_balls.append(rand_ball_picked)\n",
    "                self.contents.pop(self.contents.index(rand_ball_picked))\n",
    "                \n",
    "            return drawn_balls\n",
    "        \n",
    "        return self.contents\n",
    "        \n",
    "\n",
    "def experiment(hat, expected_balls, num_balls_drawn, num_experiments):\n",
    "    count = 0\n",
    "    for experiment in range(num_experiments):\n",
    "        hat_copy = copy.deepcopy(hat)\n",
    "        yes_no = []\n",
    "        balls_drawn = hat_copy.draw(num_balls_drawn)\n",
    "        for key in expected_balls:\n",
    "            yes_no.append(balls_drawn.count(key) >= expected_balls.get(key))\n",
    "            \n",
    "        if all(yes_no):   # IF counts of balls > expected_num_of_balls, add 1 to cou\n",
    "            count += 1\n",
    "            \n",
    "    return count/num_experiments"
   ]
  },
  {
   "cell_type": "code",
   "execution_count": 102,
   "metadata": {},
   "outputs": [],
   "source": [
    "lis = [1, 2]"
   ]
  },
  {
   "cell_type": "code",
   "execution_count": 103,
   "metadata": {},
   "outputs": [],
   "source": [
    "lis.index?"
   ]
  },
  {
   "cell_type": "code",
   "execution_count": null,
   "metadata": {},
   "outputs": [],
   "source": []
  }
 ],
 "metadata": {
  "kernelspec": {
   "display_name": "Python 3",
   "language": "python",
   "name": "python3"
  },
  "language_info": {
   "codemirror_mode": {
    "name": "ipython",
    "version": 3
   },
   "file_extension": ".py",
   "mimetype": "text/x-python",
   "name": "python",
   "nbconvert_exporter": "python",
   "pygments_lexer": "ipython3",
   "version": "3.7.6"
  }
 },
 "nbformat": 4,
 "nbformat_minor": 4
}
