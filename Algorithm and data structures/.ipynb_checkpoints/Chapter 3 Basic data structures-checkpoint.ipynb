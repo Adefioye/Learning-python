{
 "cells": [
  {
   "cell_type": "markdown",
   "metadata": {},
   "source": [
    "- __Stack implementation__ with the top at the right/ end of the list"
   ]
  },
  {
   "cell_type": "code",
   "execution_count": 2,
   "metadata": {},
   "outputs": [],
   "source": [
    "class stack:\n",
    "    \n",
    "    def __init__(self):\n",
    "        self.items = []\n",
    "        \n",
    "    def is_empty(self):\n",
    "        return self.items == []\n",
    "    \n",
    "    def push(self, item):\n",
    "        return self.items.append(item)\n",
    "        \n",
    "    def pop(self):\n",
    "        return self.items.pop()\n",
    "        \n",
    "    def peek(self):\n",
    "        return self.items[len(self.items) - 1]\n",
    "    \n",
    "    def size(self):\n",
    "        return len(self.items)"
   ]
  },
  {
   "cell_type": "code",
   "execution_count": 12,
   "metadata": {},
   "outputs": [
    {
     "name": "stdout",
     "output_type": "stream",
     "text": [
      "True\n",
      "dog\n",
      "3\n",
      "False\n",
      "8.4\n",
      "True\n",
      "2\n"
     ]
    }
   ],
   "source": [
    "s = stack()\n",
    "\n",
    "print(s.is_empty())\n",
    "s.push(4)\n",
    "s.push('dog')\n",
    "print(s.peek())\n",
    "s.push(True)\n",
    "print(s.size())\n",
    "print(s.is_empty())\n",
    "s.push(8.4)\n",
    "print(s.pop())\n",
    "print(s.pop())\n",
    "print(s.size())"
   ]
  },
  {
   "cell_type": "markdown",
   "metadata": {},
   "source": [
    "- __Stack implementation__ with top at the left/atart of the list"
   ]
  },
  {
   "cell_type": "code",
   "execution_count": null,
   "metadata": {},
   "outputs": [],
   "source": [
    "class stack:\n",
    "    \n",
    "    def __init__(self):\n",
    "        self.items = []\n",
    "        \n",
    "    def is_empty(self):\n",
    "        return self.items == []\n",
    "    \n",
    "    def push(self, item):\n",
    "        return self.items.insert(0, item)   \n",
    "    \n",
    "    def pop(self):\n",
    "        return self.items.pop(0)\n",
    "    \n",
    "    def peek(self):\n",
    "        return self.items[len(self.items) - 1]\n",
    "    \n",
    "    def size(self):\n",
    "        return len(self.items)"
   ]
  },
  {
   "cell_type": "code",
   "execution_count": 16,
   "metadata": {},
   "outputs": [],
   "source": [
    "def matches(open_, close):\n",
    "    opens = '([{'\n",
    "    closes = ')]}'\n",
    "    return opens.index(open_) == closes.index(close)"
   ]
  },
  {
   "cell_type": "code",
   "execution_count": 17,
   "metadata": {},
   "outputs": [],
   "source": [
    "def par_checker(symbol_string):\n",
    "    s = stack()\n",
    "    balanced = True\n",
    "    index = 0\n",
    "    \n",
    "    while index < len(symbol_string) and balanced:\n",
    "        symbol = symbol_string[index]\n",
    "        if symbol in '([{':\n",
    "            s.push(symbol)\n",
    "            \n",
    "        else:\n",
    "            if s.is_empty():\n",
    "                balanced = False\n",
    "            else:\n",
    "                top = s.pop()\n",
    "                if not matches(top, symbol):\n",
    "                    balanced = False\n",
    "                    \n",
    "        index = index + 1\n",
    "        \n",
    "    if balanced and s.is_empty():\n",
    "        return balanced\n",
    "    return balanced"
   ]
  },
  {
   "cell_type": "code",
   "execution_count": 18,
   "metadata": {},
   "outputs": [
    {
     "name": "stdout",
     "output_type": "stream",
     "text": [
      "True\n",
      "False\n"
     ]
    }
   ],
   "source": [
    "print(par_checker('{{([][])}()}'))\n",
    "print(par_checker('[{()]'))"
   ]
  },
  {
   "cell_type": "code",
   "execution_count": 19,
   "metadata": {},
   "outputs": [
    {
     "data": {
      "text/plain": [
       "14.5625"
      ]
     },
     "execution_count": 19,
     "metadata": {},
     "output_type": "execute_result"
    }
   ],
   "source": [
    "233/16"
   ]
  },
  {
   "cell_type": "code",
   "execution_count": 20,
   "metadata": {},
   "outputs": [
    {
     "data": {
      "text/plain": [
       "9"
      ]
     },
     "execution_count": 20,
     "metadata": {},
     "output_type": "execute_result"
    }
   ],
   "source": [
    "233 -(16*14)"
   ]
  },
  {
   "cell_type": "markdown",
   "metadata": {},
   "source": [
    "- __Convert__ decimal to binary string"
   ]
  },
  {
   "cell_type": "code",
   "execution_count": 27,
   "metadata": {},
   "outputs": [],
   "source": [
    "def decimal_to_binary(decimal):\n",
    "    rem_stack = stack()\n",
    "    \n",
    "    while decimal > 0:\n",
    "        rem = decimal % 2\n",
    "        rem_stack.push(rem)\n",
    "        decimal //= 2\n",
    "        \n",
    "    binary_str = ''\n",
    "    while not rem_stack.is_empty():\n",
    "        binary_str += str(rem_stack.pop())\n",
    "        \n",
    "    return binary_str"
   ]
  },
  {
   "cell_type": "code",
   "execution_count": 28,
   "metadata": {},
   "outputs": [
    {
     "data": {
      "text/plain": [
       "'11101001'"
      ]
     },
     "execution_count": 28,
     "metadata": {},
     "output_type": "execute_result"
    }
   ],
   "source": [
    "decimal_to_binary(233)"
   ]
  },
  {
   "cell_type": "markdown",
   "metadata": {},
   "source": [
    "- Converting using any base"
   ]
  },
  {
   "cell_type": "code",
   "execution_count": 29,
   "metadata": {},
   "outputs": [],
   "source": [
    "def decimal_converter(decimal, base):\n",
    "    digits = '0123456789ABCDEF'\n",
    "    rem_stack = stack()\n",
    "    \n",
    "    while decimal > 0:\n",
    "        rem = decimal % base\n",
    "        rem_stack.push(rem)\n",
    "        decimal //= base\n",
    "        \n",
    "    new_str = ''\n",
    "    while not rem_stack.is_empty():\n",
    "        new_str += digits[rem_stack.pop()]\n",
    "        \n",
    "    return new_str"
   ]
  },
  {
   "cell_type": "code",
   "execution_count": 33,
   "metadata": {},
   "outputs": [
    {
     "name": "stdout",
     "output_type": "stream",
     "text": [
      "11001\n",
      "19\n",
      "E9\n",
      "31\n",
      "100\n",
      "10\n"
     ]
    }
   ],
   "source": [
    "print(decimal_converter(25, 2))\n",
    "print(decimal_converter(25, 16))\n",
    "print(decimal_converter(233, 16))\n",
    "print(decimal_converter(25, 8))\n",
    "print(decimal_converter(256, 16))\n",
    "print(decimal_converter(26, 26))"
   ]
  },
  {
   "cell_type": "markdown",
   "metadata": {},
   "source": [
    "### Infix, prefix and postfix"
   ]
  },
  {
   "cell_type": "markdown",
   "metadata": {},
   "source": [
    "__Infix expression__               __Prefix expression__                 __Postfix expression__\n",
    "\n",
    "a + b * c + d                            ++a * bcd                             abc *+ d+                    \n",
    "\n",
    "(a + b) * (c + d)                        * +ab +cd                              ab+ cd+ *  \n",
    "\n",
    "a * b + c * d                            +*ab *cd                               ab* cd*+\n",
    "\n",
    "a + b + c + d                           +++abcd                                    abcd+++\n",
    "\n",
    "(a + b) * c - (d - e) * (f + g)      -*+abc *-de +fg                          ab+ c* de- fg+*-"
   ]
  },
  {
   "cell_type": "markdown",
   "metadata": {},
   "source": [
    "##### How to convert infix expression \n",
    "\n",
    "The basic assumption is that infix expressions are a string of tokens delimited by spaces. The operator tokens are +, -, /, *, (, ). The __operand__ tokens are the single-character identifiers A, B, C and so on.\n",
    "\n",
    "The following steps will produce a string of tokens in postfix order.\n",
    "\n",
    "1. Create **op_stack** for keeping operators\n",
    "2. Create an empty list for __output__\n",
    "3. Convert the **input infix string** to a list using __split__ method\n",
    "4. Scan the token list from left to right\n",
    "  - If token = operand then __output__.append(__operand__)\n",
    "  - If token = \"(\" then **push** to __op_stack__\n",
    "  - If token = \")\" then **pop** the __op_stack__ until the corresponding left\n",
    "    parenthesis is removed. Append each operator to the end of the output         list\n",
    "  - if token = *, +, -, /  then push to the __op_stack__ . However, first        remove any operators already on the op_stack that have higher or equal        precendence \n",
    "  \n",
    "\n",
    "\n",
    "\n",
    "__Let's code the algorithm above__"
   ]
  },
  {
   "cell_type": "code",
   "execution_count": 3,
   "metadata": {},
   "outputs": [],
   "source": [
    "def infix_to_postfix(infix_expr):\n",
    "    \n",
    "    prec = {}\n",
    "    prec['*'] = 3\n",
    "    prec['/'] = 3\n",
    "    prec['+'] = 2\n",
    "    prec['-'] = 2\n",
    "    prec['('] = 1\n",
    "    \n",
    "    op_stack = stack()\n",
    "    postfix_list = []\n",
    "    token_list = infix_expr.split()\n",
    "    \n",
    "    for token in token_list:\n",
    "        if token in 'ABCDEFGHIJKLMNOPQRSTUVWXYZ' or token in '0123456789':\n",
    "            postfix_list.append(token)\n",
    "        elif token == '(':\n",
    "            op_stack.push(token)\n",
    "        elif token == ')':\n",
    "            top_token = op_stack.pop()\n",
    "            while top_token != '(':\n",
    "                postfix_list.append(top_token)\n",
    "                top_token = op_stack.pop()\n",
    "        else:\n",
    "            while (not op_stack.is_empty()) and (prec[op_stack.peek()] >= prec[token]):\n",
    "                postfix_list.append(op_stack.pop())\n",
    "            op_stack.push(token)\n",
    "            \n",
    "    while not op_stack.is_empty():\n",
    "        postfix_list.append(op_stack.pop())\n",
    "    \n",
    "    return ' '.join(postfix_list)"
   ]
  },
  {
   "cell_type": "code",
   "execution_count": 11,
   "metadata": {},
   "outputs": [
    {
     "name": "stdout",
     "output_type": "stream",
     "text": [
      "A B * C D * +\n",
      "A B + C * D E - F G + * -\n",
      "A B + C D + *\n",
      "A B + C *\n",
      "A B C * +\n"
     ]
    }
   ],
   "source": [
    "print(infix_to_postfix('A * B + C * D'))\n",
    "print(infix_to_postfix(\"( A + B ) * C - ( D - E ) * ( F + G )\"))\n",
    "print(infix_to_postfix(\"( A + B ) * ( C + D )\"))\n",
    "print(infix_to_postfix(\"( A + B ) * C\"))\n",
    "print(infix_to_postfix(\"A + B * C\"))"
   ]
  },
  {
   "cell_type": "markdown",
   "metadata": {},
   "source": [
    "#### Evaluate postfix expression\n",
    "\n",
    "#### Assumptions:\n",
    "- postfix expression is a string of tokens delimited with spaces\n",
    "- operators are +, -, /, *\n",
    "- operands are single-digit integer values\n",
    "- output will be an integer result\n",
    "\n",
    "##### Steps to evaluate postfix expression\n",
    "\n",
    "1. create empty **operand_stack**\n",
    "2. convert string to list using split() method\n",
    "3. scan the token list from left to right\n",
    "\n",
    "  - if token = __operand__ then push int(string) into **operand_stack**\n",
    "  - if token = __operator__, it needs 2 operands. Pop the **operand_stack**\n",
    "    twice. 1st_pop = __2nd_operand__, 2nd_pop = __1st_operand__. Perform the     arithemetic operation and push result back to operand_stack.\n",
    "4. When input expression is totally processed, result is on stack. So, pop the **operand_stack** and return the value"
   ]
  },
  {
   "cell_type": "code",
   "execution_count": 16,
   "metadata": {},
   "outputs": [],
   "source": [
    "def do_math(op, op1, op2):\n",
    "    if op == '+':\n",
    "        return op1 + op2\n",
    "    elif op == '-':\n",
    "        return op1 - op2\n",
    "    elif op == '/':\n",
    "        return op1 / op2\n",
    "    else:\n",
    "        return op1 * op2\n",
    "    \n",
    "def postfix_eval(postfix_expr):\n",
    "    \n",
    "    operand_stack = stack()\n",
    "    token_list = postfix_expr.split()\n",
    "    \n",
    "    for token in token_list:\n",
    "        if token in '0123456789':\n",
    "            operand_stack.push(int(token))\n",
    "        else:\n",
    "            operand_2 = operand_stack.pop()\n",
    "            operand_1 = operand_stack.pop()\n",
    "            result = do_math(token, operand_1, operand_2)\n",
    "            operand_stack.push(result)\n",
    "        \n",
    "    return result"
   ]
  },
  {
   "cell_type": "code",
   "execution_count": 17,
   "metadata": {},
   "outputs": [
    {
     "name": "stdout",
     "output_type": "stream",
     "text": [
      "3.0\n"
     ]
    }
   ],
   "source": [
    "print(postfix_eval('7 8 + 3 2 + /'))"
   ]
  },
  {
   "cell_type": "markdown",
   "metadata": {},
   "source": [
    "#### Queues"
   ]
  },
  {
   "cell_type": "code",
   "execution_count": 1,
   "metadata": {},
   "outputs": [],
   "source": [
    "class Queue:\n",
    "    \n",
    "    def __init__(self):\n",
    "        self.items = []\n",
    "        \n",
    "    def is_empty(self):\n",
    "        return self.items == []\n",
    "    \n",
    "    def enqueue(self, item):\n",
    "        return self.items.insert(0, item)\n",
    "    \n",
    "    def dequeue(self):\n",
    "        return self.items.pop()\n",
    "    \n",
    "    def size(self):\n",
    "        return len(self.items)"
   ]
  },
  {
   "cell_type": "markdown",
   "metadata": {},
   "source": [
    "__Hot potato__ simulation"
   ]
  },
  {
   "cell_type": "code",
   "execution_count": 2,
   "metadata": {},
   "outputs": [
    {
     "name": "stdout",
     "output_type": "stream",
     "text": [
      "Susan\n"
     ]
    }
   ],
   "source": [
    "def hot_potato(name_list, num):\n",
    "    \n",
    "    sim_queue = Queue()\n",
    "    for name in name_list:\n",
    "        sim_queue.enqueue(name)\n",
    "        \n",
    "    while sim_queue.size() > 1:\n",
    "        for i in range(num):\n",
    "            sim_queue.enqueue(sim_queue.dequeue())\n",
    "            \n",
    "        sim_queue.dequeue()\n",
    "        \n",
    "    return sim_queue.dequeue()\n",
    "\n",
    "print(hot_potato(['Bill', 'David', 'Susan', 'Jane', 'Kent', 'Brad'], 7))"
   ]
  },
  {
   "cell_type": "markdown",
   "metadata": {},
   "source": [
    "__Printing queue__ simulation. \n",
    "\n",
    "#### Assumptions:\n",
    "- 10 students work in the lab per hour\n",
    "- Students typically print print up to twice during that time\n",
    "- Average waiting time = Average time students wait on the queue\n",
    "- Students typically print between 1 and 20 pages and are equally likely\n",
    "- 10 students in the lab print twice. \n",
    "- Therefore 20 printing tasks per hour = 1 task per 180 seconds\n",
    "\n",
    "We are gonna create __3__ real-world objects described above:\n",
    "Printer, Task and PrintQueue"
   ]
  },
  {
   "cell_type": "code",
   "execution_count": null,
   "metadata": {},
   "outputs": [],
   "source": []
  }
 ],
 "metadata": {
  "kernelspec": {
   "display_name": "Python 3",
   "language": "python",
   "name": "python3"
  },
  "language_info": {
   "codemirror_mode": {
    "name": "ipython",
    "version": 3
   },
   "file_extension": ".py",
   "mimetype": "text/x-python",
   "name": "python",
   "nbconvert_exporter": "python",
   "pygments_lexer": "ipython3",
   "version": "3.7.6"
  }
 },
 "nbformat": 4,
 "nbformat_minor": 4
}
