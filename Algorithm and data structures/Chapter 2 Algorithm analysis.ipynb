{
 "cells": [
  {
   "cell_type": "code",
   "execution_count": 1,
   "metadata": {},
   "outputs": [],
   "source": [
    "def sum_of_n(n):\n",
    "    the_sum = 0\n",
    "    for i in range(1, n+1):\n",
    "        the_sum += i\n",
    "    \n",
    "    return the_sum"
   ]
  },
  {
   "cell_type": "code",
   "execution_count": 2,
   "metadata": {},
   "outputs": [
    {
     "name": "stdout",
     "output_type": "stream",
     "text": [
      "5000050000\n",
      "Exection time is 0.007010936737060547\n"
     ]
    }
   ],
   "source": [
    "import time\n",
    "\n",
    "t1 = time.time()\n",
    "\n",
    "print(sum_of_n(100000))\n",
    "\n",
    "t2 = time.time()\n",
    "\n",
    "print(f'Exection time is {t2 - t1}')"
   ]
  },
  {
   "cell_type": "code",
   "execution_count": 3,
   "metadata": {},
   "outputs": [],
   "source": [
    "def foo(tom):\n",
    "    fred = 0\n",
    "    for bill in range(1, tom+1):\n",
    "        barney = bill\n",
    "        fred = fred + barney\n",
    "    return fred"
   ]
  },
  {
   "cell_type": "code",
   "execution_count": 4,
   "metadata": {},
   "outputs": [
    {
     "name": "stdout",
     "output_type": "stream",
     "text": [
      "5000050000\n",
      "Exection time is 0.008000850677490234\n"
     ]
    }
   ],
   "source": [
    "import time\n",
    "\n",
    "t1 = time.time()\n",
    "\n",
    "print(foo(100000))\n",
    "\n",
    "t2 = time.time()\n",
    "\n",
    "print(f'Exection time is {t2 - t1}')"
   ]
  },
  {
   "cell_type": "code",
   "execution_count": 5,
   "metadata": {},
   "outputs": [],
   "source": [
    "def sum_of_n2(n):\n",
    "    return (n * (n + 1)) / 2"
   ]
  },
  {
   "cell_type": "code",
   "execution_count": 6,
   "metadata": {},
   "outputs": [
    {
     "name": "stdout",
     "output_type": "stream",
     "text": [
      "5.0000000000005e+25\n",
      "Exection time is 0.000995635986328125\n"
     ]
    }
   ],
   "source": [
    "import time\n",
    "\n",
    "t1 = time.time()\n",
    "\n",
    "print(sum_of_n2(10000000000000))\n",
    "\n",
    "t2 = time.time()\n",
    "\n",
    "print(f'Exection time is {t2 - t1}')"
   ]
  },
  {
   "cell_type": "code",
   "execution_count": 7,
   "metadata": {},
   "outputs": [],
   "source": [
    "import itertools\n",
    "\n",
    "def lesser_num(x, y):\n",
    "    if x < y:\n",
    "        return x\n",
    "    return y\n",
    "\n",
    "\n",
    "def minimum_num(list_):\n",
    "    smallest_num = list_[0]\n",
    "    for i in itertools.combinations(list_, 2):\n",
    "        a, b = i\n",
    "        smaller_num = lesser_num(a, b)\n",
    "        if smallest_num < smaller_num:\n",
    "            smallest_num = smallest_num\n",
    "        else:\n",
    "            smallest_num = smaller_num\n",
    "            \n",
    "    return smallest_num"
   ]
  },
  {
   "cell_type": "code",
   "execution_count": 8,
   "metadata": {},
   "outputs": [
    {
     "name": "stdout",
     "output_type": "stream",
     "text": [
      "(1, 2)\n",
      "(1, 3)\n",
      "(1, 4)\n",
      "(2, 3)\n",
      "(2, 4)\n",
      "(3, 4)\n"
     ]
    }
   ],
   "source": [
    "for i in itertools.combinations([1, 2, 3, 4], 2):\n",
    "    print(i)"
   ]
  },
  {
   "cell_type": "code",
   "execution_count": 9,
   "metadata": {},
   "outputs": [],
   "source": [
    "def min_for_loop_method(list_):\n",
    "    smallest_num = list_[0]\n",
    "    for i in list_:\n",
    "        for j in list_:\n",
    "            smaller_num = lesser_num(i, j)\n",
    "            if smallest_num < smaller_num:\n",
    "                smallest_num = smallest_num\n",
    "            else:\n",
    "                smallest_num = smaller_num\n",
    "                \n",
    "    return smallest_num"
   ]
  },
  {
   "cell_type": "code",
   "execution_count": 10,
   "metadata": {},
   "outputs": [
    {
     "data": {
      "text/plain": [
       "0"
      ]
     },
     "execution_count": 10,
     "metadata": {},
     "output_type": "execute_result"
    }
   ],
   "source": [
    "min_for_loop_method([4, 5, 7, 1, 0])"
   ]
  },
  {
   "cell_type": "code",
   "execution_count": 11,
   "metadata": {},
   "outputs": [
    {
     "data": {
      "text/plain": [
       "['p', 'y', 't', 'h']"
      ]
     },
     "execution_count": 11,
     "metadata": {},
     "output_type": "execute_result"
    }
   ],
   "source": [
    "list('python')[:4]"
   ]
  },
  {
   "cell_type": "code",
   "execution_count": 12,
   "metadata": {},
   "outputs": [],
   "source": [
    "def anagram_solution(s1, s2):\n",
    "    overall_res = []\n",
    "    for i in s1:\n",
    "        search_res = []\n",
    "        for j in s2:\n",
    "            if i == j:\n",
    "                search_res.append(True)\n",
    "            else:\n",
    "                search_res.append(False)\n",
    "                \n",
    "        overall_res.append(any(search_res))\n",
    "        search_res.clear()\n",
    "    \n",
    "    if all(overall_res) == True:\n",
    "        return 'Found an anagram solution'\n",
    "    \n",
    "    return 'Did not find an anagram solution'\n",
    "                "
   ]
  },
  {
   "cell_type": "code",
   "execution_count": 13,
   "metadata": {},
   "outputs": [
    {
     "name": "stdout",
     "output_type": "stream",
     "text": [
      "Found an anagram solution\n"
     ]
    }
   ],
   "source": [
    "print(anagram_solution('abcd', 'dcba'))"
   ]
  },
  {
   "cell_type": "code",
   "execution_count": 14,
   "metadata": {},
   "outputs": [
    {
     "name": "stdout",
     "output_type": "stream",
     "text": [
      "Did not find an anagram solution\n"
     ]
    }
   ],
   "source": [
    "print(anagram_solution('shola', 'David'))"
   ]
  },
  {
   "cell_type": "code",
   "execution_count": 15,
   "metadata": {},
   "outputs": [],
   "source": [
    "def anagram_solution_2(s1, s2):\n",
    "    a_list1 = list(s1)\n",
    "    a_list2 = list(s2)\n",
    "    \n",
    "    a_list1.sort()\n",
    "    a_list2.sort()\n",
    "    \n",
    "    pos = 0\n",
    "    match = True\n",
    "    \n",
    "    while pos < len(s1) and match:\n",
    "        if a_list1[pos] == a_list2[pos]:\n",
    "            pos += 1\n",
    "        else:\n",
    "            match = False\n",
    "    return match"
   ]
  },
  {
   "cell_type": "code",
   "execution_count": 16,
   "metadata": {},
   "outputs": [
    {
     "data": {
      "text/plain": [
       "True"
      ]
     },
     "execution_count": 16,
     "metadata": {},
     "output_type": "execute_result"
    }
   ],
   "source": [
    "anagram_solution_2('abcde', 'edcba')"
   ]
  },
  {
   "cell_type": "code",
   "execution_count": 17,
   "metadata": {},
   "outputs": [
    {
     "data": {
      "text/plain": [
       "(97, 98, 122)"
      ]
     },
     "execution_count": 17,
     "metadata": {},
     "output_type": "execute_result"
    }
   ],
   "source": [
    "ord('a'), ord('b'), ord('z')"
   ]
  },
  {
   "cell_type": "code",
   "execution_count": null,
   "metadata": {},
   "outputs": [],
   "source": [
    "def anagram_solution4(s1, s2):\n",
    "    \n",
    "    c1 = [0] * 26\n",
    "c2 = [0] * 26\n",
    "for i in range(len(s1)):\n",
    "pos = ord(s1[i]) - ord('a')\n",
    "c1[pos] = c1[pos] + 1\n",
    "for i in range(len(s2)):\n",
    "pos = ord(s2[i]) - ord('a')\n",
    "c2[pos] = c2[pos] + 1\n",
    "j = 0\n",
    "still_ok = True\n",
    "while j < 26 and still_ok:\n",
    "if c1[j] == c2[j]:\n",
    "j = j + 1\n",
    "else:\n",
    "still_ok = False\n",
    "return still_ok\n",
    "print(anagram_solution4('apple','pleap'))\n"
   ]
  },
  {
   "cell_type": "code",
   "execution_count": 19,
   "metadata": {},
   "outputs": [],
   "source": [
    "def anagram_solution_3(s1, s2):\n",
    "    \n",
    "    c1 = [0] * 26\n",
    "    c2 = [0] * 26\n",
    "    \n",
    "    for i in range(len(s1)):\n",
    "        pos = ord(s1[i]) - ord('a')\n",
    "        c1[pos] += 1\n",
    "        \n",
    "    for i in range(len(s2)):\n",
    "        pos = ord(s2[i]) - ord('a')\n",
    "        c2[pos] += 1\n",
    "        \n",
    "    j = 0\n",
    "    match = True\n",
    "    \n",
    "    while j < 26 and match:\n",
    "        if c1[j] == c2[j]:\n",
    "            j += 1\n",
    "            match = True\n",
    "        else:\n",
    "            match = False\n",
    "    \n",
    "    return match"
   ]
  },
  {
   "cell_type": "code",
   "execution_count": 20,
   "metadata": {},
   "outputs": [
    {
     "data": {
      "text/plain": [
       "False"
      ]
     },
     "execution_count": 20,
     "metadata": {},
     "output_type": "execute_result"
    }
   ],
   "source": [
    "anagram_solution_3('abdhyht', 'egdtuywq')"
   ]
  },
  {
   "cell_type": "code",
   "execution_count": 21,
   "metadata": {},
   "outputs": [
    {
     "data": {
      "text/plain": [
       "True"
      ]
     },
     "execution_count": 21,
     "metadata": {},
     "output_type": "execute_result"
    }
   ],
   "source": [
    "anagram_solution_3('apple', 'pleap')"
   ]
  },
  {
   "cell_type": "code",
   "execution_count": 24,
   "metadata": {},
   "outputs": [
    {
     "data": {
      "text/plain": [
       "1"
      ]
     },
     "execution_count": 24,
     "metadata": {},
     "output_type": "execute_result"
    }
   ],
   "source": [
    "[1, 2].count(1)"
   ]
  },
  {
   "cell_type": "code",
   "execution_count": 5,
   "metadata": {},
   "outputs": [],
   "source": [
    "from timeit import Timer"
   ]
  },
  {
   "cell_type": "code",
   "execution_count": 6,
   "metadata": {},
   "outputs": [],
   "source": [
    "Timer?"
   ]
  },
  {
   "cell_type": "markdown",
   "metadata": {},
   "source": [
    "## Data structures and algo analysis"
   ]
  },
  {
   "cell_type": "code",
   "execution_count": 11,
   "metadata": {},
   "outputs": [
    {
     "name": "stdout",
     "output_type": "stream",
     "text": [
      "Pop-ing from zeroth element takes about 1.784916899999871 milliseconds\n",
      "Pop-ing from last element takes about 0.0003990000000158034 milliseconds\n"
     ]
    }
   ],
   "source": [
    "pop_zero = Timer('x.pop(0)', 'from __main__ import x')\n",
    "pop_end = Timer('x.pop()', 'from __main__ import x')\n",
    "\n",
    "x = list(range(2000000))\n",
    "\n",
    "print('Pop-ing from zeroth element takes about {} milliseconds'\\\n",
    "      .format(pop_zero.timeit(1000)))\n",
    "\n",
    "print('Pop-ing from last element takes about {} milliseconds'\\\n",
    "      .format(pop_end.timeit(1000)))"
   ]
  },
  {
   "cell_type": "code",
   "execution_count": 12,
   "metadata": {},
   "outputs": [],
   "source": [
    "import matplotlib.pyplot as plt"
   ]
  },
  {
   "cell_type": "code",
   "execution_count": 16,
   "metadata": {},
   "outputs": [
    {
     "ename": "KeyboardInterrupt",
     "evalue": "",
     "output_type": "error",
     "traceback": [
      "\u001b[1;31m---------------------------------------------------------------------------\u001b[0m",
      "\u001b[1;31mKeyboardInterrupt\u001b[0m                         Traceback (most recent call last)",
      "\u001b[1;32m<ipython-input-16-559c7ef3fca5>\u001b[0m in \u001b[0;36m<module>\u001b[1;34m\u001b[0m\n\u001b[0;32m      8\u001b[0m \u001b[1;33m\u001b[0m\u001b[0m\n\u001b[0;32m      9\u001b[0m     \u001b[0mx\u001b[0m \u001b[1;33m=\u001b[0m \u001b[0mlist\u001b[0m\u001b[1;33m(\u001b[0m\u001b[0mrange\u001b[0m\u001b[1;33m(\u001b[0m\u001b[0mi\u001b[0m\u001b[1;33m)\u001b[0m\u001b[1;33m)\u001b[0m\u001b[1;33m\u001b[0m\u001b[1;33m\u001b[0m\u001b[0m\n\u001b[1;32m---> 10\u001b[1;33m     \u001b[0mp_zero\u001b[0m \u001b[1;33m=\u001b[0m \u001b[0mpop_zero\u001b[0m\u001b[1;33m.\u001b[0m\u001b[0mtimeit\u001b[0m\u001b[1;33m(\u001b[0m\u001b[1;36m100\u001b[0m\u001b[1;33m)\u001b[0m\u001b[1;33m\u001b[0m\u001b[1;33m\u001b[0m\u001b[0m\n\u001b[0m\u001b[0;32m     11\u001b[0m     \u001b[0mp_zeros\u001b[0m\u001b[1;33m.\u001b[0m\u001b[0mappend\u001b[0m\u001b[1;33m(\u001b[0m\u001b[0mp_zero\u001b[0m\u001b[1;33m)\u001b[0m\u001b[1;33m\u001b[0m\u001b[1;33m\u001b[0m\u001b[0m\n",
      "\u001b[1;32m~\\anaconda3\\lib\\timeit.py\u001b[0m in \u001b[0;36mtimeit\u001b[1;34m(self, number)\u001b[0m\n\u001b[0;32m    174\u001b[0m         \u001b[0mgc\u001b[0m\u001b[1;33m.\u001b[0m\u001b[0mdisable\u001b[0m\u001b[1;33m(\u001b[0m\u001b[1;33m)\u001b[0m\u001b[1;33m\u001b[0m\u001b[1;33m\u001b[0m\u001b[0m\n\u001b[0;32m    175\u001b[0m         \u001b[1;32mtry\u001b[0m\u001b[1;33m:\u001b[0m\u001b[1;33m\u001b[0m\u001b[1;33m\u001b[0m\u001b[0m\n\u001b[1;32m--> 176\u001b[1;33m             \u001b[0mtiming\u001b[0m \u001b[1;33m=\u001b[0m \u001b[0mself\u001b[0m\u001b[1;33m.\u001b[0m\u001b[0minner\u001b[0m\u001b[1;33m(\u001b[0m\u001b[0mit\u001b[0m\u001b[1;33m,\u001b[0m \u001b[0mself\u001b[0m\u001b[1;33m.\u001b[0m\u001b[0mtimer\u001b[0m\u001b[1;33m)\u001b[0m\u001b[1;33m\u001b[0m\u001b[1;33m\u001b[0m\u001b[0m\n\u001b[0m\u001b[0;32m    177\u001b[0m         \u001b[1;32mfinally\u001b[0m\u001b[1;33m:\u001b[0m\u001b[1;33m\u001b[0m\u001b[1;33m\u001b[0m\u001b[0m\n\u001b[0;32m    178\u001b[0m             \u001b[1;32mif\u001b[0m \u001b[0mgcold\u001b[0m\u001b[1;33m:\u001b[0m\u001b[1;33m\u001b[0m\u001b[1;33m\u001b[0m\u001b[0m\n",
      "\u001b[1;32m~\\anaconda3\\lib\\timeit.py\u001b[0m in \u001b[0;36minner\u001b[1;34m(_it, _timer)\u001b[0m\n",
      "\u001b[1;31mKeyboardInterrupt\u001b[0m: "
     ]
    }
   ],
   "source": [
    "p_zeros = []\n",
    "p_lasts = []\n",
    "for i in range(1000000, 100000000, 1000000):\n",
    "    \n",
    "    x = list(range(i))\n",
    "    p_last = pop_end.timeit(100)\n",
    "    p_lasts.append(p_last)\n",
    "    \n",
    "    x = list(range(i))\n",
    "    p_zero = pop_zero.timeit(100)\n",
    "    p_zeros.append(p_zero)"
   ]
  },
  {
   "cell_type": "code",
   "execution_count": 22,
   "metadata": {},
   "outputs": [
    {
     "data": {
      "text/plain": [
       "(71, 71)"
      ]
     },
     "execution_count": 22,
     "metadata": {},
     "output_type": "execute_result"
    }
   ],
   "source": [
    "len(p_zeros), len(p_lasts)"
   ]
  },
  {
   "cell_type": "code",
   "execution_count": 23,
   "metadata": {},
   "outputs": [],
   "source": [
    "x = range(1000000, 100000000, 1000000)[:71]"
   ]
  },
  {
   "cell_type": "code",
   "execution_count": 28,
   "metadata": {},
   "outputs": [
    {
     "data": {
      "image/png": "[encoded data removed]",
      "text/plain": [
       "<Figure size 432x288 with 1 Axes>"
      ]
     },
     "metadata": {
      "needs_background": "light"
     },
     "output_type": "display_data"
    }
   ],
   "source": [
    "plt.plot(x, p_zeros, x, p_lasts )\n",
    "plt.legend(['pop(0)', 'pop()']);"
   ]
  },
  {
   "cell_type": "code",
   "execution_count": 29,
   "metadata": {},
   "outputs": [],
   "source": [
    "import random\n",
    "import timeit"
   ]
  },
  {
   "cell_type": "code",
   "execution_count": 30,
   "metadata": {},
   "outputs": [],
   "source": [
    "random.randrange?"
   ]
  },
  {
   "cell_type": "code",
   "execution_count": 31,
   "metadata": {},
   "outputs": [
    {
     "data": {
      "text/plain": [
       "9932"
      ]
     },
     "execution_count": 31,
     "metadata": {},
     "output_type": "execute_result"
    }
   ],
   "source": [
    "random.randrange(10000)"
   ]
  },
  {
   "cell_type": "code",
   "execution_count": null,
   "metadata": {},
   "outputs": [],
   "source": []
  }
 ],
 "metadata": {
  "kernelspec": {
   "display_name": "Python 3",
   "language": "python",
   "name": "python3"
  },
  "language_info": {
   "codemirror_mode": {
    "name": "ipython",
    "version": 3
   },
   "file_extension": ".py",
   "mimetype": "text/x-python",
   "name": "python",
   "nbconvert_exporter": "python",
   "pygments_lexer": "ipython3",
   "version": "3.7.6"
  }
 },
 "nbformat": 4,
 "nbformat_minor": 4
}
