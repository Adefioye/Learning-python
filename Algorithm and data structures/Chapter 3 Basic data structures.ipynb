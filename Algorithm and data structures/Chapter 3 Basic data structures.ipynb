{
 "cells": [
  {
   "cell_type": "markdown",
   "metadata": {},
   "source": [
    "- __Stack implementation__ with the top at the right/ end of the list"
   ]
  },
  {
   "cell_type": "code",
   "execution_count": 2,
   "metadata": {},
   "outputs": [],
   "source": [
    "class stack:\n",
    "    \n",
    "    def __init__(self):\n",
    "        self.items = []\n",
    "        \n",
    "    def is_empty(self):\n",
    "        return self.items == []\n",
    "    \n",
    "    def push(self, item):\n",
    "        return self.items.append(item)\n",
    "        \n",
    "    def pop(self):\n",
    "        return self.items.pop()\n",
    "        \n",
    "    def peek(self):\n",
    "        return self.items[len(self.items) - 1]\n",
    "    \n",
    "    def size(self):\n",
    "        return len(self.items)"
   ]
  },
  {
   "cell_type": "code",
   "execution_count": 12,
   "metadata": {},
   "outputs": [
    {
     "name": "stdout",
     "output_type": "stream",
     "text": [
      "True\n",
      "dog\n",
      "3\n",
      "False\n",
      "8.4\n",
      "True\n",
      "2\n"
     ]
    }
   ],
   "source": [
    "s = stack()\n",
    "\n",
    "print(s.is_empty())\n",
    "s.push(4)\n",
    "s.push('dog')\n",
    "print(s.peek())\n",
    "s.push(True)\n",
    "print(s.size())\n",
    "print(s.is_empty())\n",
    "s.push(8.4)\n",
    "print(s.pop())\n",
    "print(s.pop())\n",
    "print(s.size())"
   ]
  },
  {
   "cell_type": "markdown",
   "metadata": {},
   "source": [
    "- __Stack implementation__ with top at the left/atart of the list"
   ]
  },
  {
   "cell_type": "code",
   "execution_count": null,
   "metadata": {},
   "outputs": [],
   "source": [
    "class stack:\n",
    "    \n",
    "    def __init__(self):\n",
    "        self.items = []\n",
    "        \n",
    "    def is_empty(self):\n",
    "        return self.items == []\n",
    "    \n",
    "    def push(self, item):\n",
    "        return self.items.insert(0, item)   \n",
    "    \n",
    "    def pop(self):\n",
    "        return self.items.pop(0)\n",
    "    \n",
    "    def peek(self):\n",
    "        return self.items[len(self.items) - 1]\n",
    "    \n",
    "    def size(self):\n",
    "        return len(self.items)"
   ]
  },
  {
   "cell_type": "code",
   "execution_count": 16,
   "metadata": {},
   "outputs": [],
   "source": [
    "def matches(open_, close):\n",
    "    opens = '([{'\n",
    "    closes = ')]}'\n",
    "    return opens.index(open_) == closes.index(close)"
   ]
  },
  {
   "cell_type": "code",
   "execution_count": 17,
   "metadata": {},
   "outputs": [],
   "source": [
    "def par_checker(symbol_string):\n",
    "    s = stack()\n",
    "    balanced = True\n",
    "    index = 0\n",
    "    \n",
    "    while index < len(symbol_string) and balanced:\n",
    "        symbol = symbol_string[index]\n",
    "        if symbol in '([{':\n",
    "            s.push(symbol)\n",
    "            \n",
    "        else:\n",
    "            if s.is_empty():\n",
    "                balanced = False\n",
    "            else:\n",
    "                top = s.pop()\n",
    "                if not matches(top, symbol):\n",
    "                    balanced = False\n",
    "                    \n",
    "        index = index + 1\n",
    "        \n",
    "    if balanced and s.is_empty():\n",
    "        return balanced\n",
    "    return balanced"
   ]
  },
  {
   "cell_type": "code",
   "execution_count": 18,
   "metadata": {},
   "outputs": [
    {
     "name": "stdout",
     "output_type": "stream",
     "text": [
      "True\n",
      "False\n"
     ]
    }
   ],
   "source": [
    "print(par_checker('{{([][])}()}'))\n",
    "print(par_checker('[{()]'))"
   ]
  },
  {
   "cell_type": "code",
   "execution_count": 19,
   "metadata": {},
   "outputs": [
    {
     "data": {
      "text/plain": [
       "14.5625"
      ]
     },
     "execution_count": 19,
     "metadata": {},
     "output_type": "execute_result"
    }
   ],
   "source": [
    "233/16"
   ]
  },
  {
   "cell_type": "code",
   "execution_count": 20,
   "metadata": {},
   "outputs": [
    {
     "data": {
      "text/plain": [
       "9"
      ]
     },
     "execution_count": 20,
     "metadata": {},
     "output_type": "execute_result"
    }
   ],
   "source": [
    "233 -(16*14)"
   ]
  },
  {
   "cell_type": "markdown",
   "metadata": {},
   "source": [
    "- __Convert__ decimal to binary string"
   ]
  },
  {
   "cell_type": "code",
   "execution_count": 27,
   "metadata": {},
   "outputs": [],
   "source": [
    "def decimal_to_binary(decimal):\n",
    "    rem_stack = stack()\n",
    "    \n",
    "    while decimal > 0:\n",
    "        rem = decimal % 2\n",
    "        rem_stack.push(rem)\n",
    "        decimal //= 2\n",
    "        \n",
    "    binary_str = ''\n",
    "    while not rem_stack.is_empty():\n",
    "        binary_str += str(rem_stack.pop())\n",
    "        \n",
    "    return binary_str"
   ]
  },
  {
   "cell_type": "code",
   "execution_count": 28,
   "metadata": {},
   "outputs": [
    {
     "data": {
      "text/plain": [
       "'11101001'"
      ]
     },
     "execution_count": 28,
     "metadata": {},
     "output_type": "execute_result"
    }
   ],
   "source": [
    "decimal_to_binary(233)"
   ]
  },
  {
   "cell_type": "markdown",
   "metadata": {},
   "source": [
    "- Converting using any base"
   ]
  },
  {
   "cell_type": "code",
   "execution_count": 29,
   "metadata": {},
   "outputs": [],
   "source": [
    "def decimal_converter(decimal, base):\n",
    "    digits = '0123456789ABCDEF'\n",
    "    rem_stack = stack()\n",
    "    \n",
    "    while decimal > 0:\n",
    "        rem = decimal % base\n",
    "        rem_stack.push(rem)\n",
    "        decimal //= base\n",
    "        \n",
    "    new_str = ''\n",
    "    while not rem_stack.is_empty():\n",
    "        new_str += digits[rem_stack.pop()]\n",
    "        \n",
    "    return new_str"
   ]
  },
  {
   "cell_type": "code",
   "execution_count": 33,
   "metadata": {},
   "outputs": [
    {
     "name": "stdout",
     "output_type": "stream",
     "text": [
      "11001\n",
      "19\n",
      "E9\n",
      "31\n",
      "100\n",
      "10\n"
     ]
    }
   ],
   "source": [
    "print(decimal_converter(25, 2))\n",
    "print(decimal_converter(25, 16))\n",
    "print(decimal_converter(233, 16))\n",
    "print(decimal_converter(25, 8))\n",
    "print(decimal_converter(256, 16))\n",
    "print(decimal_converter(26, 26))"
   ]
  },
  {
   "cell_type": "markdown",
   "metadata": {},
   "source": [
    "### Infix, prefix and postfix"
   ]
  },
  {
   "cell_type": "markdown",
   "metadata": {},
   "source": [
    "__Infix expression__               __Prefix expression__                 __Postfix expression__\n",
    "\n",
    "a + b * c + d                            ++a * bcd                             abc *+ d+                    \n",
    "\n",
    "(a + b) * (c + d)                        * +ab +cd                              ab+ cd+ *  \n",
    "\n",
    "a * b + c * d                            +*ab *cd                               ab* cd*+\n",
    "\n",
    "a + b + c + d                           +++abcd                                    abcd+++\n",
    "\n",
    "(a + b) * c - (d - e) * (f + g)      -*+abc *-de +fg                          ab+ c* de- fg+*-"
   ]
  },
  {
   "cell_type": "markdown",
   "metadata": {},
   "source": [
    "##### How to convert infix expression \n",
    "\n",
    "The basic assumption is that infix expressions are a string of tokens delimited by spaces. The operator tokens are +, -, /, *, (, ). The __operand__ tokens are the single-character identifiers A, B, C and so on.\n",
    "\n",
    "The following steps will produce a string of tokens in postfix order.\n",
    "\n",
    "1. Create **op_stack** for keeping operators\n",
    "2. Create an empty list for __output__\n",
    "3. Convert the **input infix string** to a list using __split__ method\n",
    "4. Scan the token list from left to right\n",
    "  - If token = operand then __output__.append(__operand__)\n",
    "  - If token = \"(\" then **push** to __op_stack__\n",
    "  - If token = \")\" then **pop** the __op_stack__ until the corresponding left\n",
    "    parenthesis is removed. Append each operator to the end of the output         list\n",
    "  - if token = *, +, -, /  then push to the __op_stack__ . However, first        remove any operators already on the op_stack that have higher or equal        precendence \n",
    "  \n",
    "\n",
    "\n",
    "\n",
    "__Let's code the algorithm above__"
   ]
  },
  {
   "cell_type": "code",
   "execution_count": 3,
   "metadata": {},
   "outputs": [],
   "source": [
    "def infix_to_postfix(infix_expr):\n",
    "    \n",
    "    prec = {}\n",
    "    prec['*'] = 3\n",
    "    prec['/'] = 3\n",
    "    prec['+'] = 2\n",
    "    prec['-'] = 2\n",
    "    prec['('] = 1\n",
    "    \n",
    "    op_stack = stack()\n",
    "    postfix_list = []\n",
    "    token_list = infix_expr.split()\n",
    "    \n",
    "    for token in token_list:\n",
    "        if token in 'ABCDEFGHIJKLMNOPQRSTUVWXYZ' or token in '0123456789':\n",
    "            postfix_list.append(token)\n",
    "        elif token == '(':\n",
    "            op_stack.push(token)\n",
    "        elif token == ')':\n",
    "            top_token = op_stack.pop()\n",
    "            while top_token != '(':\n",
    "                postfix_list.append(top_token)\n",
    "                top_token = op_stack.pop()\n",
    "        else:\n",
    "            while (not op_stack.is_empty()) and (prec[op_stack.peek()] >= prec[token]):\n",
    "                postfix_list.append(op_stack.pop())\n",
    "            op_stack.push(token)\n",
    "            \n",
    "    while not op_stack.is_empty():\n",
    "        postfix_list.append(op_stack.pop())\n",
    "    \n",
    "    return ' '.join(postfix_list)"
   ]
  },
  {
   "cell_type": "code",
   "execution_count": 11,
   "metadata": {},
   "outputs": [
    {
     "name": "stdout",
     "output_type": "stream",
     "text": [
      "A B * C D * +\n",
      "A B + C * D E - F G + * -\n",
      "A B + C D + *\n",
      "A B + C *\n",
      "A B C * +\n"
     ]
    }
   ],
   "source": [
    "print(infix_to_postfix('A * B + C * D'))\n",
    "print(infix_to_postfix(\"( A + B ) * C - ( D - E ) * ( F + G )\"))\n",
    "print(infix_to_postfix(\"( A + B ) * ( C + D )\"))\n",
    "print(infix_to_postfix(\"( A + B ) * C\"))\n",
    "print(infix_to_postfix(\"A + B * C\"))"
   ]
  },
  {
   "cell_type": "markdown",
   "metadata": {},
   "source": [
    "#### Evaluate postfix expression\n",
    "\n",
    "#### Assumptions:\n",
    "- postfix expression is a string of tokens delimited with spaces\n",
    "- operators are +, -, /, *\n",
    "- operands are single-digit integer values\n",
    "- output will be an integer result\n",
    "\n",
    "##### Steps to evaluate postfix expression\n",
    "\n",
    "1. create empty **operand_stack**\n",
    "2. convert string to list using split() method\n",
    "3. scan the token list from left to right\n",
    "\n",
    "  - if token = __operand__ then push int(string) into **operand_stack**\n",
    "  - if token = __operator__, it needs 2 operands. Pop the **operand_stack**\n",
    "    twice. 1st_pop = __2nd_operand__, 2nd_pop = __1st_operand__. Perform the     arithemetic operation and push result back to operand_stack.\n",
    "4. When input expression is totally processed, result is on stack. So, pop the **operand_stack** and return the value"
   ]
  },
  {
   "cell_type": "code",
   "execution_count": 16,
   "metadata": {},
   "outputs": [],
   "source": [
    "def do_math(op, op1, op2):\n",
    "    if op == '+':\n",
    "        return op1 + op2\n",
    "    elif op == '-':\n",
    "        return op1 - op2\n",
    "    elif op == '/':\n",
    "        return op1 / op2\n",
    "    else:\n",
    "        return op1 * op2\n",
    "    \n",
    "def postfix_eval(postfix_expr):\n",
    "    \n",
    "    operand_stack = stack()\n",
    "    token_list = postfix_expr.split()\n",
    "    \n",
    "    for token in token_list:\n",
    "        if token in '0123456789':\n",
    "            operand_stack.push(int(token))\n",
    "        else:\n",
    "            operand_2 = operand_stack.pop()\n",
    "            operand_1 = operand_stack.pop()\n",
    "            result = do_math(token, operand_1, operand_2)\n",
    "            operand_stack.push(result)\n",
    "        \n",
    "    return result"
   ]
  },
  {
   "cell_type": "code",
   "execution_count": 17,
   "metadata": {},
   "outputs": [
    {
     "name": "stdout",
     "output_type": "stream",
     "text": [
      "3.0\n"
     ]
    }
   ],
   "source": [
    "print(postfix_eval('7 8 + 3 2 + /'))"
   ]
  },
  {
   "cell_type": "markdown",
   "metadata": {},
   "source": [
    "#### Queues"
   ]
  },
  {
   "cell_type": "code",
   "execution_count": 1,
   "metadata": {},
   "outputs": [],
   "source": [
    "class Queue:\n",
    "    \n",
    "    def __init__(self):\n",
    "        self.items = []\n",
    "        \n",
    "    def is_empty(self):\n",
    "        return self.items == []\n",
    "    \n",
    "    def enqueue(self, item):\n",
    "        return self.items.insert(0, item)\n",
    "    \n",
    "    def dequeue(self):\n",
    "        return self.items.pop()\n",
    "    \n",
    "    def size(self):\n",
    "        return len(self.items)"
   ]
  },
  {
   "cell_type": "markdown",
   "metadata": {},
   "source": [
    "__Hot potato__ simulation"
   ]
  },
  {
   "cell_type": "code",
   "execution_count": 2,
   "metadata": {},
   "outputs": [
    {
     "name": "stdout",
     "output_type": "stream",
     "text": [
      "Susan\n"
     ]
    }
   ],
   "source": [
    "def hot_potato(name_list, num):\n",
    "    \n",
    "    sim_queue = Queue()\n",
    "    for name in name_list:\n",
    "        sim_queue.enqueue(name)\n",
    "        \n",
    "    while sim_queue.size() > 1:\n",
    "        for i in range(num):\n",
    "            sim_queue.enqueue(sim_queue.dequeue())\n",
    "            \n",
    "        sim_queue.dequeue()\n",
    "        \n",
    "    return sim_queue.dequeue()\n",
    "\n",
    "print(hot_potato(['Bill', 'David', 'Susan', 'Jane', 'Kent', 'Brad'], 7))"
   ]
  },
  {
   "cell_type": "markdown",
   "metadata": {},
   "source": [
    "__Printing queue__ simulation. \n",
    "\n",
    "#### Assumptions:\n",
    "- 10 students work in the lab per hour\n",
    "- Students typically print print up to twice during that time\n",
    "- Average waiting time = Average time students wait on the queue\n",
    "- Students typically print between 1 and 20 pages and are equally likely\n",
    "- 10 students in the lab print twice. \n",
    "- Therefore 20 printing tasks per hour = 1 task per 180 seconds\n",
    "\n",
    "We are gonna create __3__ real-world objects described above:\n",
    "Printer, Task and PrintQueue"
   ]
  },
  {
   "cell_type": "markdown",
   "metadata": {},
   "source": [
    "**Printer** class needs to:\n",
    "- Keep track of current task. If it has, it is busy.\n",
    "- It should also compute time for task based on the number of pages per task\n",
    "- Tick method decrements the internal timer ans sets printer to idle if task is completed"
   ]
  },
  {
   "cell_type": "markdown",
   "metadata": {},
   "source": [
    "**Task** class will represent a single printing task. \n",
    "\n",
    "- When task is created a random number generator will provide a length of task from 1 to 20 pages.\n",
    "- "
   ]
  },
  {
   "cell_type": "code",
   "execution_count": 6,
   "metadata": {},
   "outputs": [],
   "source": [
    "import random"
   ]
  },
  {
   "cell_type": "code",
   "execution_count": 11,
   "metadata": {},
   "outputs": [],
   "source": [
    "class Printer:\n",
    "    def __init__(self, ppm):\n",
    "        self.page_rate = ppm\n",
    "        self.current_task = None\n",
    "        self.time_remaining = 0\n",
    "        \n",
    "    def tick(self):\n",
    "        if self.current_task != None:\n",
    "            self.time_remaining -= 1\n",
    "            if self.time_remaining <= 0:\n",
    "                self.current_task = None\n",
    "            \n",
    "    def busy(self):\n",
    "        if self.current_task != None:\n",
    "            return True\n",
    "        else:\n",
    "            return False\n",
    "        \n",
    "    def start_next(self, new_task):\n",
    "        self.current_task = new_task\n",
    "        self.time_remaining = new_task.get_pages() * 60 / self.page_rate\n",
    "        \n",
    "\n",
    "class Task:\n",
    "    def __init__(self, time):\n",
    "        self.timestamp = time\n",
    "        self.pages = random.randrange(1, 21)\n",
    "        \n",
    "    def get_stamp(self):\n",
    "        return self.timestamp\n",
    "    \n",
    "    def get_pages(self):\n",
    "        return self.pages\n",
    "    \n",
    "    def wait_time(self, current_time):\n",
    "        return current_time - self.timestamp\n",
    "    \n",
    "\n",
    "def new_print_task():\n",
    "    num = random.randrange(1, 181)\n",
    "    \n",
    "    if num == 180:\n",
    "        return True\n",
    "    else:\n",
    "        return False\n",
    "    \n",
    "\n",
    "## Create the simulation\n",
    "\n",
    "def simulation(num_seconds, pages_per_minute):\n",
    "    \n",
    "    lab_printer = Printer(pages_per_minute)\n",
    "    print_queue = Queue()\n",
    "    waiting_times = []\n",
    "    \n",
    "    for current_second in range(num_seconds):\n",
    "        \n",
    "        if new_print_task():\n",
    "            task = Task(current_second)\n",
    "            print_queue.enqueue(task)\n",
    "            \n",
    "        if (not lab_printer.busy()) and (not print_queue.is_empty()):\n",
    "            next_task = print_queue.dequeue()\n",
    "            waiting_times.append(next_task.wait_time(current_second))\n",
    "            lab_printer.start_next(next_task)\n",
    "            \n",
    "        lab_printer.tick()\n",
    "        \n",
    "    average_wait = sum(waiting_times)/ len(waiting_times)\n",
    "    print('Average wait is {:.2f} secs and {} tasks remaining'\\\n",
    "         .format(average_wait, print_queue.size()))"
   ]
  },
  {
   "cell_type": "code",
   "execution_count": 12,
   "metadata": {},
   "outputs": [
    {
     "name": "stdout",
     "output_type": "stream",
     "text": [
      "Average wait is 114.95 secs and 1 tasks remaining\n",
      "Average wait is 69.25 secs and 2 tasks remaining\n",
      "Average wait is 61.47 secs and 0 tasks remaining\n",
      "Average wait is 123.11 secs and 6 tasks remaining\n",
      "Average wait is 15.67 secs and 0 tasks remaining\n",
      "Average wait is 199.16 secs and 0 tasks remaining\n",
      "Average wait is 113.21 secs and 2 tasks remaining\n",
      "Average wait is 94.06 secs and 0 tasks remaining\n",
      "Average wait is 390.29 secs and 6 tasks remaining\n",
      "Average wait is 112.71 secs and 1 tasks remaining\n"
     ]
    }
   ],
   "source": [
    "for i in range(10):\n",
    "    simulation(3600, 5)"
   ]
  },
  {
   "cell_type": "code",
   "execution_count": 13,
   "metadata": {},
   "outputs": [
    {
     "name": "stdout",
     "output_type": "stream",
     "text": [
      "Average wait is 17.76 secs and 0 tasks remaining\n",
      "Average wait is 10.27 secs and 0 tasks remaining\n",
      "Average wait is 33.60 secs and 0 tasks remaining\n",
      "Average wait is 35.88 secs and 1 tasks remaining\n",
      "Average wait is 99.91 secs and 0 tasks remaining\n",
      "Average wait is 27.10 secs and 0 tasks remaining\n",
      "Average wait is 48.09 secs and 1 tasks remaining\n",
      "Average wait is 3.22 secs and 0 tasks remaining\n",
      "Average wait is 2.00 secs and 0 tasks remaining\n",
      "Average wait is 30.68 secs and 0 tasks remaining\n"
     ]
    }
   ],
   "source": [
    "for i in range(10):\n",
    "    simulation(3600, 10)"
   ]
  },
  {
   "cell_type": "markdown",
   "metadata": {},
   "source": [
    "### Deque"
   ]
  },
  {
   "cell_type": "markdown",
   "metadata": {},
   "source": [
    "This can be regarded as double-ended queue. elements can be added and removed from both the front and the rear. This has the features of stack and queue."
   ]
  },
  {
   "cell_type": "code",
   "execution_count": 14,
   "metadata": {},
   "outputs": [],
   "source": [
    "class Deque:\n",
    "    \n",
    "    def __init__(self):\n",
    "        self.items = []\n",
    "        \n",
    "    def is_empty(self):\n",
    "        return self.items == []\n",
    "    \n",
    "    def add_front(self, item):\n",
    "        return self.items.append(item)\n",
    "    \n",
    "    def add_rear(self, item):\n",
    "        return self.items.insert(0, item)\n",
    "    \n",
    "    def remove_front(self):\n",
    "        return self.items.pop()\n",
    "    \n",
    "    def remove_rear(self):\n",
    "        return self.items.pop(0)\n",
    "    \n",
    "    def size(self):\n",
    "        return len(self.items)"
   ]
  },
  {
   "cell_type": "markdown",
   "metadata": {},
   "source": [
    "Using Deque to implement Palindrome"
   ]
  },
  {
   "cell_type": "code",
   "execution_count": 21,
   "metadata": {},
   "outputs": [],
   "source": [
    "def palindrome_checker(string):\n",
    "    \n",
    "    char_deque = Deque()\n",
    "    \n",
    "    for ch in string:\n",
    "        char_deque.add_front(ch)\n",
    "        \n",
    "    still_equal = True\n",
    "    \n",
    "    while char_deque.size() > 1 and still_equal:\n",
    "        first_char = char_deque.remove_front()\n",
    "        second_char = char_deque.remove_rear()\n",
    "        \n",
    "        if first_char != second_char:\n",
    "            still_equal = False\n",
    "            \n",
    "    return still_equal"
   ]
  },
  {
   "cell_type": "code",
   "execution_count": 22,
   "metadata": {},
   "outputs": [
    {
     "name": "stdout",
     "output_type": "stream",
     "text": [
      "False\n",
      "True\n"
     ]
    }
   ],
   "source": [
    "print(palindrome_checker(\"lsdkjfskf\"))\n",
    "print(palindrome_checker(\"radar\"))"
   ]
  },
  {
   "cell_type": "markdown",
   "metadata": {},
   "source": [
    "__Linked list__ is one sure way to implement an unordered list. Also, we need to ensure that the relative positioning of thne item is maintained. Even if the list is random, we can maintain some explicit information in each item. That is, the position of then next item in the list. The relative position of each item can be expressed by following the link from one item to the next.\n",
    "\n",
    "It is important to note the location of the first item. The location of the rest can be known by following the link from the head(first item).\n",
    "\n",
    "Link list implementation is called a node. It has two features\n",
    "- the data and a reference to the next object"
   ]
  },
  {
   "cell_type": "code",
   "execution_count": 23,
   "metadata": {},
   "outputs": [],
   "source": [
    "class Node:\n",
    "    def __init__(self, init_data):\n",
    "        self.data = init_data\n",
    "        self.next = None\n",
    "        \n",
    "    def get_data(self):\n",
    "        return self.data\n",
    "    \n",
    "    def get_next(self):\n",
    "        return self.next\n",
    "    \n",
    "    def set_data(self, new_data):\n",
    "        self.data = new_data\n",
    "        \n",
    "    def set_next(self, new_next):\n",
    "        self.next = new_next"
   ]
  },
  {
   "cell_type": "code",
   "execution_count": 24,
   "metadata": {},
   "outputs": [
    {
     "data": {
      "text/plain": [
       "93"
      ]
     },
     "execution_count": 24,
     "metadata": {},
     "output_type": "execute_result"
    }
   ],
   "source": [
    "# Setting up a node\n",
    "\n",
    "temp = Node(93)\n",
    "# Fetch the data\n",
    "temp.get_data()"
   ]
  },
  {
   "cell_type": "code",
   "execution_count": null,
   "metadata": {},
   "outputs": [],
   "source": [
    "class UnorderedList:\n",
    "    def __init__(self):\n",
    "        self.head = None\n",
    "        \n",
    "    def is_empty(self):\n",
    "        return self.head == None\n",
    "    \n",
    "    def add(self, item):\n",
    "        temp = Node(item)\n",
    "        temp.set_next(self.head)\n",
    "        self.head = temp"
   ]
  }
 ],
 "metadata": {
  "kernelspec": {
   "display_name": "Python 3",
   "language": "python",
   "name": "python3"
  },
  "language_info": {
   "codemirror_mode": {
    "name": "ipython",
    "version": 3
   },
   "file_extension": ".py",
   "mimetype": "text/x-python",
   "name": "python",
   "nbconvert_exporter": "python",
   "pygments_lexer": "ipython3",
   "version": "3.7.6"
  }
 },
 "nbformat": 4,
 "nbformat_minor": 4
}
