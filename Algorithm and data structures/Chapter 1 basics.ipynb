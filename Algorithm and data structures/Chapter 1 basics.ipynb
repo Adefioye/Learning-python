{
 "cells": [
  {
   "cell_type": "markdown",
   "metadata": {},
   "source": [
    "#### List methods"
   ]
  },
  {
   "cell_type": "code",
   "execution_count": 1,
   "metadata": {},
   "outputs": [
    {
     "name": "stdout",
     "output_type": "stream",
     "text": [
      "[1024, 3, True, 6.5, False]\n",
      "[1024, 3, 4.5, True, 6.5, False]\n",
      "False\n",
      "[1024, 3, 4.5, True, 6.5]\n",
      "3\n",
      "[1024, 4.5, True, 6.5]\n",
      "[1024, 4.5, 6.5]\n",
      "[4.5, 6.5, 1024]\n",
      "[1024, 6.5, 4.5]\n",
      "1\n",
      "2\n",
      "[1024, 4.5]\n",
      "[4.5]\n"
     ]
    }
   ],
   "source": [
    "my_list = [1024, 3, True, 6.5]\n",
    "my_list.append(False)\n",
    "print(my_list)\n",
    "my_list.insert(2,4.5)\n",
    "print(my_list)\n",
    "print(my_list.pop())\n",
    "print(my_list)\n",
    "print(my_list.pop(1))\n",
    "print(my_list)\n",
    "my_list.pop(2)\n",
    "print(my_list)\n",
    "my_list.sort()\n",
    "print(my_list)\n",
    "my_list.reverse()\n",
    "print(my_list)\n",
    "print(my_list.count(6.5))\n",
    "print(my_list.index(4.5))\n",
    "my_list.remove(6.5)\n",
    "print(my_list)\n",
    "del my_list[0]\n",
    "print(my_list)"
   ]
  },
  {
   "cell_type": "markdown",
   "metadata": {},
   "source": [
    "#### String methods"
   ]
  },
  {
   "cell_type": "code",
   "execution_count": 2,
   "metadata": {},
   "outputs": [],
   "source": [
    "my_name = 'David'"
   ]
  },
  {
   "cell_type": "code",
   "execution_count": 3,
   "metadata": {},
   "outputs": [
    {
     "data": {
      "text/plain": [
       "'i'"
      ]
     },
     "execution_count": 3,
     "metadata": {},
     "output_type": "execute_result"
    }
   ],
   "source": [
    "my_name[3]"
   ]
  },
  {
   "cell_type": "code",
   "execution_count": 4,
   "metadata": {},
   "outputs": [
    {
     "name": "stdout",
     "output_type": "stream",
     "text": [
      "DavidDavid\n",
      "DAVID\n",
      "     David     \n",
      "david\n",
      "          David\n",
      "David          \n",
      "4\n",
      "['Dav', 'd']\n"
     ]
    }
   ],
   "source": [
    "print(my_name * 2)\n",
    "print(my_name.upper())\n",
    "print(my_name.center(15)) # Centered around space of size 15\n",
    "print(my_name.lower())\n",
    "print(my_name.rjust(15)) # Right adjusted in a space of size 15\n",
    "print(my_name.ljust(15)) # Left adjusted in a space of size 15\n",
    "print(my_name.find('d')) # Returns index of character 'd' in the string\n",
    "print(my_name.split('i', maxsplit=1))"
   ]
  },
  {
   "cell_type": "markdown",
   "metadata": {},
   "source": [
    "#### Set methods"
   ]
  },
  {
   "cell_type": "code",
   "execution_count": 5,
   "metadata": {},
   "outputs": [
    {
     "name": "stdout",
     "output_type": "stream",
     "text": [
      "{False, 3, 4.5, 6, 'cat'}\n",
      "True\n",
      "False\n",
      "{False, 3, 4.5, 99, 6, 100, 'cat'}\n",
      "{3}\n",
      "{False, 'cat', 4.5, 6}\n",
      "False\n",
      "None\n",
      "None\n",
      "False\n",
      "{3, 6, 'cat', 'house'}\n",
      "None\n",
      "set()\n"
     ]
    }
   ],
   "source": [
    "my_set = {False, 3, 4.5, 6, 'cat'}\n",
    "\n",
    "print(my_set)\n",
    "print(False in my_set)\n",
    "print('dog' in my_set)\n",
    "\n",
    "your_set = {99, 3, 100}\n",
    "\n",
    "print(my_set.union(your_set))\n",
    "print(my_set.intersection(your_set))\n",
    "print(my_set.difference(your_set))\n",
    "print(my_set.issubset(your_set))\n",
    "print(my_set.add('house'))\n",
    "print(my_set.remove(4.5))\n",
    "print(my_set.pop())\n",
    "print(my_set)\n",
    "print(my_set.clear())\n",
    "print(my_set)"
   ]
  },
  {
   "cell_type": "markdown",
   "metadata": {},
   "source": [
    "#### Dict methods"
   ]
  },
  {
   "cell_type": "code",
   "execution_count": 6,
   "metadata": {},
   "outputs": [
    {
     "name": "stdout",
     "output_type": "stream",
     "text": [
      "{'Iowa': 'DesMoines', 'Wisconsin': 'Madison'}\n",
      "DesMoines\n",
      "{'Iowa': 'DesMoines', 'Wisconsin': 'Madison', 'Utah': 'SaltLakeCity'}\n",
      "4\n",
      "DesMoines  is the capital of  Iowa\n",
      "Madison  is the capital of  Wisconsin\n",
      "SaltLakeCity  is the capital of  Utah\n",
      "Sacramento  is the capital of  California\n",
      "########################################################################################################################\n",
      "dict_keys(['david', 'brad'])\n",
      "dict_values([1410, 1137])\n",
      "dict_items([('david', 1410), ('brad', 1137)])\n",
      "1410\n",
      "None\n",
      "MISSING\n",
      "{'brad': 1137}\n"
     ]
    }
   ],
   "source": [
    "capitals = {'Iowa':'DesMoines','Wisconsin':'Madison'}\n",
    "print(capitals)\n",
    "print(capitals['Iowa'])\n",
    "capitals['Utah']='SaltLakeCity'\n",
    "print(capitals)\n",
    "capitals['California']='Sacramento'\n",
    "print(len(capitals))\n",
    "for k in capitals:\n",
    "    print(capitals[k],\" is the capital of \", k)\n",
    "\n",
    "print('##'*60)\n",
    "\n",
    "phone_ext = {'david':1410, 'brad':1137}\n",
    "\n",
    "print(phone_ext.keys())\n",
    "print(phone_ext.values())\n",
    "\n",
    "print(phone_ext.items())\n",
    "\n",
    "print(phone_ext.get('david'))\n",
    "print(phone_ext.get('kent'))\n",
    "print(phone_ext.get('kent', 'MISSING')) # Use MISSING if not found in the dict\n",
    "\n",
    "del phone_ext['david']\n",
    "\n",
    "print(phone_ext)"
   ]
  },
  {
   "cell_type": "markdown",
   "metadata": {},
   "source": [
    "#### Input/ Output"
   ]
  },
  {
   "cell_type": "code",
   "execution_count": 7,
   "metadata": {},
   "outputs": [
    {
     "name": "stdout",
     "output_type": "stream",
     "text": [
      "Please enter your name: kOko\n"
     ]
    }
   ],
   "source": [
    "user_name = input('Please enter your name: ')"
   ]
  },
  {
   "cell_type": "code",
   "execution_count": 8,
   "metadata": {},
   "outputs": [
    {
     "name": "stdout",
     "output_type": "stream",
     "text": [
      "Please enter your name: Koko\n",
      "Your name in all capitals is KOKO and has length 4\n"
     ]
    }
   ],
   "source": [
    "user_name = input('Please enter your name: ')\n",
    "print('Your name in all capitals is', user_name.upper(), 'and has length', len(user_name))"
   ]
  },
  {
   "cell_type": "code",
   "execution_count": 9,
   "metadata": {},
   "outputs": [
    {
     "name": "stdout",
     "output_type": "stream",
     "text": [
      "Please enter the radius of the circle 6\n"
     ]
    }
   ],
   "source": [
    "user_radius = input('Please enter the radius of the circle ')\n",
    "radius = float(user_radius)\n",
    "diameter = 2 * radius"
   ]
  },
  {
   "cell_type": "code",
   "execution_count": 10,
   "metadata": {},
   "outputs": [
    {
     "data": {
      "text/plain": [
       "12.0"
      ]
     },
     "execution_count": 10,
     "metadata": {},
     "output_type": "execute_result"
    }
   ],
   "source": [
    "diameter"
   ]
  },
  {
   "cell_type": "markdown",
   "metadata": {},
   "source": [
    "#### String formatting"
   ]
  },
  {
   "cell_type": "code",
   "execution_count": 13,
   "metadata": {},
   "outputs": [
    {
     "name": "stdout",
     "output_type": "stream",
     "text": [
      "Hello World\n",
      "Hello***World\n",
      "Hello World***Hello World\tHello World\n",
      "Hello World\t"
     ]
    }
   ],
   "source": [
    "print('Hello', 'World')\n",
    "print('Hello', 'World', sep='***')\n",
    "print('Hello', 'World', end='***') # It ends with *** instead of a new line\n",
    "print('Hello', 'World', end='\\t') # It ends with TAB and immediately followed\n",
    "                                  # by another *Hello World*\n",
    "\n",
    "print('Hello', 'World')\n",
    "print('Hello', 'World', end='\\t') # Finally ended with *Hello World* and TAB"
   ]
  },
  {
   "cell_type": "code",
   "execution_count": 20,
   "metadata": {},
   "outputs": [
    {
     "name": "stdout",
     "output_type": "stream",
     "text": [
      "My name is KOKO and age 27\n"
     ]
    }
   ],
   "source": [
    "name = 'Koko'; age = 27\n",
    "\n",
    "print('My name is {} and age {}'.format(name.upper(), age))"
   ]
  },
  {
   "cell_type": "code",
   "execution_count": 9,
   "metadata": {},
   "outputs": [
    {
     "name": "stdout",
     "output_type": "stream",
     "text": [
      "['c', 'a', 't', 'd', 'o', 'g', 'r', 'b', 'i']\n"
     ]
    }
   ],
   "source": [
    "word_list = ['cat','dog','rabbit']\n",
    "letter_list = [ ]\n",
    "\n",
    "for a_word in word_list:\n",
    "    if len(a_word) == 3:\n",
    "        for a_letter in a_word:\n",
    "            letter_list.append(a_letter)\n",
    "    else:\n",
    "        for index, a_letter in enumerate(a_word):\n",
    "            if index%2 == 0:\n",
    "                letter_list.append(a_letter)\n",
    "print(letter_list)   "
   ]
  },
  {
   "cell_type": "code",
   "execution_count": 11,
   "metadata": {},
   "outputs": [
    {
     "name": "stdout",
     "output_type": "stream",
     "text": [
      "['c', 'a', 't', 'd', 'o', 'g', 'r', 'a', 'b', 'b', 'i', 't']\n"
     ]
    }
   ],
   "source": [
    "letter_list = (y for x in word_list for y in x)\n",
    "print(list(letter_list))"
   ]
  },
  {
   "cell_type": "code",
   "execution_count": 12,
   "metadata": {},
   "outputs": [],
   "source": [
    "import math"
   ]
  },
  {
   "cell_type": "code",
   "execution_count": 14,
   "metadata": {},
   "outputs": [
    {
     "name": "stdout",
     "output_type": "stream",
     "text": [
      "Please enter an integer value -1\n"
     ]
    },
    {
     "ename": "RuntimeError",
     "evalue": "You can't enter a negative number",
     "output_type": "error",
     "traceback": [
      "\u001b[1;31m---------------------------------------------------------------------------\u001b[0m",
      "\u001b[1;31mRuntimeError\u001b[0m                              Traceback (most recent call last)",
      "\u001b[1;32m<ipython-input-14-28f5715fa062>\u001b[0m in \u001b[0;36m<module>\u001b[1;34m\u001b[0m\n\u001b[0;32m      2\u001b[0m \u001b[1;33m\u001b[0m\u001b[0m\n\u001b[0;32m      3\u001b[0m \u001b[1;32mif\u001b[0m \u001b[0ma_number\u001b[0m \u001b[1;33m<\u001b[0m \u001b[1;36m0\u001b[0m\u001b[1;33m:\u001b[0m\u001b[1;33m\u001b[0m\u001b[1;33m\u001b[0m\u001b[0m\n\u001b[1;32m----> 4\u001b[1;33m     \u001b[1;32mraise\u001b[0m \u001b[0mRuntimeError\u001b[0m\u001b[1;33m(\u001b[0m\u001b[1;34m'You can\\'t enter a negative number'\u001b[0m\u001b[1;33m)\u001b[0m\u001b[1;33m\u001b[0m\u001b[1;33m\u001b[0m\u001b[0m\n\u001b[0m\u001b[0;32m      5\u001b[0m \u001b[1;32melse\u001b[0m\u001b[1;33m:\u001b[0m\u001b[1;33m\u001b[0m\u001b[1;33m\u001b[0m\u001b[0m\n\u001b[0;32m      6\u001b[0m     \u001b[0mprint\u001b[0m\u001b[1;33m(\u001b[0m\u001b[0mmath\u001b[0m\u001b[1;33m.\u001b[0m\u001b[0msqrt\u001b[0m\u001b[1;33m(\u001b[0m\u001b[0ma_number\u001b[0m\u001b[1;33m)\u001b[0m\u001b[1;33m)\u001b[0m\u001b[1;33m\u001b[0m\u001b[1;33m\u001b[0m\u001b[0m\n",
      "\u001b[1;31mRuntimeError\u001b[0m: You can't enter a negative number"
     ]
    }
   ],
   "source": [
    "a_number = int(input('Please enter an integer value '))\n",
    "\n",
    "if a_number < 0:\n",
    "    raise RuntimeError('You can\\'t enter a negative number')\n",
    "else:\n",
    "    print(math.sqrt(a_number))"
   ]
  },
  {
   "cell_type": "code",
   "execution_count": 17,
   "metadata": {},
   "outputs": [],
   "source": [
    "def square_root(n):\n",
    "    root = n/2\n",
    "    for k in range(20):\n",
    "        root = (1 / 2) * (root + (n / root))\n",
    "        \n",
    "    return root"
   ]
  },
  {
   "cell_type": "code",
   "execution_count": 18,
   "metadata": {},
   "outputs": [
    {
     "data": {
      "text/plain": [
       "3.0"
      ]
     },
     "execution_count": 18,
     "metadata": {},
     "output_type": "execute_result"
    }
   ],
   "source": [
    "square_root(9)"
   ]
  },
  {
   "cell_type": "code",
   "execution_count": 19,
   "metadata": {},
   "outputs": [
    {
     "data": {
      "text/plain": [
       "67.54998149518622"
      ]
     },
     "execution_count": 19,
     "metadata": {},
     "output_type": "execute_result"
    }
   ],
   "source": [
    "math.sqrt(4563)"
   ]
  },
  {
   "cell_type": "code",
   "execution_count": 20,
   "metadata": {},
   "outputs": [
    {
     "data": {
      "text/plain": [
       "67.54998149518622"
      ]
     },
     "execution_count": 20,
     "metadata": {},
     "output_type": "execute_result"
    }
   ],
   "source": [
    "square_root(4563)"
   ]
  },
  {
   "cell_type": "code",
   "execution_count": 68,
   "metadata": {},
   "outputs": [],
   "source": [
    "import random\n",
    "\n",
    "goal_string = 'methinks it is like a weasel'\n",
    "\n",
    "def str_generate(goal_string):\n",
    "    alphabet = 'abcdefghijklmnopqrstuvwxyz '\n",
    "    result = ''\n",
    "    for i in range(len(goal_string)):\n",
    "        result = result + random.choice(alphabet)\n",
    "    return result\n",
    "\n",
    "def score(result):\n",
    "    count = 0\n",
    "    for index in range(len(result)):\n",
    "        if result[index] == goal_string[index]:\n",
    "            count += 1\n",
    "            \n",
    "    return (count/len(result)) * 100"
   ]
  },
  {
   "cell_type": "code",
   "execution_count": 69,
   "metadata": {},
   "outputs": [
    {
     "data": {
      "text/plain": [
       "7.142857142857142"
      ]
     },
     "execution_count": 69,
     "metadata": {},
     "output_type": "execute_result"
    }
   ],
   "source": [
    "score(str_generate(goal_string))"
   ]
  },
  {
   "cell_type": "code",
   "execution_count": 72,
   "metadata": {},
   "outputs": [],
   "source": [
    "# def main():\n",
    "#     new_string = str_generate(goal_string)\n",
    "#     new_score = score(new_string)\n",
    "#     best_score = 0\n",
    "#     while new_score < 100:\n",
    "#         if new_score > best_score:\n",
    "#             print(new_score, new_string)\n",
    "#             best_score = new_score\n",
    "#         new_string = str_generate(goal_string)\n",
    "#         new_score = score(new_string)\n",
    "        \n",
    "        "
   ]
  },
  {
   "cell_type": "markdown",
   "metadata": {},
   "source": [
    "#### Creating classes"
   ]
  },
  {
   "cell_type": "code",
   "execution_count": 10,
   "metadata": {},
   "outputs": [],
   "source": [
    "class Fraction:\n",
    "    \n",
    "    def __init__(self, top, bottom):\n",
    "        self.num = top\n",
    "        self.den = bottom\n",
    "        \n",
    "    def show(self):\n",
    "        print(str(self.num) + '/' + str(self.den))\n",
    "        \n",
    "        "
   ]
  },
  {
   "cell_type": "code",
   "execution_count": 11,
   "metadata": {},
   "outputs": [
    {
     "name": "stdout",
     "output_type": "stream",
     "text": [
      "<__main__.Fraction object at 0x0000022456D690C8>\n"
     ]
    }
   ],
   "source": [
    "my_f = Fraction(3, 5)\n",
    "print(my_f)"
   ]
  },
  {
   "cell_type": "code",
   "execution_count": 12,
   "metadata": {},
   "outputs": [
    {
     "name": "stdout",
     "output_type": "stream",
     "text": [
      "3/5\n"
     ]
    }
   ],
   "source": [
    "my_f.show()"
   ]
  },
  {
   "cell_type": "code",
   "execution_count": 21,
   "metadata": {},
   "outputs": [],
   "source": [
    "class Fraction:\n",
    "    \n",
    "    def __init__(self, top, bottom):\n",
    "        self.num = top\n",
    "        self.den = bottom\n",
    "        \n",
    "    def show(self):\n",
    "        print(str(self.num) + '/' + str(self.den))\n",
    "        \n",
    "    def __str__(self):\n",
    "        return(str(self.num) + '/' + str(self.den))"
   ]
  },
  {
   "cell_type": "code",
   "execution_count": 24,
   "metadata": {},
   "outputs": [
    {
     "name": "stdout",
     "output_type": "stream",
     "text": [
      "3/5\n",
      "I ate 3/5 of my pizza\n",
      "3/5\n",
      "3/5\n"
     ]
    }
   ],
   "source": [
    "my_f = Fraction(3, 5)\n",
    "print(my_f)\n",
    "print('I ate {} of my pizza'.format(my_f))\n",
    "print(my_f.__str__())\n",
    "print(str(my_f))"
   ]
  },
  {
   "cell_type": "markdown",
   "metadata": {},
   "source": [
    "#### Try add operations to fraction __add__ method to class Fraction"
   ]
  },
  {
   "cell_type": "code",
   "execution_count": 25,
   "metadata": {},
   "outputs": [],
   "source": [
    "f1 = Fraction(1, 4)\n",
    "f2 = Fraction(1, 2)"
   ]
  },
  {
   "cell_type": "code",
   "execution_count": 26,
   "metadata": {},
   "outputs": [
    {
     "ename": "TypeError",
     "evalue": "unsupported operand type(s) for +: 'Fraction' and 'Fraction'",
     "output_type": "error",
     "traceback": [
      "\u001b[1;31m---------------------------------------------------------------------------\u001b[0m",
      "\u001b[1;31mTypeError\u001b[0m                                 Traceback (most recent call last)",
      "\u001b[1;32m<ipython-input-26-ad0256b81ae0>\u001b[0m in \u001b[0;36m<module>\u001b[1;34m\u001b[0m\n\u001b[1;32m----> 1\u001b[1;33m \u001b[0mf1\u001b[0m \u001b[1;33m+\u001b[0m \u001b[0mf2\u001b[0m\u001b[1;33m\u001b[0m\u001b[1;33m\u001b[0m\u001b[0m\n\u001b[0m",
      "\u001b[1;31mTypeError\u001b[0m: unsupported operand type(s) for +: 'Fraction' and 'Fraction'"
     ]
    }
   ],
   "source": [
    "f1 + f2"
   ]
  },
  {
   "cell_type": "code",
   "execution_count": 42,
   "metadata": {},
   "outputs": [],
   "source": [
    "class Fraction:\n",
    "    \n",
    "    def __init__(self, top, bottom):\n",
    "        self.num = top\n",
    "        self.den = bottom\n",
    "        \n",
    "    def show(self):\n",
    "        print(str(self.num) + '/' + str(self.den))\n",
    "        \n",
    "    def __str__(self):\n",
    "        return(str(self.num) + '/' + str(self.den))\n",
    "    \n",
    "    def __add__(self, other_fraction):\n",
    "        new_num = self.num * other_fraction.den + self.den * other_fraction.num\n",
    "        new_den = self.den * other_fraction.den\n",
    "        \n",
    "        return Fraction(new_num, new_den)"
   ]
  },
  {
   "cell_type": "code",
   "execution_count": 43,
   "metadata": {},
   "outputs": [
    {
     "name": "stdout",
     "output_type": "stream",
     "text": [
      "6/8\n"
     ]
    }
   ],
   "source": [
    "f1 = Fraction(1, 4)\n",
    "f2 = Fraction(1, 2)\n",
    "\n",
    "print(f1 + f2)"
   ]
  },
  {
   "cell_type": "markdown",
   "metadata": {},
   "source": [
    "#### Creating a function for greatest common divisor (gcd)\n",
    "\n",
    "- Useful for dividing fractions into lowest terms\n",
    "- __Euclid algo__ is used for determining the gcd. It states that the gcd of two integers __m__ and __n__ is n if m is divided evenly by n. __Note__: This implementation of the GCD algorithm works when denominator is positive"
   ]
  },
  {
   "cell_type": "code",
   "execution_count": 45,
   "metadata": {},
   "outputs": [],
   "source": [
    "def gcd(m, n):\n",
    "    while m % n != 0:\n",
    "        old_m = m\n",
    "        old_n = n\n",
    "        \n",
    "        m = old_n\n",
    "        n = old_m % old_n\n",
    "    return n"
   ]
  },
  {
   "cell_type": "code",
   "execution_count": 47,
   "metadata": {},
   "outputs": [
    {
     "name": "stdout",
     "output_type": "stream",
     "text": [
      "10\n",
      "2\n"
     ]
    }
   ],
   "source": [
    "print(gcd(20, 10)); print(gcd(6, 8))"
   ]
  },
  {
   "cell_type": "markdown",
   "metadata": {},
   "source": [
    "- __Add the gcd function__"
   ]
  },
  {
   "cell_type": "code",
   "execution_count": 50,
   "metadata": {},
   "outputs": [],
   "source": [
    "class Fraction:\n",
    "    \n",
    "    def __init__(self, top, bottom):\n",
    "        self.num = top\n",
    "        self.den = bottom\n",
    "        \n",
    "    def show(self):\n",
    "        print(str(self.num) + '/' + str(self.den))\n",
    "        \n",
    "    def __str__(self):\n",
    "        return(str(self.num) + '/' + str(self.den))\n",
    "    \n",
    "    def __add__(self, other_fraction):\n",
    "        new_num = self.num * other_fraction.den + self.den * other_fraction.num\n",
    "        new_den = self.den * other_fraction.den\n",
    "        common_den = gcd(new_num, new_den)\n",
    "        \n",
    "        return Fraction(new_num // common_den, new_den // common_den)"
   ]
  },
  {
   "cell_type": "code",
   "execution_count": 69,
   "metadata": {},
   "outputs": [
    {
     "name": "stdout",
     "output_type": "stream",
     "text": [
      "1/2\n"
     ]
    }
   ],
   "source": [
    "f1 = Fraction(1, 4)\n",
    "f2 = Fraction(1, 4)\n",
    "\n",
    "print(f1 + f2)"
   ]
  },
  {
   "cell_type": "markdown",
   "metadata": {},
   "source": [
    "- Let's check if the two fractions are equal"
   ]
  },
  {
   "cell_type": "code",
   "execution_count": 55,
   "metadata": {},
   "outputs": [
    {
     "data": {
      "text/plain": [
       "False"
      ]
     },
     "execution_count": 55,
     "metadata": {},
     "output_type": "execute_result"
    }
   ],
   "source": [
    "f1 == f2 # Would only be true if they are reference to the same object"
   ]
  },
  {
   "cell_type": "code",
   "execution_count": 60,
   "metadata": {},
   "outputs": [
    {
     "name": "stdout",
     "output_type": "stream",
     "text": [
      "NotImplemented\n"
     ]
    }
   ],
   "source": [
    "print(f1.__eq__(f2))"
   ]
  },
  {
   "cell_type": "code",
   "execution_count": 61,
   "metadata": {},
   "outputs": [
    {
     "name": "stdout",
     "output_type": "stream",
     "text": [
      "1/2\n"
     ]
    }
   ],
   "source": [
    "print(f1.__add__(f2))"
   ]
  },
  {
   "cell_type": "markdown",
   "metadata": {},
   "source": [
    "- Add the __eq__ method"
   ]
  },
  {
   "cell_type": "code",
   "execution_count": 113,
   "metadata": {},
   "outputs": [],
   "source": [
    "class Fraction:\n",
    "    \n",
    "    def __init__(self, top, bottom):\n",
    "        common_den = gcd(top, bottom)\n",
    "        self.num = top // common_den\n",
    "        self.den = bottom // common_den\n",
    "        \n",
    "    def get_num(self):\n",
    "        return self.num\n",
    "    \n",
    "    def get_den(self):\n",
    "        return self.den\n",
    "        \n",
    "    def show(self):\n",
    "        print(str(self.num) + '/' + str(self.den))\n",
    "        \n",
    "    def __str__(self):\n",
    "        return(str(self.num) + '/' + str(self.den))\n",
    "    \n",
    "    def __add__(self, other_fraction):\n",
    "        new_num = self.num * other_fraction.den + self.den * other_fraction.num\n",
    "        new_den = self.den * other_fraction.den\n",
    "        \n",
    "        return Fraction(new_num , new_den)\n",
    "    \n",
    "    def minus(self, other_fraction):\n",
    "        new_num = self.num * other_fraction.den - self.den * other_fraction.num\n",
    "        new_den = self.den * other_fraction.den\n",
    "        \n",
    "        return Fraction(new_num, new_den)\n",
    "    \n",
    "    def __eq__(self, other_fraction):\n",
    "        first_num = self.num * other_fraction.den\n",
    "        second_num = self.den * other_fraction.num\n",
    "        \n",
    "        return first_num == second_num\n",
    "    \n",
    "    def mult(self, other_fraction):\n",
    "        new_num = self.num * other_fraction.num\n",
    "        new_den = self.den * other_fraction.den\n",
    "        \n",
    "        return Fraction(new_num, new_den)\n",
    "    \n",
    "    def divide(self, other_fraction):\n",
    "        new_num = self.num * other_fraction.den\n",
    "        new_den = self.den * other_fraction.num\n",
    "        \n",
    "        return Fraction(new_num, new_den)"
   ]
  },
  {
   "cell_type": "code",
   "execution_count": 114,
   "metadata": {},
   "outputs": [
    {
     "data": {
      "text/plain": [
       "True"
      ]
     },
     "execution_count": 114,
     "metadata": {},
     "output_type": "execute_result"
    }
   ],
   "source": [
    "f1 == f2"
   ]
  },
  {
   "cell_type": "markdown",
   "metadata": {},
   "source": [
    "- To check further"
   ]
  },
  {
   "cell_type": "code",
   "execution_count": 115,
   "metadata": {},
   "outputs": [
    {
     "name": "stdout",
     "output_type": "stream",
     "text": [
      "7/6\n",
      "False\n"
     ]
    }
   ],
   "source": [
    "x = Fraction(1, 2)\n",
    "y = Fraction(2, 3)\n",
    "print(x + y)\n",
    "print(x == y)"
   ]
  },
  {
   "cell_type": "code",
   "execution_count": 116,
   "metadata": {},
   "outputs": [
    {
     "name": "stdout",
     "output_type": "stream",
     "text": [
      "1/3\n",
      "3/4\n",
      "-1/6\n"
     ]
    }
   ],
   "source": [
    "print(x.mult(y))\n",
    "print(x.divide(y))\n",
    "print(x.minus(y))"
   ]
  },
  {
   "cell_type": "code",
   "execution_count": 117,
   "metadata": {},
   "outputs": [
    {
     "data": {
      "text/plain": [
       "(1, 2, 2, 3)"
      ]
     },
     "execution_count": 117,
     "metadata": {},
     "output_type": "execute_result"
    }
   ],
   "source": [
    "x.get_num(), x.get_den(), y.get_num(), y.get_den()"
   ]
  },
  {
   "cell_type": "code",
   "execution_count": 118,
   "metadata": {},
   "outputs": [
    {
     "name": "stdout",
     "output_type": "stream",
     "text": [
      "1/2\n"
     ]
    }
   ],
   "source": [
    "print(Fraction(4, 8))"
   ]
  },
  {
   "cell_type": "code",
   "execution_count": 1,
   "metadata": {},
   "outputs": [
    {
     "name": "stdout",
     "output_type": "stream",
     "text": [
      "Object `__radd__` not found.\n"
     ]
    }
   ],
   "source": [
    "__radd__?"
   ]
  },
  {
   "cell_type": "code",
   "execution_count": null,
   "metadata": {},
   "outputs": [],
   "source": []
  }
 ],
 "metadata": {
  "kernelspec": {
   "display_name": "Python 3",
   "language": "python",
   "name": "python3"
  },
  "language_info": {
   "codemirror_mode": {
    "name": "ipython",
    "version": 3
   },
   "file_extension": ".py",
   "mimetype": "text/x-python",
   "name": "python",
   "nbconvert_exporter": "python",
   "pygments_lexer": "ipython3",
   "version": "3.7.6"
  }
 },
 "nbformat": 4,
 "nbformat_minor": 4
}
