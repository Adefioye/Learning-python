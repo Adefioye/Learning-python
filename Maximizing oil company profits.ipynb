{
 "cells": [
  {
   "cell_type": "markdown",
   "metadata": {},
   "source": [
    "## Describe the business problem\n",
    "An oil company manufactures different types of gasoline and diesel. Each type of gasoline is produced by blending different types of crude oils that must be purchased. The company must decide how much crude oil to buy in order to maximize its profit while respecting processing capacities and quality levels as well as satisfying customer demand.\n",
    "\n",
    "\n",
    "The oil-blending problem consists of calculating different blends of gasoline according to specific quality criteria.\n",
    "\n",
    "- Three types of gasoline are manufactured: super, regular, and diesel.\n",
    "\n",
    "- Each type of gasoline is produced by blending three types of crude oil: crude1, crude2, and crude3.\n",
    "\n",
    "- The gasoline must satisfy some quality criteria with respect to their lead content and their octane ratings, thus constraining the possible blendings.\n",
    "\n",
    "- The company must also satisfy its customer demand, which is 3,000 barrels a day of super, 2,000 of regular, and 1,000 of diesel.\n",
    "\n",
    "- The company can purchase 5,000 barrels of each type of crude oil per day and can process at most 14,000 barrels a day.\n",
    "\n",
    "- In addition, the company has the option of advertising a gasoline, in which case the demand for this type of gasoline increases by ten barrels for every dollar spent.\n",
    "\n",
    "- Finally, it costs four dollars to transform a barrel of oil into a barrel of gasoline."
   ]
  },
  {
   "cell_type": "markdown",
   "metadata": {},
   "source": [
    "### Use decision optimization\n",
    "\n",
    "#### Step 1: Model the data\n",
    "- For each type of crude oil, there are capacities of what can be bought, the buying price, the octane level, and the lead level.\n",
    "- For each type of gasoline or diesel, there is customer demand, selling prices, and octane and lead levels.\n",
    "- There is a maximum level of production imposed by the factory's limit as well as a fixed production cost.\n",
    "- There are inventory costs for each type of final product and blending proportions. All of these have actual values in the model.\n",
    "\n",
    "- The marginal production cost and maximum production are assumed to be identical for all oil types."
   ]
  },
  {
   "cell_type": "markdown",
   "metadata": {},
   "source": [
    "First we create a Numpy arrays for each gasoline and crude oil type with dimesion as shown : __(capacity, price, octane and lead level)__"
   ]
  },
  {
   "cell_type": "code",
   "execution_count": 30,
   "metadata": {},
   "outputs": [
    {
     "name": "stdout",
     "output_type": "stream",
     "text": [
      "Number of gasoline types = 3\n",
      "Number of crude types = 3\n"
     ]
    }
   ],
   "source": [
    "import numpy as np\n",
    "import pandas as pd\n",
    "\n",
    "gas_names = pd.Series([\"super\", \"regular\", \"diesel\"])\n",
    "\n",
    "gas_data = pd.DataFrame([[3000, 70, 10, 1], [2000, 60, 8, 2], [1000, 50, 6, 1]])\n",
    "\n",
    "oil_names = pd.Series([\"crude1\", \"crude2\", \"crude3\"])\n",
    "\n",
    "oil_data = pd.DataFrame([[5000, 45, 12, 0.5], [5000, 35, 6, 2], [5000, 25, 8, 3]])\n",
    "\n",
    "num_gas  = len(gas_names)\n",
    "num_oils = len(oil_names)\n",
    "range_gas = range(num_gas)\n",
    "range_oil = range(num_oils)\n",
    "print(\"Number of gasoline types = {0}\".format(num_gas))\n",
    "print(\"Number of crude types = {0}\".format(num_oils))\n",
    "\n",
    "# global data\n",
    "production_cost = 4\n",
    "production_max = 14000\n",
    "# each $1 spent on advertising increases demand by 10.\n",
    "advert_return = 10"
   ]
  },
  {
   "cell_type": "markdown",
   "metadata": {},
   "source": [
    "#### Step 2: Model the data"
   ]
  },
  {
   "cell_type": "code",
   "execution_count": 31,
   "metadata": {},
   "outputs": [],
   "source": [
    "# Concatenating the data\n",
    "df_gas = pd.concat([gas_names, gas_data], axis=1)\n",
    "df_oil = pd.concat([oil_names, oil_data], axis=1)\n",
    "\n",
    "# Define the columns\n",
    "\n",
    "df_gas.columns = ['name','demand','price','octane','lead']\n",
    "df_oil.columns = ['name','capacity','price','octane','lead']"
   ]
  },
  {
   "cell_type": "code",
   "execution_count": 32,
   "metadata": {},
   "outputs": [
    {
     "data": {
      "text/html": [
       "<div>\n",
       "<style scoped>\n",
       "    .dataframe tbody tr th:only-of-type {\n",
       "        vertical-align: middle;\n",
       "    }\n",
       "\n",
       "    .dataframe tbody tr th {\n",
       "        vertical-align: top;\n",
       "    }\n",
       "\n",
       "    .dataframe thead th {\n",
       "        text-align: right;\n",
       "    }\n",
       "</style>\n",
       "<table border=\"1\" class=\"dataframe\">\n",
       "  <thead>\n",
       "    <tr style=\"text-align: right;\">\n",
       "      <th></th>\n",
       "      <th>name</th>\n",
       "      <th>demand</th>\n",
       "      <th>price</th>\n",
       "      <th>octane</th>\n",
       "      <th>lead</th>\n",
       "    </tr>\n",
       "  </thead>\n",
       "  <tbody>\n",
       "    <tr>\n",
       "      <th>0</th>\n",
       "      <td>super</td>\n",
       "      <td>3000</td>\n",
       "      <td>70</td>\n",
       "      <td>10</td>\n",
       "      <td>1</td>\n",
       "    </tr>\n",
       "    <tr>\n",
       "      <th>1</th>\n",
       "      <td>regular</td>\n",
       "      <td>2000</td>\n",
       "      <td>60</td>\n",
       "      <td>8</td>\n",
       "      <td>2</td>\n",
       "    </tr>\n",
       "    <tr>\n",
       "      <th>2</th>\n",
       "      <td>diesel</td>\n",
       "      <td>1000</td>\n",
       "      <td>50</td>\n",
       "      <td>6</td>\n",
       "      <td>1</td>\n",
       "    </tr>\n",
       "  </tbody>\n",
       "</table>\n",
       "</div>"
      ],
      "text/plain": [
       "      name  demand  price  octane  lead\n",
       "0    super    3000     70      10     1\n",
       "1  regular    2000     60       8     2\n",
       "2   diesel    1000     50       6     1"
      ]
     },
     "execution_count": 32,
     "metadata": {},
     "output_type": "execute_result"
    }
   ],
   "source": [
    "df_gas"
   ]
  },
  {
   "cell_type": "code",
   "execution_count": 33,
   "metadata": {},
   "outputs": [
    {
     "data": {
      "text/html": [
       "<div>\n",
       "<style scoped>\n",
       "    .dataframe tbody tr th:only-of-type {\n",
       "        vertical-align: middle;\n",
       "    }\n",
       "\n",
       "    .dataframe tbody tr th {\n",
       "        vertical-align: top;\n",
       "    }\n",
       "\n",
       "    .dataframe thead th {\n",
       "        text-align: right;\n",
       "    }\n",
       "</style>\n",
       "<table border=\"1\" class=\"dataframe\">\n",
       "  <thead>\n",
       "    <tr style=\"text-align: right;\">\n",
       "      <th></th>\n",
       "      <th>name</th>\n",
       "      <th>capacity</th>\n",
       "      <th>price</th>\n",
       "      <th>octane</th>\n",
       "      <th>lead</th>\n",
       "    </tr>\n",
       "  </thead>\n",
       "  <tbody>\n",
       "    <tr>\n",
       "      <th>0</th>\n",
       "      <td>crude1</td>\n",
       "      <td>5000</td>\n",
       "      <td>45</td>\n",
       "      <td>12</td>\n",
       "      <td>0.5</td>\n",
       "    </tr>\n",
       "    <tr>\n",
       "      <th>1</th>\n",
       "      <td>crude2</td>\n",
       "      <td>5000</td>\n",
       "      <td>35</td>\n",
       "      <td>6</td>\n",
       "      <td>2.0</td>\n",
       "    </tr>\n",
       "    <tr>\n",
       "      <th>2</th>\n",
       "      <td>crude3</td>\n",
       "      <td>5000</td>\n",
       "      <td>25</td>\n",
       "      <td>8</td>\n",
       "      <td>3.0</td>\n",
       "    </tr>\n",
       "  </tbody>\n",
       "</table>\n",
       "</div>"
      ],
      "text/plain": [
       "     name  capacity  price  octane  lead\n",
       "0  crude1      5000     45      12   0.5\n",
       "1  crude2      5000     35       6   2.0\n",
       "2  crude3      5000     25       8   3.0"
      ]
     },
     "execution_count": 33,
     "metadata": {},
     "output_type": "execute_result"
    }
   ],
   "source": [
    "df_oil"
   ]
  },
  {
   "cell_type": "markdown",
   "metadata": {},
   "source": [
    "Use basic HTML and a stylesheet to format the data."
   ]
  },
  {
   "cell_type": "code",
   "execution_count": 34,
   "metadata": {},
   "outputs": [
    {
     "data": {
      "text/html": [
       "<style>\n",
       "body {\n",
       "    margin: 0;\n",
       "    font-family: Helvetica;\n",
       "}\n",
       "table.dataframe {\n",
       "    border-collapse: collapse;\n",
       "    border: none;\n",
       "}\n",
       "table.dataframe tr {\n",
       "    border: none;\n",
       "}\n",
       "table.dataframe td, table.dataframe th {\n",
       "    margin: 0;\n",
       "    border: 1px solid white;\n",
       "    padding-left: 0.25em;\n",
       "    padding-right: 0.25em;\n",
       "}\n",
       "table.dataframe th:not(:empty) {\n",
       "    background-color: #fec;\n",
       "    text-align: left;\n",
       "    font-weight: normal;\n",
       "}\n",
       "table.dataframe tr:nth-child(2) th:empty {\n",
       "    border-left: none;\n",
       "    border-right: 1px dashed #888;\n",
       "}\n",
       "table.dataframe td {\n",
       "    border: 2px solid #ccf;\n",
       "    background-color: #f4f4ff;\n",
       "}\n",
       "    table.dataframe thead th:first-child {\n",
       "        display: none;\n",
       "    }\n",
       "    table.dataframe tbody th {\n",
       "        display: none;\n",
       "    }\n",
       "</style>"
      ],
      "text/plain": [
       "<IPython.core.display.HTML object>"
      ]
     },
     "execution_count": 34,
     "metadata": {},
     "output_type": "execute_result"
    }
   ],
   "source": [
    "CSS = \"\"\"\n",
    "body {\n",
    "    margin: 0;\n",
    "    font-family: Helvetica;\n",
    "}\n",
    "table.dataframe {\n",
    "    border-collapse: collapse;\n",
    "    border: none;\n",
    "}\n",
    "table.dataframe tr {\n",
    "    border: none;\n",
    "}\n",
    "table.dataframe td, table.dataframe th {\n",
    "    margin: 0;\n",
    "    border: 1px solid white;\n",
    "    padding-left: 0.25em;\n",
    "    padding-right: 0.25em;\n",
    "}\n",
    "table.dataframe th:not(:empty) {\n",
    "    background-color: #fec;\n",
    "    text-align: left;\n",
    "    font-weight: normal;\n",
    "}\n",
    "table.dataframe tr:nth-child(2) th:empty {\n",
    "    border-left: none;\n",
    "    border-right: 1px dashed #888;\n",
    "}\n",
    "table.dataframe td {\n",
    "    border: 2px solid #ccf;\n",
    "    background-color: #f4f4ff;\n",
    "}\n",
    "    table.dataframe thead th:first-child {\n",
    "        display: none;\n",
    "    }\n",
    "    table.dataframe tbody th {\n",
    "        display: none;\n",
    "    }\n",
    "\"\"\"\n",
    "\n",
    "from IPython.core.display import HTML\n",
    "HTML('<style>{}</style>'.format(CSS))"
   ]
  },
  {
   "cell_type": "markdown",
   "metadata": {},
   "source": [
    "Now display the data that you have just prepared"
   ]
  },
  {
   "cell_type": "code",
   "execution_count": 35,
   "metadata": {},
   "outputs": [
    {
     "name": "stdout",
     "output_type": "stream",
     "text": [
      "Gas data:\n"
     ]
    },
    {
     "data": {
      "text/html": [
       "<div>\n",
       "<style scoped>\n",
       "    .dataframe tbody tr th:only-of-type {\n",
       "        vertical-align: middle;\n",
       "    }\n",
       "\n",
       "    .dataframe tbody tr th {\n",
       "        vertical-align: top;\n",
       "    }\n",
       "\n",
       "    .dataframe thead th {\n",
       "        text-align: right;\n",
       "    }\n",
       "</style>\n",
       "<table border=\"1\" class=\"dataframe\">\n",
       "  <thead>\n",
       "    <tr style=\"text-align: right;\">\n",
       "      <th></th>\n",
       "      <th>name</th>\n",
       "      <th>demand</th>\n",
       "      <th>price</th>\n",
       "      <th>octane</th>\n",
       "      <th>lead</th>\n",
       "    </tr>\n",
       "  </thead>\n",
       "  <tbody>\n",
       "    <tr>\n",
       "      <th>0</th>\n",
       "      <td>super</td>\n",
       "      <td>3000</td>\n",
       "      <td>70</td>\n",
       "      <td>10</td>\n",
       "      <td>1</td>\n",
       "    </tr>\n",
       "    <tr>\n",
       "      <th>1</th>\n",
       "      <td>regular</td>\n",
       "      <td>2000</td>\n",
       "      <td>60</td>\n",
       "      <td>8</td>\n",
       "      <td>2</td>\n",
       "    </tr>\n",
       "    <tr>\n",
       "      <th>2</th>\n",
       "      <td>diesel</td>\n",
       "      <td>1000</td>\n",
       "      <td>50</td>\n",
       "      <td>6</td>\n",
       "      <td>1</td>\n",
       "    </tr>\n",
       "  </tbody>\n",
       "</table>\n",
       "</div>"
      ],
      "text/plain": [
       "      name  demand  price  octane  lead\n",
       "0    super    3000     70      10     1\n",
       "1  regular    2000     60       8     2\n",
       "2   diesel    1000     50       6     1"
      ]
     },
     "metadata": {},
     "output_type": "display_data"
    },
    {
     "name": "stdout",
     "output_type": "stream",
     "text": [
      "Oil data:\n"
     ]
    },
    {
     "data": {
      "text/html": [
       "<div>\n",
       "<style scoped>\n",
       "    .dataframe tbody tr th:only-of-type {\n",
       "        vertical-align: middle;\n",
       "    }\n",
       "\n",
       "    .dataframe tbody tr th {\n",
       "        vertical-align: top;\n",
       "    }\n",
       "\n",
       "    .dataframe thead th {\n",
       "        text-align: right;\n",
       "    }\n",
       "</style>\n",
       "<table border=\"1\" class=\"dataframe\">\n",
       "  <thead>\n",
       "    <tr style=\"text-align: right;\">\n",
       "      <th></th>\n",
       "      <th>name</th>\n",
       "      <th>capacity</th>\n",
       "      <th>price</th>\n",
       "      <th>octane</th>\n",
       "      <th>lead</th>\n",
       "    </tr>\n",
       "  </thead>\n",
       "  <tbody>\n",
       "    <tr>\n",
       "      <th>0</th>\n",
       "      <td>crude1</td>\n",
       "      <td>5000</td>\n",
       "      <td>45</td>\n",
       "      <td>12</td>\n",
       "      <td>0.5</td>\n",
       "    </tr>\n",
       "    <tr>\n",
       "      <th>1</th>\n",
       "      <td>crude2</td>\n",
       "      <td>5000</td>\n",
       "      <td>35</td>\n",
       "      <td>6</td>\n",
       "      <td>2.0</td>\n",
       "    </tr>\n",
       "    <tr>\n",
       "      <th>2</th>\n",
       "      <td>crude3</td>\n",
       "      <td>5000</td>\n",
       "      <td>25</td>\n",
       "      <td>8</td>\n",
       "      <td>3.0</td>\n",
       "    </tr>\n",
       "  </tbody>\n",
       "</table>\n",
       "</div>"
      ],
      "text/plain": [
       "     name  capacity  price  octane  lead\n",
       "0  crude1      5000     45      12   0.5\n",
       "1  crude2      5000     35       6   2.0\n",
       "2  crude3      5000     25       8   3.0"
      ]
     },
     "metadata": {},
     "output_type": "display_data"
    }
   ],
   "source": [
    "from IPython.display import display\n",
    "print(\"Gas data:\")\n",
    "display(df_gas)\n",
    "print(\"Oil data:\")\n",
    "display(df_oil)"
   ]
  },
  {
   "cell_type": "markdown",
   "metadata": {},
   "source": [
    "#### Step 4: Set up the prescriptive model\n",
    "\n",
    "##### Create the DOcplex model"
   ]
  },
  {
   "cell_type": "code",
   "execution_count": 36,
   "metadata": {},
   "outputs": [],
   "source": [
    "from docplex.mp.model import Model\n",
    "\n",
    "mdl = Model(name=\"oil_blending\")"
   ]
  },
  {
   "cell_type": "markdown",
   "metadata": {},
   "source": [
    "##### Define the decision variables\n",
    "For each combination of oil and gas, you must decide the quantity of oil to use to produce a gasoline. A decision variable is needed to represent that amount. A matrix of continuous variables, indexed by the set of oils and the set of gasolines is thus created."
   ]
  },
  {
   "cell_type": "code",
   "execution_count": 37,
   "metadata": {},
   "outputs": [],
   "source": [
    "blends = mdl.continuous_var_matrix(keys1=num_oils, keys2=num_gas, lb=0)"
   ]
  },
  {
   "cell_type": "code",
   "execution_count": 38,
   "metadata": {},
   "outputs": [
    {
     "data": {
      "text/plain": [
       "{(0, 0): docplex.mp.Var(type=C),\n",
       " (0, 1): docplex.mp.Var(type=C),\n",
       " (0, 2): docplex.mp.Var(type=C),\n",
       " (1, 0): docplex.mp.Var(type=C),\n",
       " (1, 1): docplex.mp.Var(type=C),\n",
       " (1, 2): docplex.mp.Var(type=C),\n",
       " (2, 0): docplex.mp.Var(type=C),\n",
       " (2, 1): docplex.mp.Var(type=C),\n",
       " (2, 2): docplex.mp.Var(type=C)}"
      ]
     },
     "execution_count": 38,
     "metadata": {},
     "output_type": "execute_result"
    }
   ],
   "source": [
    "blends"
   ]
  },
  {
   "cell_type": "markdown",
   "metadata": {},
   "source": [
    "You also need to decide how much should be spent in advertising for each type of gasoline. To do so, you will create a list of continuous variables, indexed by the gasolines."
   ]
  },
  {
   "cell_type": "code",
   "execution_count": 39,
   "metadata": {},
   "outputs": [],
   "source": [
    "adverts = mdl.continuous_var_list(num_gas, lb=0)"
   ]
  },
  {
   "cell_type": "markdown",
   "metadata": {},
   "source": [
    "##### Express the business constraints\n",
    "The business constraints are the following:\n",
    "\n",
    "- The demand for each gasoline type must be satisfied. The total demand includes the initial demand as stored in the data, plus a variable demand caused by the advertising. This increase is assumed to be proportional to the advertising cost.\n",
    "\n",
    "- The capacity constraint on each oil type must also be satisfied.\n",
    "\n",
    "- For each gasoline type, the octane level must be above a minimum level, and the lead level must be below a maximum level.\n",
    "\n",
    "\n",
    "##### Demand\n",
    "- For each gasoline type, the total quantity of __gasoline__ produced must equal the raw demand plus the demand increase created by the advertising."
   ]
  },
  {
   "cell_type": "code",
   "execution_count": 40,
   "metadata": {},
   "outputs": [
    {
     "data": {
      "text/plain": [
       "[docplex.mp.LinearConstraint[](x1+x4+x7,EQ,10x10+3000),\n",
       " docplex.mp.LinearConstraint[](x2+x5+x8,EQ,10x11+2000),\n",
       " docplex.mp.LinearConstraint[](x3+x6+x9,EQ,10x12+1000)]"
      ]
     },
     "execution_count": 40,
     "metadata": {},
     "output_type": "execute_result"
    }
   ],
   "source": [
    "mdl.add_constraints(mdl.sum(blends[o, g] for o in range(num_oils)) == gas_data[0][g]+ advert_return * adverts[g]\n",
    "                   for g in range(num_gas))"
   ]
  },
  {
   "cell_type": "code",
   "execution_count": 41,
   "metadata": {},
   "outputs": [
    {
     "name": "stdout",
     "output_type": "stream",
     "text": [
      "Model: oil_blending\n",
      " - number of variables: 12\n",
      "   - binary=0, integer=0, continuous=12\n",
      " - number of constraints: 3\n",
      "   - linear=3\n",
      " - parameters: defaults\n",
      " - objective: none\n",
      " - problem type is: LP\n"
     ]
    }
   ],
   "source": [
    "mdl.print_information()"
   ]
  },
  {
   "cell_type": "markdown",
   "metadata": {},
   "source": [
    "##### Maximum capacity\n",
    "For each type of oil, the total quantity used in all types of gasolines must not exceed the maximum capacity for this oil."
   ]
  },
  {
   "cell_type": "code",
   "execution_count": 42,
   "metadata": {},
   "outputs": [
    {
     "data": {
      "text/plain": [
       "[docplex.mp.LinearConstraint[](x1+x4+x7,LE,5000),\n",
       " docplex.mp.LinearConstraint[](x2+x5+x8,LE,5000),\n",
       " docplex.mp.LinearConstraint[](x3+x6+x9,LE,5000)]"
      ]
     },
     "execution_count": 42,
     "metadata": {},
     "output_type": "execute_result"
    }
   ],
   "source": [
    "mdl.add_constraints(mdl.sum(blends[g, o] for g in range(num_gas)) <= oil_data[0][o] for o in range(num_oils))"
   ]
  },
  {
   "cell_type": "code",
   "execution_count": 43,
   "metadata": {},
   "outputs": [
    {
     "name": "stdout",
     "output_type": "stream",
     "text": [
      "Model: oil_blending\n",
      " - number of variables: 12\n",
      "   - binary=0, integer=0, continuous=12\n",
      " - number of constraints: 6\n",
      "   - linear=6\n",
      " - parameters: defaults\n",
      " - objective: none\n",
      " - problem type is: LP\n"
     ]
    }
   ],
   "source": [
    "mdl.print_information()"
   ]
  },
  {
   "cell_type": "markdown",
   "metadata": {},
   "source": [
    "##### Octane and Lead levels\n",
    "For each gasoline type, the octane level must be above a minimum level, and the lead level must be below a maximum level."
   ]
  },
  {
   "cell_type": "code",
   "execution_count": 46,
   "metadata": {},
   "outputs": [
    {
     "data": {
      "text/plain": [
       "(      0   1   2  3\n",
       " 0  3000  70  10  1\n",
       " 1  2000  60   8  2\n",
       " 2  1000  50   6  1,\n",
       "       0   1   2    3\n",
       " 0  5000  45  12  0.5\n",
       " 1  5000  35   6  2.0\n",
       " 2  5000  25   8  3.0)"
      ]
     },
     "execution_count": 46,
     "metadata": {},
     "output_type": "execute_result"
    }
   ],
   "source": [
    "gas_data, oil_data"
   ]
  },
  {
   "cell_type": "code",
   "execution_count": 47,
   "metadata": {},
   "outputs": [
    {
     "name": "stdout",
     "output_type": "stream",
     "text": [
      "Model: oil_blending\n",
      " - number of variables: 12\n",
      "   - binary=0, integer=0, continuous=12\n",
      " - number of constraints: 12\n",
      "   - linear=12\n",
      " - parameters: defaults\n",
      " - objective: none\n",
      " - problem type is: LP\n"
     ]
    }
   ],
   "source": [
    "# minimum octane level\n",
    "# octane is numpy array field #2\n",
    "mdl.add_constraints(mdl.sum(blends[o,g]*(oil_data[2][o] - gas_data[2][g]) for o in range(num_oils)) >= 0\n",
    "                   for g in range(num_gas))\n",
    "    \n",
    "# maximum lead  level\n",
    "# lead level is numpy array field #3 \n",
    "mdl.add_constraints(mdl.sum(blends[o,g]*(oil_data[3][o] - gas_data[3][g]) for o in range_oil) <= 0\n",
    "                   for g in range(num_gas))\n",
    "\n",
    "mdl.print_information()"
   ]
  },
  {
   "cell_type": "markdown",
   "metadata": {},
   "source": [
    "##### Maximum total production\n",
    "The total production must not exceed the maximum (here 14000)."
   ]
  },
  {
   "cell_type": "code",
   "execution_count": 48,
   "metadata": {},
   "outputs": [
    {
     "name": "stdout",
     "output_type": "stream",
     "text": [
      "Model: oil_blending\n",
      " - number of variables: 12\n",
      "   - binary=0, integer=0, continuous=12\n",
      " - number of constraints: 13\n",
      "   - linear=13\n",
      " - parameters: defaults\n",
      " - objective: none\n",
      " - problem type is: LP\n"
     ]
    }
   ],
   "source": [
    "# -- maximum global production\n",
    "mdl.add_constraint(mdl.sum(blends) <= production_max)\n",
    "\n",
    "mdl.print_information()"
   ]
  },
  {
   "cell_type": "markdown",
   "metadata": {},
   "source": [
    "##### Express the objective\n",
    "The objective or goal is to maximize profit, which is made from sales of the final products minus total costs. The costs consist of the purchase cost of the crude oils, production costs, and inventory costs.\n",
    "The model maximizes the net revenue, that is the revenue minus oil cost and production cost and advertising cost.\n",
    "To define business objective, you can define a few KPIs :\n",
    "- Total advertising cost\n",
    "- Total Oil cost\n",
    "- Total production cost\n",
    "- Total revenue"
   ]
  },
  {
   "cell_type": "code",
   "execution_count": 49,
   "metadata": {},
   "outputs": [],
   "source": [
    "# KPIs\n",
    "total_advert_cost = mdl.sum(adverts)\n",
    "mdl.add_kpi(total_advert_cost, \"Total advertising cost\")\n",
    "total_oil_cost = mdl.sum(blends[o,g] * oil_data[1][o] for o in range_oil for g in range_gas)\n",
    "mdl.add_kpi(total_oil_cost, \"Total Oil cost\")\n",
    "total_production_cost = production_cost * mdl.sum(blends)\n",
    "mdl.add_kpi(total_production_cost, \"Total production cost\")\n",
    "total_revenue = mdl.sum(blends[o,g] * gas_data[1][g] for g in range_gas for o in range_oil)\n",
    "mdl.add_kpi(total_revenue, \"Total revenue\")\n",
    "\n",
    "# finally the objective\n",
    "mdl.maximize(total_revenue - total_oil_cost - total_production_cost - total_advert_cost)"
   ]
  },
  {
   "cell_type": "code",
   "execution_count": 50,
   "metadata": {},
   "outputs": [
    {
     "name": "stdout",
     "output_type": "stream",
     "text": [
      "Model: oil_blending\n",
      " - number of variables: 12\n",
      "   - binary=0, integer=0, continuous=12\n",
      " - number of constraints: 13\n",
      "   - linear=13\n",
      " - parameters: defaults\n",
      " - objective: maximize\n",
      " - problem type is: LP\n"
     ]
    }
   ],
   "source": [
    "mdl.print_information()"
   ]
  },
  {
   "cell_type": "markdown",
   "metadata": {},
   "source": [
    "##### Solve with Decision Optimization\n",
    "Now display the objective and KPI values after the solve by calling the method report() on the model."
   ]
  },
  {
   "cell_type": "code",
   "execution_count": 51,
   "metadata": {},
   "outputs": [
    {
     "name": "stdout",
     "output_type": "stream",
     "text": [
      "* model oil_blending solved with objective = 259200.000\n",
      "*  KPI: Total advertising cost = 800.000\n",
      "*  KPI: Total Oil cost         = 534000.000\n",
      "*  KPI: Total production cost  = 56000.000\n",
      "*  KPI: Total revenue          = 850000.000\n"
     ]
    }
   ],
   "source": [
    "mdl.solve()\n",
    "mdl.report()"
   ]
  },
  {
   "cell_type": "markdown",
   "metadata": {},
   "source": [
    "##### Step 4: Investigate the solution and then run an example analysis\n",
    "Displaying the solution\n",
    "First, get the KPIs values and store them in a pandas DataFrame."
   ]
  },
  {
   "cell_type": "code",
   "execution_count": 52,
   "metadata": {},
   "outputs": [],
   "source": [
    "all_kpis = [(kp.name, kp.compute()) for kp in mdl.iter_kpis()]\n",
    "kpis_bd = pd.DataFrame(all_kpis, columns=['kpi', 'value'])"
   ]
  },
  {
   "cell_type": "code",
   "execution_count": 53,
   "metadata": {},
   "outputs": [
    {
     "data": {
      "text/html": [
       "<div>\n",
       "<style scoped>\n",
       "    .dataframe tbody tr th:only-of-type {\n",
       "        vertical-align: middle;\n",
       "    }\n",
       "\n",
       "    .dataframe tbody tr th {\n",
       "        vertical-align: top;\n",
       "    }\n",
       "\n",
       "    .dataframe thead th {\n",
       "        text-align: right;\n",
       "    }\n",
       "</style>\n",
       "<table border=\"1\" class=\"dataframe\">\n",
       "  <thead>\n",
       "    <tr style=\"text-align: right;\">\n",
       "      <th></th>\n",
       "      <th>kpi</th>\n",
       "      <th>value</th>\n",
       "    </tr>\n",
       "  </thead>\n",
       "  <tbody>\n",
       "    <tr>\n",
       "      <th>0</th>\n",
       "      <td>Total advertising cost</td>\n",
       "      <td>800.0</td>\n",
       "    </tr>\n",
       "    <tr>\n",
       "      <th>1</th>\n",
       "      <td>Total Oil cost</td>\n",
       "      <td>534000.0</td>\n",
       "    </tr>\n",
       "    <tr>\n",
       "      <th>2</th>\n",
       "      <td>Total production cost</td>\n",
       "      <td>56000.0</td>\n",
       "    </tr>\n",
       "    <tr>\n",
       "      <th>3</th>\n",
       "      <td>Total revenue</td>\n",
       "      <td>850000.0</td>\n",
       "    </tr>\n",
       "  </tbody>\n",
       "</table>\n",
       "</div>"
      ],
      "text/plain": [
       "                      kpi     value\n",
       "0  Total advertising cost     800.0\n",
       "1          Total Oil cost  534000.0\n",
       "2   Total production cost   56000.0\n",
       "3           Total revenue  850000.0"
      ]
     },
     "execution_count": 53,
     "metadata": {},
     "output_type": "execute_result"
    }
   ],
   "source": [
    "kpis_bd"
   ]
  },
  {
   "cell_type": "code",
   "execution_count": 63,
   "metadata": {},
   "outputs": [],
   "source": [
    "blend_values = [ [ blends[o,g].solution_value for g in range_gas] for o in range_oil]\n",
    "total_gas_prods = [sum(blend_values[o][g] for o in range_oil) for g in range_gas]\n",
    "\n",
    "prods = list(zip(gas_names, total_gas_prods))\n",
    "df_prods = pd.DataFrame(prods)"
   ]
  },
  {
   "cell_type": "code",
   "execution_count": 64,
   "metadata": {},
   "outputs": [
    {
     "data": {
      "text/plain": [
       "[5000.0, 5000.0, 4000.0]"
      ]
     },
     "execution_count": 64,
     "metadata": {},
     "output_type": "execute_result"
    }
   ],
   "source": [
    "total_gas_prods"
   ]
  },
  {
   "cell_type": "code",
   "execution_count": 74,
   "metadata": {},
   "outputs": [
    {
     "data": {
      "text/html": [
       "<div>\n",
       "<style scoped>\n",
       "    .dataframe tbody tr th:only-of-type {\n",
       "        vertical-align: middle;\n",
       "    }\n",
       "\n",
       "    .dataframe tbody tr th {\n",
       "        vertical-align: top;\n",
       "    }\n",
       "\n",
       "    .dataframe thead th {\n",
       "        text-align: right;\n",
       "    }\n",
       "</style>\n",
       "<table border=\"1\" class=\"dataframe\">\n",
       "  <thead>\n",
       "    <tr style=\"text-align: right;\">\n",
       "      <th></th>\n",
       "      <th>0</th>\n",
       "      <th>1</th>\n",
       "    </tr>\n",
       "  </thead>\n",
       "  <tbody>\n",
       "    <tr>\n",
       "      <th>0</th>\n",
       "      <td>super</td>\n",
       "      <td>5000.0</td>\n",
       "    </tr>\n",
       "    <tr>\n",
       "      <th>1</th>\n",
       "      <td>regular</td>\n",
       "      <td>5000.0</td>\n",
       "    </tr>\n",
       "    <tr>\n",
       "      <th>2</th>\n",
       "      <td>diesel</td>\n",
       "      <td>4000.0</td>\n",
       "    </tr>\n",
       "  </tbody>\n",
       "</table>\n",
       "</div>"
      ],
      "text/plain": [
       "         0       1\n",
       "0    super  5000.0\n",
       "1  regular  5000.0\n",
       "2   diesel  4000.0"
      ]
     },
     "execution_count": 74,
     "metadata": {},
     "output_type": "execute_result"
    }
   ],
   "source": [
    "df_prods"
   ]
  },
  {
   "cell_type": "code",
   "execution_count": 75,
   "metadata": {},
   "outputs": [
    {
     "data": {
      "text/plain": [
       "[('Total advertising cost', 800.0),\n",
       " ('Total Oil cost', 534000.0),\n",
       " ('Total production cost', 56000.0),\n",
       " ('Total revenue', 850000.0)]"
      ]
     },
     "execution_count": 75,
     "metadata": {},
     "output_type": "execute_result"
    }
   ],
   "source": [
    "all_kpis"
   ]
  },
  {
   "cell_type": "code",
   "execution_count": 76,
   "metadata": {},
   "outputs": [
    {
     "data": {
      "image/png": "[encoded data removed]",
      "text/plain": [
       "<Figure size 432x288 with 1 Axes>"
      ]
     },
     "metadata": {},
     "output_type": "display_data"
    }
   ],
   "source": [
    "%matplotlib inline\n",
    "import matplotlib.pyplot as plt\n",
    "def display_pie(pie_values, pie_labels, colors=None,title=''):\n",
    "    plt.axis(\"equal\")\n",
    "    plt.pie(pie_values, labels=pie_labels, colors=colors, autopct=\"%1.1f%%\")\n",
    "    plt.title(title)\n",
    "    plt.show()\n",
    "                                                           \n",
    "display_pie( [kpnv[1] for kpnv in all_kpis], [kpnv[0] for kpnv in all_kpis],title='KPIs: Revenue - Oil Cost - Production Cost')"
   ]
  },
  {
   "cell_type": "markdown",
   "metadata": {},
   "source": [
    "##### Production"
   ]
  },
  {
   "cell_type": "code",
   "execution_count": 77,
   "metadata": {},
   "outputs": [
    {
     "data": {
      "image/png": "[encoded data removed]",
      "text/plain": [
       "<Figure size 432x288 with 1 Axes>"
      ]
     },
     "metadata": {},
     "output_type": "display_data"
    }
   ],
   "source": [
    "display_pie(total_gas_prods, gas_names, colors=[\"green\", \"goldenrod\", \"lightGreen\"],title='Gasoline Total Production')"
   ]
  },
  {
   "cell_type": "code",
   "execution_count": null,
   "metadata": {},
   "outputs": [],
   "source": []
  }
 ],
 "metadata": {
  "kernelspec": {
   "display_name": "Python 3",
   "language": "python",
   "name": "python3"
  },
  "language_info": {
   "codemirror_mode": {
    "name": "ipython",
    "version": 3
   },
   "file_extension": ".py",
   "mimetype": "text/x-python",
   "name": "python",
   "nbconvert_exporter": "python",
   "pygments_lexer": "ipython3",
   "version": "3.7.6"
  }
 },
 "nbformat": 4,
 "nbformat_minor": 4
}
