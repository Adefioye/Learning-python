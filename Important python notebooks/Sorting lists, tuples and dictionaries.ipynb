{
 "cells": [
  {
   "cell_type": "code",
   "execution_count": 2,
   "metadata": {},
   "outputs": [],
   "source": [
    "# Difference between sorted and sort function\n",
    "\n",
    "# Sorted returns a sorted list and can be assigned to a new variable. It does not change the list in place. However, the \n",
    "# Sort function sort the list in place"
   ]
  },
  {
   "cell_type": "code",
   "execution_count": 3,
   "metadata": {},
   "outputs": [],
   "source": [
    "x = [1, 4,7,5,9,3,5,2,1,3,2,1]"
   ]
  },
  {
   "cell_type": "code",
   "execution_count": 4,
   "metadata": {},
   "outputs": [],
   "source": [
    "sorted_x = sorted(x)"
   ]
  },
  {
   "cell_type": "code",
   "execution_count": 8,
   "metadata": {},
   "outputs": [
    {
     "name": "stdout",
     "output_type": "stream",
     "text": [
      "Original x:\t [1, 4, 7, 5, 9, 3, 5, 2, 1, 3, 2, 1]\n",
      "Sorted x:\t [1, 1, 1, 2, 2, 3, 3, 4, 5, 5, 7, 9]\n"
     ]
    }
   ],
   "source": [
    "print('Original x:\\t', x)\n",
    "print('Sorted x:\\t', sorted_x)"
   ]
  },
  {
   "cell_type": "code",
   "execution_count": 14,
   "metadata": {},
   "outputs": [],
   "source": [
    "# However using sort() function, the list is changed inplace without a need to assign to another a variable\n",
    "\n",
    "x.sort()"
   ]
  },
  {
   "cell_type": "code",
   "execution_count": 16,
   "metadata": {},
   "outputs": [
    {
     "name": "stdout",
     "output_type": "stream",
     "text": [
      "Original x:\t [1, 1, 1, 2, 2, 3, 3, 4, 5, 5, 7, 9]\n"
     ]
    }
   ],
   "source": [
    "# Original variable now sorted inplace\n",
    "\n",
    "print('Original x:\\t', x)"
   ]
  },
  {
   "cell_type": "code",
   "execution_count": 17,
   "metadata": {},
   "outputs": [],
   "source": [
    "# To arrange in descending order\n",
    "\n",
    "desc_x = sorted(x, reverse = True)"
   ]
  },
  {
   "cell_type": "code",
   "execution_count": 18,
   "metadata": {},
   "outputs": [
    {
     "name": "stdout",
     "output_type": "stream",
     "text": [
      "Descending order of x:\t [9, 7, 5, 5, 4, 3, 3, 2, 2, 1, 1, 1]\n"
     ]
    }
   ],
   "source": [
    "print('Descending order of x:\\t', desc_x)"
   ]
  },
  {
   "cell_type": "code",
   "execution_count": 24,
   "metadata": {},
   "outputs": [],
   "source": [
    "# To sort list in ascending order of numbers without regards to the negative\n",
    "\n",
    "li = [-6,-4,5, 1,2,3]\n",
    "s_li = sorted(li, key=abs)"
   ]
  },
  {
   "cell_type": "code",
   "execution_count": 25,
   "metadata": {},
   "outputs": [
    {
     "name": "stdout",
     "output_type": "stream",
     "text": [
      "[1, 2, 3, -4, 5, -6]\n"
     ]
    }
   ],
   "source": [
    "print(s_li)"
   ]
  },
  {
   "cell_type": "code",
   "execution_count": 19,
   "metadata": {},
   "outputs": [],
   "source": [
    "# Sorted function on dictionaries\n",
    "\n",
    "details = {'Age': 27, 'Career goal': 'Data analysis', 'Occupation': 'Student' }"
   ]
  },
  {
   "cell_type": "code",
   "execution_count": 20,
   "metadata": {},
   "outputs": [],
   "source": [
    "sorted_details = sorted(details)"
   ]
  },
  {
   "cell_type": "code",
   "execution_count": 22,
   "metadata": {},
   "outputs": [
    {
     "name": "stdout",
     "output_type": "stream",
     "text": [
      "['Age', 'Career goal', 'Occupation']\n"
     ]
    }
   ],
   "source": [
    "# This returns the ascending order of the key values in the dictionary\n",
    "print(sorted_details)"
   ]
  },
  {
   "cell_type": "code",
   "execution_count": 26,
   "metadata": {},
   "outputs": [],
   "source": [
    "class Employee():\n",
    "    def __init__(self, name, age, salary):\n",
    "        self.name = name\n",
    "        self.age = age\n",
    "        self.salary = salary\n",
    "    def __repr__(self):\n",
    "        return f\"({self.name}, {self.age}, ${self.salary})\""
   ]
  },
  {
   "cell_type": "code",
   "execution_count": 32,
   "metadata": {},
   "outputs": [],
   "source": [
    "e1 = Employee('Carl', 37, 40000)\n",
    "e3 = Employee('Bill', 90, 100000)\n",
    "e2 = Employee('Fish', 25, 100000)"
   ]
  },
  {
   "cell_type": "code",
   "execution_count": 33,
   "metadata": {},
   "outputs": [],
   "source": [
    "employees = [e1, e2, e3]"
   ]
  },
  {
   "cell_type": "code",
   "execution_count": 37,
   "metadata": {},
   "outputs": [],
   "source": [
    "# define a custom function to sort on salary\n",
    "\n",
    "def e_sort(emp):\n",
    "    return emp.salary"
   ]
  },
  {
   "cell_type": "code",
   "execution_count": 38,
   "metadata": {},
   "outputs": [],
   "source": [
    "s_employees = sorted(employees, key=e_sort)"
   ]
  },
  {
   "cell_type": "code",
   "execution_count": 39,
   "metadata": {},
   "outputs": [
    {
     "data": {
      "text/plain": [
       "[(Carl, 37, $40000), (Fish, 25, $100000), (Bill, 90, $100000)]"
      ]
     },
     "execution_count": 39,
     "metadata": {},
     "output_type": "execute_result"
    }
   ],
   "source": [
    "# Employees sorted in salary\n",
    "s_employees"
   ]
  },
  {
   "cell_type": "code",
   "execution_count": 40,
   "metadata": {},
   "outputs": [],
   "source": [
    "# To sort in ascending order of age using lambda function\n",
    "\n",
    "s_employees = sorted(employees, key = lambda e: e.age)"
   ]
  },
  {
   "cell_type": "code",
   "execution_count": 41,
   "metadata": {},
   "outputs": [
    {
     "data": {
      "text/plain": [
       "[(Fish, 25, $100000), (Carl, 37, $40000), (Bill, 90, $100000)]"
      ]
     },
     "execution_count": 41,
     "metadata": {},
     "output_type": "execute_result"
    }
   ],
   "source": [
    "# Employees sorted on age\n",
    "\n",
    "s_employees"
   ]
  },
  {
   "cell_type": "code",
   "execution_count": 42,
   "metadata": {},
   "outputs": [],
   "source": [
    "# To sort on name using attrgetter\n",
    "\n",
    "from operator import attrgetter\n",
    "\n",
    "s_employees = sorted(employees, key = attrgetter('name'))"
   ]
  },
  {
   "cell_type": "code",
   "execution_count": 43,
   "metadata": {},
   "outputs": [
    {
     "data": {
      "text/plain": [
       "[(Bill, 90, $100000), (Carl, 37, $40000), (Fish, 25, $100000)]"
      ]
     },
     "execution_count": 43,
     "metadata": {},
     "output_type": "execute_result"
    }
   ],
   "source": [
    "# Employees sorted alphatically on name\n",
    "s_employees"
   ]
  },
  {
   "cell_type": "code",
   "execution_count": 2,
   "metadata": {},
   "outputs": [
    {
     "name": "stdout",
     "output_type": "stream",
     "text": [
      "3.58\n"
     ]
    }
   ],
   "source": [
    "x = [1, 4,7,5,9,3,5,2,1,3,2,1]\n",
    "average = sum(x)/ len(x)\n",
    "print('{:.2f}'.format(average))"
   ]
  },
  {
   "cell_type": "code",
   "execution_count": null,
   "metadata": {},
   "outputs": [],
   "source": []
  }
 ],
 "metadata": {
  "kernelspec": {
   "display_name": "Python 3",
   "language": "python",
   "name": "python3"
  },
  "language_info": {
   "codemirror_mode": {
    "name": "ipython",
    "version": 3
   },
   "file_extension": ".py",
   "mimetype": "text/x-python",
   "name": "python",
   "nbconvert_exporter": "python",
   "pygments_lexer": "ipython3",
   "version": "3.7.6"
  }
 },
 "nbformat": 4,
 "nbformat_minor": 4
}
