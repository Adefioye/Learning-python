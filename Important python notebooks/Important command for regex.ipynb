{
 "cells": [
  {
   "cell_type": "raw",
   "metadata": {},
   "source": [
    ".       - Any Character Except New Line\n",
    "\\d      - Digit (0-9)\n",
    "\\D      - Not a Digit (0-9)\n",
    "\\w      - Word Character (a-z, A-Z, 0-9, _)\n",
    "\\W      - Not a Word Character\n",
    "\\s      - Whitespace (space, tab, newline)\n",
    "\\S      - Not Whitespace (space, tab, newline)\n",
    "\\A      - matches character at the start of the string\n",
    "\\Z      - matches character at the end of the string\n",
    "\n"
   ]
  },
  {
   "cell_type": "raw",
   "metadata": {},
   "source": [
    "## Quantifiers:\n",
    "\n",
    "*       - 0 or More\n",
    "+       - 1 or More\n",
    "?       - 0 or One\n",
    "{3}     - Exact Number\n",
    "{3,4}   - Range of Numbers (Minimum, Maximum)"
   ]
  },
  {
   "cell_type": "raw",
   "metadata": {},
   "source": [
    "# Anchors\n",
    "\n",
    "\\b      - Word Boundary\n",
    "\\B      - Not a Word Boundary\n",
    "^       - Beginning of a String\n",
    "$       - End of a String\n",
    "\n",
    "[]      - Matches Characters in brackets\n",
    "[^ ]    - Matches Characters NOT in brackets\n",
    "|       - Either Or\n",
    "( )     - Group"
   ]
  },
  {
   "cell_type": "raw",
   "metadata": {},
   "source": [
    "\n",
    "#### Sample Regexs ####\n",
    "\n",
    "[a-zA-Z0-9_.+-]+@[a-zA-Z0-9-]+\\.[a-zA-Z0-9-.]+"
   ]
  },
  {
   "cell_type": "raw",
   "metadata": {},
   "source": [
    "-- Special characters like *, +, ?, (, ),  can be matched literally using backslash(\\) and or when placed in a set []"
   ]
  },
  {
   "cell_type": "raw",
   "metadata": {},
   "source": [
    "[^ ]  : ^ in set allow for the matching of all other items apart from the ones in the set. [^^]-- this matches all other iems but caret (^). Note ^ has nonspecial meaning in the set if it doesnt start from the beginning of the set"
   ]
  },
  {
   "cell_type": "raw",
   "metadata": {},
   "source": [
    "\\b - this is a boundary btw \\w and \\W; boundary between \\w and the beginning and and end of string\n",
    "\\B - essentially is a boundary btw \\w and \\w"
   ]
  },
  {
   "cell_type": "raw",
   "metadata": {},
   "source": [
    "re.search  - returns the first match for the pattern in the string. otherwise returns none\n",
    "\n",
    "the match object for re.search has match.start and match.end method for getting the index of the matched group object in the string"
   ]
  },
  {
   "cell_type": "raw",
   "metadata": {},
   "source": [
    "re.match   - returns the match if pattern matches at the start of the string. otherwise returns none"
   ]
  },
  {
   "cell_type": "raw",
   "metadata": {},
   "source": [
    "re.fullmatch - returns object if pattern fully matches the string"
   ]
  },
  {
   "cell_type": "raw",
   "metadata": {},
   "source": [
    "re.split  - returns a list of object after separating the string by the pattern"
   ]
  },
  {
   "cell_type": "raw",
   "metadata": {},
   "source": [
    "re.findall - returns all non-overlapping matches, in the form of a list with search operation from left to right. It can also \n",
    "match empty string"
   ]
  },
  {
   "cell_type": "raw",
   "metadata": {},
   "source": [
    "re.finditer  - just similer to re.findall in terms of overall search operation. However, it returns an iterator \n",
    "rather than an iterable "
   ]
  },
  {
   "cell_type": "raw",
   "metadata": {},
   "source": [
    "re.sub(pattern, repl, string, count=0, flags=0) - this finds the pattern in the string and then replaces it with the 'repl'\n",
    "keyword argument"
   ]
  },
  {
   "cell_type": "raw",
   "metadata": {},
   "source": [
    "re.subn   - Similar to re.sub only that it returns a tuple with (new_string, num_of_sub)"
   ]
  },
  {
   "cell_type": "raw",
   "metadata": {},
   "source": [
    "re.groups()  - This returns a tuple of the subgroups in the string"
   ]
  },
  {
   "cell_type": "raw",
   "metadata": {},
   "source": [
    "re.group() -- This returns the new string after having matched the pattern to the string"
   ]
  },
  {
   "cell_type": "raw",
   "metadata": {},
   "source": [
    "re.groupdict()"
   ]
  },
  {
   "cell_type": "markdown",
   "metadata": {},
   "source": [
    "syntax for Namedgroups -- (?P<name>pattern)"
   ]
  },
  {
   "cell_type": "raw",
   "metadata": {},
   "source": [
    "syntax not nto just the group in the pattern(still needs more understanding): (?:pattern)"
   ]
  },
  {
   "cell_type": "markdown",
   "metadata": {},
   "source": [
    "To reference a named group in the re.sub operation: \\g<name_of_group> should be used"
   ]
  },
  {
   "cell_type": "raw",
   "metadata": {},
   "source": [
    "To reference a named group in pattern: (?P=name_of_group)"
   ]
  },
  {
   "cell_type": "raw",
   "metadata": {},
   "source": [
    "To reference it in a MatchObject: match.group('name_of_group')"
   ]
  },
  {
   "cell_type": "raw",
   "metadata": {},
   "source": [
    "Atomic groups: They're a special case of non-capturing groups; it disables backtracking to improve performance and processing time, once search fails upon first pattern matching on the whole string. "
   ]
  },
  {
   "cell_type": "raw",
   "metadata": {},
   "source": [
    "Atomic group is supported by regex module and not re module: pattern syntax is (?>pattern)"
   ]
  },
  {
   "cell_type": "raw",
   "metadata": {},
   "source": [
    "Flags per group syntax: (?iLmsux)"
   ]
  },
  {
   "cell_type": "raw",
   "metadata": {},
   "source": [
    "positive look ahead (?= pattern): Matches, if pattern match with the forthcoming input. For the re module, only fixed width characters are accepted for look behind operations. However, regex module compensates nicely for this"
   ]
  },
  {
   "cell_type": "raw",
   "metadata": {},
   "source": [
    "postive look behind (?<= pattern): Matches, if pattern match with the previous input "
   ]
  },
  {
   "cell_type": "raw",
   "metadata": {},
   "source": [
    "negative look ahead (?! pattern): Matches, if pattern does not match the forthcoming input"
   ]
  },
  {
   "cell_type": "raw",
   "metadata": {},
   "source": [
    "negative look behind (?<! pattern): Matches, if pattern does not match the previous input"
   ]
  },
  {
   "cell_type": "raw",
   "metadata": {},
   "source": []
  },
  {
   "cell_type": "code",
   "execution_count": null,
   "metadata": {},
   "outputs": [],
   "source": []
  }
 ],
 "metadata": {
  "kernelspec": {
   "display_name": "Python 3",
   "language": "python",
   "name": "python3"
  },
  "language_info": {
   "codemirror_mode": {
    "name": "ipython",
    "version": 3
   },
   "file_extension": ".py",
   "mimetype": "text/x-python",
   "name": "python",
   "nbconvert_exporter": "python",
   "pygments_lexer": "ipython3",
   "version": "3.7.6"
  }
 },
 "nbformat": 4,
 "nbformat_minor": 4
}
