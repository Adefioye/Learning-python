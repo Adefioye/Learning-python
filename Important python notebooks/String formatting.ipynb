{
 "cells": [
  {
   "cell_type": "code",
   "execution_count": 9,
   "metadata": {},
   "outputs": [],
   "source": [
    "person = {'name': 'Shola', 'age': 29}"
   ]
  },
  {
   "cell_type": "code",
   "execution_count": 12,
   "metadata": {},
   "outputs": [
    {
     "name": "stdout",
     "output_type": "stream",
     "text": [
      "My name is Shola and I am 29years old!\n"
     ]
    }
   ],
   "source": [
    "# Using F-string\n",
    "sentence1 = f\"My name is {person['name']} and I am {person['age']}years old!\"\n",
    "print(sentence1)"
   ]
  },
  {
   "cell_type": "code",
   "execution_count": 13,
   "metadata": {},
   "outputs": [
    {
     "name": "stdout",
     "output_type": "stream",
     "text": [
      "My name is Shola and I am 29years old!\n"
     ]
    }
   ],
   "source": [
    "# USing format method\n",
    "sentence2 = \"My name is {} and I am {}years old!\".format(person['name'], person['age'])\n",
    "print(sentence2)"
   ]
  },
  {
   "cell_type": "code",
   "execution_count": 16,
   "metadata": {},
   "outputs": [
    {
     "name": "stdout",
     "output_type": "stream",
     "text": [
      "<hi>This is a headline</hi>\n"
     ]
    }
   ],
   "source": [
    "tag = 'hi'\n",
    "text = 'This is a headline'\n",
    "sentence = '<{0}>{1}</{0}>'.format(tag, text) # USing index to fill up the placeholders\n",
    "print(sentence)"
   ]
  },
  {
   "cell_type": "code",
   "execution_count": 18,
   "metadata": {},
   "outputs": [
    {
     "name": "stdout",
     "output_type": "stream",
     "text": [
      "My name is Shola and I am 29years old!\n"
     ]
    }
   ],
   "source": [
    " # Using index to pass in the dictionary variable\n",
    "\n",
    "sentence = \"My name is {0[name]} and I am {0[age]}years old!\".format(person)\n",
    "print(sentence)"
   ]
  },
  {
   "cell_type": "code",
   "execution_count": 19,
   "metadata": {},
   "outputs": [
    {
     "name": "stdout",
     "output_type": "stream",
     "text": [
      "My name is Shola and I am 29years old!\n"
     ]
    }
   ],
   "source": [
    "# Passing a list to the format string\n",
    "\n",
    "li = ['Shola', 29]\n",
    "\n",
    "sentence = \"My name is {0[0]} and I am {0[1]}years old!\".format(li)\n",
    "print(sentence)"
   ]
  },
  {
   "cell_type": "code",
   "execution_count": 20,
   "metadata": {},
   "outputs": [],
   "source": [
    " class person():\n",
    "        \n",
    "        def __init__(self, age, name):\n",
    "            self.age = age\n",
    "            self.name = name"
   ]
  },
  {
   "cell_type": "code",
   "execution_count": 21,
   "metadata": {},
   "outputs": [
    {
     "name": "stdout",
     "output_type": "stream",
     "text": [
      "My name is Daniel and I am 31years old!\n"
     ]
    }
   ],
   "source": [
    "p1 = person(31, 'Daniel')\n",
    "sentence = \"My name is {0.name} and I am {0.age}years old!\".format(p1)\n",
    "print(sentence)"
   ]
  },
  {
   "cell_type": "code",
   "execution_count": 23,
   "metadata": {},
   "outputs": [],
   "source": [
    "person = {'name': 'Shola', 'age': 29}"
   ]
  },
  {
   "cell_type": "code",
   "execution_count": 24,
   "metadata": {},
   "outputs": [
    {
     "name": "stdout",
     "output_type": "stream",
     "text": [
      "My name is Shola and I am 29years old!\n"
     ]
    }
   ],
   "source": [
    "# Unpacking dictionaries  using format method\n",
    "\n",
    "sentence = \"My name is {name} and I am {age}years old!\".format(**person)\n",
    "print(sentence)"
   ]
  },
  {
   "cell_type": "code",
   "execution_count": 26,
   "metadata": {},
   "outputs": [
    {
     "name": "stdout",
     "output_type": "stream",
     "text": [
      "The value is 1\n",
      "The value is 2\n",
      "The value is 3\n",
      "The value is 4\n",
      "The value is 5\n",
      "The value is 6\n",
      "The value is 7\n",
      "The value is 8\n",
      "The value is 9\n",
      "The value is 10\n"
     ]
    }
   ],
   "source": [
    "for i in range(1, 11):\n",
    "    sentence = 'The value is {}'.format(i)\n",
    "    print(sentence)"
   ]
  },
  {
   "cell_type": "code",
   "execution_count": 28,
   "metadata": {},
   "outputs": [
    {
     "name": "stdout",
     "output_type": "stream",
     "text": [
      "The value is 01\n",
      "The value is 02\n",
      "The value is 03\n",
      "The value is 04\n",
      "The value is 05\n",
      "The value is 06\n",
      "The value is 07\n",
      "The value is 08\n",
      "The value is 09\n",
      "The value is 10\n"
     ]
    }
   ],
   "source": [
    "# To zeropad single digits\n",
    "\n",
    "for i in range(1, 11):\n",
    "    if len(str(i)) == 1:\n",
    "        sentence = 'The value is 0{}'.format(i)\n",
    "        print(sentence)\n",
    "    else:\n",
    "        sentence = 'The value is {}'.format(i)\n",
    "        print(sentence)"
   ]
  },
  {
   "cell_type": "code",
   "execution_count": 29,
   "metadata": {},
   "outputs": [
    {
     "name": "stdout",
     "output_type": "stream",
     "text": [
      "The value is 01\n",
      "The value is 02\n",
      "The value is 03\n",
      "The value is 04\n",
      "The value is 05\n",
      "The value is 06\n",
      "The value is 07\n",
      "The value is 08\n",
      "The value is 09\n",
      "The value is 10\n"
     ]
    }
   ],
   "source": [
    "# Instead of using if-else statement, the below method can be used\n",
    "\n",
    "for i in range(1, 11):\n",
    "    sentence = 'The value is {:02}'.format(i) # Zeropadding until it is 2 digit\n",
    "    print(sentence)"
   ]
  },
  {
   "cell_type": "code",
   "execution_count": 31,
   "metadata": {},
   "outputs": [],
   "source": [
    "pi = 3.14159265"
   ]
  },
  {
   "cell_type": "code",
   "execution_count": 32,
   "metadata": {},
   "outputs": [
    {
     "name": "stdout",
     "output_type": "stream",
     "text": [
      "Pi is equal to 3.142\n"
     ]
    }
   ],
   "source": [
    "# Formatting pi to to 3 decimal place\n",
    "\n",
    "sentence = 'Pi is equal to {:.3f}'.format(pi)\n",
    "print(sentence)"
   ]
  },
  {
   "cell_type": "code",
   "execution_count": 33,
   "metadata": {},
   "outputs": [
    {
     "name": "stdout",
     "output_type": "stream",
     "text": [
      "1MB is equal to 1,000,000bytes\n"
     ]
    }
   ],
   "source": [
    "# To get comma-separated values for large number\n",
    "\n",
    "sentence = '1MB is equal to {:,}bytes'.format(1000**2)\n",
    "print(sentence)"
   ]
  },
  {
   "cell_type": "code",
   "execution_count": 34,
   "metadata": {},
   "outputs": [
    {
     "name": "stdout",
     "output_type": "stream",
     "text": [
      "1MB is equal to 1,000,000.00bytes\n"
     ]
    }
   ],
   "source": [
    "# To get comma-separated values for large number and 2 decimal place\n",
    "\n",
    "sentence = '1MB is equal to {:,.2f}bytes'.format(1000**2)\n",
    "print(sentence)"
   ]
  },
  {
   "cell_type": "code",
   "execution_count": 37,
   "metadata": {},
   "outputs": [
    {
     "name": "stdout",
     "output_type": "stream",
     "text": [
      "2016-09-24 12:30:45\n"
     ]
    }
   ],
   "source": [
    "import datetime\n",
    "\n",
    "my_date = datetime.datetime(2016, 9, 24, 12, 30, 45)\n",
    "print(my_date)"
   ]
  },
  {
   "cell_type": "code",
   "execution_count": 40,
   "metadata": {},
   "outputs": [
    {
     "name": "stdout",
     "output_type": "stream",
     "text": [
      "September 24, 2016\n"
     ]
    }
   ],
   "source": [
    "# To get full month, day and year\n",
    "\n",
    "sentence = '{:%B %d, %Y}'.format(my_date)\n",
    "print(sentence)"
   ]
  },
  {
   "cell_type": "code",
   "execution_count": 46,
   "metadata": {},
   "outputs": [
    {
     "name": "stdout",
     "output_type": "stream",
     "text": [
      "September 24, 2016 fell on a Saturday on the 268day of the year\n"
     ]
    }
   ],
   "source": [
    "# To get full month, day and year with some description\n",
    "sentence = '{0:%B %d, %Y} fell on a {0:%A} on the {0:%j}day of the year'.format(my_date)\n",
    "print(sentence)"
   ]
  },
  {
   "cell_type": "code",
   "execution_count": null,
   "metadata": {},
   "outputs": [],
   "source": []
  }
 ],
 "metadata": {
  "kernelspec": {
   "display_name": "Python 3",
   "language": "python",
   "name": "python3"
  },
  "language_info": {
   "codemirror_mode": {
    "name": "ipython",
    "version": 3
   },
   "file_extension": ".py",
   "mimetype": "text/x-python",
   "name": "python",
   "nbconvert_exporter": "python",
   "pygments_lexer": "ipython3",
   "version": "3.7.6"
  }
 },
 "nbformat": 4,
 "nbformat_minor": 4
}
