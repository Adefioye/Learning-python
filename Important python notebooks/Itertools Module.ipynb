{
 "cells": [
  {
   "cell_type": "markdown",
   "metadata": {},
   "source": [
    "Itertools contains a number of ommonly used iterators and functions used for combining several iterators"
   ]
  },
  {
   "cell_type": "code",
   "execution_count": 3,
   "metadata": {},
   "outputs": [],
   "source": [
    "import itertools"
   ]
  },
  {
   "cell_type": "markdown",
   "metadata": {},
   "source": [
    "- Count function"
   ]
  },
  {
   "cell_type": "code",
   "execution_count": 2,
   "metadata": {},
   "outputs": [],
   "source": [
    "counter = itertools.count() # This returns an iterator that counts to infinity with a step of 1"
   ]
  },
  {
   "cell_type": "code",
   "execution_count": 3,
   "metadata": {},
   "outputs": [
    {
     "name": "stdout",
     "output_type": "stream",
     "text": [
      "0\n",
      "1\n",
      "2\n",
      "3\n"
     ]
    }
   ],
   "source": [
    "print(next(counter))\n",
    "print(next(counter))\n",
    "print(next(counter))\n",
    "print(next(counter)) # This will continue for ever"
   ]
  },
  {
   "cell_type": "code",
   "execution_count": 6,
   "metadata": {},
   "outputs": [
    {
     "name": "stdout",
     "output_type": "stream",
     "text": [
      "[(0, 100), (1, 200), (2, 300), (3, 400)]\n"
     ]
    }
   ],
   "source": [
    "# Lets say we wanna graph the daily data below. that is, the data and the day the data was recorded\n",
    "\n",
    "data = [100, 200, 300, 400]\n",
    "\n",
    "daily_data = list(zip(itertools.count(), data))\n",
    "print(daily_data)"
   ]
  },
  {
   "cell_type": "code",
   "execution_count": 7,
   "metadata": {},
   "outputs": [
    {
     "name": "stdout",
     "output_type": "stream",
     "text": [
      "5\n",
      "6\n",
      "7\n",
      "8\n"
     ]
    }
   ],
   "source": [
    "# We can also pass some keyword args to the count() method. e.g start and step\n",
    "\n",
    "counter = itertools.count(start = 5)\n",
    "print(next(counter))\n",
    "print(next(counter))\n",
    "print(next(counter))\n",
    "print(next(counter)) # This starts from 5 and continue forward with step 1"
   ]
  },
  {
   "cell_type": "code",
   "execution_count": 8,
   "metadata": {},
   "outputs": [
    {
     "name": "stdout",
     "output_type": "stream",
     "text": [
      "5\n",
      "10\n",
      "15\n",
      "20\n"
     ]
    }
   ],
   "source": [
    "# If we want an interval of 5, we can also pass a step keyword arg of 5\n",
    "\n",
    "counter = itertools.count(start = 5, step = 5)\n",
    "print(next(counter))\n",
    "print(next(counter))\n",
    "print(next(counter))\n",
    "print(next(counter)) # this starts from 5 and step forward with an interval of 5"
   ]
  },
  {
   "cell_type": "code",
   "execution_count": 9,
   "metadata": {},
   "outputs": [
    {
     "name": "stdout",
     "output_type": "stream",
     "text": [
      "5\n",
      "2.5\n",
      "0.0\n",
      "-2.5\n"
     ]
    }
   ],
   "source": [
    "counter = itertools.count(start = 5, step = -2.5)\n",
    "print(next(counter))\n",
    "print(next(counter))\n",
    "print(next(counter))\n",
    "print(next(counter)) # We can also move backward using a negative number and and also pass an interval with a decimal"
   ]
  },
  {
   "cell_type": "markdown",
   "metadata": {},
   "source": [
    "- Zip_longest : This helps to return a zipped object. except that it doesnt end until the longest iterable is exhausted"
   ]
  },
  {
   "cell_type": "code",
   "execution_count": 13,
   "metadata": {},
   "outputs": [
    {
     "name": "stdout",
     "output_type": "stream",
     "text": [
      "[(0, 100), (1, 200), (2, 300), (3, 400), (4, None), (5, None), (6, None), (7, None), (8, None), (9, None)]\n"
     ]
    }
   ],
   "source": [
    "data = [100, 200, 300, 400]\n",
    "\n",
    "daily_data = list(itertools.zip_longest(range(10), data))\n",
    "print(daily_data)  # This returns a list of zipped data until the longest iterable is exhausted. It complements the missing \n",
    "                   # values of the shorter iterable with None values as seen below\n",
    "         "
   ]
  },
  {
   "cell_type": "markdown",
   "metadata": {},
   "source": [
    "- Cycle : this continue to infinity as well. It helps to revolve around a certain band of data continuously"
   ]
  },
  {
   "cell_type": "code",
   "execution_count": 15,
   "metadata": {},
   "outputs": [
    {
     "name": "stdout",
     "output_type": "stream",
     "text": [
      "1\n",
      "2\n",
      "3\n",
      "1\n",
      "2\n",
      "3\n"
     ]
    }
   ],
   "source": [
    "counter = itertools.cycle([1, 2, 3])\n",
    "print(next(counter))\n",
    "print(next(counter))\n",
    "print(next(counter))\n",
    "print(next(counter))\n",
    "print(next(counter))\n",
    "print(next(counter)) "
   ]
  },
  {
   "cell_type": "code",
   "execution_count": 16,
   "metadata": {},
   "outputs": [
    {
     "name": "stdout",
     "output_type": "stream",
     "text": [
      "On\n",
      "Off\n",
      "On\n",
      "Off\n",
      "On\n",
      "Off\n"
     ]
    }
   ],
   "source": [
    "# It can have a use case of performing a certain operation at a certain value. It could also be useful in turning a switch\n",
    "# ON and OFF\n",
    "\n",
    "counter = itertools.cycle(['On', 'Off'])\n",
    "print(next(counter))\n",
    "print(next(counter))\n",
    "print(next(counter))\n",
    "print(next(counter))\n",
    "print(next(counter))\n",
    "print(next(counter))"
   ]
  },
  {
   "cell_type": "markdown",
   "metadata": {},
   "source": [
    "- repeat : it is used for passing in a stream of constant values to functions like map/zip that also work on iterables"
   ]
  },
  {
   "cell_type": "code",
   "execution_count": 17,
   "metadata": {},
   "outputs": [
    {
     "name": "stdout",
     "output_type": "stream",
     "text": [
      "2\n",
      "2\n",
      "2\n",
      "2\n",
      "2\n",
      "2\n",
      "2\n"
     ]
    }
   ],
   "source": [
    "counter = itertools.repeat(2)\n",
    "print(next(counter))\n",
    "print(next(counter))\n",
    "print(next(counter))\n",
    "print(next(counter))\n",
    "print(next(counter))\n",
    "print(next(counter))\n",
    "print(next(counter)) # This iterator will keep looping over ad infinitum"
   ]
  },
  {
   "cell_type": "code",
   "execution_count": 18,
   "metadata": {},
   "outputs": [],
   "source": [
    "# Repeat operation can be performed for a certain amount of time without going endlessly"
   ]
  },
  {
   "cell_type": "code",
   "execution_count": 19,
   "metadata": {},
   "outputs": [
    {
     "name": "stdout",
     "output_type": "stream",
     "text": [
      "2\n",
      "2\n",
      "2\n"
     ]
    },
    {
     "ename": "StopIteration",
     "evalue": "",
     "output_type": "error",
     "traceback": [
      "\u001b[1;31m---------------------------------------------------------------------------\u001b[0m",
      "\u001b[1;31mStopIteration\u001b[0m                             Traceback (most recent call last)",
      "\u001b[1;32m<ipython-input-19-84dfac68d01a>\u001b[0m in \u001b[0;36m<module>\u001b[1;34m\u001b[0m\n\u001b[0;32m      3\u001b[0m \u001b[0mprint\u001b[0m\u001b[1;33m(\u001b[0m\u001b[0mnext\u001b[0m\u001b[1;33m(\u001b[0m\u001b[0mcounter\u001b[0m\u001b[1;33m)\u001b[0m\u001b[1;33m)\u001b[0m\u001b[1;33m\u001b[0m\u001b[1;33m\u001b[0m\u001b[0m\n\u001b[0;32m      4\u001b[0m \u001b[0mprint\u001b[0m\u001b[1;33m(\u001b[0m\u001b[0mnext\u001b[0m\u001b[1;33m(\u001b[0m\u001b[0mcounter\u001b[0m\u001b[1;33m)\u001b[0m\u001b[1;33m)\u001b[0m\u001b[1;33m\u001b[0m\u001b[1;33m\u001b[0m\u001b[0m\n\u001b[1;32m----> 5\u001b[1;33m \u001b[0mprint\u001b[0m\u001b[1;33m(\u001b[0m\u001b[0mnext\u001b[0m\u001b[1;33m(\u001b[0m\u001b[0mcounter\u001b[0m\u001b[1;33m)\u001b[0m\u001b[1;33m)\u001b[0m\u001b[1;33m\u001b[0m\u001b[1;33m\u001b[0m\u001b[0m\n\u001b[0m",
      "\u001b[1;31mStopIteration\u001b[0m: "
     ]
    }
   ],
   "source": [
    "counter = itertools.repeat(2, times=3)\n",
    "print(next(counter))\n",
    "print(next(counter))\n",
    "print(next(counter))\n",
    "print(next(counter)) # A StopIteration is triggered on the fourth iteration, if for loop had been used it would have handled\n",
    "                     # the stopIteartion error"
   ]
  },
  {
   "cell_type": "code",
   "execution_count": 21,
   "metadata": {},
   "outputs": [
    {
     "name": "stdout",
     "output_type": "stream",
     "text": [
      "[0, 1, 4, 9, 16, 25, 36, 49, 64, 81]\n"
     ]
    }
   ],
   "source": [
    "# A typical usecase is computing is square of 0-9\n",
    "\n",
    "square = map(pow, range(10), itertools.repeat(2)) # this returns an iterator an it is cast on a list\n",
    "print(list(square)) # this returns the squares of the values 0-9"
   ]
  },
  {
   "cell_type": "markdown",
   "metadata": {},
   "source": [
    "- starmap : this modifies the map function a little bit. it is similar to map in functionality but instaead of taking args from iterables like we did above, it takes values that are already paired together as tuples"
   ]
  },
  {
   "cell_type": "code",
   "execution_count": 22,
   "metadata": {},
   "outputs": [
    {
     "name": "stdout",
     "output_type": "stream",
     "text": [
      "[0, 1, 4]\n"
     ]
    }
   ],
   "source": [
    "square = itertools.starmap(pow, [(0, 2), (1, 2), (2, 2)])\n",
    "print(list(square))"
   ]
  },
  {
   "cell_type": "code",
   "execution_count": 23,
   "metadata": {},
   "outputs": [
    {
     "name": "stdout",
     "output_type": "stream",
     "text": [
      "[0, 1, 4, 9, 16, 25, 36, 49, 64, 81]\n"
     ]
    }
   ],
   "source": [
    "square = itertools.starmap(pow, zip(range(10), itertools.repeat(2)))\n",
    "print(list(square))"
   ]
  },
  {
   "cell_type": "markdown",
   "metadata": {},
   "source": [
    "#### The iterators above go on forever. the below will be iterators that get terminated"
   ]
  },
  {
   "cell_type": "markdown",
   "metadata": {},
   "source": [
    "- The typical examples of terminated functions are combinations and permutations. This allow one to take an iterable and then \n",
    "then return their combinations and permutations. __Combinations__ is the different ways of grouping certain number of items where the order does not matter. However __Permutations__ is the different ways of grouping certain number of items wher ethe order does matter"
   ]
  },
  {
   "cell_type": "code",
   "execution_count": 24,
   "metadata": {},
   "outputs": [],
   "source": [
    "letters = ['a', 'b', 'c', 'd']\n",
    "numbers = [0, 1, 2, 3]\n",
    "names = ['Corey', 'Nicole']"
   ]
  },
  {
   "cell_type": "code",
   "execution_count": 27,
   "metadata": {},
   "outputs": [
    {
     "name": "stdout",
     "output_type": "stream",
     "text": [
      "('a', 'b')\n",
      "('a', 'c')\n",
      "('a', 'd')\n",
      "('b', 'c')\n",
      "('b', 'd')\n",
      "('c', 'd')\n"
     ]
    }
   ],
   "source": [
    "# To group variable letter into all possible 2 distinct groups, combinations is used\n",
    "\n",
    "groups = itertools.combinations(letters, 2)\n",
    "\n",
    "for group in groups:\n",
    "    print(group)  # This outputs the different combinations of letters with length 2 where order does not matter"
   ]
  },
  {
   "cell_type": "code",
   "execution_count": 28,
   "metadata": {},
   "outputs": [
    {
     "name": "stdout",
     "output_type": "stream",
     "text": [
      "('a', 'b')\n",
      "('a', 'c')\n",
      "('a', 'd')\n",
      "('b', 'a')\n",
      "('b', 'c')\n",
      "('b', 'd')\n",
      "('c', 'a')\n",
      "('c', 'b')\n",
      "('c', 'd')\n",
      "('d', 'a')\n",
      "('d', 'b')\n",
      "('d', 'c')\n"
     ]
    }
   ],
   "source": [
    "groups = itertools.permutations(letters, 2)\n",
    "\n",
    "for group in groups:\n",
    "    print(group)       # Different possible ways of grouping 2 items in letters where order does matter"
   ]
  },
  {
   "cell_type": "markdown",
   "metadata": {},
   "source": [
    "__The above did not repeat values, that is,  permutaions and combinations do give us different possible ways of arranging our letters however they do not give__(a,a), (b,b), (c,c), (d,d)__and this is perhaps because we only have__ one a, b , c , d __in the letters__"
   ]
  },
  {
   "cell_type": "markdown",
   "metadata": {},
   "source": [
    "- How do we entertain replacement?"
   ]
  },
  {
   "cell_type": "markdown",
   "metadata": {},
   "source": [
    "-- By using itertools.product and itertools.combinations_with_replacement"
   ]
  },
  {
   "cell_type": "code",
   "execution_count": 37,
   "metadata": {},
   "outputs": [
    {
     "name": "stdout",
     "output_type": "stream",
     "text": [
      "0 --> (0, 0, 0, 0)\n",
      "1 --> (0, 0, 0, 1)\n",
      "2 --> (0, 0, 0, 2)\n",
      "3 --> (0, 0, 0, 3)\n",
      "4 --> (0, 0, 1, 0)\n",
      "5 --> (0, 0, 1, 1)\n",
      "6 --> (0, 0, 1, 2)\n",
      "7 --> (0, 0, 1, 3)\n",
      "8 --> (0, 0, 2, 0)\n",
      "9 --> (0, 0, 2, 1)\n",
      "10 --> (0, 0, 2, 2)\n",
      "11 --> (0, 0, 2, 3)\n",
      "12 --> (0, 0, 3, 0)\n",
      "13 --> (0, 0, 3, 1)\n",
      "14 --> (0, 0, 3, 2)\n",
      "15 --> (0, 0, 3, 3)\n",
      "16 --> (0, 1, 0, 0)\n",
      "17 --> (0, 1, 0, 1)\n",
      "18 --> (0, 1, 0, 2)\n",
      "19 --> (0, 1, 0, 3)\n",
      "20 --> (0, 1, 1, 0)\n",
      "21 --> (0, 1, 1, 1)\n",
      "22 --> (0, 1, 1, 2)\n",
      "23 --> (0, 1, 1, 3)\n",
      "24 --> (0, 1, 2, 0)\n",
      "25 --> (0, 1, 2, 1)\n",
      "26 --> (0, 1, 2, 2)\n",
      "27 --> (0, 1, 2, 3)\n",
      "28 --> (0, 1, 3, 0)\n",
      "29 --> (0, 1, 3, 1)\n",
      "30 --> (0, 1, 3, 2)\n",
      "31 --> (0, 1, 3, 3)\n",
      "32 --> (0, 2, 0, 0)\n",
      "33 --> (0, 2, 0, 1)\n",
      "34 --> (0, 2, 0, 2)\n",
      "35 --> (0, 2, 0, 3)\n",
      "36 --> (0, 2, 1, 0)\n",
      "37 --> (0, 2, 1, 1)\n",
      "38 --> (0, 2, 1, 2)\n",
      "39 --> (0, 2, 1, 3)\n",
      "40 --> (0, 2, 2, 0)\n",
      "41 --> (0, 2, 2, 1)\n",
      "42 --> (0, 2, 2, 2)\n",
      "43 --> (0, 2, 2, 3)\n",
      "44 --> (0, 2, 3, 0)\n",
      "45 --> (0, 2, 3, 1)\n",
      "46 --> (0, 2, 3, 2)\n",
      "47 --> (0, 2, 3, 3)\n",
      "48 --> (0, 3, 0, 0)\n",
      "49 --> (0, 3, 0, 1)\n",
      "50 --> (0, 3, 0, 2)\n",
      "51 --> (0, 3, 0, 3)\n",
      "52 --> (0, 3, 1, 0)\n",
      "53 --> (0, 3, 1, 1)\n",
      "54 --> (0, 3, 1, 2)\n",
      "55 --> (0, 3, 1, 3)\n",
      "56 --> (0, 3, 2, 0)\n",
      "57 --> (0, 3, 2, 1)\n",
      "58 --> (0, 3, 2, 2)\n",
      "59 --> (0, 3, 2, 3)\n",
      "60 --> (0, 3, 3, 0)\n",
      "61 --> (0, 3, 3, 1)\n",
      "62 --> (0, 3, 3, 2)\n",
      "63 --> (0, 3, 3, 3)\n",
      "64 --> (1, 0, 0, 0)\n",
      "65 --> (1, 0, 0, 1)\n",
      "66 --> (1, 0, 0, 2)\n",
      "67 --> (1, 0, 0, 3)\n",
      "68 --> (1, 0, 1, 0)\n",
      "69 --> (1, 0, 1, 1)\n",
      "70 --> (1, 0, 1, 2)\n",
      "71 --> (1, 0, 1, 3)\n",
      "72 --> (1, 0, 2, 0)\n",
      "73 --> (1, 0, 2, 1)\n",
      "74 --> (1, 0, 2, 2)\n",
      "75 --> (1, 0, 2, 3)\n",
      "76 --> (1, 0, 3, 0)\n",
      "77 --> (1, 0, 3, 1)\n",
      "78 --> (1, 0, 3, 2)\n",
      "79 --> (1, 0, 3, 3)\n",
      "80 --> (1, 1, 0, 0)\n",
      "81 --> (1, 1, 0, 1)\n",
      "82 --> (1, 1, 0, 2)\n",
      "83 --> (1, 1, 0, 3)\n",
      "84 --> (1, 1, 1, 0)\n",
      "85 --> (1, 1, 1, 1)\n",
      "86 --> (1, 1, 1, 2)\n",
      "87 --> (1, 1, 1, 3)\n",
      "88 --> (1, 1, 2, 0)\n",
      "89 --> (1, 1, 2, 1)\n",
      "90 --> (1, 1, 2, 2)\n",
      "91 --> (1, 1, 2, 3)\n",
      "92 --> (1, 1, 3, 0)\n",
      "93 --> (1, 1, 3, 1)\n",
      "94 --> (1, 1, 3, 2)\n",
      "95 --> (1, 1, 3, 3)\n",
      "96 --> (1, 2, 0, 0)\n",
      "97 --> (1, 2, 0, 1)\n",
      "98 --> (1, 2, 0, 2)\n",
      "99 --> (1, 2, 0, 3)\n",
      "100 --> (1, 2, 1, 0)\n",
      "101 --> (1, 2, 1, 1)\n",
      "102 --> (1, 2, 1, 2)\n",
      "103 --> (1, 2, 1, 3)\n",
      "104 --> (1, 2, 2, 0)\n",
      "105 --> (1, 2, 2, 1)\n",
      "106 --> (1, 2, 2, 2)\n",
      "107 --> (1, 2, 2, 3)\n",
      "108 --> (1, 2, 3, 0)\n",
      "109 --> (1, 2, 3, 1)\n",
      "110 --> (1, 2, 3, 2)\n",
      "111 --> (1, 2, 3, 3)\n",
      "112 --> (1, 3, 0, 0)\n",
      "113 --> (1, 3, 0, 1)\n",
      "114 --> (1, 3, 0, 2)\n",
      "115 --> (1, 3, 0, 3)\n",
      "116 --> (1, 3, 1, 0)\n",
      "117 --> (1, 3, 1, 1)\n",
      "118 --> (1, 3, 1, 2)\n",
      "119 --> (1, 3, 1, 3)\n",
      "120 --> (1, 3, 2, 0)\n",
      "121 --> (1, 3, 2, 1)\n",
      "122 --> (1, 3, 2, 2)\n",
      "123 --> (1, 3, 2, 3)\n",
      "124 --> (1, 3, 3, 0)\n",
      "125 --> (1, 3, 3, 1)\n",
      "126 --> (1, 3, 3, 2)\n",
      "127 --> (1, 3, 3, 3)\n",
      "128 --> (2, 0, 0, 0)\n",
      "129 --> (2, 0, 0, 1)\n",
      "130 --> (2, 0, 0, 2)\n",
      "131 --> (2, 0, 0, 3)\n",
      "132 --> (2, 0, 1, 0)\n",
      "133 --> (2, 0, 1, 1)\n",
      "134 --> (2, 0, 1, 2)\n",
      "135 --> (2, 0, 1, 3)\n",
      "136 --> (2, 0, 2, 0)\n",
      "137 --> (2, 0, 2, 1)\n",
      "138 --> (2, 0, 2, 2)\n",
      "139 --> (2, 0, 2, 3)\n",
      "140 --> (2, 0, 3, 0)\n",
      "141 --> (2, 0, 3, 1)\n",
      "142 --> (2, 0, 3, 2)\n",
      "143 --> (2, 0, 3, 3)\n",
      "144 --> (2, 1, 0, 0)\n",
      "145 --> (2, 1, 0, 1)\n",
      "146 --> (2, 1, 0, 2)\n",
      "147 --> (2, 1, 0, 3)\n",
      "148 --> (2, 1, 1, 0)\n",
      "149 --> (2, 1, 1, 1)\n",
      "150 --> (2, 1, 1, 2)\n",
      "151 --> (2, 1, 1, 3)\n",
      "152 --> (2, 1, 2, 0)\n",
      "153 --> (2, 1, 2, 1)\n",
      "154 --> (2, 1, 2, 2)\n",
      "155 --> (2, 1, 2, 3)\n",
      "156 --> (2, 1, 3, 0)\n",
      "157 --> (2, 1, 3, 1)\n",
      "158 --> (2, 1, 3, 2)\n",
      "159 --> (2, 1, 3, 3)\n",
      "160 --> (2, 2, 0, 0)\n",
      "161 --> (2, 2, 0, 1)\n",
      "162 --> (2, 2, 0, 2)\n",
      "163 --> (2, 2, 0, 3)\n",
      "164 --> (2, 2, 1, 0)\n",
      "165 --> (2, 2, 1, 1)\n",
      "166 --> (2, 2, 1, 2)\n",
      "167 --> (2, 2, 1, 3)\n",
      "168 --> (2, 2, 2, 0)\n",
      "169 --> (2, 2, 2, 1)\n",
      "170 --> (2, 2, 2, 2)\n",
      "171 --> (2, 2, 2, 3)\n",
      "172 --> (2, 2, 3, 0)\n",
      "173 --> (2, 2, 3, 1)\n",
      "174 --> (2, 2, 3, 2)\n",
      "175 --> (2, 2, 3, 3)\n",
      "176 --> (2, 3, 0, 0)\n",
      "177 --> (2, 3, 0, 1)\n",
      "178 --> (2, 3, 0, 2)\n",
      "179 --> (2, 3, 0, 3)\n",
      "180 --> (2, 3, 1, 0)\n",
      "181 --> (2, 3, 1, 1)\n",
      "182 --> (2, 3, 1, 2)\n",
      "183 --> (2, 3, 1, 3)\n",
      "184 --> (2, 3, 2, 0)\n",
      "185 --> (2, 3, 2, 1)\n",
      "186 --> (2, 3, 2, 2)\n",
      "187 --> (2, 3, 2, 3)\n",
      "188 --> (2, 3, 3, 0)\n",
      "189 --> (2, 3, 3, 1)\n",
      "190 --> (2, 3, 3, 2)\n",
      "191 --> (2, 3, 3, 3)\n",
      "192 --> (3, 0, 0, 0)\n",
      "193 --> (3, 0, 0, 1)\n",
      "194 --> (3, 0, 0, 2)\n",
      "195 --> (3, 0, 0, 3)\n",
      "196 --> (3, 0, 1, 0)\n",
      "197 --> (3, 0, 1, 1)\n",
      "198 --> (3, 0, 1, 2)\n",
      "199 --> (3, 0, 1, 3)\n",
      "200 --> (3, 0, 2, 0)\n",
      "201 --> (3, 0, 2, 1)\n",
      "202 --> (3, 0, 2, 2)\n",
      "203 --> (3, 0, 2, 3)\n",
      "204 --> (3, 0, 3, 0)\n",
      "205 --> (3, 0, 3, 1)\n",
      "206 --> (3, 0, 3, 2)\n",
      "207 --> (3, 0, 3, 3)\n",
      "208 --> (3, 1, 0, 0)\n",
      "209 --> (3, 1, 0, 1)\n",
      "210 --> (3, 1, 0, 2)\n",
      "211 --> (3, 1, 0, 3)\n",
      "212 --> (3, 1, 1, 0)\n",
      "213 --> (3, 1, 1, 1)\n",
      "214 --> (3, 1, 1, 2)\n",
      "215 --> (3, 1, 1, 3)\n",
      "216 --> (3, 1, 2, 0)\n",
      "217 --> (3, 1, 2, 1)\n",
      "218 --> (3, 1, 2, 2)\n",
      "219 --> (3, 1, 2, 3)\n",
      "220 --> (3, 1, 3, 0)\n",
      "221 --> (3, 1, 3, 1)\n",
      "222 --> (3, 1, 3, 2)\n",
      "223 --> (3, 1, 3, 3)\n",
      "224 --> (3, 2, 0, 0)\n",
      "225 --> (3, 2, 0, 1)\n",
      "226 --> (3, 2, 0, 2)\n",
      "227 --> (3, 2, 0, 3)\n",
      "228 --> (3, 2, 1, 0)\n",
      "229 --> (3, 2, 1, 1)\n",
      "230 --> (3, 2, 1, 2)\n",
      "231 --> (3, 2, 1, 3)\n",
      "232 --> (3, 2, 2, 0)\n",
      "233 --> (3, 2, 2, 1)\n",
      "234 --> (3, 2, 2, 2)\n",
      "235 --> (3, 2, 2, 3)\n",
      "236 --> (3, 2, 3, 0)\n",
      "237 --> (3, 2, 3, 1)\n",
      "238 --> (3, 2, 3, 2)\n",
      "239 --> (3, 2, 3, 3)\n",
      "240 --> (3, 3, 0, 0)\n",
      "241 --> (3, 3, 0, 1)\n",
      "242 --> (3, 3, 0, 2)\n",
      "243 --> (3, 3, 0, 3)\n",
      "244 --> (3, 3, 1, 0)\n",
      "245 --> (3, 3, 1, 1)\n",
      "246 --> (3, 3, 1, 2)\n",
      "247 --> (3, 3, 1, 3)\n",
      "248 --> (3, 3, 2, 0)\n",
      "249 --> (3, 3, 2, 1)\n",
      "250 --> (3, 3, 2, 2)\n",
      "251 --> (3, 3, 2, 3)\n",
      "252 --> (3, 3, 3, 0)\n",
      "253 --> (3, 3, 3, 1)\n",
      "254 --> (3, 3, 3, 2)\n",
      "255 --> (3, 3, 3, 3)\n"
     ]
    }
   ],
   "source": [
    "# Trying to create all possible arrangements of numbers variable with replacements using itertools.product\n",
    "\n",
    "results = itertools.product(numbers, repeat=4)\n",
    "\n",
    "for index, result in enumerate(results):\n",
    "    print(f'{index} --> {result}')       # This is a cartesian product of (numbers by numbers by numbers by numbers)"
   ]
  },
  {
   "cell_type": "code",
   "execution_count": 39,
   "metadata": {},
   "outputs": [
    {
     "name": "stdout",
     "output_type": "stream",
     "text": [
      "0 --> (0, 0, 0, 0)\n",
      "1 --> (0, 0, 0, 1)\n",
      "2 --> (0, 0, 0, 2)\n",
      "3 --> (0, 0, 0, 3)\n",
      "4 --> (0, 0, 1, 1)\n",
      "5 --> (0, 0, 1, 2)\n",
      "6 --> (0, 0, 1, 3)\n",
      "7 --> (0, 0, 2, 2)\n",
      "8 --> (0, 0, 2, 3)\n",
      "9 --> (0, 0, 3, 3)\n",
      "10 --> (0, 1, 1, 1)\n",
      "11 --> (0, 1, 1, 2)\n",
      "12 --> (0, 1, 1, 3)\n",
      "13 --> (0, 1, 2, 2)\n",
      "14 --> (0, 1, 2, 3)\n",
      "15 --> (0, 1, 3, 3)\n",
      "16 --> (0, 2, 2, 2)\n",
      "17 --> (0, 2, 2, 3)\n",
      "18 --> (0, 2, 3, 3)\n",
      "19 --> (0, 3, 3, 3)\n",
      "20 --> (1, 1, 1, 1)\n",
      "21 --> (1, 1, 1, 2)\n",
      "22 --> (1, 1, 1, 3)\n",
      "23 --> (1, 1, 2, 2)\n",
      "24 --> (1, 1, 2, 3)\n",
      "25 --> (1, 1, 3, 3)\n",
      "26 --> (1, 2, 2, 2)\n",
      "27 --> (1, 2, 2, 3)\n",
      "28 --> (1, 2, 3, 3)\n",
      "29 --> (1, 3, 3, 3)\n",
      "30 --> (2, 2, 2, 2)\n",
      "31 --> (2, 2, 2, 3)\n",
      "32 --> (2, 2, 3, 3)\n",
      "33 --> (2, 3, 3, 3)\n",
      "34 --> (3, 3, 3, 3)\n"
     ]
    }
   ],
   "source": [
    "# Another approach is to use combinations_with replacement\n",
    "\n",
    "\n",
    "results = itertools.combinations_with_replacement(numbers, 4)\n",
    "\n",
    "for index, result in enumerate(results):\n",
    "    print(f'{index} --> {result}')  # This shows distinct arrangement of groups of 4 elements with the possibility of \n",
    "                                    # of repeating values "
   ]
  },
  {
   "cell_type": "markdown",
   "metadata": {},
   "source": [
    "- Chain : This allows us to chain together iterables so that it will go through the items in the first iterable and then to the next iterable and so on. It is a very efficient way of iterating over a set of iterables. "
   ]
  },
  {
   "cell_type": "code",
   "execution_count": 40,
   "metadata": {},
   "outputs": [
    {
     "name": "stdout",
     "output_type": "stream",
     "text": [
      "a\n",
      "b\n",
      "c\n",
      "d\n",
      "0\n",
      "1\n",
      "2\n",
      "3\n",
      "Corey\n",
      "Nicole\n"
     ]
    }
   ],
   "source": [
    "combined = itertools.chain(letters, numbers, names)\n",
    "\n",
    "for item in combined:\n",
    "    print(item)"
   ]
  },
  {
   "cell_type": "markdown",
   "metadata": {},
   "source": [
    "-islice : this could allow us to get a slice of an iterator. this works more like list slicing only that it has the added benefit of only holding the value in memory. nice for memory management"
   ]
  },
  {
   "cell_type": "code",
   "execution_count": 43,
   "metadata": {},
   "outputs": [
    {
     "name": "stdout",
     "output_type": "stream",
     "text": [
      "0\n",
      "1\n",
      "2\n",
      "3\n",
      "4\n"
     ]
    }
   ],
   "source": [
    "# Lets slice the first 5 element in an iterable range(9)\n",
    "\n",
    "results = itertools.islice(range(9), 5)\n",
    "\n",
    "for result in results:\n",
    "    print(result)          # the default starting point is 0 and a step of 1"
   ]
  },
  {
   "cell_type": "code",
   "execution_count": 48,
   "metadata": {},
   "outputs": [
    {
     "name": "stdout",
     "output_type": "stream",
     "text": [
      "2\n",
      "4\n",
      "6\n",
      "8\n"
     ]
    }
   ],
   "source": [
    "# To start at 2 and step by 2 for the first 5 element\n",
    "\n",
    "results = itertools.islice(range(9), 2, 9, 2)\n",
    "\n",
    "for result in results:\n",
    "    print(result)       # the step must be an integer otherwise, it throws value error"
   ]
  },
  {
   "cell_type": "code",
   "execution_count": 42,
   "metadata": {},
   "outputs": [],
   "source": [
    "#Files are like iterators, whenever you call next on them, it goes to the next line in the file"
   ]
  },
  {
   "cell_type": "code",
   "execution_count": 52,
   "metadata": {},
   "outputs": [
    {
     "name": "stdout",
     "output_type": "stream",
     "text": [
      "Date: 2018-11-08\n",
      "Author: Corey\n",
      "Description: This is a sample log file\n"
     ]
    }
   ],
   "source": [
    "# To read the first 3 lines in a text file to extract info about the author\n",
    "\n",
    "with open('test.log.txt', 'r') as f:\n",
    "    author_info = itertools.islice(f, 3)\n",
    "    for line in author_info:\n",
    "        print(line, end='')  # To take away the line in between each result"
   ]
  },
  {
   "cell_type": "markdown",
   "metadata": {},
   "source": [
    "- Compress : This is used in data science. Where there is data and selectors which can be used to filter down data"
   ]
  },
  {
   "cell_type": "code",
   "execution_count": 54,
   "metadata": {},
   "outputs": [],
   "source": [
    "# Lets assume we have a list of True/False values that correspond to letters list above. the compress function \n",
    "# will help return the values that correspond to True values"
   ]
  },
  {
   "cell_type": "code",
   "execution_count": 76,
   "metadata": {},
   "outputs": [],
   "source": [
    "letters = ['a', 'b', 'c', 'd']\n",
    "numbers = [0, 1, 2, 3]\n",
    "names = ['Corey', 'Nicole']"
   ]
  },
  {
   "cell_type": "code",
   "execution_count": 77,
   "metadata": {},
   "outputs": [],
   "source": [
    "selectors = [True, True, False, True]"
   ]
  },
  {
   "cell_type": "code",
   "execution_count": 58,
   "metadata": {},
   "outputs": [
    {
     "name": "stdout",
     "output_type": "stream",
     "text": [
      "a\n",
      "b\n",
      "d\n"
     ]
    }
   ],
   "source": [
    "results = itertools.compress(letters, selectors)\n",
    "\n",
    "for result in results:\n",
    "    print(result)  # These are the values that correspond to True in the selectors"
   ]
  },
  {
   "cell_type": "code",
   "execution_count": null,
   "metadata": {},
   "outputs": [],
   "source": [
    "# Another built-in python function that can be used for this, is the filter function. Only that it requires the a function\n",
    "# as an argument\n",
    "\n",
    "# Lets say we wanna output values that are less than 2 in the numbers variable. The filter actually returns an iterator \n",
    "# for which the items in the iterable is True\n"
   ]
  },
  {
   "cell_type": "code",
   "execution_count": 5,
   "metadata": {},
   "outputs": [],
   "source": [
    "def less_than_2(n):\n",
    "    if n < 2:\n",
    "        return True\n",
    "    else:\n",
    "        return False"
   ]
  },
  {
   "cell_type": "code",
   "execution_count": 86,
   "metadata": {},
   "outputs": [
    {
     "name": "stdout",
     "output_type": "stream",
     "text": [
      "0\n",
      "1\n"
     ]
    }
   ],
   "source": [
    "filter_results = filter(less_than_2, numbers)\n",
    "\n",
    "for item in filter_results:\n",
    "    print(item)"
   ]
  },
  {
   "cell_type": "code",
   "execution_count": 87,
   "metadata": {},
   "outputs": [
    {
     "name": "stdout",
     "output_type": "stream",
     "text": [
      "2\n",
      "3\n"
     ]
    }
   ],
   "source": [
    "results = itertools.filterfalse(less_than_2, numbers)\n",
    "\n",
    "for result in results:\n",
    "    print(result)      # This prints out the false values"
   ]
  },
  {
   "cell_type": "code",
   "execution_count": 79,
   "metadata": {},
   "outputs": [],
   "source": [
    "itertools.filterfalse?"
   ]
  },
  {
   "cell_type": "code",
   "execution_count": 82,
   "metadata": {},
   "outputs": [
    {
     "data": {
      "text/plain": [
       "[0, 1, 2, 3]"
      ]
     },
     "execution_count": 82,
     "metadata": {},
     "output_type": "execute_result"
    }
   ],
   "source": [
    "numbers"
   ]
  },
  {
   "cell_type": "markdown",
   "metadata": {},
   "source": [
    "- Dropwhile: drop values from the iterables that are __True__ until it hits a value that is __False__"
   ]
  },
  {
   "cell_type": "code",
   "execution_count": 1,
   "metadata": {},
   "outputs": [],
   "source": [
    "numbers = [0, 1, 2, 3, 2, 1, 0]"
   ]
  },
  {
   "cell_type": "code",
   "execution_count": 6,
   "metadata": {},
   "outputs": [
    {
     "name": "stdout",
     "output_type": "stream",
     "text": [
      "2\n",
      "3\n",
      "2\n"
     ]
    }
   ],
   "source": [
    "results = itertools.filterfalse(less_than_2, numbers)\n",
    "\n",
    "for result in results:\n",
    "    print(result)    # This outputs all values greater than 2"
   ]
  },
  {
   "cell_type": "code",
   "execution_count": 7,
   "metadata": {},
   "outputs": [
    {
     "name": "stdout",
     "output_type": "stream",
     "text": [
      "2\n",
      "3\n",
      "2\n",
      "1\n",
      "0\n"
     ]
    }
   ],
   "source": [
    "# Using the dropwhile function\n",
    "\n",
    "results = itertools.dropwhile(less_than_2, numbers)\n",
    "\n",
    "for result in results:\n",
    "    print(result)       # This drops value that are less than 2 until it hits a number >= 2 and iteration stops"
   ]
  },
  {
   "cell_type": "code",
   "execution_count": 8,
   "metadata": {},
   "outputs": [
    {
     "name": "stdout",
     "output_type": "stream",
     "text": [
      "0\n",
      "1\n"
     ]
    }
   ],
   "source": [
    "results = itertools.takewhile(less_than_2, numbers)\n",
    "\n",
    "for result in results:\n",
    "    print(result)      # This outputs the True values until it hits a False"
   ]
  },
  {
   "cell_type": "markdown",
   "metadata": {},
   "source": [
    "-- accumulate : this takes an iterable and returns accumulated sums of each item that it sees. It uses addition by default. However other operations suc as __multiplication, division and substraction__ could be used"
   ]
  },
  {
   "cell_type": "code",
   "execution_count": 9,
   "metadata": {},
   "outputs": [],
   "source": [
    "numbers = [0, 1, 2, 3, 2, 1, 0]"
   ]
  },
  {
   "cell_type": "code",
   "execution_count": 12,
   "metadata": {},
   "outputs": [
    {
     "name": "stdout",
     "output_type": "stream",
     "text": [
      "0\n",
      "1\n",
      "3\n",
      "6\n",
      "8\n",
      "9\n",
      "9\n"
     ]
    }
   ],
   "source": [
    "results = itertools.accumulate(numbers)\n",
    "\n",
    "for result in results:\n",
    "    print(result)      # This returns a running total"
   ]
  },
  {
   "cell_type": "code",
   "execution_count": 15,
   "metadata": {},
   "outputs": [],
   "source": [
    "numbers = [1, 2, 3, 2, 1, 0]"
   ]
  },
  {
   "cell_type": "markdown",
   "metadata": {},
   "source": [
    "- To use multiplication"
   ]
  },
  {
   "cell_type": "code",
   "execution_count": 16,
   "metadata": {},
   "outputs": [],
   "source": [
    "import operator"
   ]
  },
  {
   "cell_type": "code",
   "execution_count": 17,
   "metadata": {},
   "outputs": [
    {
     "name": "stdout",
     "output_type": "stream",
     "text": [
      "1\n",
      "2\n",
      "6\n",
      "12\n",
      "12\n",
      "0\n"
     ]
    }
   ],
   "source": [
    "results = itertools.accumulate(numbers, operator.mul)\n",
    "\n",
    "for result in results:\n",
    "    print(result)      # This returns a running total"
   ]
  },
  {
   "cell_type": "markdown",
   "metadata": {},
   "source": [
    "-- __Groupby__: This will go through a iterable and group values based on a certain key returning a stream of tuples consisting the key-iterator pair. the key is the item the items were grouped on. the iterator being the items grouped by the key"
   ]
  },
  {
   "cell_type": "code",
   "execution_count": 18,
   "metadata": {},
   "outputs": [],
   "source": [
    "itertools.groupby?"
   ]
  },
  {
   "cell_type": "code",
   "execution_count": 19,
   "metadata": {},
   "outputs": [],
   "source": [
    "people = [\n",
    "    {\n",
    "        'name': 'John Doe',\n",
    "        'city': 'Gotham',\n",
    "        'state': 'NY'\n",
    "    },\n",
    "    {\n",
    "        'name': 'Jane Doe',\n",
    "        'city': 'Kings Landing',\n",
    "        'state': 'NY'\n",
    "    },\n",
    "    {\n",
    "        'name': 'Corey Schafer',\n",
    "        'city': 'Boulder',\n",
    "        'state': 'CO'\n",
    "    },\n",
    "    {\n",
    "        'name': 'Al Einstein',\n",
    "        'city': 'Denver',\n",
    "        'state': 'CO'\n",
    "    },\n",
    "    {\n",
    "        'name': 'John Henry',\n",
    "        'city': 'Hinton',\n",
    "        'state': 'WV'\n",
    "    },\n",
    "    {\n",
    "        'name': 'Randy Moss',\n",
    "        'city': 'Rand',\n",
    "        'state': 'WV'\n",
    "    },\n",
    "    {\n",
    "        'name': 'Nicole K',\n",
    "        'city': 'Asheville',\n",
    "        'state': 'NC'\n",
    "    },\n",
    "    {\n",
    "        'name': 'Jim Doe',\n",
    "        'city': 'Charlotte',\n",
    "        'state': 'NC'\n",
    "    },\n",
    "    {\n",
    "        'name': 'Jane Taylor',\n",
    "        'city': 'Faketown',\n",
    "        'state': 'NC'\n",
    "    }\n",
    "]\n"
   ]
  },
  {
   "cell_type": "code",
   "execution_count": 41,
   "metadata": {},
   "outputs": [],
   "source": [
    "def get_state(person):\n",
    "    return person['state']"
   ]
  },
  {
   "cell_type": "code",
   "execution_count": 54,
   "metadata": {},
   "outputs": [],
   "source": [
    " results = itertools.groupby(people, get_state)"
   ]
  },
  {
   "cell_type": "code",
   "execution_count": 46,
   "metadata": {},
   "outputs": [
    {
     "name": "stdout",
     "output_type": "stream",
     "text": [
      "NY <itertools._grouper object at 0x0000018527433408>\n",
      "CO <itertools._grouper object at 0x00000185273F1348>\n",
      "WV <itertools._grouper object at 0x0000018527433408>\n",
      "NC <itertools._grouper object at 0x00000185273F1348>\n"
     ]
    }
   ],
   "source": [
    "for key, group in results:   # tuples of key-iterator pair generated\n",
    "    print(key, group)        "
   ]
  },
  {
   "cell_type": "code",
   "execution_count": 52,
   "metadata": {},
   "outputs": [
    {
     "name": "stdout",
     "output_type": "stream",
     "text": [
      "NY\n",
      "{'name': 'John Doe', 'city': 'Gotham', 'state': 'NY'}\n",
      "{'name': 'Jane Doe', 'city': 'Kings Landing', 'state': 'NY'}\n",
      "CO\n",
      "{'name': 'Corey Schafer', 'city': 'Boulder', 'state': 'CO'}\n",
      "{'name': 'Al Einstein', 'city': 'Denver', 'state': 'CO'}\n",
      "WV\n",
      "{'name': 'John Henry', 'city': 'Hinton', 'state': 'WV'}\n",
      "{'name': 'Randy Moss', 'city': 'Rand', 'state': 'WV'}\n",
      "NC\n",
      "{'name': 'Nicole K', 'city': 'Asheville', 'state': 'NC'}\n",
      "{'name': 'Jim Doe', 'city': 'Charlotte', 'state': 'NC'}\n",
      "{'name': 'Jane Taylor', 'city': 'Faketown', 'state': 'NC'}\n"
     ]
    }
   ],
   "source": [
    "# Re-run the groupby since the for loop above has already exhausted the groupby object\n",
    "\n",
    "for key, group in results:\n",
    "    print(key)\n",
    "    for person in group:         # Looping over group since it is an iterator\n",
    "        print(person)"
   ]
  },
  {
   "cell_type": "code",
   "execution_count": 55,
   "metadata": {},
   "outputs": [
    {
     "name": "stdout",
     "output_type": "stream",
     "text": [
      "NY 2\n",
      "CO 2\n",
      "WV 2\n",
      "NC 3\n"
     ]
    }
   ],
   "source": [
    "# Re-run, the groupby object, to get the number of items in each grouped state. group is an iterator hence it is \n",
    "# cast on a list before running len function\n",
    "\n",
    "for key, group in results:\n",
    "    print(key, len(list(group)))"
   ]
  },
  {
   "cell_type": "markdown",
   "metadata": {},
   "source": [
    "__N.B__: the itertools groupby object needs the values to be sorted beforehand. If the second person in __N.Y__ were to be at the bottom of the list the key __N.Y__ would not appear first on the list"
   ]
  },
  {
   "cell_type": "markdown",
   "metadata": {},
   "source": [
    "__tee function__: this helps in replicating an iterator"
   ]
  },
  {
   "cell_type": "code",
   "execution_count": 57,
   "metadata": {},
   "outputs": [],
   "source": [
    "# Lets assume we wanna replicate the person group above into 2 different iterables\n",
    "\n",
    "results = itertools.groupby(people, get_state) # This returns a groupby iterator that can be looped over\n",
    "\n",
    "# To get copies of the groupby iterator, tee function is used\n",
    "\n",
    "copy1, copy2 = itertools.tee(results)  # Default copies is 2, if more is needed the number of copies can be passed"
   ]
  },
  {
   "cell_type": "markdown",
   "metadata": {},
   "source": [
    "-- Once the groupby iterator is passed into the tee function. It is recommended not to use it cos it could have unintended consequences. Instead, the copies should be worked upon, or looped or iterated over."
   ]
  },
  {
   "cell_type": "code",
   "execution_count": null,
   "metadata": {},
   "outputs": [],
   "source": []
  }
 ],
 "metadata": {
  "kernelspec": {
   "display_name": "Python 3",
   "language": "python",
   "name": "python3"
  },
  "language_info": {
   "codemirror_mode": {
    "name": "ipython",
    "version": 3
   },
   "file_extension": ".py",
   "mimetype": "text/x-python",
   "name": "python",
   "nbconvert_exporter": "python",
   "pygments_lexer": "ipython3",
   "version": "3.7.6"
  }
 },
 "nbformat": 4,
 "nbformat_minor": 4
}
