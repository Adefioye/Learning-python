{
 "metadata": {
  "language_info": {
   "codemirror_mode": {
    "name": "ipython",
    "version": 3
   },
   "file_extension": ".py",
   "mimetype": "text/x-python",
   "name": "python",
   "nbconvert_exporter": "python",
   "pygments_lexer": "ipython3",
   "version": "3.7.6-final"
  },
  "orig_nbformat": 2,
  "kernelspec": {
   "name": "python3",
   "display_name": "Python 3.7.6 64-bit (conda)",
   "metadata": {
    "interpreter": {
     "hash": "f18eb818c12c897c7cd6a9334b0d035f3a97139767af1d2a6f86b303032099af"
    }
   }
  }
 },
 "nbformat": 4,
 "nbformat_minor": 2,
 "cells": [
  {
   "cell_type": "code",
   "execution_count": 1,
   "metadata": {},
   "outputs": [],
   "source": [
    "import re"
   ]
  },
  {
   "cell_type": "code",
   "execution_count": 2,
   "metadata": {},
   "outputs": [],
   "source": [
    "s = r'foo\\bar'\n",
    "s1 = 'foo\\bar'"
   ]
  },
  {
   "cell_type": "code",
   "execution_count": 3,
   "metadata": {},
   "outputs": [
    {
     "output_type": "stream",
     "name": "stdout",
     "text": [
      "foo\\bar\nfoar\n"
     ]
    }
   ],
   "source": [
    "print(s)\n",
    "print(s1)"
   ]
  },
  {
   "cell_type": "code",
   "execution_count": 4,
   "metadata": {},
   "outputs": [
    {
     "output_type": "execute_result",
     "data": {
      "text/plain": [
       "<re.Match object; span=(3, 4), match='\\\\'>"
      ]
     },
     "metadata": {},
     "execution_count": 4
    }
   ],
   "source": [
    "re.search('\\\\\\\\', s)"
   ]
  },
  {
   "cell_type": "code",
   "execution_count": 5,
   "metadata": {},
   "outputs": [
    {
     "output_type": "execute_result",
     "data": {
      "text/plain": [
       "<re.Match object; span=(3, 4), match='\\\\'>"
      ]
     },
     "metadata": {},
     "execution_count": 5
    }
   ],
   "source": [
    "# Using raw string with backlash\n",
    "re.search(r'\\\\', s)"
   ]
  },
  {
   "cell_type": "code",
   "execution_count": 6,
   "metadata": {},
   "outputs": [
    {
     "output_type": "stream",
     "name": "stdout",
     "text": [
      "<re.Match object; span=(1, 18), match='<foo> <bar> <baz>'>\n<re.Match object; span=(1, 6), match='<foo>'>\n<re.Match object; span=(1, 18), match='<foo> <bar> <baz>'>\n<re.Match object; span=(1, 6), match='<foo>'>\n<re.Match object; span=(0, 2), match='ba'>\n<re.Match object; span=(0, 1), match='b'>\n"
     ]
    }
   ],
   "source": [
    "# * , + and ? are greedy metacharacters meaning they find the longest possible match.\n",
    "# Their lazy (non-greedy) versions are *?, +?, ?? . This versions make them find shortest possible match\n",
    "\n",
    "# For *\n",
    "print(re.search('<.*>', '%<foo> <bar> <baz>%'))\n",
    "print(re.search('<.*?>', '%<foo> <bar> <baz>%'))\n",
    "\n",
    "# For +\n",
    "print(re.search('<.+>', '%<foo> <bar> <baz>%'))\n",
    "print(re.search('<.+?>', '%<foo> <bar> <baz>%'))\n",
    "\n",
    "# For ?\n",
    "print(re.search('ba?', 'baaaa')) # Returns the longest match\n",
    "print(re.search('ba??', 'baaaa')) # Returns shortest match without a"
   ]
  },
  {
   "cell_type": "code",
   "execution_count": 7,
   "metadata": {},
   "outputs": [
    {
     "output_type": "stream",
     "name": "stdout",
     "text": [
      "<re.Match object; span=(0, 5), match='aaaaa'>\n<re.Match object; span=(0, 3), match='aaa'>\n"
     ]
    }
   ],
   "source": [
    "# Using {m, n} returns match for strings with regex with m to n repetitions.\n",
    "# However, for a single string using search method, it returns the longest match. see example below\n",
    "\n",
    "print(re.search('a{3,5}', 'aaaaaaaa')) # This returns the longest match. \n",
    "print(re.search('a{3,5}?', 'aaaaaaaa')) # This returns the shortest match. Well qualified with ?"
   ]
  },
  {
   "cell_type": "code",
   "execution_count": 14,
   "metadata": {},
   "outputs": [
    {
     "output_type": "stream",
     "name": "stdout",
     "text": [
      "<re.Match object; span=(4, 7), match='bar'>\n<re.Match object; span=(4, 7), match='bar'>\n<re.Match object; span=(4, 10), match='barbar'>\n<re.Match object; span=(4, 16), match='barbarbarbar'>\n<re.Match object; span=(0, 12), match='bazbarbazqux'>\n<re.Match object; span=(0, 6), match='barbar'>\n<re.Match object; span=(0, 9), match='foofoobar'>\n<re.Match object; span=(0, 12), match='foofoobar123'>\n<re.Match object; span=(0, 9), match='foofoo123'>\n('foo', 'quux', 'baz')\nfoo\nquux\nbaz\nfoo,quux,baz\nfoo,quux,baz\n('foo', 'quux', 'baz')\n('baz', 'foo')\n('baz', 'quux', 'foo')\n"
     ]
    }
   ],
   "source": [
    "# Most basic grouping construct is (<regex>)\n",
    "print(re.search('(bar)', 'foo bar baz')) # This just matches the content of the parentheses\n",
    "\n",
    "# A quantifier works on the subexpressions as group\n",
    "print(re.search('(bar)+', 'foo bar baz'))\n",
    "print(re.search('(bar)+', 'foo barbar baz'))\n",
    "print(re.search('(bar)+', 'foo barbarbarbar baz'))\n",
    "\n",
    "# Lets check some complicated examples\n",
    "print(re.search('(ba[rz]){2,4}(qux)?', 'bazbarbazqux'))\n",
    "print(re.search('(ba[rz]){2,4}(qux)?', 'barbar'))\n",
    "\n",
    "# We can also next grouping parentheses\n",
    "print(re.search('(foo(bar)?)+(\\d\\d\\d)?', 'foofoobar'))\n",
    "print(re.search('(foo(bar)?)+(\\d\\d\\d)?', 'foofoobar123'))\n",
    "print(re.search('(foo(bar)?)+(\\d\\d\\d)?', 'foofoo123'))\n",
    "\n",
    "# How to capture groups using match.groups() and match.group()?\n",
    "\n",
    "# m.groups() return tuples of the groups in the match object\n",
    "m = re.search('(\\w+),(\\w+),(\\w+)', 'foo,quux,baz')\n",
    "print(m.groups())\n",
    "\n",
    "# m.group() however captures individual group in the match object using 1-based indexing\n",
    "print(m.group(1))\n",
    "print(m.group(2))\n",
    "print(m.group(3))\n",
    "\n",
    "# m.group() and m.group(0) returns all of the captured groups\n",
    "print(m.group())\n",
    "print(m.group(0))\n",
    "\n",
    "# We could also determine the arrangement of the captured groups using m.group\n",
    "print(m.groups())\n",
    "print(m.group(3, 1))\n",
    "print(m.group(3, 2, 1))"
   ]
  },
  {
   "cell_type": "code",
   "execution_count": null,
   "metadata": {},
   "outputs": [],
   "source": []
  },
  {
   "cell_type": "code",
   "execution_count": null,
   "metadata": {},
   "outputs": [],
   "source": []
  }
 ]
}