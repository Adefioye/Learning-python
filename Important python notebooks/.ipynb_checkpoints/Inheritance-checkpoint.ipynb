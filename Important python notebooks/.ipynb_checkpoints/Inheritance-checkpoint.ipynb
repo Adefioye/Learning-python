{
 "cells": [
  {
   "cell_type": "code",
   "execution_count": 62,
   "metadata": {},
   "outputs": [],
   "source": [
    "# Inheritance allows a class to inherit methods and attributes from a parent class. We can even add new methods and\n",
    "# attributes without affecting the parent class in any way\n",
    "\n",
    "class Employee:\n",
    "    \n",
    "    raise_amount = 1.04\n",
    "    \n",
    "    def __init__(self, first, last, pay):\n",
    "        self.first = first\n",
    "        self.last = last\n",
    "        self.pay = pay\n",
    "        self.email = '{}.{}@company.com'.format(first, last)\n",
    "        \n",
    "        # This is an apt use, cos we dont want the class variable num_of_emp to be implemented when\n",
    "        # an instance is initiated\n",
    "        \n",
    "    \n",
    "    def fullname(self): \n",
    "        return f'{self.first} {self.last}'\n",
    "    \n",
    "    def apply_raise(self):\n",
    "        self.pay = int(self.pay * self.raise_amount)"
   ]
  },
  {
   "cell_type": "code",
   "execution_count": 13,
   "metadata": {},
   "outputs": [],
   "source": [
    "# A use case is to decide to create classes for developers and managers. Since they are gonna have the same ettributes\n",
    "# and method like the employee class. Classes are created and attributes and methods are inherited from the employee class\n",
    "\n",
    "# Creating a developer class by ingerting from Employee class\n",
    "\n",
    "class Developer(Employee):\n",
    "    pass"
   ]
  },
  {
   "cell_type": "code",
   "execution_count": 14,
   "metadata": {},
   "outputs": [],
   "source": [
    "emp_1 = Employee('Corey', 'Schafer', 30000) # To show that instances are created from Employee class\n",
    "emp_2 = Employee('Tom', 'Hank', 50000)"
   ]
  },
  {
   "cell_type": "code",
   "execution_count": 15,
   "metadata": {},
   "outputs": [
    {
     "name": "stdout",
     "output_type": "stream",
     "text": [
      "Corey.Schafer@company.com\n",
      "Tom.Hank@company.com\n"
     ]
    }
   ],
   "source": [
    "print(emp_1.email)\n",
    "print(emp_2.email)"
   ]
  },
  {
   "cell_type": "code",
   "execution_count": 16,
   "metadata": {},
   "outputs": [],
   "source": [
    "# To show that the developer class successfully inherited from the Employee class. Instances are created from the Developer\n",
    "# class created above\n",
    "\n",
    "dev_1 = Developer('Corey', 'Schafer', 30000)\n",
    "dev_2 = Developer('Tom', 'Hank', 50000)"
   ]
  },
  {
   "cell_type": "code",
   "execution_count": 17,
   "metadata": {},
   "outputs": [
    {
     "name": "stdout",
     "output_type": "stream",
     "text": [
      "Corey.Schafer@company.com\n",
      "Tom.Hank@company.com\n"
     ]
    }
   ],
   "source": [
    "print(dev_1.email)\n",
    "print(dev_2.email)"
   ]
  },
  {
   "cell_type": "code",
   "execution_count": 18,
   "metadata": {},
   "outputs": [
    {
     "name": "stdout",
     "output_type": "stream",
     "text": [
      "Help on class Developer in module __main__:\n",
      "\n",
      "class Developer(Employee)\n",
      " |  Developer(first, last, pay)\n",
      " |  \n",
      " |  Method resolution order:\n",
      " |      Developer\n",
      " |      Employee\n",
      " |      builtins.object\n",
      " |  \n",
      " |  Methods inherited from Employee:\n",
      " |  \n",
      " |  __init__(self, first, last, pay)\n",
      " |      Initialize self.  See help(type(self)) for accurate signature.\n",
      " |  \n",
      " |  apply_raise(self)\n",
      " |  \n",
      " |  fullname(self)\n",
      " |  \n",
      " |  ----------------------------------------------------------------------\n",
      " |  Data descriptors inherited from Employee:\n",
      " |  \n",
      " |  __dict__\n",
      " |      dictionary for instance variables (if defined)\n",
      " |  \n",
      " |  __weakref__\n",
      " |      list of weak references to the object (if defined)\n",
      " |  \n",
      " |  ----------------------------------------------------------------------\n",
      " |  Data and other attributes inherited from Employee:\n",
      " |  \n",
      " |  raise_amount = 1.04\n",
      "\n",
      "None\n"
     ]
    }
   ],
   "source": [
    "# To show that Developer class was inherited from Employee class. The help function was called on Developer class\n",
    "\n",
    "print(help(Developer))"
   ]
  },
  {
   "cell_type": "code",
   "execution_count": 24,
   "metadata": {},
   "outputs": [],
   "source": [
    "# Let us say we wanna change the raise amount of the developer\n",
    "# The raise_amount variable would be changed under the Developer class since the attribute has already been inherited \n",
    "# from Employee class\n",
    "\n",
    "class Developer(Employee):\n",
    "    \n",
    "    raise_amount = 1.06"
   ]
  },
  {
   "cell_type": "code",
   "execution_count": 25,
   "metadata": {},
   "outputs": [],
   "source": [
    "dev_1 = Developer('Corey', 'Schafer', 30000)\n",
    "dev_2 = Developer('Tom', 'Hank', 50000)"
   ]
  },
  {
   "cell_type": "code",
   "execution_count": 26,
   "metadata": {},
   "outputs": [
    {
     "name": "stdout",
     "output_type": "stream",
     "text": [
      "1.06\n",
      "1.06\n"
     ]
    }
   ],
   "source": [
    "print(dev_1.raise_amount)\n",
    "print(dev_2.raise_amount) # Changes implemented aptly"
   ]
  },
  {
   "cell_type": "code",
   "execution_count": 27,
   "metadata": {},
   "outputs": [
    {
     "name": "stdout",
     "output_type": "stream",
     "text": [
      "30000\n",
      "31800\n"
     ]
    }
   ],
   "source": [
    "# By changing the raise_Amount under Developer class, we can be sure of not breaking any \n",
    "# methods/attributes in the Employee class\n",
    "\n",
    "print(dev_1.pay)\n",
    "dev_1.apply_raise()\n",
    "print(dev_1.pay) # the pay raise was successfully executed"
   ]
  },
  {
   "cell_type": "code",
   "execution_count": 88,
   "metadata": {},
   "outputs": [],
   "source": [
    "# Another use case for inheritance is if a class wanna use attributes/methods more than the inherited class\n",
    "# To do this, we follow the approach below\n",
    "\n",
    "class Developer(Employee):\n",
    "    \n",
    "    # We give it an __init__ method\n",
    "    \n",
    "    def __init__(self, first, last, pay, prog_lang):\n",
    "        \n",
    "        # super().__init__method to instantiate the attributes to avoid repeatability of attribute instantiation\n",
    "        # in the inherited class Employee\n",
    "        \n",
    "        super().__init__(first, last, pay)\n",
    "        \n",
    "        # The below can also be use by using the Employee class name inplace of super().__init__\n",
    "        \n",
    "        #Employee.__init__(self, first, last, pay)\n",
    "        self.prog_lang = prog_lang\n",
    "        "
   ]
  },
  {
   "cell_type": "code",
   "execution_count": 31,
   "metadata": {},
   "outputs": [],
   "source": [
    "dev_1 = Developer('Corey', 'Schafer', 30000, 'Python')\n",
    "dev_2 = Developer('Tom', 'Hank', 50000, 'HTML')"
   ]
  },
  {
   "cell_type": "code",
   "execution_count": 32,
   "metadata": {},
   "outputs": [
    {
     "name": "stdout",
     "output_type": "stream",
     "text": [
      "Python\n",
      "Corey.Schafer@company.com\n"
     ]
    }
   ],
   "source": [
    "print(dev_1.prog_lang)\n",
    "print(dev_1. email)"
   ]
  },
  {
   "cell_type": "code",
   "execution_count": 75,
   "metadata": {},
   "outputs": [],
   "source": [
    "# Creating the Manager class, inputing list of employees he supervises\n",
    "\n",
    "class Manager(Employee):\n",
    "    \n",
    "    # Mutable list should not be passed as default  positional arguments\n",
    "    \n",
    "    def __init__(self, first, last, pay, employees = None):\n",
    "        super().__init__(first, last, pay)                      \n",
    "            \n",
    "        if employees is None:\n",
    "            self.employees = []\n",
    "                \n",
    "        else:\n",
    "            self.employees = employees\n",
    "                \n",
    "    def add_emp(self, emp):\n",
    "        if emp not in self.employees:\n",
    "            self.employees.append(emp)\n",
    "            \n",
    "    def remove_emp(self, emp):\n",
    "        if emp in self.employees:\n",
    "            self.employees.remove(emp)\n",
    "            \n",
    "    def print_emp(self):\n",
    "        for emp in self.employees:\n",
    "            print('-->', emp.fullname())"
   ]
  },
  {
   "cell_type": "code",
   "execution_count": 76,
   "metadata": {},
   "outputs": [],
   "source": [
    "dev_1 = Developer('Corey', 'Schafer', 30000, 'Python')\n",
    "dev_2 = Developer('Tom', 'Hank', 50000, 'HTML')"
   ]
  },
  {
   "cell_type": "code",
   "execution_count": 77,
   "metadata": {},
   "outputs": [],
   "source": [
    "mngr_1 = Manager('Sam', 'Harris',70000, [dev_1])"
   ]
  },
  {
   "cell_type": "code",
   "execution_count": 78,
   "metadata": {},
   "outputs": [
    {
     "name": "stdout",
     "output_type": "stream",
     "text": [
      "Sam.Harris@company.com\n"
     ]
    }
   ],
   "source": [
    "print(mngr_1.email)"
   ]
  },
  {
   "cell_type": "code",
   "execution_count": 79,
   "metadata": {},
   "outputs": [
    {
     "name": "stdout",
     "output_type": "stream",
     "text": [
      "[<__main__.Developer object at 0x000001FC0A60F888>]\n"
     ]
    }
   ],
   "source": [
    "print(mngr_1.employees) # Developer object returned"
   ]
  },
  {
   "cell_type": "code",
   "execution_count": 80,
   "metadata": {},
   "outputs": [
    {
     "name": "stdout",
     "output_type": "stream",
     "text": [
      "--> Corey Schafer\n"
     ]
    }
   ],
   "source": [
    "mngr_1.print_emp()"
   ]
  },
  {
   "cell_type": "code",
   "execution_count": 81,
   "metadata": {},
   "outputs": [],
   "source": [
    "mngr_1.add_emp(dev_2)\n",
    "mngr_1.remove_emp(dev_1)"
   ]
  },
  {
   "cell_type": "code",
   "execution_count": 82,
   "metadata": {},
   "outputs": [],
   "source": [
    "#mngr_1.remove_emp([dev_1])"
   ]
  },
  {
   "cell_type": "code",
   "execution_count": 83,
   "metadata": {},
   "outputs": [
    {
     "name": "stdout",
     "output_type": "stream",
     "text": [
      "--> Tom Hank\n"
     ]
    }
   ],
   "source": [
    "mngr_1.print_emp()"
   ]
  },
  {
   "cell_type": "code",
   "execution_count": 84,
   "metadata": {},
   "outputs": [
    {
     "name": "stdout",
     "output_type": "stream",
     "text": [
      "True\n"
     ]
    }
   ],
   "source": [
    "# To learn isinstance and issubclass method\n",
    "\n",
    "print(isinstance(mngr_1, Employee))"
   ]
  },
  {
   "cell_type": "code",
   "execution_count": 85,
   "metadata": {},
   "outputs": [
    {
     "name": "stdout",
     "output_type": "stream",
     "text": [
      "False\n"
     ]
    }
   ],
   "source": [
    "print(isinstance(mngr_1, Developer))"
   ]
  },
  {
   "cell_type": "code",
   "execution_count": 86,
   "metadata": {},
   "outputs": [
    {
     "name": "stdout",
     "output_type": "stream",
     "text": [
      "True\n"
     ]
    }
   ],
   "source": [
    "print(isinstance(mngr_1, Manager))"
   ]
  },
  {
   "cell_type": "code",
   "execution_count": 89,
   "metadata": {},
   "outputs": [
    {
     "name": "stdout",
     "output_type": "stream",
     "text": [
      "True\n"
     ]
    }
   ],
   "source": [
    "print(issubclass(Developer, Employee))"
   ]
  },
  {
   "cell_type": "code",
   "execution_count": 90,
   "metadata": {},
   "outputs": [
    {
     "name": "stdout",
     "output_type": "stream",
     "text": [
      "True\n"
     ]
    }
   ],
   "source": [
    "print(issubclass(Manager, Employee))"
   ]
  },
  {
   "cell_type": "code",
   "execution_count": 91,
   "metadata": {},
   "outputs": [
    {
     "name": "stdout",
     "output_type": "stream",
     "text": [
      "False\n"
     ]
    }
   ],
   "source": [
    "print(issubclass(Developer, Manager))"
   ]
  },
  {
   "cell_type": "code",
   "execution_count": null,
   "metadata": {},
   "outputs": [],
   "source": []
  }
 ],
 "metadata": {
  "kernelspec": {
   "display_name": "Python 3",
   "language": "python",
   "name": "python3"
  },
  "language_info": {
   "codemirror_mode": {
    "name": "ipython",
    "version": 3
   },
   "file_extension": ".py",
   "mimetype": "text/x-python",
   "name": "python",
   "nbconvert_exporter": "python",
   "pygments_lexer": "ipython3",
   "version": "3.7.6"
  }
 },
 "nbformat": 4,
 "nbformat_minor": 4
}
