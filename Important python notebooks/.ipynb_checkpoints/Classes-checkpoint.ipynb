{
 "cells": [
  {
   "cell_type": "code",
   "execution_count": null,
   "metadata": {},
   "outputs": [],
   "source": [
    "# Class is a blueprint for creating instances. For employee class, each unit employee is an instnace of the class employee"
   ]
  },
  {
   "cell_type": "code",
   "execution_count": 1,
   "metadata": {},
   "outputs": [],
   "source": [
    "class Employee:\n",
    "    pass"
   ]
  },
  {
   "cell_type": "code",
   "execution_count": 2,
   "metadata": {},
   "outputs": [],
   "source": [
    "emp_1 = Employee()\n",
    "emp_2 = Employee()"
   ]
  },
  {
   "cell_type": "code",
   "execution_count": 3,
   "metadata": {},
   "outputs": [
    {
     "name": "stdout",
     "output_type": "stream",
     "text": [
      "<__main__.Employee object at 0x0000021FF22F4808>\n",
      "<__main__.Employee object at 0x0000021FF22F47C8>\n"
     ]
    }
   ],
   "source": [
    "print(emp_1)\n",
    "print(emp_2)"
   ]
  },
  {
   "cell_type": "code",
   "execution_count": 5,
   "metadata": {},
   "outputs": [],
   "source": [
    "# Instantiating class variables\n",
    "\n",
    "emp_1.first = 'Corey'\n",
    "emp_1.last = 'Schafer'\n",
    "emp_1.email = 'Corey.Schafer@company.com'\n",
    "emp_1.pay = 50000\n",
    "\n",
    "emp_2.first = 'Test'\n",
    "emp_2.last = 'User'\n",
    "emp_2.email = 'Test.User@company.com'\n",
    "emp_2.pay = 60000"
   ]
  },
  {
   "cell_type": "code",
   "execution_count": 6,
   "metadata": {},
   "outputs": [
    {
     "name": "stdout",
     "output_type": "stream",
     "text": [
      "Corey.Schafer@company.com\n",
      "Test.User@company.com\n"
     ]
    }
   ],
   "source": [
    "print(emp_1.email)\n",
    "print(emp_2.email)"
   ]
  },
  {
   "cell_type": "code",
   "execution_count": 12,
   "metadata": {},
   "outputs": [],
   "source": [
    "# In order to avoid the rigor of setting the variables for each employee, we use classes\n",
    "\n",
    "class Employee:\n",
    "    \n",
    "    def __init__(self, first, last, pay):\n",
    "        self.first = first\n",
    "        self.last = last\n",
    "        self.pay = pay\n",
    "        self.email = '{}.{}@company.com'.format(first, last)\n",
    "        print(f'Email : {self.email}, Pay: {self.pay}')"
   ]
  },
  {
   "cell_type": "code",
   "execution_count": 16,
   "metadata": {},
   "outputs": [],
   "source": [
    "emp_1 = Employee('Corey', 'Schafer', 30000)\n",
    "emp_2 = Employee('Tom', 'Hank', 50000)"
   ]
  },
  {
   "cell_type": "code",
   "execution_count": 17,
   "metadata": {},
   "outputs": [],
   "source": [
    "class Employee:\n",
    "    \n",
    "    def __init__(self, first, last, pay):\n",
    "        self.first = first\n",
    "        self.last = last\n",
    "        self.pay = pay\n",
    "        self.email = '{}.{}@company.com'.format(first, last)\n",
    "    \n",
    "    def fullname(self): # Each method within a class always have to instantiated using a self arg\n",
    "        return f'{self.first} {self.last}'\n",
    "        "
   ]
  },
  {
   "cell_type": "code",
   "execution_count": null,
   "metadata": {},
   "outputs": [],
   "source": [
    "emp_1 = Employee('Corey', 'Schafer', 30000)\n",
    "emp_2 = Employee('Tom', 'Hank', 50000)"
   ]
  },
  {
   "cell_type": "code",
   "execution_count": 18,
   "metadata": {},
   "outputs": [
    {
     "data": {
      "text/plain": [
       "'Corey Schafer'"
      ]
     },
     "execution_count": 18,
     "metadata": {},
     "output_type": "execute_result"
    }
   ],
   "source": [
    "emp_1.fullname()"
   ]
  },
  {
   "cell_type": "code",
   "execution_count": null,
   "metadata": {},
   "outputs": [],
   "source": [
    "# Class variables are variables that are shared amongst all instances of a class example annual raise\n",
    "# Instance variables can be unique for each instance such as name , age and pay"
   ]
  },
  {
   "cell_type": "code",
   "execution_count": 24,
   "metadata": {},
   "outputs": [],
   "source": [
    "class Employee:\n",
    "    \n",
    "    def __init__(self, first, last, pay):\n",
    "        self.first = first\n",
    "        self.last = last\n",
    "        self.pay = pay\n",
    "        self.email = '{}.{}@company.com'.format(first, last)\n",
    "    \n",
    "    def fullname(self): \n",
    "        return f'{self.first} {self.last}'\n",
    "    \n",
    "    def apply_raise(self):\n",
    "        self.pay = int(self.pay * 1.04)\n",
    "        "
   ]
  },
  {
   "cell_type": "code",
   "execution_count": 25,
   "metadata": {},
   "outputs": [],
   "source": [
    "emp_1 = Employee('Corey', 'Schafer', 30000)\n",
    "emp_2 = Employee('Tom', 'Hank', 50000)"
   ]
  },
  {
   "cell_type": "code",
   "execution_count": 26,
   "metadata": {},
   "outputs": [
    {
     "data": {
      "text/plain": [
       "30000"
      ]
     },
     "execution_count": 26,
     "metadata": {},
     "output_type": "execute_result"
    }
   ],
   "source": [
    "emp_1.pay"
   ]
  },
  {
   "cell_type": "code",
   "execution_count": 27,
   "metadata": {},
   "outputs": [],
   "source": [
    "emp_1.apply_raise() # apply_function implemented"
   ]
  },
  {
   "cell_type": "code",
   "execution_count": 28,
   "metadata": {},
   "outputs": [
    {
     "data": {
      "text/plain": [
       "31200"
      ]
     },
     "execution_count": 28,
     "metadata": {},
     "output_type": "execute_result"
    }
   ],
   "source": [
    "emp_1.pay"
   ]
  },
  {
   "cell_type": "code",
   "execution_count": 31,
   "metadata": {},
   "outputs": [],
   "source": [
    "# If raise amout is to be s]changes periodically, we dont wanna have to be manually typing each raise amount\n",
    "# hence we use a class variable raise_amount  and it has to be instantiated using class name or self\n",
    "\n",
    "class Employee:\n",
    "    \n",
    "    raise_amount = 1.04\n",
    "    \n",
    "    def __init__(self, first, last, pay):\n",
    "        self.first = first\n",
    "        self.last = last\n",
    "        self.pay = pay\n",
    "        self.email = '{}.{}@company.com'.format(first, last)\n",
    "    \n",
    "    def fullname(self): \n",
    "        return f'{self.first} {self.last}'\n",
    "    \n",
    "    def apply_raise(self):\n",
    "        self.pay = int(self.pay * self.raise_amount)"
   ]
  },
  {
   "cell_type": "code",
   "execution_count": 32,
   "metadata": {},
   "outputs": [],
   "source": [
    "emp_1 = Employee('Corey', 'Schafer', 30000)\n",
    "emp_2 = Employee('Tom', 'Hank', 50000)"
   ]
  },
  {
   "cell_type": "code",
   "execution_count": 30,
   "metadata": {},
   "outputs": [
    {
     "name": "stdout",
     "output_type": "stream",
     "text": [
      "30000\n",
      "31200\n"
     ]
    }
   ],
   "source": [
    "print(emp_1.pay)\n",
    "emp_1.apply_raise()\n",
    "print(emp_1.pay)"
   ]
  },
  {
   "cell_type": "code",
   "execution_count": 33,
   "metadata": {},
   "outputs": [
    {
     "name": "stdout",
     "output_type": "stream",
     "text": [
      "1.04\n",
      "1.04\n",
      "1.04\n"
     ]
    }
   ],
   "source": [
    "# the class variable is accessed by instances emp_1 and emp_2 from the class\n",
    "\n",
    "print(Employee.raise_amount)\n",
    "print(emp_1.raise_amount)\n",
    "print(emp_2.raise_amount)"
   ]
  },
  {
   "cell_type": "code",
   "execution_count": 34,
   "metadata": {},
   "outputs": [
    {
     "name": "stdout",
     "output_type": "stream",
     "text": [
      "{'__module__': '__main__', 'raise_amount': 1.04, '__init__': <function Employee.__init__ at 0x0000021FF44DC8B8>, 'fullname': <function Employee.fullname at 0x0000021FF44DC9D8>, 'apply_raise': <function Employee.apply_raise at 0x0000021FF4F3F558>, '__dict__': <attribute '__dict__' of 'Employee' objects>, '__weakref__': <attribute '__weakref__' of 'Employee' objects>, '__doc__': None}\n"
     ]
    }
   ],
   "source": [
    "# To make the understanding above tight\n",
    "\n",
    "print(Employee.__dict__) # There is a raise_amount attribute in the class dictionary"
   ]
  },
  {
   "cell_type": "code",
   "execution_count": 35,
   "metadata": {},
   "outputs": [
    {
     "name": "stdout",
     "output_type": "stream",
     "text": [
      "{'first': 'Corey', 'last': 'Schafer', 'pay': 30000, 'email': 'Corey.Schafer@company.com'}\n",
      "{'first': 'Tom', 'last': 'Hank', 'pay': 50000, 'email': 'Tom.Hank@company.com'}\n"
     ]
    }
   ],
   "source": [
    "# However, for the instances emp_1 and emp_2, raise_amount is missing. Confirming they both access the class variable \n",
    "# raise_amount via the class Employeee\n",
    "\n",
    "\n",
    "print(emp_1.__dict__)\n",
    "print(emp_2.__dict__)"
   ]
  },
  {
   "cell_type": "code",
   "execution_count": 36,
   "metadata": {},
   "outputs": [
    {
     "name": "stdout",
     "output_type": "stream",
     "text": [
      "1.04\n",
      "1.06\n",
      "1.04\n"
     ]
    }
   ],
   "source": [
    "# This fact allow for the changing of the class variable for one of the class instances without necessary tampering with\n",
    "# the original class\n",
    "\n",
    "# For example, changing the raise_amount of the emp_1 to 1.06\n",
    "\n",
    "emp_1.raise_amount = 1.06\n",
    "\n",
    "print(Employee.raise_amount)\n",
    "print(emp_1.raise_amount) # This shows that only the raise_amount in the emp_1 was changed\n",
    "print(emp_2.raise_amount)"
   ]
  },
  {
   "cell_type": "code",
   "execution_count": 37,
   "metadata": {},
   "outputs": [],
   "source": [
    "# there are cases where the instantiation of class variables can be done using the \"class name\" instead of self\n",
    "\n",
    "# For example, determining the number of employees in the company\n",
    "\n",
    "\n",
    "class Employee:\n",
    "    \n",
    "    num_of_emps = 0\n",
    "    raise_amount = 1.04\n",
    "    \n",
    "    def __init__(self, first, last, pay):\n",
    "        self.first = first\n",
    "        self.last = last\n",
    "        self.pay = pay\n",
    "        self.email = '{}.{}@company.com'.format(first, last)\n",
    "        \n",
    "        # This is an apt use, cos we dont want the class variable num_of_emp to be implemented when\n",
    "        # an instance is initiated\n",
    "        \n",
    "        Employee.num_of_emps +=1 \n",
    "    \n",
    "    def fullname(self): \n",
    "        return f'{self.first} {self.last}'\n",
    "    \n",
    "    def apply_raise(self):\n",
    "        self.pay = int(self.pay * self.raise_amount)"
   ]
  },
  {
   "cell_type": "code",
   "execution_count": 38,
   "metadata": {},
   "outputs": [
    {
     "name": "stdout",
     "output_type": "stream",
     "text": [
      "0\n",
      "2\n"
     ]
    }
   ],
   "source": [
    "print(Employee.num_of_emps) # Before instantiation returns 0\n",
    "\n",
    "emp_1 = Employee('Corey', 'Schafer', 30000)\n",
    "emp_2 = Employee('Tom', 'Hank', 50000)\n",
    "\n",
    "print(Employee.num_of_emps) # After class instantiation, returns 2, cos 2 emps were instantiated before print() function"
   ]
  },
  {
   "cell_type": "code",
   "execution_count": null,
   "metadata": {},
   "outputs": [],
   "source": []
  }
 ],
 "metadata": {
  "kernelspec": {
   "display_name": "Python 3",
   "language": "python",
   "name": "python3"
  },
  "language_info": {
   "codemirror_mode": {
    "name": "ipython",
    "version": 3
   },
   "file_extension": ".py",
   "mimetype": "text/x-python",
   "name": "python",
   "nbconvert_exporter": "python",
   "pygments_lexer": "ipython3",
   "version": "3.7.6"
  }
 },
 "nbformat": 4,
 "nbformat_minor": 4
}
